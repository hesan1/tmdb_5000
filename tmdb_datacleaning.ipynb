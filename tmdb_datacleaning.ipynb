{
 "cells": [
  {
   "cell_type": "markdown",
   "metadata": {},
   "source": [
    "Step 1: Load the Data"
   ]
  },
  {
   "cell_type": "code",
   "execution_count": 1,
   "metadata": {},
   "outputs": [],
   "source": [
    "import pandas as pd\n",
    "\n",
    "# Load the datasets\n",
    "credits_df = pd.read_csv('tmdb_5000_credits.csv')\n",
    "movies_df = pd.read_csv('tmdb_5000_movies.csv')\n"
   ]
  },
  {
   "cell_type": "code",
   "execution_count": 2,
   "metadata": {},
   "outputs": [
    {
     "data": {
      "text/html": [
       "<div>\n",
       "<style scoped>\n",
       "    .dataframe tbody tr th:only-of-type {\n",
       "        vertical-align: middle;\n",
       "    }\n",
       "\n",
       "    .dataframe tbody tr th {\n",
       "        vertical-align: top;\n",
       "    }\n",
       "\n",
       "    .dataframe thead th {\n",
       "        text-align: right;\n",
       "    }\n",
       "</style>\n",
       "<table border=\"1\" class=\"dataframe\">\n",
       "  <thead>\n",
       "    <tr style=\"text-align: right;\">\n",
       "      <th></th>\n",
       "      <th>movie_id</th>\n",
       "      <th>title</th>\n",
       "      <th>cast</th>\n",
       "      <th>crew</th>\n",
       "    </tr>\n",
       "  </thead>\n",
       "  <tbody>\n",
       "    <tr>\n",
       "      <th>0</th>\n",
       "      <td>19995</td>\n",
       "      <td>Avatar</td>\n",
       "      <td>[{\"cast_id\": 242, \"character\": \"Jake Sully\", \"...</td>\n",
       "      <td>[{\"credit_id\": \"52fe48009251416c750aca23\", \"de...</td>\n",
       "    </tr>\n",
       "    <tr>\n",
       "      <th>1</th>\n",
       "      <td>285</td>\n",
       "      <td>Pirates of the Caribbean: At World's End</td>\n",
       "      <td>[{\"cast_id\": 4, \"character\": \"Captain Jack Spa...</td>\n",
       "      <td>[{\"credit_id\": \"52fe4232c3a36847f800b579\", \"de...</td>\n",
       "    </tr>\n",
       "    <tr>\n",
       "      <th>2</th>\n",
       "      <td>206647</td>\n",
       "      <td>Spectre</td>\n",
       "      <td>[{\"cast_id\": 1, \"character\": \"James Bond\", \"cr...</td>\n",
       "      <td>[{\"credit_id\": \"54805967c3a36829b5002c41\", \"de...</td>\n",
       "    </tr>\n",
       "    <tr>\n",
       "      <th>3</th>\n",
       "      <td>49026</td>\n",
       "      <td>The Dark Knight Rises</td>\n",
       "      <td>[{\"cast_id\": 2, \"character\": \"Bruce Wayne / Ba...</td>\n",
       "      <td>[{\"credit_id\": \"52fe4781c3a36847f81398c3\", \"de...</td>\n",
       "    </tr>\n",
       "    <tr>\n",
       "      <th>4</th>\n",
       "      <td>49529</td>\n",
       "      <td>John Carter</td>\n",
       "      <td>[{\"cast_id\": 5, \"character\": \"John Carter\", \"c...</td>\n",
       "      <td>[{\"credit_id\": \"52fe479ac3a36847f813eaa3\", \"de...</td>\n",
       "    </tr>\n",
       "    <tr>\n",
       "      <th>...</th>\n",
       "      <td>...</td>\n",
       "      <td>...</td>\n",
       "      <td>...</td>\n",
       "      <td>...</td>\n",
       "    </tr>\n",
       "    <tr>\n",
       "      <th>4798</th>\n",
       "      <td>9367</td>\n",
       "      <td>El Mariachi</td>\n",
       "      <td>[{\"cast_id\": 1, \"character\": \"El Mariachi\", \"c...</td>\n",
       "      <td>[{\"credit_id\": \"52fe44eec3a36847f80b280b\", \"de...</td>\n",
       "    </tr>\n",
       "    <tr>\n",
       "      <th>4799</th>\n",
       "      <td>72766</td>\n",
       "      <td>Newlyweds</td>\n",
       "      <td>[{\"cast_id\": 1, \"character\": \"Buzzy\", \"credit_...</td>\n",
       "      <td>[{\"credit_id\": \"52fe487dc3a368484e0fb013\", \"de...</td>\n",
       "    </tr>\n",
       "    <tr>\n",
       "      <th>4800</th>\n",
       "      <td>231617</td>\n",
       "      <td>Signed, Sealed, Delivered</td>\n",
       "      <td>[{\"cast_id\": 8, \"character\": \"Oliver O\\u2019To...</td>\n",
       "      <td>[{\"credit_id\": \"52fe4df3c3a36847f8275ecf\", \"de...</td>\n",
       "    </tr>\n",
       "    <tr>\n",
       "      <th>4801</th>\n",
       "      <td>126186</td>\n",
       "      <td>Shanghai Calling</td>\n",
       "      <td>[{\"cast_id\": 3, \"character\": \"Sam\", \"credit_id...</td>\n",
       "      <td>[{\"credit_id\": \"52fe4ad9c3a368484e16a36b\", \"de...</td>\n",
       "    </tr>\n",
       "    <tr>\n",
       "      <th>4802</th>\n",
       "      <td>25975</td>\n",
       "      <td>My Date with Drew</td>\n",
       "      <td>[{\"cast_id\": 3, \"character\": \"Herself\", \"credi...</td>\n",
       "      <td>[{\"credit_id\": \"58ce021b9251415a390165d9\", \"de...</td>\n",
       "    </tr>\n",
       "  </tbody>\n",
       "</table>\n",
       "<p>4803 rows × 4 columns</p>\n",
       "</div>"
      ],
      "text/plain": [
       "      movie_id                                     title  \\\n",
       "0        19995                                    Avatar   \n",
       "1          285  Pirates of the Caribbean: At World's End   \n",
       "2       206647                                   Spectre   \n",
       "3        49026                     The Dark Knight Rises   \n",
       "4        49529                               John Carter   \n",
       "...        ...                                       ...   \n",
       "4798      9367                               El Mariachi   \n",
       "4799     72766                                 Newlyweds   \n",
       "4800    231617                 Signed, Sealed, Delivered   \n",
       "4801    126186                          Shanghai Calling   \n",
       "4802     25975                         My Date with Drew   \n",
       "\n",
       "                                                   cast  \\\n",
       "0     [{\"cast_id\": 242, \"character\": \"Jake Sully\", \"...   \n",
       "1     [{\"cast_id\": 4, \"character\": \"Captain Jack Spa...   \n",
       "2     [{\"cast_id\": 1, \"character\": \"James Bond\", \"cr...   \n",
       "3     [{\"cast_id\": 2, \"character\": \"Bruce Wayne / Ba...   \n",
       "4     [{\"cast_id\": 5, \"character\": \"John Carter\", \"c...   \n",
       "...                                                 ...   \n",
       "4798  [{\"cast_id\": 1, \"character\": \"El Mariachi\", \"c...   \n",
       "4799  [{\"cast_id\": 1, \"character\": \"Buzzy\", \"credit_...   \n",
       "4800  [{\"cast_id\": 8, \"character\": \"Oliver O\\u2019To...   \n",
       "4801  [{\"cast_id\": 3, \"character\": \"Sam\", \"credit_id...   \n",
       "4802  [{\"cast_id\": 3, \"character\": \"Herself\", \"credi...   \n",
       "\n",
       "                                                   crew  \n",
       "0     [{\"credit_id\": \"52fe48009251416c750aca23\", \"de...  \n",
       "1     [{\"credit_id\": \"52fe4232c3a36847f800b579\", \"de...  \n",
       "2     [{\"credit_id\": \"54805967c3a36829b5002c41\", \"de...  \n",
       "3     [{\"credit_id\": \"52fe4781c3a36847f81398c3\", \"de...  \n",
       "4     [{\"credit_id\": \"52fe479ac3a36847f813eaa3\", \"de...  \n",
       "...                                                 ...  \n",
       "4798  [{\"credit_id\": \"52fe44eec3a36847f80b280b\", \"de...  \n",
       "4799  [{\"credit_id\": \"52fe487dc3a368484e0fb013\", \"de...  \n",
       "4800  [{\"credit_id\": \"52fe4df3c3a36847f8275ecf\", \"de...  \n",
       "4801  [{\"credit_id\": \"52fe4ad9c3a368484e16a36b\", \"de...  \n",
       "4802  [{\"credit_id\": \"58ce021b9251415a390165d9\", \"de...  \n",
       "\n",
       "[4803 rows x 4 columns]"
      ]
     },
     "execution_count": 2,
     "metadata": {},
     "output_type": "execute_result"
    }
   ],
   "source": [
    "credits_df"
   ]
  },
  {
   "cell_type": "code",
   "execution_count": 3,
   "metadata": {},
   "outputs": [
    {
     "data": {
      "text/html": [
       "<div>\n",
       "<style scoped>\n",
       "    .dataframe tbody tr th:only-of-type {\n",
       "        vertical-align: middle;\n",
       "    }\n",
       "\n",
       "    .dataframe tbody tr th {\n",
       "        vertical-align: top;\n",
       "    }\n",
       "\n",
       "    .dataframe thead th {\n",
       "        text-align: right;\n",
       "    }\n",
       "</style>\n",
       "<table border=\"1\" class=\"dataframe\">\n",
       "  <thead>\n",
       "    <tr style=\"text-align: right;\">\n",
       "      <th></th>\n",
       "      <th>budget</th>\n",
       "      <th>genres</th>\n",
       "      <th>homepage</th>\n",
       "      <th>id</th>\n",
       "      <th>keywords</th>\n",
       "      <th>original_language</th>\n",
       "      <th>original_title</th>\n",
       "      <th>overview</th>\n",
       "      <th>popularity</th>\n",
       "      <th>production_companies</th>\n",
       "      <th>production_countries</th>\n",
       "      <th>release_date</th>\n",
       "      <th>revenue</th>\n",
       "      <th>runtime</th>\n",
       "      <th>spoken_languages</th>\n",
       "      <th>status</th>\n",
       "      <th>tagline</th>\n",
       "      <th>title</th>\n",
       "      <th>vote_average</th>\n",
       "      <th>vote_count</th>\n",
       "    </tr>\n",
       "  </thead>\n",
       "  <tbody>\n",
       "    <tr>\n",
       "      <th>0</th>\n",
       "      <td>237000000</td>\n",
       "      <td>[{\"id\": 28, \"name\": \"Action\"}, {\"id\": 12, \"nam...</td>\n",
       "      <td>http://www.avatarmovie.com/</td>\n",
       "      <td>19995</td>\n",
       "      <td>[{\"id\": 1463, \"name\": \"culture clash\"}, {\"id\":...</td>\n",
       "      <td>en</td>\n",
       "      <td>Avatar</td>\n",
       "      <td>In the 22nd century, a paraplegic Marine is di...</td>\n",
       "      <td>150.437577</td>\n",
       "      <td>[{\"name\": \"Ingenious Film Partners\", \"id\": 289...</td>\n",
       "      <td>[{\"iso_3166_1\": \"US\", \"name\": \"United States o...</td>\n",
       "      <td>2009-12-10</td>\n",
       "      <td>2787965087</td>\n",
       "      <td>162.0</td>\n",
       "      <td>[{\"iso_639_1\": \"en\", \"name\": \"English\"}, {\"iso...</td>\n",
       "      <td>Released</td>\n",
       "      <td>Enter the World of Pandora.</td>\n",
       "      <td>Avatar</td>\n",
       "      <td>7.2</td>\n",
       "      <td>11800</td>\n",
       "    </tr>\n",
       "    <tr>\n",
       "      <th>1</th>\n",
       "      <td>300000000</td>\n",
       "      <td>[{\"id\": 12, \"name\": \"Adventure\"}, {\"id\": 14, \"...</td>\n",
       "      <td>http://disney.go.com/disneypictures/pirates/</td>\n",
       "      <td>285</td>\n",
       "      <td>[{\"id\": 270, \"name\": \"ocean\"}, {\"id\": 726, \"na...</td>\n",
       "      <td>en</td>\n",
       "      <td>Pirates of the Caribbean: At World's End</td>\n",
       "      <td>Captain Barbossa, long believed to be dead, ha...</td>\n",
       "      <td>139.082615</td>\n",
       "      <td>[{\"name\": \"Walt Disney Pictures\", \"id\": 2}, {\"...</td>\n",
       "      <td>[{\"iso_3166_1\": \"US\", \"name\": \"United States o...</td>\n",
       "      <td>2007-05-19</td>\n",
       "      <td>961000000</td>\n",
       "      <td>169.0</td>\n",
       "      <td>[{\"iso_639_1\": \"en\", \"name\": \"English\"}]</td>\n",
       "      <td>Released</td>\n",
       "      <td>At the end of the world, the adventure begins.</td>\n",
       "      <td>Pirates of the Caribbean: At World's End</td>\n",
       "      <td>6.9</td>\n",
       "      <td>4500</td>\n",
       "    </tr>\n",
       "    <tr>\n",
       "      <th>2</th>\n",
       "      <td>245000000</td>\n",
       "      <td>[{\"id\": 28, \"name\": \"Action\"}, {\"id\": 12, \"nam...</td>\n",
       "      <td>http://www.sonypictures.com/movies/spectre/</td>\n",
       "      <td>206647</td>\n",
       "      <td>[{\"id\": 470, \"name\": \"spy\"}, {\"id\": 818, \"name...</td>\n",
       "      <td>en</td>\n",
       "      <td>Spectre</td>\n",
       "      <td>A cryptic message from Bond’s past sends him o...</td>\n",
       "      <td>107.376788</td>\n",
       "      <td>[{\"name\": \"Columbia Pictures\", \"id\": 5}, {\"nam...</td>\n",
       "      <td>[{\"iso_3166_1\": \"GB\", \"name\": \"United Kingdom\"...</td>\n",
       "      <td>2015-10-26</td>\n",
       "      <td>880674609</td>\n",
       "      <td>148.0</td>\n",
       "      <td>[{\"iso_639_1\": \"fr\", \"name\": \"Fran\\u00e7ais\"},...</td>\n",
       "      <td>Released</td>\n",
       "      <td>A Plan No One Escapes</td>\n",
       "      <td>Spectre</td>\n",
       "      <td>6.3</td>\n",
       "      <td>4466</td>\n",
       "    </tr>\n",
       "    <tr>\n",
       "      <th>3</th>\n",
       "      <td>250000000</td>\n",
       "      <td>[{\"id\": 28, \"name\": \"Action\"}, {\"id\": 80, \"nam...</td>\n",
       "      <td>http://www.thedarkknightrises.com/</td>\n",
       "      <td>49026</td>\n",
       "      <td>[{\"id\": 849, \"name\": \"dc comics\"}, {\"id\": 853,...</td>\n",
       "      <td>en</td>\n",
       "      <td>The Dark Knight Rises</td>\n",
       "      <td>Following the death of District Attorney Harve...</td>\n",
       "      <td>112.312950</td>\n",
       "      <td>[{\"name\": \"Legendary Pictures\", \"id\": 923}, {\"...</td>\n",
       "      <td>[{\"iso_3166_1\": \"US\", \"name\": \"United States o...</td>\n",
       "      <td>2012-07-16</td>\n",
       "      <td>1084939099</td>\n",
       "      <td>165.0</td>\n",
       "      <td>[{\"iso_639_1\": \"en\", \"name\": \"English\"}]</td>\n",
       "      <td>Released</td>\n",
       "      <td>The Legend Ends</td>\n",
       "      <td>The Dark Knight Rises</td>\n",
       "      <td>7.6</td>\n",
       "      <td>9106</td>\n",
       "    </tr>\n",
       "    <tr>\n",
       "      <th>4</th>\n",
       "      <td>260000000</td>\n",
       "      <td>[{\"id\": 28, \"name\": \"Action\"}, {\"id\": 12, \"nam...</td>\n",
       "      <td>http://movies.disney.com/john-carter</td>\n",
       "      <td>49529</td>\n",
       "      <td>[{\"id\": 818, \"name\": \"based on novel\"}, {\"id\":...</td>\n",
       "      <td>en</td>\n",
       "      <td>John Carter</td>\n",
       "      <td>John Carter is a war-weary, former military ca...</td>\n",
       "      <td>43.926995</td>\n",
       "      <td>[{\"name\": \"Walt Disney Pictures\", \"id\": 2}]</td>\n",
       "      <td>[{\"iso_3166_1\": \"US\", \"name\": \"United States o...</td>\n",
       "      <td>2012-03-07</td>\n",
       "      <td>284139100</td>\n",
       "      <td>132.0</td>\n",
       "      <td>[{\"iso_639_1\": \"en\", \"name\": \"English\"}]</td>\n",
       "      <td>Released</td>\n",
       "      <td>Lost in our world, found in another.</td>\n",
       "      <td>John Carter</td>\n",
       "      <td>6.1</td>\n",
       "      <td>2124</td>\n",
       "    </tr>\n",
       "    <tr>\n",
       "      <th>...</th>\n",
       "      <td>...</td>\n",
       "      <td>...</td>\n",
       "      <td>...</td>\n",
       "      <td>...</td>\n",
       "      <td>...</td>\n",
       "      <td>...</td>\n",
       "      <td>...</td>\n",
       "      <td>...</td>\n",
       "      <td>...</td>\n",
       "      <td>...</td>\n",
       "      <td>...</td>\n",
       "      <td>...</td>\n",
       "      <td>...</td>\n",
       "      <td>...</td>\n",
       "      <td>...</td>\n",
       "      <td>...</td>\n",
       "      <td>...</td>\n",
       "      <td>...</td>\n",
       "      <td>...</td>\n",
       "      <td>...</td>\n",
       "    </tr>\n",
       "    <tr>\n",
       "      <th>4798</th>\n",
       "      <td>220000</td>\n",
       "      <td>[{\"id\": 28, \"name\": \"Action\"}, {\"id\": 80, \"nam...</td>\n",
       "      <td>NaN</td>\n",
       "      <td>9367</td>\n",
       "      <td>[{\"id\": 5616, \"name\": \"united states\\u2013mexi...</td>\n",
       "      <td>es</td>\n",
       "      <td>El Mariachi</td>\n",
       "      <td>El Mariachi just wants to play his guitar and ...</td>\n",
       "      <td>14.269792</td>\n",
       "      <td>[{\"name\": \"Columbia Pictures\", \"id\": 5}]</td>\n",
       "      <td>[{\"iso_3166_1\": \"MX\", \"name\": \"Mexico\"}, {\"iso...</td>\n",
       "      <td>1992-09-04</td>\n",
       "      <td>2040920</td>\n",
       "      <td>81.0</td>\n",
       "      <td>[{\"iso_639_1\": \"es\", \"name\": \"Espa\\u00f1ol\"}]</td>\n",
       "      <td>Released</td>\n",
       "      <td>He didn't come looking for trouble, but troubl...</td>\n",
       "      <td>El Mariachi</td>\n",
       "      <td>6.6</td>\n",
       "      <td>238</td>\n",
       "    </tr>\n",
       "    <tr>\n",
       "      <th>4799</th>\n",
       "      <td>9000</td>\n",
       "      <td>[{\"id\": 35, \"name\": \"Comedy\"}, {\"id\": 10749, \"...</td>\n",
       "      <td>NaN</td>\n",
       "      <td>72766</td>\n",
       "      <td>[]</td>\n",
       "      <td>en</td>\n",
       "      <td>Newlyweds</td>\n",
       "      <td>A newlywed couple's honeymoon is upended by th...</td>\n",
       "      <td>0.642552</td>\n",
       "      <td>[]</td>\n",
       "      <td>[]</td>\n",
       "      <td>2011-12-26</td>\n",
       "      <td>0</td>\n",
       "      <td>85.0</td>\n",
       "      <td>[]</td>\n",
       "      <td>Released</td>\n",
       "      <td>A newlywed couple's honeymoon is upended by th...</td>\n",
       "      <td>Newlyweds</td>\n",
       "      <td>5.9</td>\n",
       "      <td>5</td>\n",
       "    </tr>\n",
       "    <tr>\n",
       "      <th>4800</th>\n",
       "      <td>0</td>\n",
       "      <td>[{\"id\": 35, \"name\": \"Comedy\"}, {\"id\": 18, \"nam...</td>\n",
       "      <td>http://www.hallmarkchannel.com/signedsealeddel...</td>\n",
       "      <td>231617</td>\n",
       "      <td>[{\"id\": 248, \"name\": \"date\"}, {\"id\": 699, \"nam...</td>\n",
       "      <td>en</td>\n",
       "      <td>Signed, Sealed, Delivered</td>\n",
       "      <td>\"Signed, Sealed, Delivered\" introduces a dedic...</td>\n",
       "      <td>1.444476</td>\n",
       "      <td>[{\"name\": \"Front Street Pictures\", \"id\": 3958}...</td>\n",
       "      <td>[{\"iso_3166_1\": \"US\", \"name\": \"United States o...</td>\n",
       "      <td>2013-10-13</td>\n",
       "      <td>0</td>\n",
       "      <td>120.0</td>\n",
       "      <td>[{\"iso_639_1\": \"en\", \"name\": \"English\"}]</td>\n",
       "      <td>Released</td>\n",
       "      <td>NaN</td>\n",
       "      <td>Signed, Sealed, Delivered</td>\n",
       "      <td>7.0</td>\n",
       "      <td>6</td>\n",
       "    </tr>\n",
       "    <tr>\n",
       "      <th>4801</th>\n",
       "      <td>0</td>\n",
       "      <td>[]</td>\n",
       "      <td>http://shanghaicalling.com/</td>\n",
       "      <td>126186</td>\n",
       "      <td>[]</td>\n",
       "      <td>en</td>\n",
       "      <td>Shanghai Calling</td>\n",
       "      <td>When ambitious New York attorney Sam is sent t...</td>\n",
       "      <td>0.857008</td>\n",
       "      <td>[]</td>\n",
       "      <td>[{\"iso_3166_1\": \"US\", \"name\": \"United States o...</td>\n",
       "      <td>2012-05-03</td>\n",
       "      <td>0</td>\n",
       "      <td>98.0</td>\n",
       "      <td>[{\"iso_639_1\": \"en\", \"name\": \"English\"}]</td>\n",
       "      <td>Released</td>\n",
       "      <td>A New Yorker in Shanghai</td>\n",
       "      <td>Shanghai Calling</td>\n",
       "      <td>5.7</td>\n",
       "      <td>7</td>\n",
       "    </tr>\n",
       "    <tr>\n",
       "      <th>4802</th>\n",
       "      <td>0</td>\n",
       "      <td>[{\"id\": 99, \"name\": \"Documentary\"}]</td>\n",
       "      <td>NaN</td>\n",
       "      <td>25975</td>\n",
       "      <td>[{\"id\": 1523, \"name\": \"obsession\"}, {\"id\": 224...</td>\n",
       "      <td>en</td>\n",
       "      <td>My Date with Drew</td>\n",
       "      <td>Ever since the second grade when he first saw ...</td>\n",
       "      <td>1.929883</td>\n",
       "      <td>[{\"name\": \"rusty bear entertainment\", \"id\": 87...</td>\n",
       "      <td>[{\"iso_3166_1\": \"US\", \"name\": \"United States o...</td>\n",
       "      <td>2005-08-05</td>\n",
       "      <td>0</td>\n",
       "      <td>90.0</td>\n",
       "      <td>[{\"iso_639_1\": \"en\", \"name\": \"English\"}]</td>\n",
       "      <td>Released</td>\n",
       "      <td>NaN</td>\n",
       "      <td>My Date with Drew</td>\n",
       "      <td>6.3</td>\n",
       "      <td>16</td>\n",
       "    </tr>\n",
       "  </tbody>\n",
       "</table>\n",
       "<p>4803 rows × 20 columns</p>\n",
       "</div>"
      ],
      "text/plain": [
       "         budget                                             genres  \\\n",
       "0     237000000  [{\"id\": 28, \"name\": \"Action\"}, {\"id\": 12, \"nam...   \n",
       "1     300000000  [{\"id\": 12, \"name\": \"Adventure\"}, {\"id\": 14, \"...   \n",
       "2     245000000  [{\"id\": 28, \"name\": \"Action\"}, {\"id\": 12, \"nam...   \n",
       "3     250000000  [{\"id\": 28, \"name\": \"Action\"}, {\"id\": 80, \"nam...   \n",
       "4     260000000  [{\"id\": 28, \"name\": \"Action\"}, {\"id\": 12, \"nam...   \n",
       "...         ...                                                ...   \n",
       "4798     220000  [{\"id\": 28, \"name\": \"Action\"}, {\"id\": 80, \"nam...   \n",
       "4799       9000  [{\"id\": 35, \"name\": \"Comedy\"}, {\"id\": 10749, \"...   \n",
       "4800          0  [{\"id\": 35, \"name\": \"Comedy\"}, {\"id\": 18, \"nam...   \n",
       "4801          0                                                 []   \n",
       "4802          0                [{\"id\": 99, \"name\": \"Documentary\"}]   \n",
       "\n",
       "                                               homepage      id  \\\n",
       "0                           http://www.avatarmovie.com/   19995   \n",
       "1          http://disney.go.com/disneypictures/pirates/     285   \n",
       "2           http://www.sonypictures.com/movies/spectre/  206647   \n",
       "3                    http://www.thedarkknightrises.com/   49026   \n",
       "4                  http://movies.disney.com/john-carter   49529   \n",
       "...                                                 ...     ...   \n",
       "4798                                                NaN    9367   \n",
       "4799                                                NaN   72766   \n",
       "4800  http://www.hallmarkchannel.com/signedsealeddel...  231617   \n",
       "4801                        http://shanghaicalling.com/  126186   \n",
       "4802                                                NaN   25975   \n",
       "\n",
       "                                               keywords original_language  \\\n",
       "0     [{\"id\": 1463, \"name\": \"culture clash\"}, {\"id\":...                en   \n",
       "1     [{\"id\": 270, \"name\": \"ocean\"}, {\"id\": 726, \"na...                en   \n",
       "2     [{\"id\": 470, \"name\": \"spy\"}, {\"id\": 818, \"name...                en   \n",
       "3     [{\"id\": 849, \"name\": \"dc comics\"}, {\"id\": 853,...                en   \n",
       "4     [{\"id\": 818, \"name\": \"based on novel\"}, {\"id\":...                en   \n",
       "...                                                 ...               ...   \n",
       "4798  [{\"id\": 5616, \"name\": \"united states\\u2013mexi...                es   \n",
       "4799                                                 []                en   \n",
       "4800  [{\"id\": 248, \"name\": \"date\"}, {\"id\": 699, \"nam...                en   \n",
       "4801                                                 []                en   \n",
       "4802  [{\"id\": 1523, \"name\": \"obsession\"}, {\"id\": 224...                en   \n",
       "\n",
       "                                original_title  \\\n",
       "0                                       Avatar   \n",
       "1     Pirates of the Caribbean: At World's End   \n",
       "2                                      Spectre   \n",
       "3                        The Dark Knight Rises   \n",
       "4                                  John Carter   \n",
       "...                                        ...   \n",
       "4798                               El Mariachi   \n",
       "4799                                 Newlyweds   \n",
       "4800                 Signed, Sealed, Delivered   \n",
       "4801                          Shanghai Calling   \n",
       "4802                         My Date with Drew   \n",
       "\n",
       "                                               overview  popularity  \\\n",
       "0     In the 22nd century, a paraplegic Marine is di...  150.437577   \n",
       "1     Captain Barbossa, long believed to be dead, ha...  139.082615   \n",
       "2     A cryptic message from Bond’s past sends him o...  107.376788   \n",
       "3     Following the death of District Attorney Harve...  112.312950   \n",
       "4     John Carter is a war-weary, former military ca...   43.926995   \n",
       "...                                                 ...         ...   \n",
       "4798  El Mariachi just wants to play his guitar and ...   14.269792   \n",
       "4799  A newlywed couple's honeymoon is upended by th...    0.642552   \n",
       "4800  \"Signed, Sealed, Delivered\" introduces a dedic...    1.444476   \n",
       "4801  When ambitious New York attorney Sam is sent t...    0.857008   \n",
       "4802  Ever since the second grade when he first saw ...    1.929883   \n",
       "\n",
       "                                   production_companies  \\\n",
       "0     [{\"name\": \"Ingenious Film Partners\", \"id\": 289...   \n",
       "1     [{\"name\": \"Walt Disney Pictures\", \"id\": 2}, {\"...   \n",
       "2     [{\"name\": \"Columbia Pictures\", \"id\": 5}, {\"nam...   \n",
       "3     [{\"name\": \"Legendary Pictures\", \"id\": 923}, {\"...   \n",
       "4           [{\"name\": \"Walt Disney Pictures\", \"id\": 2}]   \n",
       "...                                                 ...   \n",
       "4798           [{\"name\": \"Columbia Pictures\", \"id\": 5}]   \n",
       "4799                                                 []   \n",
       "4800  [{\"name\": \"Front Street Pictures\", \"id\": 3958}...   \n",
       "4801                                                 []   \n",
       "4802  [{\"name\": \"rusty bear entertainment\", \"id\": 87...   \n",
       "\n",
       "                                   production_countries release_date  \\\n",
       "0     [{\"iso_3166_1\": \"US\", \"name\": \"United States o...   2009-12-10   \n",
       "1     [{\"iso_3166_1\": \"US\", \"name\": \"United States o...   2007-05-19   \n",
       "2     [{\"iso_3166_1\": \"GB\", \"name\": \"United Kingdom\"...   2015-10-26   \n",
       "3     [{\"iso_3166_1\": \"US\", \"name\": \"United States o...   2012-07-16   \n",
       "4     [{\"iso_3166_1\": \"US\", \"name\": \"United States o...   2012-03-07   \n",
       "...                                                 ...          ...   \n",
       "4798  [{\"iso_3166_1\": \"MX\", \"name\": \"Mexico\"}, {\"iso...   1992-09-04   \n",
       "4799                                                 []   2011-12-26   \n",
       "4800  [{\"iso_3166_1\": \"US\", \"name\": \"United States o...   2013-10-13   \n",
       "4801  [{\"iso_3166_1\": \"US\", \"name\": \"United States o...   2012-05-03   \n",
       "4802  [{\"iso_3166_1\": \"US\", \"name\": \"United States o...   2005-08-05   \n",
       "\n",
       "         revenue  runtime                                   spoken_languages  \\\n",
       "0     2787965087    162.0  [{\"iso_639_1\": \"en\", \"name\": \"English\"}, {\"iso...   \n",
       "1      961000000    169.0           [{\"iso_639_1\": \"en\", \"name\": \"English\"}]   \n",
       "2      880674609    148.0  [{\"iso_639_1\": \"fr\", \"name\": \"Fran\\u00e7ais\"},...   \n",
       "3     1084939099    165.0           [{\"iso_639_1\": \"en\", \"name\": \"English\"}]   \n",
       "4      284139100    132.0           [{\"iso_639_1\": \"en\", \"name\": \"English\"}]   \n",
       "...          ...      ...                                                ...   \n",
       "4798     2040920     81.0      [{\"iso_639_1\": \"es\", \"name\": \"Espa\\u00f1ol\"}]   \n",
       "4799           0     85.0                                                 []   \n",
       "4800           0    120.0           [{\"iso_639_1\": \"en\", \"name\": \"English\"}]   \n",
       "4801           0     98.0           [{\"iso_639_1\": \"en\", \"name\": \"English\"}]   \n",
       "4802           0     90.0           [{\"iso_639_1\": \"en\", \"name\": \"English\"}]   \n",
       "\n",
       "        status                                            tagline  \\\n",
       "0     Released                        Enter the World of Pandora.   \n",
       "1     Released     At the end of the world, the adventure begins.   \n",
       "2     Released                              A Plan No One Escapes   \n",
       "3     Released                                    The Legend Ends   \n",
       "4     Released               Lost in our world, found in another.   \n",
       "...        ...                                                ...   \n",
       "4798  Released  He didn't come looking for trouble, but troubl...   \n",
       "4799  Released  A newlywed couple's honeymoon is upended by th...   \n",
       "4800  Released                                                NaN   \n",
       "4801  Released                           A New Yorker in Shanghai   \n",
       "4802  Released                                                NaN   \n",
       "\n",
       "                                         title  vote_average  vote_count  \n",
       "0                                       Avatar           7.2       11800  \n",
       "1     Pirates of the Caribbean: At World's End           6.9        4500  \n",
       "2                                      Spectre           6.3        4466  \n",
       "3                        The Dark Knight Rises           7.6        9106  \n",
       "4                                  John Carter           6.1        2124  \n",
       "...                                        ...           ...         ...  \n",
       "4798                               El Mariachi           6.6         238  \n",
       "4799                                 Newlyweds           5.9           5  \n",
       "4800                 Signed, Sealed, Delivered           7.0           6  \n",
       "4801                          Shanghai Calling           5.7           7  \n",
       "4802                         My Date with Drew           6.3          16  \n",
       "\n",
       "[4803 rows x 20 columns]"
      ]
     },
     "execution_count": 3,
     "metadata": {},
     "output_type": "execute_result"
    }
   ],
   "source": [
    "movies_df"
   ]
  },
  {
   "cell_type": "markdown",
   "metadata": {},
   "source": [
    "Step 2: Merge the Datasets\n"
   ]
  },
  {
   "cell_type": "code",
   "execution_count": 4,
   "metadata": {},
   "outputs": [],
   "source": [
    "# Renaming 'movie_id' in credits_df to 'id' for a consistent merge key\n",
    "credits_df.rename(columns={'movie_id': 'id'}, inplace=True)\n",
    "\n",
    "# Merging on 'id'\n",
    "merged_df = pd.merge(movies_df, credits_df, on='id')\n"
   ]
  },
  {
   "cell_type": "code",
   "execution_count": 5,
   "metadata": {},
   "outputs": [
    {
     "data": {
      "text/html": [
       "<div>\n",
       "<style scoped>\n",
       "    .dataframe tbody tr th:only-of-type {\n",
       "        vertical-align: middle;\n",
       "    }\n",
       "\n",
       "    .dataframe tbody tr th {\n",
       "        vertical-align: top;\n",
       "    }\n",
       "\n",
       "    .dataframe thead th {\n",
       "        text-align: right;\n",
       "    }\n",
       "</style>\n",
       "<table border=\"1\" class=\"dataframe\">\n",
       "  <thead>\n",
       "    <tr style=\"text-align: right;\">\n",
       "      <th></th>\n",
       "      <th>budget</th>\n",
       "      <th>genres</th>\n",
       "      <th>homepage</th>\n",
       "      <th>id</th>\n",
       "      <th>keywords</th>\n",
       "      <th>original_language</th>\n",
       "      <th>original_title</th>\n",
       "      <th>overview</th>\n",
       "      <th>popularity</th>\n",
       "      <th>production_companies</th>\n",
       "      <th>...</th>\n",
       "      <th>runtime</th>\n",
       "      <th>spoken_languages</th>\n",
       "      <th>status</th>\n",
       "      <th>tagline</th>\n",
       "      <th>title_x</th>\n",
       "      <th>vote_average</th>\n",
       "      <th>vote_count</th>\n",
       "      <th>title_y</th>\n",
       "      <th>cast</th>\n",
       "      <th>crew</th>\n",
       "    </tr>\n",
       "  </thead>\n",
       "  <tbody>\n",
       "    <tr>\n",
       "      <th>0</th>\n",
       "      <td>237000000</td>\n",
       "      <td>[{\"id\": 28, \"name\": \"Action\"}, {\"id\": 12, \"nam...</td>\n",
       "      <td>http://www.avatarmovie.com/</td>\n",
       "      <td>19995</td>\n",
       "      <td>[{\"id\": 1463, \"name\": \"culture clash\"}, {\"id\":...</td>\n",
       "      <td>en</td>\n",
       "      <td>Avatar</td>\n",
       "      <td>In the 22nd century, a paraplegic Marine is di...</td>\n",
       "      <td>150.437577</td>\n",
       "      <td>[{\"name\": \"Ingenious Film Partners\", \"id\": 289...</td>\n",
       "      <td>...</td>\n",
       "      <td>162.0</td>\n",
       "      <td>[{\"iso_639_1\": \"en\", \"name\": \"English\"}, {\"iso...</td>\n",
       "      <td>Released</td>\n",
       "      <td>Enter the World of Pandora.</td>\n",
       "      <td>Avatar</td>\n",
       "      <td>7.2</td>\n",
       "      <td>11800</td>\n",
       "      <td>Avatar</td>\n",
       "      <td>[{\"cast_id\": 242, \"character\": \"Jake Sully\", \"...</td>\n",
       "      <td>[{\"credit_id\": \"52fe48009251416c750aca23\", \"de...</td>\n",
       "    </tr>\n",
       "    <tr>\n",
       "      <th>1</th>\n",
       "      <td>300000000</td>\n",
       "      <td>[{\"id\": 12, \"name\": \"Adventure\"}, {\"id\": 14, \"...</td>\n",
       "      <td>http://disney.go.com/disneypictures/pirates/</td>\n",
       "      <td>285</td>\n",
       "      <td>[{\"id\": 270, \"name\": \"ocean\"}, {\"id\": 726, \"na...</td>\n",
       "      <td>en</td>\n",
       "      <td>Pirates of the Caribbean: At World's End</td>\n",
       "      <td>Captain Barbossa, long believed to be dead, ha...</td>\n",
       "      <td>139.082615</td>\n",
       "      <td>[{\"name\": \"Walt Disney Pictures\", \"id\": 2}, {\"...</td>\n",
       "      <td>...</td>\n",
       "      <td>169.0</td>\n",
       "      <td>[{\"iso_639_1\": \"en\", \"name\": \"English\"}]</td>\n",
       "      <td>Released</td>\n",
       "      <td>At the end of the world, the adventure begins.</td>\n",
       "      <td>Pirates of the Caribbean: At World's End</td>\n",
       "      <td>6.9</td>\n",
       "      <td>4500</td>\n",
       "      <td>Pirates of the Caribbean: At World's End</td>\n",
       "      <td>[{\"cast_id\": 4, \"character\": \"Captain Jack Spa...</td>\n",
       "      <td>[{\"credit_id\": \"52fe4232c3a36847f800b579\", \"de...</td>\n",
       "    </tr>\n",
       "    <tr>\n",
       "      <th>2</th>\n",
       "      <td>245000000</td>\n",
       "      <td>[{\"id\": 28, \"name\": \"Action\"}, {\"id\": 12, \"nam...</td>\n",
       "      <td>http://www.sonypictures.com/movies/spectre/</td>\n",
       "      <td>206647</td>\n",
       "      <td>[{\"id\": 470, \"name\": \"spy\"}, {\"id\": 818, \"name...</td>\n",
       "      <td>en</td>\n",
       "      <td>Spectre</td>\n",
       "      <td>A cryptic message from Bond’s past sends him o...</td>\n",
       "      <td>107.376788</td>\n",
       "      <td>[{\"name\": \"Columbia Pictures\", \"id\": 5}, {\"nam...</td>\n",
       "      <td>...</td>\n",
       "      <td>148.0</td>\n",
       "      <td>[{\"iso_639_1\": \"fr\", \"name\": \"Fran\\u00e7ais\"},...</td>\n",
       "      <td>Released</td>\n",
       "      <td>A Plan No One Escapes</td>\n",
       "      <td>Spectre</td>\n",
       "      <td>6.3</td>\n",
       "      <td>4466</td>\n",
       "      <td>Spectre</td>\n",
       "      <td>[{\"cast_id\": 1, \"character\": \"James Bond\", \"cr...</td>\n",
       "      <td>[{\"credit_id\": \"54805967c3a36829b5002c41\", \"de...</td>\n",
       "    </tr>\n",
       "    <tr>\n",
       "      <th>3</th>\n",
       "      <td>250000000</td>\n",
       "      <td>[{\"id\": 28, \"name\": \"Action\"}, {\"id\": 80, \"nam...</td>\n",
       "      <td>http://www.thedarkknightrises.com/</td>\n",
       "      <td>49026</td>\n",
       "      <td>[{\"id\": 849, \"name\": \"dc comics\"}, {\"id\": 853,...</td>\n",
       "      <td>en</td>\n",
       "      <td>The Dark Knight Rises</td>\n",
       "      <td>Following the death of District Attorney Harve...</td>\n",
       "      <td>112.312950</td>\n",
       "      <td>[{\"name\": \"Legendary Pictures\", \"id\": 923}, {\"...</td>\n",
       "      <td>...</td>\n",
       "      <td>165.0</td>\n",
       "      <td>[{\"iso_639_1\": \"en\", \"name\": \"English\"}]</td>\n",
       "      <td>Released</td>\n",
       "      <td>The Legend Ends</td>\n",
       "      <td>The Dark Knight Rises</td>\n",
       "      <td>7.6</td>\n",
       "      <td>9106</td>\n",
       "      <td>The Dark Knight Rises</td>\n",
       "      <td>[{\"cast_id\": 2, \"character\": \"Bruce Wayne / Ba...</td>\n",
       "      <td>[{\"credit_id\": \"52fe4781c3a36847f81398c3\", \"de...</td>\n",
       "    </tr>\n",
       "    <tr>\n",
       "      <th>4</th>\n",
       "      <td>260000000</td>\n",
       "      <td>[{\"id\": 28, \"name\": \"Action\"}, {\"id\": 12, \"nam...</td>\n",
       "      <td>http://movies.disney.com/john-carter</td>\n",
       "      <td>49529</td>\n",
       "      <td>[{\"id\": 818, \"name\": \"based on novel\"}, {\"id\":...</td>\n",
       "      <td>en</td>\n",
       "      <td>John Carter</td>\n",
       "      <td>John Carter is a war-weary, former military ca...</td>\n",
       "      <td>43.926995</td>\n",
       "      <td>[{\"name\": \"Walt Disney Pictures\", \"id\": 2}]</td>\n",
       "      <td>...</td>\n",
       "      <td>132.0</td>\n",
       "      <td>[{\"iso_639_1\": \"en\", \"name\": \"English\"}]</td>\n",
       "      <td>Released</td>\n",
       "      <td>Lost in our world, found in another.</td>\n",
       "      <td>John Carter</td>\n",
       "      <td>6.1</td>\n",
       "      <td>2124</td>\n",
       "      <td>John Carter</td>\n",
       "      <td>[{\"cast_id\": 5, \"character\": \"John Carter\", \"c...</td>\n",
       "      <td>[{\"credit_id\": \"52fe479ac3a36847f813eaa3\", \"de...</td>\n",
       "    </tr>\n",
       "    <tr>\n",
       "      <th>...</th>\n",
       "      <td>...</td>\n",
       "      <td>...</td>\n",
       "      <td>...</td>\n",
       "      <td>...</td>\n",
       "      <td>...</td>\n",
       "      <td>...</td>\n",
       "      <td>...</td>\n",
       "      <td>...</td>\n",
       "      <td>...</td>\n",
       "      <td>...</td>\n",
       "      <td>...</td>\n",
       "      <td>...</td>\n",
       "      <td>...</td>\n",
       "      <td>...</td>\n",
       "      <td>...</td>\n",
       "      <td>...</td>\n",
       "      <td>...</td>\n",
       "      <td>...</td>\n",
       "      <td>...</td>\n",
       "      <td>...</td>\n",
       "      <td>...</td>\n",
       "    </tr>\n",
       "    <tr>\n",
       "      <th>4798</th>\n",
       "      <td>220000</td>\n",
       "      <td>[{\"id\": 28, \"name\": \"Action\"}, {\"id\": 80, \"nam...</td>\n",
       "      <td>NaN</td>\n",
       "      <td>9367</td>\n",
       "      <td>[{\"id\": 5616, \"name\": \"united states\\u2013mexi...</td>\n",
       "      <td>es</td>\n",
       "      <td>El Mariachi</td>\n",
       "      <td>El Mariachi just wants to play his guitar and ...</td>\n",
       "      <td>14.269792</td>\n",
       "      <td>[{\"name\": \"Columbia Pictures\", \"id\": 5}]</td>\n",
       "      <td>...</td>\n",
       "      <td>81.0</td>\n",
       "      <td>[{\"iso_639_1\": \"es\", \"name\": \"Espa\\u00f1ol\"}]</td>\n",
       "      <td>Released</td>\n",
       "      <td>He didn't come looking for trouble, but troubl...</td>\n",
       "      <td>El Mariachi</td>\n",
       "      <td>6.6</td>\n",
       "      <td>238</td>\n",
       "      <td>El Mariachi</td>\n",
       "      <td>[{\"cast_id\": 1, \"character\": \"El Mariachi\", \"c...</td>\n",
       "      <td>[{\"credit_id\": \"52fe44eec3a36847f80b280b\", \"de...</td>\n",
       "    </tr>\n",
       "    <tr>\n",
       "      <th>4799</th>\n",
       "      <td>9000</td>\n",
       "      <td>[{\"id\": 35, \"name\": \"Comedy\"}, {\"id\": 10749, \"...</td>\n",
       "      <td>NaN</td>\n",
       "      <td>72766</td>\n",
       "      <td>[]</td>\n",
       "      <td>en</td>\n",
       "      <td>Newlyweds</td>\n",
       "      <td>A newlywed couple's honeymoon is upended by th...</td>\n",
       "      <td>0.642552</td>\n",
       "      <td>[]</td>\n",
       "      <td>...</td>\n",
       "      <td>85.0</td>\n",
       "      <td>[]</td>\n",
       "      <td>Released</td>\n",
       "      <td>A newlywed couple's honeymoon is upended by th...</td>\n",
       "      <td>Newlyweds</td>\n",
       "      <td>5.9</td>\n",
       "      <td>5</td>\n",
       "      <td>Newlyweds</td>\n",
       "      <td>[{\"cast_id\": 1, \"character\": \"Buzzy\", \"credit_...</td>\n",
       "      <td>[{\"credit_id\": \"52fe487dc3a368484e0fb013\", \"de...</td>\n",
       "    </tr>\n",
       "    <tr>\n",
       "      <th>4800</th>\n",
       "      <td>0</td>\n",
       "      <td>[{\"id\": 35, \"name\": \"Comedy\"}, {\"id\": 18, \"nam...</td>\n",
       "      <td>http://www.hallmarkchannel.com/signedsealeddel...</td>\n",
       "      <td>231617</td>\n",
       "      <td>[{\"id\": 248, \"name\": \"date\"}, {\"id\": 699, \"nam...</td>\n",
       "      <td>en</td>\n",
       "      <td>Signed, Sealed, Delivered</td>\n",
       "      <td>\"Signed, Sealed, Delivered\" introduces a dedic...</td>\n",
       "      <td>1.444476</td>\n",
       "      <td>[{\"name\": \"Front Street Pictures\", \"id\": 3958}...</td>\n",
       "      <td>...</td>\n",
       "      <td>120.0</td>\n",
       "      <td>[{\"iso_639_1\": \"en\", \"name\": \"English\"}]</td>\n",
       "      <td>Released</td>\n",
       "      <td>NaN</td>\n",
       "      <td>Signed, Sealed, Delivered</td>\n",
       "      <td>7.0</td>\n",
       "      <td>6</td>\n",
       "      <td>Signed, Sealed, Delivered</td>\n",
       "      <td>[{\"cast_id\": 8, \"character\": \"Oliver O\\u2019To...</td>\n",
       "      <td>[{\"credit_id\": \"52fe4df3c3a36847f8275ecf\", \"de...</td>\n",
       "    </tr>\n",
       "    <tr>\n",
       "      <th>4801</th>\n",
       "      <td>0</td>\n",
       "      <td>[]</td>\n",
       "      <td>http://shanghaicalling.com/</td>\n",
       "      <td>126186</td>\n",
       "      <td>[]</td>\n",
       "      <td>en</td>\n",
       "      <td>Shanghai Calling</td>\n",
       "      <td>When ambitious New York attorney Sam is sent t...</td>\n",
       "      <td>0.857008</td>\n",
       "      <td>[]</td>\n",
       "      <td>...</td>\n",
       "      <td>98.0</td>\n",
       "      <td>[{\"iso_639_1\": \"en\", \"name\": \"English\"}]</td>\n",
       "      <td>Released</td>\n",
       "      <td>A New Yorker in Shanghai</td>\n",
       "      <td>Shanghai Calling</td>\n",
       "      <td>5.7</td>\n",
       "      <td>7</td>\n",
       "      <td>Shanghai Calling</td>\n",
       "      <td>[{\"cast_id\": 3, \"character\": \"Sam\", \"credit_id...</td>\n",
       "      <td>[{\"credit_id\": \"52fe4ad9c3a368484e16a36b\", \"de...</td>\n",
       "    </tr>\n",
       "    <tr>\n",
       "      <th>4802</th>\n",
       "      <td>0</td>\n",
       "      <td>[{\"id\": 99, \"name\": \"Documentary\"}]</td>\n",
       "      <td>NaN</td>\n",
       "      <td>25975</td>\n",
       "      <td>[{\"id\": 1523, \"name\": \"obsession\"}, {\"id\": 224...</td>\n",
       "      <td>en</td>\n",
       "      <td>My Date with Drew</td>\n",
       "      <td>Ever since the second grade when he first saw ...</td>\n",
       "      <td>1.929883</td>\n",
       "      <td>[{\"name\": \"rusty bear entertainment\", \"id\": 87...</td>\n",
       "      <td>...</td>\n",
       "      <td>90.0</td>\n",
       "      <td>[{\"iso_639_1\": \"en\", \"name\": \"English\"}]</td>\n",
       "      <td>Released</td>\n",
       "      <td>NaN</td>\n",
       "      <td>My Date with Drew</td>\n",
       "      <td>6.3</td>\n",
       "      <td>16</td>\n",
       "      <td>My Date with Drew</td>\n",
       "      <td>[{\"cast_id\": 3, \"character\": \"Herself\", \"credi...</td>\n",
       "      <td>[{\"credit_id\": \"58ce021b9251415a390165d9\", \"de...</td>\n",
       "    </tr>\n",
       "  </tbody>\n",
       "</table>\n",
       "<p>4803 rows × 23 columns</p>\n",
       "</div>"
      ],
      "text/plain": [
       "         budget                                             genres  \\\n",
       "0     237000000  [{\"id\": 28, \"name\": \"Action\"}, {\"id\": 12, \"nam...   \n",
       "1     300000000  [{\"id\": 12, \"name\": \"Adventure\"}, {\"id\": 14, \"...   \n",
       "2     245000000  [{\"id\": 28, \"name\": \"Action\"}, {\"id\": 12, \"nam...   \n",
       "3     250000000  [{\"id\": 28, \"name\": \"Action\"}, {\"id\": 80, \"nam...   \n",
       "4     260000000  [{\"id\": 28, \"name\": \"Action\"}, {\"id\": 12, \"nam...   \n",
       "...         ...                                                ...   \n",
       "4798     220000  [{\"id\": 28, \"name\": \"Action\"}, {\"id\": 80, \"nam...   \n",
       "4799       9000  [{\"id\": 35, \"name\": \"Comedy\"}, {\"id\": 10749, \"...   \n",
       "4800          0  [{\"id\": 35, \"name\": \"Comedy\"}, {\"id\": 18, \"nam...   \n",
       "4801          0                                                 []   \n",
       "4802          0                [{\"id\": 99, \"name\": \"Documentary\"}]   \n",
       "\n",
       "                                               homepage      id  \\\n",
       "0                           http://www.avatarmovie.com/   19995   \n",
       "1          http://disney.go.com/disneypictures/pirates/     285   \n",
       "2           http://www.sonypictures.com/movies/spectre/  206647   \n",
       "3                    http://www.thedarkknightrises.com/   49026   \n",
       "4                  http://movies.disney.com/john-carter   49529   \n",
       "...                                                 ...     ...   \n",
       "4798                                                NaN    9367   \n",
       "4799                                                NaN   72766   \n",
       "4800  http://www.hallmarkchannel.com/signedsealeddel...  231617   \n",
       "4801                        http://shanghaicalling.com/  126186   \n",
       "4802                                                NaN   25975   \n",
       "\n",
       "                                               keywords original_language  \\\n",
       "0     [{\"id\": 1463, \"name\": \"culture clash\"}, {\"id\":...                en   \n",
       "1     [{\"id\": 270, \"name\": \"ocean\"}, {\"id\": 726, \"na...                en   \n",
       "2     [{\"id\": 470, \"name\": \"spy\"}, {\"id\": 818, \"name...                en   \n",
       "3     [{\"id\": 849, \"name\": \"dc comics\"}, {\"id\": 853,...                en   \n",
       "4     [{\"id\": 818, \"name\": \"based on novel\"}, {\"id\":...                en   \n",
       "...                                                 ...               ...   \n",
       "4798  [{\"id\": 5616, \"name\": \"united states\\u2013mexi...                es   \n",
       "4799                                                 []                en   \n",
       "4800  [{\"id\": 248, \"name\": \"date\"}, {\"id\": 699, \"nam...                en   \n",
       "4801                                                 []                en   \n",
       "4802  [{\"id\": 1523, \"name\": \"obsession\"}, {\"id\": 224...                en   \n",
       "\n",
       "                                original_title  \\\n",
       "0                                       Avatar   \n",
       "1     Pirates of the Caribbean: At World's End   \n",
       "2                                      Spectre   \n",
       "3                        The Dark Knight Rises   \n",
       "4                                  John Carter   \n",
       "...                                        ...   \n",
       "4798                               El Mariachi   \n",
       "4799                                 Newlyweds   \n",
       "4800                 Signed, Sealed, Delivered   \n",
       "4801                          Shanghai Calling   \n",
       "4802                         My Date with Drew   \n",
       "\n",
       "                                               overview  popularity  \\\n",
       "0     In the 22nd century, a paraplegic Marine is di...  150.437577   \n",
       "1     Captain Barbossa, long believed to be dead, ha...  139.082615   \n",
       "2     A cryptic message from Bond’s past sends him o...  107.376788   \n",
       "3     Following the death of District Attorney Harve...  112.312950   \n",
       "4     John Carter is a war-weary, former military ca...   43.926995   \n",
       "...                                                 ...         ...   \n",
       "4798  El Mariachi just wants to play his guitar and ...   14.269792   \n",
       "4799  A newlywed couple's honeymoon is upended by th...    0.642552   \n",
       "4800  \"Signed, Sealed, Delivered\" introduces a dedic...    1.444476   \n",
       "4801  When ambitious New York attorney Sam is sent t...    0.857008   \n",
       "4802  Ever since the second grade when he first saw ...    1.929883   \n",
       "\n",
       "                                   production_companies  ... runtime  \\\n",
       "0     [{\"name\": \"Ingenious Film Partners\", \"id\": 289...  ...   162.0   \n",
       "1     [{\"name\": \"Walt Disney Pictures\", \"id\": 2}, {\"...  ...   169.0   \n",
       "2     [{\"name\": \"Columbia Pictures\", \"id\": 5}, {\"nam...  ...   148.0   \n",
       "3     [{\"name\": \"Legendary Pictures\", \"id\": 923}, {\"...  ...   165.0   \n",
       "4           [{\"name\": \"Walt Disney Pictures\", \"id\": 2}]  ...   132.0   \n",
       "...                                                 ...  ...     ...   \n",
       "4798           [{\"name\": \"Columbia Pictures\", \"id\": 5}]  ...    81.0   \n",
       "4799                                                 []  ...    85.0   \n",
       "4800  [{\"name\": \"Front Street Pictures\", \"id\": 3958}...  ...   120.0   \n",
       "4801                                                 []  ...    98.0   \n",
       "4802  [{\"name\": \"rusty bear entertainment\", \"id\": 87...  ...    90.0   \n",
       "\n",
       "                                       spoken_languages    status  \\\n",
       "0     [{\"iso_639_1\": \"en\", \"name\": \"English\"}, {\"iso...  Released   \n",
       "1              [{\"iso_639_1\": \"en\", \"name\": \"English\"}]  Released   \n",
       "2     [{\"iso_639_1\": \"fr\", \"name\": \"Fran\\u00e7ais\"},...  Released   \n",
       "3              [{\"iso_639_1\": \"en\", \"name\": \"English\"}]  Released   \n",
       "4              [{\"iso_639_1\": \"en\", \"name\": \"English\"}]  Released   \n",
       "...                                                 ...       ...   \n",
       "4798      [{\"iso_639_1\": \"es\", \"name\": \"Espa\\u00f1ol\"}]  Released   \n",
       "4799                                                 []  Released   \n",
       "4800           [{\"iso_639_1\": \"en\", \"name\": \"English\"}]  Released   \n",
       "4801           [{\"iso_639_1\": \"en\", \"name\": \"English\"}]  Released   \n",
       "4802           [{\"iso_639_1\": \"en\", \"name\": \"English\"}]  Released   \n",
       "\n",
       "                                                tagline  \\\n",
       "0                           Enter the World of Pandora.   \n",
       "1        At the end of the world, the adventure begins.   \n",
       "2                                 A Plan No One Escapes   \n",
       "3                                       The Legend Ends   \n",
       "4                  Lost in our world, found in another.   \n",
       "...                                                 ...   \n",
       "4798  He didn't come looking for trouble, but troubl...   \n",
       "4799  A newlywed couple's honeymoon is upended by th...   \n",
       "4800                                                NaN   \n",
       "4801                           A New Yorker in Shanghai   \n",
       "4802                                                NaN   \n",
       "\n",
       "                                       title_x vote_average vote_count  \\\n",
       "0                                       Avatar          7.2      11800   \n",
       "1     Pirates of the Caribbean: At World's End          6.9       4500   \n",
       "2                                      Spectre          6.3       4466   \n",
       "3                        The Dark Knight Rises          7.6       9106   \n",
       "4                                  John Carter          6.1       2124   \n",
       "...                                        ...          ...        ...   \n",
       "4798                               El Mariachi          6.6        238   \n",
       "4799                                 Newlyweds          5.9          5   \n",
       "4800                 Signed, Sealed, Delivered          7.0          6   \n",
       "4801                          Shanghai Calling          5.7          7   \n",
       "4802                         My Date with Drew          6.3         16   \n",
       "\n",
       "                                       title_y  \\\n",
       "0                                       Avatar   \n",
       "1     Pirates of the Caribbean: At World's End   \n",
       "2                                      Spectre   \n",
       "3                        The Dark Knight Rises   \n",
       "4                                  John Carter   \n",
       "...                                        ...   \n",
       "4798                               El Mariachi   \n",
       "4799                                 Newlyweds   \n",
       "4800                 Signed, Sealed, Delivered   \n",
       "4801                          Shanghai Calling   \n",
       "4802                         My Date with Drew   \n",
       "\n",
       "                                                   cast  \\\n",
       "0     [{\"cast_id\": 242, \"character\": \"Jake Sully\", \"...   \n",
       "1     [{\"cast_id\": 4, \"character\": \"Captain Jack Spa...   \n",
       "2     [{\"cast_id\": 1, \"character\": \"James Bond\", \"cr...   \n",
       "3     [{\"cast_id\": 2, \"character\": \"Bruce Wayne / Ba...   \n",
       "4     [{\"cast_id\": 5, \"character\": \"John Carter\", \"c...   \n",
       "...                                                 ...   \n",
       "4798  [{\"cast_id\": 1, \"character\": \"El Mariachi\", \"c...   \n",
       "4799  [{\"cast_id\": 1, \"character\": \"Buzzy\", \"credit_...   \n",
       "4800  [{\"cast_id\": 8, \"character\": \"Oliver O\\u2019To...   \n",
       "4801  [{\"cast_id\": 3, \"character\": \"Sam\", \"credit_id...   \n",
       "4802  [{\"cast_id\": 3, \"character\": \"Herself\", \"credi...   \n",
       "\n",
       "                                                   crew  \n",
       "0     [{\"credit_id\": \"52fe48009251416c750aca23\", \"de...  \n",
       "1     [{\"credit_id\": \"52fe4232c3a36847f800b579\", \"de...  \n",
       "2     [{\"credit_id\": \"54805967c3a36829b5002c41\", \"de...  \n",
       "3     [{\"credit_id\": \"52fe4781c3a36847f81398c3\", \"de...  \n",
       "4     [{\"credit_id\": \"52fe479ac3a36847f813eaa3\", \"de...  \n",
       "...                                                 ...  \n",
       "4798  [{\"credit_id\": \"52fe44eec3a36847f80b280b\", \"de...  \n",
       "4799  [{\"credit_id\": \"52fe487dc3a368484e0fb013\", \"de...  \n",
       "4800  [{\"credit_id\": \"52fe4df3c3a36847f8275ecf\", \"de...  \n",
       "4801  [{\"credit_id\": \"52fe4ad9c3a368484e16a36b\", \"de...  \n",
       "4802  [{\"credit_id\": \"58ce021b9251415a390165d9\", \"de...  \n",
       "\n",
       "[4803 rows x 23 columns]"
      ]
     },
     "execution_count": 5,
     "metadata": {},
     "output_type": "execute_result"
    }
   ],
   "source": [
    "merged_df"
   ]
  },
  {
   "cell_type": "markdown",
   "metadata": {},
   "source": [
    "Step 3: Initial Data Cleaning\n"
   ]
  },
  {
   "cell_type": "code",
   "execution_count": 6,
   "metadata": {},
   "outputs": [
    {
     "name": "stderr",
     "output_type": "stream",
     "text": [
      "C:\\Users\\Hesan\\AppData\\Local\\Temp\\ipykernel_11244\\4018079160.py:5: SettingWithCopyWarning: \n",
      "A value is trying to be set on a copy of a slice from a DataFrame.\n",
      "Try using .loc[row_indexer,col_indexer] = value instead\n",
      "\n",
      "See the caveats in the documentation: https://pandas.pydata.org/pandas-docs/stable/user_guide/indexing.html#returning-a-view-versus-a-copy\n",
      "  cleaned_df['release_date'] = pd.to_datetime(cleaned_df['release_date'])\n"
     ]
    }
   ],
   "source": [
    "# Drop rows with any missing 'overview', 'release_date', or 'runtime'\n",
    "cleaned_df = merged_df.dropna(subset=['overview', 'release_date', 'runtime'])\n",
    "\n",
    "# Convert 'release_date' to datetime format\n",
    "cleaned_df['release_date'] = pd.to_datetime(cleaned_df['release_date'])\n"
   ]
  },
  {
   "cell_type": "code",
   "execution_count": 7,
   "metadata": {},
   "outputs": [
    {
     "data": {
      "text/html": [
       "<div>\n",
       "<style scoped>\n",
       "    .dataframe tbody tr th:only-of-type {\n",
       "        vertical-align: middle;\n",
       "    }\n",
       "\n",
       "    .dataframe tbody tr th {\n",
       "        vertical-align: top;\n",
       "    }\n",
       "\n",
       "    .dataframe thead th {\n",
       "        text-align: right;\n",
       "    }\n",
       "</style>\n",
       "<table border=\"1\" class=\"dataframe\">\n",
       "  <thead>\n",
       "    <tr style=\"text-align: right;\">\n",
       "      <th></th>\n",
       "      <th>budget</th>\n",
       "      <th>genres</th>\n",
       "      <th>homepage</th>\n",
       "      <th>id</th>\n",
       "      <th>keywords</th>\n",
       "      <th>original_language</th>\n",
       "      <th>original_title</th>\n",
       "      <th>overview</th>\n",
       "      <th>popularity</th>\n",
       "      <th>production_companies</th>\n",
       "      <th>...</th>\n",
       "      <th>runtime</th>\n",
       "      <th>spoken_languages</th>\n",
       "      <th>status</th>\n",
       "      <th>tagline</th>\n",
       "      <th>title_x</th>\n",
       "      <th>vote_average</th>\n",
       "      <th>vote_count</th>\n",
       "      <th>title_y</th>\n",
       "      <th>cast</th>\n",
       "      <th>crew</th>\n",
       "    </tr>\n",
       "  </thead>\n",
       "  <tbody>\n",
       "    <tr>\n",
       "      <th>0</th>\n",
       "      <td>237000000</td>\n",
       "      <td>[{\"id\": 28, \"name\": \"Action\"}, {\"id\": 12, \"nam...</td>\n",
       "      <td>http://www.avatarmovie.com/</td>\n",
       "      <td>19995</td>\n",
       "      <td>[{\"id\": 1463, \"name\": \"culture clash\"}, {\"id\":...</td>\n",
       "      <td>en</td>\n",
       "      <td>Avatar</td>\n",
       "      <td>In the 22nd century, a paraplegic Marine is di...</td>\n",
       "      <td>150.437577</td>\n",
       "      <td>[{\"name\": \"Ingenious Film Partners\", \"id\": 289...</td>\n",
       "      <td>...</td>\n",
       "      <td>162.0</td>\n",
       "      <td>[{\"iso_639_1\": \"en\", \"name\": \"English\"}, {\"iso...</td>\n",
       "      <td>Released</td>\n",
       "      <td>Enter the World of Pandora.</td>\n",
       "      <td>Avatar</td>\n",
       "      <td>7.2</td>\n",
       "      <td>11800</td>\n",
       "      <td>Avatar</td>\n",
       "      <td>[{\"cast_id\": 242, \"character\": \"Jake Sully\", \"...</td>\n",
       "      <td>[{\"credit_id\": \"52fe48009251416c750aca23\", \"de...</td>\n",
       "    </tr>\n",
       "    <tr>\n",
       "      <th>1</th>\n",
       "      <td>300000000</td>\n",
       "      <td>[{\"id\": 12, \"name\": \"Adventure\"}, {\"id\": 14, \"...</td>\n",
       "      <td>http://disney.go.com/disneypictures/pirates/</td>\n",
       "      <td>285</td>\n",
       "      <td>[{\"id\": 270, \"name\": \"ocean\"}, {\"id\": 726, \"na...</td>\n",
       "      <td>en</td>\n",
       "      <td>Pirates of the Caribbean: At World's End</td>\n",
       "      <td>Captain Barbossa, long believed to be dead, ha...</td>\n",
       "      <td>139.082615</td>\n",
       "      <td>[{\"name\": \"Walt Disney Pictures\", \"id\": 2}, {\"...</td>\n",
       "      <td>...</td>\n",
       "      <td>169.0</td>\n",
       "      <td>[{\"iso_639_1\": \"en\", \"name\": \"English\"}]</td>\n",
       "      <td>Released</td>\n",
       "      <td>At the end of the world, the adventure begins.</td>\n",
       "      <td>Pirates of the Caribbean: At World's End</td>\n",
       "      <td>6.9</td>\n",
       "      <td>4500</td>\n",
       "      <td>Pirates of the Caribbean: At World's End</td>\n",
       "      <td>[{\"cast_id\": 4, \"character\": \"Captain Jack Spa...</td>\n",
       "      <td>[{\"credit_id\": \"52fe4232c3a36847f800b579\", \"de...</td>\n",
       "    </tr>\n",
       "    <tr>\n",
       "      <th>2</th>\n",
       "      <td>245000000</td>\n",
       "      <td>[{\"id\": 28, \"name\": \"Action\"}, {\"id\": 12, \"nam...</td>\n",
       "      <td>http://www.sonypictures.com/movies/spectre/</td>\n",
       "      <td>206647</td>\n",
       "      <td>[{\"id\": 470, \"name\": \"spy\"}, {\"id\": 818, \"name...</td>\n",
       "      <td>en</td>\n",
       "      <td>Spectre</td>\n",
       "      <td>A cryptic message from Bond’s past sends him o...</td>\n",
       "      <td>107.376788</td>\n",
       "      <td>[{\"name\": \"Columbia Pictures\", \"id\": 5}, {\"nam...</td>\n",
       "      <td>...</td>\n",
       "      <td>148.0</td>\n",
       "      <td>[{\"iso_639_1\": \"fr\", \"name\": \"Fran\\u00e7ais\"},...</td>\n",
       "      <td>Released</td>\n",
       "      <td>A Plan No One Escapes</td>\n",
       "      <td>Spectre</td>\n",
       "      <td>6.3</td>\n",
       "      <td>4466</td>\n",
       "      <td>Spectre</td>\n",
       "      <td>[{\"cast_id\": 1, \"character\": \"James Bond\", \"cr...</td>\n",
       "      <td>[{\"credit_id\": \"54805967c3a36829b5002c41\", \"de...</td>\n",
       "    </tr>\n",
       "    <tr>\n",
       "      <th>3</th>\n",
       "      <td>250000000</td>\n",
       "      <td>[{\"id\": 28, \"name\": \"Action\"}, {\"id\": 80, \"nam...</td>\n",
       "      <td>http://www.thedarkknightrises.com/</td>\n",
       "      <td>49026</td>\n",
       "      <td>[{\"id\": 849, \"name\": \"dc comics\"}, {\"id\": 853,...</td>\n",
       "      <td>en</td>\n",
       "      <td>The Dark Knight Rises</td>\n",
       "      <td>Following the death of District Attorney Harve...</td>\n",
       "      <td>112.312950</td>\n",
       "      <td>[{\"name\": \"Legendary Pictures\", \"id\": 923}, {\"...</td>\n",
       "      <td>...</td>\n",
       "      <td>165.0</td>\n",
       "      <td>[{\"iso_639_1\": \"en\", \"name\": \"English\"}]</td>\n",
       "      <td>Released</td>\n",
       "      <td>The Legend Ends</td>\n",
       "      <td>The Dark Knight Rises</td>\n",
       "      <td>7.6</td>\n",
       "      <td>9106</td>\n",
       "      <td>The Dark Knight Rises</td>\n",
       "      <td>[{\"cast_id\": 2, \"character\": \"Bruce Wayne / Ba...</td>\n",
       "      <td>[{\"credit_id\": \"52fe4781c3a36847f81398c3\", \"de...</td>\n",
       "    </tr>\n",
       "    <tr>\n",
       "      <th>4</th>\n",
       "      <td>260000000</td>\n",
       "      <td>[{\"id\": 28, \"name\": \"Action\"}, {\"id\": 12, \"nam...</td>\n",
       "      <td>http://movies.disney.com/john-carter</td>\n",
       "      <td>49529</td>\n",
       "      <td>[{\"id\": 818, \"name\": \"based on novel\"}, {\"id\":...</td>\n",
       "      <td>en</td>\n",
       "      <td>John Carter</td>\n",
       "      <td>John Carter is a war-weary, former military ca...</td>\n",
       "      <td>43.926995</td>\n",
       "      <td>[{\"name\": \"Walt Disney Pictures\", \"id\": 2}]</td>\n",
       "      <td>...</td>\n",
       "      <td>132.0</td>\n",
       "      <td>[{\"iso_639_1\": \"en\", \"name\": \"English\"}]</td>\n",
       "      <td>Released</td>\n",
       "      <td>Lost in our world, found in another.</td>\n",
       "      <td>John Carter</td>\n",
       "      <td>6.1</td>\n",
       "      <td>2124</td>\n",
       "      <td>John Carter</td>\n",
       "      <td>[{\"cast_id\": 5, \"character\": \"John Carter\", \"c...</td>\n",
       "      <td>[{\"credit_id\": \"52fe479ac3a36847f813eaa3\", \"de...</td>\n",
       "    </tr>\n",
       "    <tr>\n",
       "      <th>...</th>\n",
       "      <td>...</td>\n",
       "      <td>...</td>\n",
       "      <td>...</td>\n",
       "      <td>...</td>\n",
       "      <td>...</td>\n",
       "      <td>...</td>\n",
       "      <td>...</td>\n",
       "      <td>...</td>\n",
       "      <td>...</td>\n",
       "      <td>...</td>\n",
       "      <td>...</td>\n",
       "      <td>...</td>\n",
       "      <td>...</td>\n",
       "      <td>...</td>\n",
       "      <td>...</td>\n",
       "      <td>...</td>\n",
       "      <td>...</td>\n",
       "      <td>...</td>\n",
       "      <td>...</td>\n",
       "      <td>...</td>\n",
       "      <td>...</td>\n",
       "    </tr>\n",
       "    <tr>\n",
       "      <th>4798</th>\n",
       "      <td>220000</td>\n",
       "      <td>[{\"id\": 28, \"name\": \"Action\"}, {\"id\": 80, \"nam...</td>\n",
       "      <td>NaN</td>\n",
       "      <td>9367</td>\n",
       "      <td>[{\"id\": 5616, \"name\": \"united states\\u2013mexi...</td>\n",
       "      <td>es</td>\n",
       "      <td>El Mariachi</td>\n",
       "      <td>El Mariachi just wants to play his guitar and ...</td>\n",
       "      <td>14.269792</td>\n",
       "      <td>[{\"name\": \"Columbia Pictures\", \"id\": 5}]</td>\n",
       "      <td>...</td>\n",
       "      <td>81.0</td>\n",
       "      <td>[{\"iso_639_1\": \"es\", \"name\": \"Espa\\u00f1ol\"}]</td>\n",
       "      <td>Released</td>\n",
       "      <td>He didn't come looking for trouble, but troubl...</td>\n",
       "      <td>El Mariachi</td>\n",
       "      <td>6.6</td>\n",
       "      <td>238</td>\n",
       "      <td>El Mariachi</td>\n",
       "      <td>[{\"cast_id\": 1, \"character\": \"El Mariachi\", \"c...</td>\n",
       "      <td>[{\"credit_id\": \"52fe44eec3a36847f80b280b\", \"de...</td>\n",
       "    </tr>\n",
       "    <tr>\n",
       "      <th>4799</th>\n",
       "      <td>9000</td>\n",
       "      <td>[{\"id\": 35, \"name\": \"Comedy\"}, {\"id\": 10749, \"...</td>\n",
       "      <td>NaN</td>\n",
       "      <td>72766</td>\n",
       "      <td>[]</td>\n",
       "      <td>en</td>\n",
       "      <td>Newlyweds</td>\n",
       "      <td>A newlywed couple's honeymoon is upended by th...</td>\n",
       "      <td>0.642552</td>\n",
       "      <td>[]</td>\n",
       "      <td>...</td>\n",
       "      <td>85.0</td>\n",
       "      <td>[]</td>\n",
       "      <td>Released</td>\n",
       "      <td>A newlywed couple's honeymoon is upended by th...</td>\n",
       "      <td>Newlyweds</td>\n",
       "      <td>5.9</td>\n",
       "      <td>5</td>\n",
       "      <td>Newlyweds</td>\n",
       "      <td>[{\"cast_id\": 1, \"character\": \"Buzzy\", \"credit_...</td>\n",
       "      <td>[{\"credit_id\": \"52fe487dc3a368484e0fb013\", \"de...</td>\n",
       "    </tr>\n",
       "    <tr>\n",
       "      <th>4800</th>\n",
       "      <td>0</td>\n",
       "      <td>[{\"id\": 35, \"name\": \"Comedy\"}, {\"id\": 18, \"nam...</td>\n",
       "      <td>http://www.hallmarkchannel.com/signedsealeddel...</td>\n",
       "      <td>231617</td>\n",
       "      <td>[{\"id\": 248, \"name\": \"date\"}, {\"id\": 699, \"nam...</td>\n",
       "      <td>en</td>\n",
       "      <td>Signed, Sealed, Delivered</td>\n",
       "      <td>\"Signed, Sealed, Delivered\" introduces a dedic...</td>\n",
       "      <td>1.444476</td>\n",
       "      <td>[{\"name\": \"Front Street Pictures\", \"id\": 3958}...</td>\n",
       "      <td>...</td>\n",
       "      <td>120.0</td>\n",
       "      <td>[{\"iso_639_1\": \"en\", \"name\": \"English\"}]</td>\n",
       "      <td>Released</td>\n",
       "      <td>NaN</td>\n",
       "      <td>Signed, Sealed, Delivered</td>\n",
       "      <td>7.0</td>\n",
       "      <td>6</td>\n",
       "      <td>Signed, Sealed, Delivered</td>\n",
       "      <td>[{\"cast_id\": 8, \"character\": \"Oliver O\\u2019To...</td>\n",
       "      <td>[{\"credit_id\": \"52fe4df3c3a36847f8275ecf\", \"de...</td>\n",
       "    </tr>\n",
       "    <tr>\n",
       "      <th>4801</th>\n",
       "      <td>0</td>\n",
       "      <td>[]</td>\n",
       "      <td>http://shanghaicalling.com/</td>\n",
       "      <td>126186</td>\n",
       "      <td>[]</td>\n",
       "      <td>en</td>\n",
       "      <td>Shanghai Calling</td>\n",
       "      <td>When ambitious New York attorney Sam is sent t...</td>\n",
       "      <td>0.857008</td>\n",
       "      <td>[]</td>\n",
       "      <td>...</td>\n",
       "      <td>98.0</td>\n",
       "      <td>[{\"iso_639_1\": \"en\", \"name\": \"English\"}]</td>\n",
       "      <td>Released</td>\n",
       "      <td>A New Yorker in Shanghai</td>\n",
       "      <td>Shanghai Calling</td>\n",
       "      <td>5.7</td>\n",
       "      <td>7</td>\n",
       "      <td>Shanghai Calling</td>\n",
       "      <td>[{\"cast_id\": 3, \"character\": \"Sam\", \"credit_id...</td>\n",
       "      <td>[{\"credit_id\": \"52fe4ad9c3a368484e16a36b\", \"de...</td>\n",
       "    </tr>\n",
       "    <tr>\n",
       "      <th>4802</th>\n",
       "      <td>0</td>\n",
       "      <td>[{\"id\": 99, \"name\": \"Documentary\"}]</td>\n",
       "      <td>NaN</td>\n",
       "      <td>25975</td>\n",
       "      <td>[{\"id\": 1523, \"name\": \"obsession\"}, {\"id\": 224...</td>\n",
       "      <td>en</td>\n",
       "      <td>My Date with Drew</td>\n",
       "      <td>Ever since the second grade when he first saw ...</td>\n",
       "      <td>1.929883</td>\n",
       "      <td>[{\"name\": \"rusty bear entertainment\", \"id\": 87...</td>\n",
       "      <td>...</td>\n",
       "      <td>90.0</td>\n",
       "      <td>[{\"iso_639_1\": \"en\", \"name\": \"English\"}]</td>\n",
       "      <td>Released</td>\n",
       "      <td>NaN</td>\n",
       "      <td>My Date with Drew</td>\n",
       "      <td>6.3</td>\n",
       "      <td>16</td>\n",
       "      <td>My Date with Drew</td>\n",
       "      <td>[{\"cast_id\": 3, \"character\": \"Herself\", \"credi...</td>\n",
       "      <td>[{\"credit_id\": \"58ce021b9251415a390165d9\", \"de...</td>\n",
       "    </tr>\n",
       "  </tbody>\n",
       "</table>\n",
       "<p>4799 rows × 23 columns</p>\n",
       "</div>"
      ],
      "text/plain": [
       "         budget                                             genres  \\\n",
       "0     237000000  [{\"id\": 28, \"name\": \"Action\"}, {\"id\": 12, \"nam...   \n",
       "1     300000000  [{\"id\": 12, \"name\": \"Adventure\"}, {\"id\": 14, \"...   \n",
       "2     245000000  [{\"id\": 28, \"name\": \"Action\"}, {\"id\": 12, \"nam...   \n",
       "3     250000000  [{\"id\": 28, \"name\": \"Action\"}, {\"id\": 80, \"nam...   \n",
       "4     260000000  [{\"id\": 28, \"name\": \"Action\"}, {\"id\": 12, \"nam...   \n",
       "...         ...                                                ...   \n",
       "4798     220000  [{\"id\": 28, \"name\": \"Action\"}, {\"id\": 80, \"nam...   \n",
       "4799       9000  [{\"id\": 35, \"name\": \"Comedy\"}, {\"id\": 10749, \"...   \n",
       "4800          0  [{\"id\": 35, \"name\": \"Comedy\"}, {\"id\": 18, \"nam...   \n",
       "4801          0                                                 []   \n",
       "4802          0                [{\"id\": 99, \"name\": \"Documentary\"}]   \n",
       "\n",
       "                                               homepage      id  \\\n",
       "0                           http://www.avatarmovie.com/   19995   \n",
       "1          http://disney.go.com/disneypictures/pirates/     285   \n",
       "2           http://www.sonypictures.com/movies/spectre/  206647   \n",
       "3                    http://www.thedarkknightrises.com/   49026   \n",
       "4                  http://movies.disney.com/john-carter   49529   \n",
       "...                                                 ...     ...   \n",
       "4798                                                NaN    9367   \n",
       "4799                                                NaN   72766   \n",
       "4800  http://www.hallmarkchannel.com/signedsealeddel...  231617   \n",
       "4801                        http://shanghaicalling.com/  126186   \n",
       "4802                                                NaN   25975   \n",
       "\n",
       "                                               keywords original_language  \\\n",
       "0     [{\"id\": 1463, \"name\": \"culture clash\"}, {\"id\":...                en   \n",
       "1     [{\"id\": 270, \"name\": \"ocean\"}, {\"id\": 726, \"na...                en   \n",
       "2     [{\"id\": 470, \"name\": \"spy\"}, {\"id\": 818, \"name...                en   \n",
       "3     [{\"id\": 849, \"name\": \"dc comics\"}, {\"id\": 853,...                en   \n",
       "4     [{\"id\": 818, \"name\": \"based on novel\"}, {\"id\":...                en   \n",
       "...                                                 ...               ...   \n",
       "4798  [{\"id\": 5616, \"name\": \"united states\\u2013mexi...                es   \n",
       "4799                                                 []                en   \n",
       "4800  [{\"id\": 248, \"name\": \"date\"}, {\"id\": 699, \"nam...                en   \n",
       "4801                                                 []                en   \n",
       "4802  [{\"id\": 1523, \"name\": \"obsession\"}, {\"id\": 224...                en   \n",
       "\n",
       "                                original_title  \\\n",
       "0                                       Avatar   \n",
       "1     Pirates of the Caribbean: At World's End   \n",
       "2                                      Spectre   \n",
       "3                        The Dark Knight Rises   \n",
       "4                                  John Carter   \n",
       "...                                        ...   \n",
       "4798                               El Mariachi   \n",
       "4799                                 Newlyweds   \n",
       "4800                 Signed, Sealed, Delivered   \n",
       "4801                          Shanghai Calling   \n",
       "4802                         My Date with Drew   \n",
       "\n",
       "                                               overview  popularity  \\\n",
       "0     In the 22nd century, a paraplegic Marine is di...  150.437577   \n",
       "1     Captain Barbossa, long believed to be dead, ha...  139.082615   \n",
       "2     A cryptic message from Bond’s past sends him o...  107.376788   \n",
       "3     Following the death of District Attorney Harve...  112.312950   \n",
       "4     John Carter is a war-weary, former military ca...   43.926995   \n",
       "...                                                 ...         ...   \n",
       "4798  El Mariachi just wants to play his guitar and ...   14.269792   \n",
       "4799  A newlywed couple's honeymoon is upended by th...    0.642552   \n",
       "4800  \"Signed, Sealed, Delivered\" introduces a dedic...    1.444476   \n",
       "4801  When ambitious New York attorney Sam is sent t...    0.857008   \n",
       "4802  Ever since the second grade when he first saw ...    1.929883   \n",
       "\n",
       "                                   production_companies  ... runtime  \\\n",
       "0     [{\"name\": \"Ingenious Film Partners\", \"id\": 289...  ...   162.0   \n",
       "1     [{\"name\": \"Walt Disney Pictures\", \"id\": 2}, {\"...  ...   169.0   \n",
       "2     [{\"name\": \"Columbia Pictures\", \"id\": 5}, {\"nam...  ...   148.0   \n",
       "3     [{\"name\": \"Legendary Pictures\", \"id\": 923}, {\"...  ...   165.0   \n",
       "4           [{\"name\": \"Walt Disney Pictures\", \"id\": 2}]  ...   132.0   \n",
       "...                                                 ...  ...     ...   \n",
       "4798           [{\"name\": \"Columbia Pictures\", \"id\": 5}]  ...    81.0   \n",
       "4799                                                 []  ...    85.0   \n",
       "4800  [{\"name\": \"Front Street Pictures\", \"id\": 3958}...  ...   120.0   \n",
       "4801                                                 []  ...    98.0   \n",
       "4802  [{\"name\": \"rusty bear entertainment\", \"id\": 87...  ...    90.0   \n",
       "\n",
       "                                       spoken_languages    status  \\\n",
       "0     [{\"iso_639_1\": \"en\", \"name\": \"English\"}, {\"iso...  Released   \n",
       "1              [{\"iso_639_1\": \"en\", \"name\": \"English\"}]  Released   \n",
       "2     [{\"iso_639_1\": \"fr\", \"name\": \"Fran\\u00e7ais\"},...  Released   \n",
       "3              [{\"iso_639_1\": \"en\", \"name\": \"English\"}]  Released   \n",
       "4              [{\"iso_639_1\": \"en\", \"name\": \"English\"}]  Released   \n",
       "...                                                 ...       ...   \n",
       "4798      [{\"iso_639_1\": \"es\", \"name\": \"Espa\\u00f1ol\"}]  Released   \n",
       "4799                                                 []  Released   \n",
       "4800           [{\"iso_639_1\": \"en\", \"name\": \"English\"}]  Released   \n",
       "4801           [{\"iso_639_1\": \"en\", \"name\": \"English\"}]  Released   \n",
       "4802           [{\"iso_639_1\": \"en\", \"name\": \"English\"}]  Released   \n",
       "\n",
       "                                                tagline  \\\n",
       "0                           Enter the World of Pandora.   \n",
       "1        At the end of the world, the adventure begins.   \n",
       "2                                 A Plan No One Escapes   \n",
       "3                                       The Legend Ends   \n",
       "4                  Lost in our world, found in another.   \n",
       "...                                                 ...   \n",
       "4798  He didn't come looking for trouble, but troubl...   \n",
       "4799  A newlywed couple's honeymoon is upended by th...   \n",
       "4800                                                NaN   \n",
       "4801                           A New Yorker in Shanghai   \n",
       "4802                                                NaN   \n",
       "\n",
       "                                       title_x vote_average vote_count  \\\n",
       "0                                       Avatar          7.2      11800   \n",
       "1     Pirates of the Caribbean: At World's End          6.9       4500   \n",
       "2                                      Spectre          6.3       4466   \n",
       "3                        The Dark Knight Rises          7.6       9106   \n",
       "4                                  John Carter          6.1       2124   \n",
       "...                                        ...          ...        ...   \n",
       "4798                               El Mariachi          6.6        238   \n",
       "4799                                 Newlyweds          5.9          5   \n",
       "4800                 Signed, Sealed, Delivered          7.0          6   \n",
       "4801                          Shanghai Calling          5.7          7   \n",
       "4802                         My Date with Drew          6.3         16   \n",
       "\n",
       "                                       title_y  \\\n",
       "0                                       Avatar   \n",
       "1     Pirates of the Caribbean: At World's End   \n",
       "2                                      Spectre   \n",
       "3                        The Dark Knight Rises   \n",
       "4                                  John Carter   \n",
       "...                                        ...   \n",
       "4798                               El Mariachi   \n",
       "4799                                 Newlyweds   \n",
       "4800                 Signed, Sealed, Delivered   \n",
       "4801                          Shanghai Calling   \n",
       "4802                         My Date with Drew   \n",
       "\n",
       "                                                   cast  \\\n",
       "0     [{\"cast_id\": 242, \"character\": \"Jake Sully\", \"...   \n",
       "1     [{\"cast_id\": 4, \"character\": \"Captain Jack Spa...   \n",
       "2     [{\"cast_id\": 1, \"character\": \"James Bond\", \"cr...   \n",
       "3     [{\"cast_id\": 2, \"character\": \"Bruce Wayne / Ba...   \n",
       "4     [{\"cast_id\": 5, \"character\": \"John Carter\", \"c...   \n",
       "...                                                 ...   \n",
       "4798  [{\"cast_id\": 1, \"character\": \"El Mariachi\", \"c...   \n",
       "4799  [{\"cast_id\": 1, \"character\": \"Buzzy\", \"credit_...   \n",
       "4800  [{\"cast_id\": 8, \"character\": \"Oliver O\\u2019To...   \n",
       "4801  [{\"cast_id\": 3, \"character\": \"Sam\", \"credit_id...   \n",
       "4802  [{\"cast_id\": 3, \"character\": \"Herself\", \"credi...   \n",
       "\n",
       "                                                   crew  \n",
       "0     [{\"credit_id\": \"52fe48009251416c750aca23\", \"de...  \n",
       "1     [{\"credit_id\": \"52fe4232c3a36847f800b579\", \"de...  \n",
       "2     [{\"credit_id\": \"54805967c3a36829b5002c41\", \"de...  \n",
       "3     [{\"credit_id\": \"52fe4781c3a36847f81398c3\", \"de...  \n",
       "4     [{\"credit_id\": \"52fe479ac3a36847f813eaa3\", \"de...  \n",
       "...                                                 ...  \n",
       "4798  [{\"credit_id\": \"52fe44eec3a36847f80b280b\", \"de...  \n",
       "4799  [{\"credit_id\": \"52fe487dc3a368484e0fb013\", \"de...  \n",
       "4800  [{\"credit_id\": \"52fe4df3c3a36847f8275ecf\", \"de...  \n",
       "4801  [{\"credit_id\": \"52fe4ad9c3a368484e16a36b\", \"de...  \n",
       "4802  [{\"credit_id\": \"58ce021b9251415a390165d9\", \"de...  \n",
       "\n",
       "[4799 rows x 23 columns]"
      ]
     },
     "execution_count": 7,
     "metadata": {},
     "output_type": "execute_result"
    }
   ],
   "source": [
    "cleaned_df"
   ]
  },
  {
   "cell_type": "markdown",
   "metadata": {},
   "source": [
    "Step 4: Feature Engineering\n"
   ]
  },
  {
   "cell_type": "code",
   "execution_count": 9,
   "metadata": {},
   "outputs": [
    {
     "name": "stderr",
     "output_type": "stream",
     "text": [
      "C:\\Users\\Hesan\\AppData\\Local\\Temp\\ipykernel_11244\\3258875126.py:2: SettingWithCopyWarning: \n",
      "A value is trying to be set on a copy of a slice from a DataFrame.\n",
      "Try using .loc[row_indexer,col_indexer] = value instead\n",
      "\n",
      "See the caveats in the documentation: https://pandas.pydata.org/pandas-docs/stable/user_guide/indexing.html#returning-a-view-versus-a-copy\n",
      "  cleaned_df['profit'] = cleaned_df['revenue'] - cleaned_df['budget']\n",
      "C:\\Users\\Hesan\\AppData\\Local\\Temp\\ipykernel_11244\\3258875126.py:5: SettingWithCopyWarning: \n",
      "A value is trying to be set on a copy of a slice from a DataFrame.\n",
      "Try using .loc[row_indexer,col_indexer] = value instead\n",
      "\n",
      "See the caveats in the documentation: https://pandas.pydata.org/pandas-docs/stable/user_guide/indexing.html#returning-a-view-versus-a-copy\n",
      "  cleaned_df['release_year'] = cleaned_df['release_date'].dt.year\n"
     ]
    }
   ],
   "source": [
    "# Calculating profit for each movie\n",
    "cleaned_df['profit'] = cleaned_df['revenue'] - cleaned_df['budget']\n",
    "\n",
    "# Extracting release year from 'release_date'\n",
    "cleaned_df['release_year'] = cleaned_df['release_date'].dt.year\n"
   ]
  },
  {
   "cell_type": "code",
   "execution_count": 10,
   "metadata": {},
   "outputs": [
    {
     "data": {
      "text/html": [
       "<div>\n",
       "<style scoped>\n",
       "    .dataframe tbody tr th:only-of-type {\n",
       "        vertical-align: middle;\n",
       "    }\n",
       "\n",
       "    .dataframe tbody tr th {\n",
       "        vertical-align: top;\n",
       "    }\n",
       "\n",
       "    .dataframe thead th {\n",
       "        text-align: right;\n",
       "    }\n",
       "</style>\n",
       "<table border=\"1\" class=\"dataframe\">\n",
       "  <thead>\n",
       "    <tr style=\"text-align: right;\">\n",
       "      <th></th>\n",
       "      <th>budget</th>\n",
       "      <th>genres</th>\n",
       "      <th>homepage</th>\n",
       "      <th>id</th>\n",
       "      <th>keywords</th>\n",
       "      <th>original_language</th>\n",
       "      <th>original_title</th>\n",
       "      <th>overview</th>\n",
       "      <th>popularity</th>\n",
       "      <th>production_companies</th>\n",
       "      <th>...</th>\n",
       "      <th>status</th>\n",
       "      <th>tagline</th>\n",
       "      <th>title_x</th>\n",
       "      <th>vote_average</th>\n",
       "      <th>vote_count</th>\n",
       "      <th>title_y</th>\n",
       "      <th>cast</th>\n",
       "      <th>crew</th>\n",
       "      <th>profit</th>\n",
       "      <th>release_year</th>\n",
       "    </tr>\n",
       "  </thead>\n",
       "  <tbody>\n",
       "    <tr>\n",
       "      <th>0</th>\n",
       "      <td>237000000</td>\n",
       "      <td>[{\"id\": 28, \"name\": \"Action\"}, {\"id\": 12, \"nam...</td>\n",
       "      <td>http://www.avatarmovie.com/</td>\n",
       "      <td>19995</td>\n",
       "      <td>[{\"id\": 1463, \"name\": \"culture clash\"}, {\"id\":...</td>\n",
       "      <td>en</td>\n",
       "      <td>Avatar</td>\n",
       "      <td>In the 22nd century, a paraplegic Marine is di...</td>\n",
       "      <td>150.437577</td>\n",
       "      <td>[{\"name\": \"Ingenious Film Partners\", \"id\": 289...</td>\n",
       "      <td>...</td>\n",
       "      <td>Released</td>\n",
       "      <td>Enter the World of Pandora.</td>\n",
       "      <td>Avatar</td>\n",
       "      <td>7.2</td>\n",
       "      <td>11800</td>\n",
       "      <td>Avatar</td>\n",
       "      <td>[{\"cast_id\": 242, \"character\": \"Jake Sully\", \"...</td>\n",
       "      <td>[{\"credit_id\": \"52fe48009251416c750aca23\", \"de...</td>\n",
       "      <td>2550965087</td>\n",
       "      <td>2009</td>\n",
       "    </tr>\n",
       "    <tr>\n",
       "      <th>1</th>\n",
       "      <td>300000000</td>\n",
       "      <td>[{\"id\": 12, \"name\": \"Adventure\"}, {\"id\": 14, \"...</td>\n",
       "      <td>http://disney.go.com/disneypictures/pirates/</td>\n",
       "      <td>285</td>\n",
       "      <td>[{\"id\": 270, \"name\": \"ocean\"}, {\"id\": 726, \"na...</td>\n",
       "      <td>en</td>\n",
       "      <td>Pirates of the Caribbean: At World's End</td>\n",
       "      <td>Captain Barbossa, long believed to be dead, ha...</td>\n",
       "      <td>139.082615</td>\n",
       "      <td>[{\"name\": \"Walt Disney Pictures\", \"id\": 2}, {\"...</td>\n",
       "      <td>...</td>\n",
       "      <td>Released</td>\n",
       "      <td>At the end of the world, the adventure begins.</td>\n",
       "      <td>Pirates of the Caribbean: At World's End</td>\n",
       "      <td>6.9</td>\n",
       "      <td>4500</td>\n",
       "      <td>Pirates of the Caribbean: At World's End</td>\n",
       "      <td>[{\"cast_id\": 4, \"character\": \"Captain Jack Spa...</td>\n",
       "      <td>[{\"credit_id\": \"52fe4232c3a36847f800b579\", \"de...</td>\n",
       "      <td>661000000</td>\n",
       "      <td>2007</td>\n",
       "    </tr>\n",
       "    <tr>\n",
       "      <th>2</th>\n",
       "      <td>245000000</td>\n",
       "      <td>[{\"id\": 28, \"name\": \"Action\"}, {\"id\": 12, \"nam...</td>\n",
       "      <td>http://www.sonypictures.com/movies/spectre/</td>\n",
       "      <td>206647</td>\n",
       "      <td>[{\"id\": 470, \"name\": \"spy\"}, {\"id\": 818, \"name...</td>\n",
       "      <td>en</td>\n",
       "      <td>Spectre</td>\n",
       "      <td>A cryptic message from Bond’s past sends him o...</td>\n",
       "      <td>107.376788</td>\n",
       "      <td>[{\"name\": \"Columbia Pictures\", \"id\": 5}, {\"nam...</td>\n",
       "      <td>...</td>\n",
       "      <td>Released</td>\n",
       "      <td>A Plan No One Escapes</td>\n",
       "      <td>Spectre</td>\n",
       "      <td>6.3</td>\n",
       "      <td>4466</td>\n",
       "      <td>Spectre</td>\n",
       "      <td>[{\"cast_id\": 1, \"character\": \"James Bond\", \"cr...</td>\n",
       "      <td>[{\"credit_id\": \"54805967c3a36829b5002c41\", \"de...</td>\n",
       "      <td>635674609</td>\n",
       "      <td>2015</td>\n",
       "    </tr>\n",
       "    <tr>\n",
       "      <th>3</th>\n",
       "      <td>250000000</td>\n",
       "      <td>[{\"id\": 28, \"name\": \"Action\"}, {\"id\": 80, \"nam...</td>\n",
       "      <td>http://www.thedarkknightrises.com/</td>\n",
       "      <td>49026</td>\n",
       "      <td>[{\"id\": 849, \"name\": \"dc comics\"}, {\"id\": 853,...</td>\n",
       "      <td>en</td>\n",
       "      <td>The Dark Knight Rises</td>\n",
       "      <td>Following the death of District Attorney Harve...</td>\n",
       "      <td>112.312950</td>\n",
       "      <td>[{\"name\": \"Legendary Pictures\", \"id\": 923}, {\"...</td>\n",
       "      <td>...</td>\n",
       "      <td>Released</td>\n",
       "      <td>The Legend Ends</td>\n",
       "      <td>The Dark Knight Rises</td>\n",
       "      <td>7.6</td>\n",
       "      <td>9106</td>\n",
       "      <td>The Dark Knight Rises</td>\n",
       "      <td>[{\"cast_id\": 2, \"character\": \"Bruce Wayne / Ba...</td>\n",
       "      <td>[{\"credit_id\": \"52fe4781c3a36847f81398c3\", \"de...</td>\n",
       "      <td>834939099</td>\n",
       "      <td>2012</td>\n",
       "    </tr>\n",
       "    <tr>\n",
       "      <th>4</th>\n",
       "      <td>260000000</td>\n",
       "      <td>[{\"id\": 28, \"name\": \"Action\"}, {\"id\": 12, \"nam...</td>\n",
       "      <td>http://movies.disney.com/john-carter</td>\n",
       "      <td>49529</td>\n",
       "      <td>[{\"id\": 818, \"name\": \"based on novel\"}, {\"id\":...</td>\n",
       "      <td>en</td>\n",
       "      <td>John Carter</td>\n",
       "      <td>John Carter is a war-weary, former military ca...</td>\n",
       "      <td>43.926995</td>\n",
       "      <td>[{\"name\": \"Walt Disney Pictures\", \"id\": 2}]</td>\n",
       "      <td>...</td>\n",
       "      <td>Released</td>\n",
       "      <td>Lost in our world, found in another.</td>\n",
       "      <td>John Carter</td>\n",
       "      <td>6.1</td>\n",
       "      <td>2124</td>\n",
       "      <td>John Carter</td>\n",
       "      <td>[{\"cast_id\": 5, \"character\": \"John Carter\", \"c...</td>\n",
       "      <td>[{\"credit_id\": \"52fe479ac3a36847f813eaa3\", \"de...</td>\n",
       "      <td>24139100</td>\n",
       "      <td>2012</td>\n",
       "    </tr>\n",
       "    <tr>\n",
       "      <th>...</th>\n",
       "      <td>...</td>\n",
       "      <td>...</td>\n",
       "      <td>...</td>\n",
       "      <td>...</td>\n",
       "      <td>...</td>\n",
       "      <td>...</td>\n",
       "      <td>...</td>\n",
       "      <td>...</td>\n",
       "      <td>...</td>\n",
       "      <td>...</td>\n",
       "      <td>...</td>\n",
       "      <td>...</td>\n",
       "      <td>...</td>\n",
       "      <td>...</td>\n",
       "      <td>...</td>\n",
       "      <td>...</td>\n",
       "      <td>...</td>\n",
       "      <td>...</td>\n",
       "      <td>...</td>\n",
       "      <td>...</td>\n",
       "      <td>...</td>\n",
       "    </tr>\n",
       "    <tr>\n",
       "      <th>4798</th>\n",
       "      <td>220000</td>\n",
       "      <td>[{\"id\": 28, \"name\": \"Action\"}, {\"id\": 80, \"nam...</td>\n",
       "      <td>NaN</td>\n",
       "      <td>9367</td>\n",
       "      <td>[{\"id\": 5616, \"name\": \"united states\\u2013mexi...</td>\n",
       "      <td>es</td>\n",
       "      <td>El Mariachi</td>\n",
       "      <td>El Mariachi just wants to play his guitar and ...</td>\n",
       "      <td>14.269792</td>\n",
       "      <td>[{\"name\": \"Columbia Pictures\", \"id\": 5}]</td>\n",
       "      <td>...</td>\n",
       "      <td>Released</td>\n",
       "      <td>He didn't come looking for trouble, but troubl...</td>\n",
       "      <td>El Mariachi</td>\n",
       "      <td>6.6</td>\n",
       "      <td>238</td>\n",
       "      <td>El Mariachi</td>\n",
       "      <td>[{\"cast_id\": 1, \"character\": \"El Mariachi\", \"c...</td>\n",
       "      <td>[{\"credit_id\": \"52fe44eec3a36847f80b280b\", \"de...</td>\n",
       "      <td>1820920</td>\n",
       "      <td>1992</td>\n",
       "    </tr>\n",
       "    <tr>\n",
       "      <th>4799</th>\n",
       "      <td>9000</td>\n",
       "      <td>[{\"id\": 35, \"name\": \"Comedy\"}, {\"id\": 10749, \"...</td>\n",
       "      <td>NaN</td>\n",
       "      <td>72766</td>\n",
       "      <td>[]</td>\n",
       "      <td>en</td>\n",
       "      <td>Newlyweds</td>\n",
       "      <td>A newlywed couple's honeymoon is upended by th...</td>\n",
       "      <td>0.642552</td>\n",
       "      <td>[]</td>\n",
       "      <td>...</td>\n",
       "      <td>Released</td>\n",
       "      <td>A newlywed couple's honeymoon is upended by th...</td>\n",
       "      <td>Newlyweds</td>\n",
       "      <td>5.9</td>\n",
       "      <td>5</td>\n",
       "      <td>Newlyweds</td>\n",
       "      <td>[{\"cast_id\": 1, \"character\": \"Buzzy\", \"credit_...</td>\n",
       "      <td>[{\"credit_id\": \"52fe487dc3a368484e0fb013\", \"de...</td>\n",
       "      <td>-9000</td>\n",
       "      <td>2011</td>\n",
       "    </tr>\n",
       "    <tr>\n",
       "      <th>4800</th>\n",
       "      <td>0</td>\n",
       "      <td>[{\"id\": 35, \"name\": \"Comedy\"}, {\"id\": 18, \"nam...</td>\n",
       "      <td>http://www.hallmarkchannel.com/signedsealeddel...</td>\n",
       "      <td>231617</td>\n",
       "      <td>[{\"id\": 248, \"name\": \"date\"}, {\"id\": 699, \"nam...</td>\n",
       "      <td>en</td>\n",
       "      <td>Signed, Sealed, Delivered</td>\n",
       "      <td>\"Signed, Sealed, Delivered\" introduces a dedic...</td>\n",
       "      <td>1.444476</td>\n",
       "      <td>[{\"name\": \"Front Street Pictures\", \"id\": 3958}...</td>\n",
       "      <td>...</td>\n",
       "      <td>Released</td>\n",
       "      <td>NaN</td>\n",
       "      <td>Signed, Sealed, Delivered</td>\n",
       "      <td>7.0</td>\n",
       "      <td>6</td>\n",
       "      <td>Signed, Sealed, Delivered</td>\n",
       "      <td>[{\"cast_id\": 8, \"character\": \"Oliver O\\u2019To...</td>\n",
       "      <td>[{\"credit_id\": \"52fe4df3c3a36847f8275ecf\", \"de...</td>\n",
       "      <td>0</td>\n",
       "      <td>2013</td>\n",
       "    </tr>\n",
       "    <tr>\n",
       "      <th>4801</th>\n",
       "      <td>0</td>\n",
       "      <td>[]</td>\n",
       "      <td>http://shanghaicalling.com/</td>\n",
       "      <td>126186</td>\n",
       "      <td>[]</td>\n",
       "      <td>en</td>\n",
       "      <td>Shanghai Calling</td>\n",
       "      <td>When ambitious New York attorney Sam is sent t...</td>\n",
       "      <td>0.857008</td>\n",
       "      <td>[]</td>\n",
       "      <td>...</td>\n",
       "      <td>Released</td>\n",
       "      <td>A New Yorker in Shanghai</td>\n",
       "      <td>Shanghai Calling</td>\n",
       "      <td>5.7</td>\n",
       "      <td>7</td>\n",
       "      <td>Shanghai Calling</td>\n",
       "      <td>[{\"cast_id\": 3, \"character\": \"Sam\", \"credit_id...</td>\n",
       "      <td>[{\"credit_id\": \"52fe4ad9c3a368484e16a36b\", \"de...</td>\n",
       "      <td>0</td>\n",
       "      <td>2012</td>\n",
       "    </tr>\n",
       "    <tr>\n",
       "      <th>4802</th>\n",
       "      <td>0</td>\n",
       "      <td>[{\"id\": 99, \"name\": \"Documentary\"}]</td>\n",
       "      <td>NaN</td>\n",
       "      <td>25975</td>\n",
       "      <td>[{\"id\": 1523, \"name\": \"obsession\"}, {\"id\": 224...</td>\n",
       "      <td>en</td>\n",
       "      <td>My Date with Drew</td>\n",
       "      <td>Ever since the second grade when he first saw ...</td>\n",
       "      <td>1.929883</td>\n",
       "      <td>[{\"name\": \"rusty bear entertainment\", \"id\": 87...</td>\n",
       "      <td>...</td>\n",
       "      <td>Released</td>\n",
       "      <td>NaN</td>\n",
       "      <td>My Date with Drew</td>\n",
       "      <td>6.3</td>\n",
       "      <td>16</td>\n",
       "      <td>My Date with Drew</td>\n",
       "      <td>[{\"cast_id\": 3, \"character\": \"Herself\", \"credi...</td>\n",
       "      <td>[{\"credit_id\": \"58ce021b9251415a390165d9\", \"de...</td>\n",
       "      <td>0</td>\n",
       "      <td>2005</td>\n",
       "    </tr>\n",
       "  </tbody>\n",
       "</table>\n",
       "<p>4799 rows × 25 columns</p>\n",
       "</div>"
      ],
      "text/plain": [
       "         budget                                             genres  \\\n",
       "0     237000000  [{\"id\": 28, \"name\": \"Action\"}, {\"id\": 12, \"nam...   \n",
       "1     300000000  [{\"id\": 12, \"name\": \"Adventure\"}, {\"id\": 14, \"...   \n",
       "2     245000000  [{\"id\": 28, \"name\": \"Action\"}, {\"id\": 12, \"nam...   \n",
       "3     250000000  [{\"id\": 28, \"name\": \"Action\"}, {\"id\": 80, \"nam...   \n",
       "4     260000000  [{\"id\": 28, \"name\": \"Action\"}, {\"id\": 12, \"nam...   \n",
       "...         ...                                                ...   \n",
       "4798     220000  [{\"id\": 28, \"name\": \"Action\"}, {\"id\": 80, \"nam...   \n",
       "4799       9000  [{\"id\": 35, \"name\": \"Comedy\"}, {\"id\": 10749, \"...   \n",
       "4800          0  [{\"id\": 35, \"name\": \"Comedy\"}, {\"id\": 18, \"nam...   \n",
       "4801          0                                                 []   \n",
       "4802          0                [{\"id\": 99, \"name\": \"Documentary\"}]   \n",
       "\n",
       "                                               homepage      id  \\\n",
       "0                           http://www.avatarmovie.com/   19995   \n",
       "1          http://disney.go.com/disneypictures/pirates/     285   \n",
       "2           http://www.sonypictures.com/movies/spectre/  206647   \n",
       "3                    http://www.thedarkknightrises.com/   49026   \n",
       "4                  http://movies.disney.com/john-carter   49529   \n",
       "...                                                 ...     ...   \n",
       "4798                                                NaN    9367   \n",
       "4799                                                NaN   72766   \n",
       "4800  http://www.hallmarkchannel.com/signedsealeddel...  231617   \n",
       "4801                        http://shanghaicalling.com/  126186   \n",
       "4802                                                NaN   25975   \n",
       "\n",
       "                                               keywords original_language  \\\n",
       "0     [{\"id\": 1463, \"name\": \"culture clash\"}, {\"id\":...                en   \n",
       "1     [{\"id\": 270, \"name\": \"ocean\"}, {\"id\": 726, \"na...                en   \n",
       "2     [{\"id\": 470, \"name\": \"spy\"}, {\"id\": 818, \"name...                en   \n",
       "3     [{\"id\": 849, \"name\": \"dc comics\"}, {\"id\": 853,...                en   \n",
       "4     [{\"id\": 818, \"name\": \"based on novel\"}, {\"id\":...                en   \n",
       "...                                                 ...               ...   \n",
       "4798  [{\"id\": 5616, \"name\": \"united states\\u2013mexi...                es   \n",
       "4799                                                 []                en   \n",
       "4800  [{\"id\": 248, \"name\": \"date\"}, {\"id\": 699, \"nam...                en   \n",
       "4801                                                 []                en   \n",
       "4802  [{\"id\": 1523, \"name\": \"obsession\"}, {\"id\": 224...                en   \n",
       "\n",
       "                                original_title  \\\n",
       "0                                       Avatar   \n",
       "1     Pirates of the Caribbean: At World's End   \n",
       "2                                      Spectre   \n",
       "3                        The Dark Knight Rises   \n",
       "4                                  John Carter   \n",
       "...                                        ...   \n",
       "4798                               El Mariachi   \n",
       "4799                                 Newlyweds   \n",
       "4800                 Signed, Sealed, Delivered   \n",
       "4801                          Shanghai Calling   \n",
       "4802                         My Date with Drew   \n",
       "\n",
       "                                               overview  popularity  \\\n",
       "0     In the 22nd century, a paraplegic Marine is di...  150.437577   \n",
       "1     Captain Barbossa, long believed to be dead, ha...  139.082615   \n",
       "2     A cryptic message from Bond’s past sends him o...  107.376788   \n",
       "3     Following the death of District Attorney Harve...  112.312950   \n",
       "4     John Carter is a war-weary, former military ca...   43.926995   \n",
       "...                                                 ...         ...   \n",
       "4798  El Mariachi just wants to play his guitar and ...   14.269792   \n",
       "4799  A newlywed couple's honeymoon is upended by th...    0.642552   \n",
       "4800  \"Signed, Sealed, Delivered\" introduces a dedic...    1.444476   \n",
       "4801  When ambitious New York attorney Sam is sent t...    0.857008   \n",
       "4802  Ever since the second grade when he first saw ...    1.929883   \n",
       "\n",
       "                                   production_companies  ...    status  \\\n",
       "0     [{\"name\": \"Ingenious Film Partners\", \"id\": 289...  ...  Released   \n",
       "1     [{\"name\": \"Walt Disney Pictures\", \"id\": 2}, {\"...  ...  Released   \n",
       "2     [{\"name\": \"Columbia Pictures\", \"id\": 5}, {\"nam...  ...  Released   \n",
       "3     [{\"name\": \"Legendary Pictures\", \"id\": 923}, {\"...  ...  Released   \n",
       "4           [{\"name\": \"Walt Disney Pictures\", \"id\": 2}]  ...  Released   \n",
       "...                                                 ...  ...       ...   \n",
       "4798           [{\"name\": \"Columbia Pictures\", \"id\": 5}]  ...  Released   \n",
       "4799                                                 []  ...  Released   \n",
       "4800  [{\"name\": \"Front Street Pictures\", \"id\": 3958}...  ...  Released   \n",
       "4801                                                 []  ...  Released   \n",
       "4802  [{\"name\": \"rusty bear entertainment\", \"id\": 87...  ...  Released   \n",
       "\n",
       "                                                tagline  \\\n",
       "0                           Enter the World of Pandora.   \n",
       "1        At the end of the world, the adventure begins.   \n",
       "2                                 A Plan No One Escapes   \n",
       "3                                       The Legend Ends   \n",
       "4                  Lost in our world, found in another.   \n",
       "...                                                 ...   \n",
       "4798  He didn't come looking for trouble, but troubl...   \n",
       "4799  A newlywed couple's honeymoon is upended by th...   \n",
       "4800                                                NaN   \n",
       "4801                           A New Yorker in Shanghai   \n",
       "4802                                                NaN   \n",
       "\n",
       "                                       title_x  vote_average vote_count  \\\n",
       "0                                       Avatar           7.2      11800   \n",
       "1     Pirates of the Caribbean: At World's End           6.9       4500   \n",
       "2                                      Spectre           6.3       4466   \n",
       "3                        The Dark Knight Rises           7.6       9106   \n",
       "4                                  John Carter           6.1       2124   \n",
       "...                                        ...           ...        ...   \n",
       "4798                               El Mariachi           6.6        238   \n",
       "4799                                 Newlyweds           5.9          5   \n",
       "4800                 Signed, Sealed, Delivered           7.0          6   \n",
       "4801                          Shanghai Calling           5.7          7   \n",
       "4802                         My Date with Drew           6.3         16   \n",
       "\n",
       "                                       title_y  \\\n",
       "0                                       Avatar   \n",
       "1     Pirates of the Caribbean: At World's End   \n",
       "2                                      Spectre   \n",
       "3                        The Dark Knight Rises   \n",
       "4                                  John Carter   \n",
       "...                                        ...   \n",
       "4798                               El Mariachi   \n",
       "4799                                 Newlyweds   \n",
       "4800                 Signed, Sealed, Delivered   \n",
       "4801                          Shanghai Calling   \n",
       "4802                         My Date with Drew   \n",
       "\n",
       "                                                   cast  \\\n",
       "0     [{\"cast_id\": 242, \"character\": \"Jake Sully\", \"...   \n",
       "1     [{\"cast_id\": 4, \"character\": \"Captain Jack Spa...   \n",
       "2     [{\"cast_id\": 1, \"character\": \"James Bond\", \"cr...   \n",
       "3     [{\"cast_id\": 2, \"character\": \"Bruce Wayne / Ba...   \n",
       "4     [{\"cast_id\": 5, \"character\": \"John Carter\", \"c...   \n",
       "...                                                 ...   \n",
       "4798  [{\"cast_id\": 1, \"character\": \"El Mariachi\", \"c...   \n",
       "4799  [{\"cast_id\": 1, \"character\": \"Buzzy\", \"credit_...   \n",
       "4800  [{\"cast_id\": 8, \"character\": \"Oliver O\\u2019To...   \n",
       "4801  [{\"cast_id\": 3, \"character\": \"Sam\", \"credit_id...   \n",
       "4802  [{\"cast_id\": 3, \"character\": \"Herself\", \"credi...   \n",
       "\n",
       "                                                   crew      profit  \\\n",
       "0     [{\"credit_id\": \"52fe48009251416c750aca23\", \"de...  2550965087   \n",
       "1     [{\"credit_id\": \"52fe4232c3a36847f800b579\", \"de...   661000000   \n",
       "2     [{\"credit_id\": \"54805967c3a36829b5002c41\", \"de...   635674609   \n",
       "3     [{\"credit_id\": \"52fe4781c3a36847f81398c3\", \"de...   834939099   \n",
       "4     [{\"credit_id\": \"52fe479ac3a36847f813eaa3\", \"de...    24139100   \n",
       "...                                                 ...         ...   \n",
       "4798  [{\"credit_id\": \"52fe44eec3a36847f80b280b\", \"de...     1820920   \n",
       "4799  [{\"credit_id\": \"52fe487dc3a368484e0fb013\", \"de...       -9000   \n",
       "4800  [{\"credit_id\": \"52fe4df3c3a36847f8275ecf\", \"de...           0   \n",
       "4801  [{\"credit_id\": \"52fe4ad9c3a368484e16a36b\", \"de...           0   \n",
       "4802  [{\"credit_id\": \"58ce021b9251415a390165d9\", \"de...           0   \n",
       "\n",
       "      release_year  \n",
       "0             2009  \n",
       "1             2007  \n",
       "2             2015  \n",
       "3             2012  \n",
       "4             2012  \n",
       "...            ...  \n",
       "4798          1992  \n",
       "4799          2011  \n",
       "4800          2013  \n",
       "4801          2012  \n",
       "4802          2005  \n",
       "\n",
       "[4799 rows x 25 columns]"
      ]
     },
     "execution_count": 10,
     "metadata": {},
     "output_type": "execute_result"
    }
   ],
   "source": [
    "cleaned_df"
   ]
  },
  {
   "cell_type": "markdown",
   "metadata": {},
   "source": [
    "Attempt at Parsing cast and crew (Requires Refinement)"
   ]
  },
  {
   "cell_type": "code",
   "execution_count": 11,
   "metadata": {},
   "outputs": [
    {
     "name": "stderr",
     "output_type": "stream",
     "text": [
      "C:\\Users\\Hesan\\AppData\\Local\\Temp\\ipykernel_11244\\23707404.py:16: SettingWithCopyWarning: \n",
      "A value is trying to be set on a copy of a slice from a DataFrame.\n",
      "Try using .loc[row_indexer,col_indexer] = value instead\n",
      "\n",
      "See the caveats in the documentation: https://pandas.pydata.org/pandas-docs/stable/user_guide/indexing.html#returning-a-view-versus-a-copy\n",
      "  cleaned_df['cast_size'] = cleaned_df['cast'].apply(lambda x: parse_json_column(x, \"cast_size\"))\n",
      "C:\\Users\\Hesan\\AppData\\Local\\Temp\\ipykernel_11244\\23707404.py:17: SettingWithCopyWarning: \n",
      "A value is trying to be set on a copy of a slice from a DataFrame.\n",
      "Try using .loc[row_indexer,col_indexer] = value instead\n",
      "\n",
      "See the caveats in the documentation: https://pandas.pydata.org/pandas-docs/stable/user_guide/indexing.html#returning-a-view-versus-a-copy\n",
      "  cleaned_df['director'] = cleaned_df['crew'].apply(lambda x: parse_json_column(x, \"director\"))\n"
     ]
    }
   ],
   "source": [
    "import json\n",
    "\n",
    "# Function to parse JSON-like strings (needs debugging for specific dataset issues)\n",
    "def parse_json_column(data, key):\n",
    "    try:\n",
    "        json_data = json.loads(data.replace(\"'\", \"\\\"\"))\n",
    "        if key == \"cast_size\":\n",
    "            return len(json_data)\n",
    "        elif key == \"director\":\n",
    "            directors = [x['name'] for x in json_data if x['job'] == 'Director']\n",
    "            return \", \".join(directors)\n",
    "    except json.JSONDecodeError:\n",
    "        return None\n",
    "\n",
    "# Applying the function (This part needs refinement based on actual data formatting issues)\n",
    "cleaned_df['cast_size'] = cleaned_df['cast'].apply(lambda x: parse_json_column(x, \"cast_size\"))\n",
    "cleaned_df['director'] = cleaned_df['crew'].apply(lambda x: parse_json_column(x, \"director\"))\n"
   ]
  },
  {
   "cell_type": "code",
   "execution_count": 14,
   "metadata": {},
   "outputs": [
    {
     "data": {
      "text/html": [
       "<div>\n",
       "<style scoped>\n",
       "    .dataframe tbody tr th:only-of-type {\n",
       "        vertical-align: middle;\n",
       "    }\n",
       "\n",
       "    .dataframe tbody tr th {\n",
       "        vertical-align: top;\n",
       "    }\n",
       "\n",
       "    .dataframe thead th {\n",
       "        text-align: right;\n",
       "    }\n",
       "</style>\n",
       "<table border=\"1\" class=\"dataframe\">\n",
       "  <thead>\n",
       "    <tr style=\"text-align: right;\">\n",
       "      <th></th>\n",
       "      <th>budget</th>\n",
       "      <th>genres</th>\n",
       "      <th>homepage</th>\n",
       "      <th>id</th>\n",
       "      <th>keywords</th>\n",
       "      <th>original_language</th>\n",
       "      <th>original_title</th>\n",
       "      <th>overview</th>\n",
       "      <th>popularity</th>\n",
       "      <th>production_companies</th>\n",
       "      <th>...</th>\n",
       "      <th>title_x</th>\n",
       "      <th>vote_average</th>\n",
       "      <th>vote_count</th>\n",
       "      <th>title_y</th>\n",
       "      <th>cast</th>\n",
       "      <th>crew</th>\n",
       "      <th>profit</th>\n",
       "      <th>release_year</th>\n",
       "      <th>cast_size</th>\n",
       "      <th>director</th>\n",
       "    </tr>\n",
       "  </thead>\n",
       "  <tbody>\n",
       "    <tr>\n",
       "      <th>0</th>\n",
       "      <td>237000000</td>\n",
       "      <td>[{\"id\": 28, \"name\": \"Action\"}, {\"id\": 12, \"nam...</td>\n",
       "      <td>http://www.avatarmovie.com/</td>\n",
       "      <td>19995</td>\n",
       "      <td>[{\"id\": 1463, \"name\": \"culture clash\"}, {\"id\":...</td>\n",
       "      <td>en</td>\n",
       "      <td>Avatar</td>\n",
       "      <td>In the 22nd century, a paraplegic Marine is di...</td>\n",
       "      <td>150.437577</td>\n",
       "      <td>[{\"name\": \"Ingenious Film Partners\", \"id\": 289...</td>\n",
       "      <td>...</td>\n",
       "      <td>Avatar</td>\n",
       "      <td>7.2</td>\n",
       "      <td>11800</td>\n",
       "      <td>Avatar</td>\n",
       "      <td>[{\"cast_id\": 242, \"character\": \"Jake Sully\", \"...</td>\n",
       "      <td>[{\"credit_id\": \"52fe48009251416c750aca23\", \"de...</td>\n",
       "      <td>2550965087</td>\n",
       "      <td>2009</td>\n",
       "      <td>NaN</td>\n",
       "      <td>None</td>\n",
       "    </tr>\n",
       "    <tr>\n",
       "      <th>1</th>\n",
       "      <td>300000000</td>\n",
       "      <td>[{\"id\": 12, \"name\": \"Adventure\"}, {\"id\": 14, \"...</td>\n",
       "      <td>http://disney.go.com/disneypictures/pirates/</td>\n",
       "      <td>285</td>\n",
       "      <td>[{\"id\": 270, \"name\": \"ocean\"}, {\"id\": 726, \"na...</td>\n",
       "      <td>en</td>\n",
       "      <td>Pirates of the Caribbean: At World's End</td>\n",
       "      <td>Captain Barbossa, long believed to be dead, ha...</td>\n",
       "      <td>139.082615</td>\n",
       "      <td>[{\"name\": \"Walt Disney Pictures\", \"id\": 2}, {\"...</td>\n",
       "      <td>...</td>\n",
       "      <td>Pirates of the Caribbean: At World's End</td>\n",
       "      <td>6.9</td>\n",
       "      <td>4500</td>\n",
       "      <td>Pirates of the Caribbean: At World's End</td>\n",
       "      <td>[{\"cast_id\": 4, \"character\": \"Captain Jack Spa...</td>\n",
       "      <td>[{\"credit_id\": \"52fe4232c3a36847f800b579\", \"de...</td>\n",
       "      <td>661000000</td>\n",
       "      <td>2007</td>\n",
       "      <td>NaN</td>\n",
       "      <td>Gore Verbinski</td>\n",
       "    </tr>\n",
       "    <tr>\n",
       "      <th>2</th>\n",
       "      <td>245000000</td>\n",
       "      <td>[{\"id\": 28, \"name\": \"Action\"}, {\"id\": 12, \"nam...</td>\n",
       "      <td>http://www.sonypictures.com/movies/spectre/</td>\n",
       "      <td>206647</td>\n",
       "      <td>[{\"id\": 470, \"name\": \"spy\"}, {\"id\": 818, \"name...</td>\n",
       "      <td>en</td>\n",
       "      <td>Spectre</td>\n",
       "      <td>A cryptic message from Bond’s past sends him o...</td>\n",
       "      <td>107.376788</td>\n",
       "      <td>[{\"name\": \"Columbia Pictures\", \"id\": 5}, {\"nam...</td>\n",
       "      <td>...</td>\n",
       "      <td>Spectre</td>\n",
       "      <td>6.3</td>\n",
       "      <td>4466</td>\n",
       "      <td>Spectre</td>\n",
       "      <td>[{\"cast_id\": 1, \"character\": \"James Bond\", \"cr...</td>\n",
       "      <td>[{\"credit_id\": \"54805967c3a36829b5002c41\", \"de...</td>\n",
       "      <td>635674609</td>\n",
       "      <td>2015</td>\n",
       "      <td>NaN</td>\n",
       "      <td>None</td>\n",
       "    </tr>\n",
       "    <tr>\n",
       "      <th>3</th>\n",
       "      <td>250000000</td>\n",
       "      <td>[{\"id\": 28, \"name\": \"Action\"}, {\"id\": 80, \"nam...</td>\n",
       "      <td>http://www.thedarkknightrises.com/</td>\n",
       "      <td>49026</td>\n",
       "      <td>[{\"id\": 849, \"name\": \"dc comics\"}, {\"id\": 853,...</td>\n",
       "      <td>en</td>\n",
       "      <td>The Dark Knight Rises</td>\n",
       "      <td>Following the death of District Attorney Harve...</td>\n",
       "      <td>112.312950</td>\n",
       "      <td>[{\"name\": \"Legendary Pictures\", \"id\": 923}, {\"...</td>\n",
       "      <td>...</td>\n",
       "      <td>The Dark Knight Rises</td>\n",
       "      <td>7.6</td>\n",
       "      <td>9106</td>\n",
       "      <td>The Dark Knight Rises</td>\n",
       "      <td>[{\"cast_id\": 2, \"character\": \"Bruce Wayne / Ba...</td>\n",
       "      <td>[{\"credit_id\": \"52fe4781c3a36847f81398c3\", \"de...</td>\n",
       "      <td>834939099</td>\n",
       "      <td>2012</td>\n",
       "      <td>NaN</td>\n",
       "      <td>None</td>\n",
       "    </tr>\n",
       "    <tr>\n",
       "      <th>4</th>\n",
       "      <td>260000000</td>\n",
       "      <td>[{\"id\": 28, \"name\": \"Action\"}, {\"id\": 12, \"nam...</td>\n",
       "      <td>http://movies.disney.com/john-carter</td>\n",
       "      <td>49529</td>\n",
       "      <td>[{\"id\": 818, \"name\": \"based on novel\"}, {\"id\":...</td>\n",
       "      <td>en</td>\n",
       "      <td>John Carter</td>\n",
       "      <td>John Carter is a war-weary, former military ca...</td>\n",
       "      <td>43.926995</td>\n",
       "      <td>[{\"name\": \"Walt Disney Pictures\", \"id\": 2}]</td>\n",
       "      <td>...</td>\n",
       "      <td>John Carter</td>\n",
       "      <td>6.1</td>\n",
       "      <td>2124</td>\n",
       "      <td>John Carter</td>\n",
       "      <td>[{\"cast_id\": 5, \"character\": \"John Carter\", \"c...</td>\n",
       "      <td>[{\"credit_id\": \"52fe479ac3a36847f813eaa3\", \"de...</td>\n",
       "      <td>24139100</td>\n",
       "      <td>2012</td>\n",
       "      <td>27.0</td>\n",
       "      <td>Andrew Stanton</td>\n",
       "    </tr>\n",
       "    <tr>\n",
       "      <th>...</th>\n",
       "      <td>...</td>\n",
       "      <td>...</td>\n",
       "      <td>...</td>\n",
       "      <td>...</td>\n",
       "      <td>...</td>\n",
       "      <td>...</td>\n",
       "      <td>...</td>\n",
       "      <td>...</td>\n",
       "      <td>...</td>\n",
       "      <td>...</td>\n",
       "      <td>...</td>\n",
       "      <td>...</td>\n",
       "      <td>...</td>\n",
       "      <td>...</td>\n",
       "      <td>...</td>\n",
       "      <td>...</td>\n",
       "      <td>...</td>\n",
       "      <td>...</td>\n",
       "      <td>...</td>\n",
       "      <td>...</td>\n",
       "      <td>...</td>\n",
       "    </tr>\n",
       "    <tr>\n",
       "      <th>4798</th>\n",
       "      <td>220000</td>\n",
       "      <td>[{\"id\": 28, \"name\": \"Action\"}, {\"id\": 80, \"nam...</td>\n",
       "      <td>NaN</td>\n",
       "      <td>9367</td>\n",
       "      <td>[{\"id\": 5616, \"name\": \"united states\\u2013mexi...</td>\n",
       "      <td>es</td>\n",
       "      <td>El Mariachi</td>\n",
       "      <td>El Mariachi just wants to play his guitar and ...</td>\n",
       "      <td>14.269792</td>\n",
       "      <td>[{\"name\": \"Columbia Pictures\", \"id\": 5}]</td>\n",
       "      <td>...</td>\n",
       "      <td>El Mariachi</td>\n",
       "      <td>6.6</td>\n",
       "      <td>238</td>\n",
       "      <td>El Mariachi</td>\n",
       "      <td>[{\"cast_id\": 1, \"character\": \"El Mariachi\", \"c...</td>\n",
       "      <td>[{\"credit_id\": \"52fe44eec3a36847f80b280b\", \"de...</td>\n",
       "      <td>1820920</td>\n",
       "      <td>1992</td>\n",
       "      <td>NaN</td>\n",
       "      <td>Robert Rodriguez</td>\n",
       "    </tr>\n",
       "    <tr>\n",
       "      <th>4799</th>\n",
       "      <td>9000</td>\n",
       "      <td>[{\"id\": 35, \"name\": \"Comedy\"}, {\"id\": 10749, \"...</td>\n",
       "      <td>NaN</td>\n",
       "      <td>72766</td>\n",
       "      <td>[]</td>\n",
       "      <td>en</td>\n",
       "      <td>Newlyweds</td>\n",
       "      <td>A newlywed couple's honeymoon is upended by th...</td>\n",
       "      <td>0.642552</td>\n",
       "      <td>[]</td>\n",
       "      <td>...</td>\n",
       "      <td>Newlyweds</td>\n",
       "      <td>5.9</td>\n",
       "      <td>5</td>\n",
       "      <td>Newlyweds</td>\n",
       "      <td>[{\"cast_id\": 1, \"character\": \"Buzzy\", \"credit_...</td>\n",
       "      <td>[{\"credit_id\": \"52fe487dc3a368484e0fb013\", \"de...</td>\n",
       "      <td>-9000</td>\n",
       "      <td>2011</td>\n",
       "      <td>5.0</td>\n",
       "      <td>Edward Burns</td>\n",
       "    </tr>\n",
       "    <tr>\n",
       "      <th>4800</th>\n",
       "      <td>0</td>\n",
       "      <td>[{\"id\": 35, \"name\": \"Comedy\"}, {\"id\": 18, \"nam...</td>\n",
       "      <td>http://www.hallmarkchannel.com/signedsealeddel...</td>\n",
       "      <td>231617</td>\n",
       "      <td>[{\"id\": 248, \"name\": \"date\"}, {\"id\": 699, \"nam...</td>\n",
       "      <td>en</td>\n",
       "      <td>Signed, Sealed, Delivered</td>\n",
       "      <td>\"Signed, Sealed, Delivered\" introduces a dedic...</td>\n",
       "      <td>1.444476</td>\n",
       "      <td>[{\"name\": \"Front Street Pictures\", \"id\": 3958}...</td>\n",
       "      <td>...</td>\n",
       "      <td>Signed, Sealed, Delivered</td>\n",
       "      <td>7.0</td>\n",
       "      <td>6</td>\n",
       "      <td>Signed, Sealed, Delivered</td>\n",
       "      <td>[{\"cast_id\": 8, \"character\": \"Oliver O\\u2019To...</td>\n",
       "      <td>[{\"credit_id\": \"52fe4df3c3a36847f8275ecf\", \"de...</td>\n",
       "      <td>0</td>\n",
       "      <td>2013</td>\n",
       "      <td>7.0</td>\n",
       "      <td>Scott Smith</td>\n",
       "    </tr>\n",
       "    <tr>\n",
       "      <th>4801</th>\n",
       "      <td>0</td>\n",
       "      <td>[]</td>\n",
       "      <td>http://shanghaicalling.com/</td>\n",
       "      <td>126186</td>\n",
       "      <td>[]</td>\n",
       "      <td>en</td>\n",
       "      <td>Shanghai Calling</td>\n",
       "      <td>When ambitious New York attorney Sam is sent t...</td>\n",
       "      <td>0.857008</td>\n",
       "      <td>[]</td>\n",
       "      <td>...</td>\n",
       "      <td>Shanghai Calling</td>\n",
       "      <td>5.7</td>\n",
       "      <td>7</td>\n",
       "      <td>Shanghai Calling</td>\n",
       "      <td>[{\"cast_id\": 3, \"character\": \"Sam\", \"credit_id...</td>\n",
       "      <td>[{\"credit_id\": \"52fe4ad9c3a368484e16a36b\", \"de...</td>\n",
       "      <td>0</td>\n",
       "      <td>2012</td>\n",
       "      <td>5.0</td>\n",
       "      <td>Daniel Hsia</td>\n",
       "    </tr>\n",
       "    <tr>\n",
       "      <th>4802</th>\n",
       "      <td>0</td>\n",
       "      <td>[{\"id\": 99, \"name\": \"Documentary\"}]</td>\n",
       "      <td>NaN</td>\n",
       "      <td>25975</td>\n",
       "      <td>[{\"id\": 1523, \"name\": \"obsession\"}, {\"id\": 224...</td>\n",
       "      <td>en</td>\n",
       "      <td>My Date with Drew</td>\n",
       "      <td>Ever since the second grade when he first saw ...</td>\n",
       "      <td>1.929883</td>\n",
       "      <td>[{\"name\": \"rusty bear entertainment\", \"id\": 87...</td>\n",
       "      <td>...</td>\n",
       "      <td>My Date with Drew</td>\n",
       "      <td>6.3</td>\n",
       "      <td>16</td>\n",
       "      <td>My Date with Drew</td>\n",
       "      <td>[{\"cast_id\": 3, \"character\": \"Herself\", \"credi...</td>\n",
       "      <td>[{\"credit_id\": \"58ce021b9251415a390165d9\", \"de...</td>\n",
       "      <td>0</td>\n",
       "      <td>2005</td>\n",
       "      <td>NaN</td>\n",
       "      <td>Brian Herzlinger, Jon Gunn, Brett Winn</td>\n",
       "    </tr>\n",
       "  </tbody>\n",
       "</table>\n",
       "<p>4799 rows × 27 columns</p>\n",
       "</div>"
      ],
      "text/plain": [
       "         budget                                             genres  \\\n",
       "0     237000000  [{\"id\": 28, \"name\": \"Action\"}, {\"id\": 12, \"nam...   \n",
       "1     300000000  [{\"id\": 12, \"name\": \"Adventure\"}, {\"id\": 14, \"...   \n",
       "2     245000000  [{\"id\": 28, \"name\": \"Action\"}, {\"id\": 12, \"nam...   \n",
       "3     250000000  [{\"id\": 28, \"name\": \"Action\"}, {\"id\": 80, \"nam...   \n",
       "4     260000000  [{\"id\": 28, \"name\": \"Action\"}, {\"id\": 12, \"nam...   \n",
       "...         ...                                                ...   \n",
       "4798     220000  [{\"id\": 28, \"name\": \"Action\"}, {\"id\": 80, \"nam...   \n",
       "4799       9000  [{\"id\": 35, \"name\": \"Comedy\"}, {\"id\": 10749, \"...   \n",
       "4800          0  [{\"id\": 35, \"name\": \"Comedy\"}, {\"id\": 18, \"nam...   \n",
       "4801          0                                                 []   \n",
       "4802          0                [{\"id\": 99, \"name\": \"Documentary\"}]   \n",
       "\n",
       "                                               homepage      id  \\\n",
       "0                           http://www.avatarmovie.com/   19995   \n",
       "1          http://disney.go.com/disneypictures/pirates/     285   \n",
       "2           http://www.sonypictures.com/movies/spectre/  206647   \n",
       "3                    http://www.thedarkknightrises.com/   49026   \n",
       "4                  http://movies.disney.com/john-carter   49529   \n",
       "...                                                 ...     ...   \n",
       "4798                                                NaN    9367   \n",
       "4799                                                NaN   72766   \n",
       "4800  http://www.hallmarkchannel.com/signedsealeddel...  231617   \n",
       "4801                        http://shanghaicalling.com/  126186   \n",
       "4802                                                NaN   25975   \n",
       "\n",
       "                                               keywords original_language  \\\n",
       "0     [{\"id\": 1463, \"name\": \"culture clash\"}, {\"id\":...                en   \n",
       "1     [{\"id\": 270, \"name\": \"ocean\"}, {\"id\": 726, \"na...                en   \n",
       "2     [{\"id\": 470, \"name\": \"spy\"}, {\"id\": 818, \"name...                en   \n",
       "3     [{\"id\": 849, \"name\": \"dc comics\"}, {\"id\": 853,...                en   \n",
       "4     [{\"id\": 818, \"name\": \"based on novel\"}, {\"id\":...                en   \n",
       "...                                                 ...               ...   \n",
       "4798  [{\"id\": 5616, \"name\": \"united states\\u2013mexi...                es   \n",
       "4799                                                 []                en   \n",
       "4800  [{\"id\": 248, \"name\": \"date\"}, {\"id\": 699, \"nam...                en   \n",
       "4801                                                 []                en   \n",
       "4802  [{\"id\": 1523, \"name\": \"obsession\"}, {\"id\": 224...                en   \n",
       "\n",
       "                                original_title  \\\n",
       "0                                       Avatar   \n",
       "1     Pirates of the Caribbean: At World's End   \n",
       "2                                      Spectre   \n",
       "3                        The Dark Knight Rises   \n",
       "4                                  John Carter   \n",
       "...                                        ...   \n",
       "4798                               El Mariachi   \n",
       "4799                                 Newlyweds   \n",
       "4800                 Signed, Sealed, Delivered   \n",
       "4801                          Shanghai Calling   \n",
       "4802                         My Date with Drew   \n",
       "\n",
       "                                               overview  popularity  \\\n",
       "0     In the 22nd century, a paraplegic Marine is di...  150.437577   \n",
       "1     Captain Barbossa, long believed to be dead, ha...  139.082615   \n",
       "2     A cryptic message from Bond’s past sends him o...  107.376788   \n",
       "3     Following the death of District Attorney Harve...  112.312950   \n",
       "4     John Carter is a war-weary, former military ca...   43.926995   \n",
       "...                                                 ...         ...   \n",
       "4798  El Mariachi just wants to play his guitar and ...   14.269792   \n",
       "4799  A newlywed couple's honeymoon is upended by th...    0.642552   \n",
       "4800  \"Signed, Sealed, Delivered\" introduces a dedic...    1.444476   \n",
       "4801  When ambitious New York attorney Sam is sent t...    0.857008   \n",
       "4802  Ever since the second grade when he first saw ...    1.929883   \n",
       "\n",
       "                                   production_companies  ...  \\\n",
       "0     [{\"name\": \"Ingenious Film Partners\", \"id\": 289...  ...   \n",
       "1     [{\"name\": \"Walt Disney Pictures\", \"id\": 2}, {\"...  ...   \n",
       "2     [{\"name\": \"Columbia Pictures\", \"id\": 5}, {\"nam...  ...   \n",
       "3     [{\"name\": \"Legendary Pictures\", \"id\": 923}, {\"...  ...   \n",
       "4           [{\"name\": \"Walt Disney Pictures\", \"id\": 2}]  ...   \n",
       "...                                                 ...  ...   \n",
       "4798           [{\"name\": \"Columbia Pictures\", \"id\": 5}]  ...   \n",
       "4799                                                 []  ...   \n",
       "4800  [{\"name\": \"Front Street Pictures\", \"id\": 3958}...  ...   \n",
       "4801                                                 []  ...   \n",
       "4802  [{\"name\": \"rusty bear entertainment\", \"id\": 87...  ...   \n",
       "\n",
       "                                       title_x vote_average  vote_count  \\\n",
       "0                                       Avatar          7.2       11800   \n",
       "1     Pirates of the Caribbean: At World's End          6.9        4500   \n",
       "2                                      Spectre          6.3        4466   \n",
       "3                        The Dark Knight Rises          7.6        9106   \n",
       "4                                  John Carter          6.1        2124   \n",
       "...                                        ...          ...         ...   \n",
       "4798                               El Mariachi          6.6         238   \n",
       "4799                                 Newlyweds          5.9           5   \n",
       "4800                 Signed, Sealed, Delivered          7.0           6   \n",
       "4801                          Shanghai Calling          5.7           7   \n",
       "4802                         My Date with Drew          6.3          16   \n",
       "\n",
       "                                       title_y  \\\n",
       "0                                       Avatar   \n",
       "1     Pirates of the Caribbean: At World's End   \n",
       "2                                      Spectre   \n",
       "3                        The Dark Knight Rises   \n",
       "4                                  John Carter   \n",
       "...                                        ...   \n",
       "4798                               El Mariachi   \n",
       "4799                                 Newlyweds   \n",
       "4800                 Signed, Sealed, Delivered   \n",
       "4801                          Shanghai Calling   \n",
       "4802                         My Date with Drew   \n",
       "\n",
       "                                                   cast  \\\n",
       "0     [{\"cast_id\": 242, \"character\": \"Jake Sully\", \"...   \n",
       "1     [{\"cast_id\": 4, \"character\": \"Captain Jack Spa...   \n",
       "2     [{\"cast_id\": 1, \"character\": \"James Bond\", \"cr...   \n",
       "3     [{\"cast_id\": 2, \"character\": \"Bruce Wayne / Ba...   \n",
       "4     [{\"cast_id\": 5, \"character\": \"John Carter\", \"c...   \n",
       "...                                                 ...   \n",
       "4798  [{\"cast_id\": 1, \"character\": \"El Mariachi\", \"c...   \n",
       "4799  [{\"cast_id\": 1, \"character\": \"Buzzy\", \"credit_...   \n",
       "4800  [{\"cast_id\": 8, \"character\": \"Oliver O\\u2019To...   \n",
       "4801  [{\"cast_id\": 3, \"character\": \"Sam\", \"credit_id...   \n",
       "4802  [{\"cast_id\": 3, \"character\": \"Herself\", \"credi...   \n",
       "\n",
       "                                                   crew      profit  \\\n",
       "0     [{\"credit_id\": \"52fe48009251416c750aca23\", \"de...  2550965087   \n",
       "1     [{\"credit_id\": \"52fe4232c3a36847f800b579\", \"de...   661000000   \n",
       "2     [{\"credit_id\": \"54805967c3a36829b5002c41\", \"de...   635674609   \n",
       "3     [{\"credit_id\": \"52fe4781c3a36847f81398c3\", \"de...   834939099   \n",
       "4     [{\"credit_id\": \"52fe479ac3a36847f813eaa3\", \"de...    24139100   \n",
       "...                                                 ...         ...   \n",
       "4798  [{\"credit_id\": \"52fe44eec3a36847f80b280b\", \"de...     1820920   \n",
       "4799  [{\"credit_id\": \"52fe487dc3a368484e0fb013\", \"de...       -9000   \n",
       "4800  [{\"credit_id\": \"52fe4df3c3a36847f8275ecf\", \"de...           0   \n",
       "4801  [{\"credit_id\": \"52fe4ad9c3a368484e16a36b\", \"de...           0   \n",
       "4802  [{\"credit_id\": \"58ce021b9251415a390165d9\", \"de...           0   \n",
       "\n",
       "     release_year  cast_size                                director  \n",
       "0            2009        NaN                                    None  \n",
       "1            2007        NaN                          Gore Verbinski  \n",
       "2            2015        NaN                                    None  \n",
       "3            2012        NaN                                    None  \n",
       "4            2012       27.0                          Andrew Stanton  \n",
       "...           ...        ...                                     ...  \n",
       "4798         1992        NaN                        Robert Rodriguez  \n",
       "4799         2011        5.0                            Edward Burns  \n",
       "4800         2013        7.0                             Scott Smith  \n",
       "4801         2012        5.0                             Daniel Hsia  \n",
       "4802         2005        NaN  Brian Herzlinger, Jon Gunn, Brett Winn  \n",
       "\n",
       "[4799 rows x 27 columns]"
      ]
     },
     "execution_count": 14,
     "metadata": {},
     "output_type": "execute_result"
    }
   ],
   "source": [
    "cleaned_df"
   ]
  },
  {
   "cell_type": "code",
   "execution_count": 16,
   "metadata": {},
   "outputs": [],
   "source": [
    "# Importing Libraries\n",
    "import numpy as np\n",
    "import pandas as pd\n",
    "import matplotlib.pyplot as plt\n",
    "import seaborn as sns\n",
    "import datetime\n",
    "import plotly.express as px\n",
    "import plotly.graph_objects as go\n",
    "import ast \n",
    "from collections import Counter\n",
    "import nltk\n",
    "import wordcloud\n",
    "from wordcloud import WordCloud"
   ]
  },
  {
   "cell_type": "code",
   "execution_count": 19,
   "metadata": {},
   "outputs": [],
   "source": [
    "#Dropping unncessary columns\n",
    "movies1=cleaned_df.drop(columns=['homepage','tagline','id','overview','status','original_title'])"
   ]
  },
  {
   "cell_type": "code",
   "execution_count": 20,
   "metadata": {},
   "outputs": [
    {
     "data": {
      "text/html": [
       "<div>\n",
       "<style scoped>\n",
       "    .dataframe tbody tr th:only-of-type {\n",
       "        vertical-align: middle;\n",
       "    }\n",
       "\n",
       "    .dataframe tbody tr th {\n",
       "        vertical-align: top;\n",
       "    }\n",
       "\n",
       "    .dataframe thead th {\n",
       "        text-align: right;\n",
       "    }\n",
       "</style>\n",
       "<table border=\"1\" class=\"dataframe\">\n",
       "  <thead>\n",
       "    <tr style=\"text-align: right;\">\n",
       "      <th></th>\n",
       "      <th>budget</th>\n",
       "      <th>genres</th>\n",
       "      <th>keywords</th>\n",
       "      <th>original_language</th>\n",
       "      <th>popularity</th>\n",
       "      <th>production_companies</th>\n",
       "      <th>production_countries</th>\n",
       "      <th>release_date</th>\n",
       "      <th>revenue</th>\n",
       "      <th>runtime</th>\n",
       "      <th>...</th>\n",
       "      <th>title_x</th>\n",
       "      <th>vote_average</th>\n",
       "      <th>vote_count</th>\n",
       "      <th>title_y</th>\n",
       "      <th>cast</th>\n",
       "      <th>crew</th>\n",
       "      <th>profit</th>\n",
       "      <th>release_year</th>\n",
       "      <th>cast_size</th>\n",
       "      <th>director</th>\n",
       "    </tr>\n",
       "  </thead>\n",
       "  <tbody>\n",
       "    <tr>\n",
       "      <th>0</th>\n",
       "      <td>237000000</td>\n",
       "      <td>[{\"id\": 28, \"name\": \"Action\"}, {\"id\": 12, \"nam...</td>\n",
       "      <td>[{\"id\": 1463, \"name\": \"culture clash\"}, {\"id\":...</td>\n",
       "      <td>en</td>\n",
       "      <td>150.437577</td>\n",
       "      <td>[{\"name\": \"Ingenious Film Partners\", \"id\": 289...</td>\n",
       "      <td>[{\"iso_3166_1\": \"US\", \"name\": \"United States o...</td>\n",
       "      <td>2009-12-10</td>\n",
       "      <td>2787965087</td>\n",
       "      <td>162.0</td>\n",
       "      <td>...</td>\n",
       "      <td>Avatar</td>\n",
       "      <td>7.2</td>\n",
       "      <td>11800</td>\n",
       "      <td>Avatar</td>\n",
       "      <td>[{\"cast_id\": 242, \"character\": \"Jake Sully\", \"...</td>\n",
       "      <td>[{\"credit_id\": \"52fe48009251416c750aca23\", \"de...</td>\n",
       "      <td>2550965087</td>\n",
       "      <td>2009</td>\n",
       "      <td>NaN</td>\n",
       "      <td>None</td>\n",
       "    </tr>\n",
       "    <tr>\n",
       "      <th>1</th>\n",
       "      <td>300000000</td>\n",
       "      <td>[{\"id\": 12, \"name\": \"Adventure\"}, {\"id\": 14, \"...</td>\n",
       "      <td>[{\"id\": 270, \"name\": \"ocean\"}, {\"id\": 726, \"na...</td>\n",
       "      <td>en</td>\n",
       "      <td>139.082615</td>\n",
       "      <td>[{\"name\": \"Walt Disney Pictures\", \"id\": 2}, {\"...</td>\n",
       "      <td>[{\"iso_3166_1\": \"US\", \"name\": \"United States o...</td>\n",
       "      <td>2007-05-19</td>\n",
       "      <td>961000000</td>\n",
       "      <td>169.0</td>\n",
       "      <td>...</td>\n",
       "      <td>Pirates of the Caribbean: At World's End</td>\n",
       "      <td>6.9</td>\n",
       "      <td>4500</td>\n",
       "      <td>Pirates of the Caribbean: At World's End</td>\n",
       "      <td>[{\"cast_id\": 4, \"character\": \"Captain Jack Spa...</td>\n",
       "      <td>[{\"credit_id\": \"52fe4232c3a36847f800b579\", \"de...</td>\n",
       "      <td>661000000</td>\n",
       "      <td>2007</td>\n",
       "      <td>NaN</td>\n",
       "      <td>Gore Verbinski</td>\n",
       "    </tr>\n",
       "    <tr>\n",
       "      <th>2</th>\n",
       "      <td>245000000</td>\n",
       "      <td>[{\"id\": 28, \"name\": \"Action\"}, {\"id\": 12, \"nam...</td>\n",
       "      <td>[{\"id\": 470, \"name\": \"spy\"}, {\"id\": 818, \"name...</td>\n",
       "      <td>en</td>\n",
       "      <td>107.376788</td>\n",
       "      <td>[{\"name\": \"Columbia Pictures\", \"id\": 5}, {\"nam...</td>\n",
       "      <td>[{\"iso_3166_1\": \"GB\", \"name\": \"United Kingdom\"...</td>\n",
       "      <td>2015-10-26</td>\n",
       "      <td>880674609</td>\n",
       "      <td>148.0</td>\n",
       "      <td>...</td>\n",
       "      <td>Spectre</td>\n",
       "      <td>6.3</td>\n",
       "      <td>4466</td>\n",
       "      <td>Spectre</td>\n",
       "      <td>[{\"cast_id\": 1, \"character\": \"James Bond\", \"cr...</td>\n",
       "      <td>[{\"credit_id\": \"54805967c3a36829b5002c41\", \"de...</td>\n",
       "      <td>635674609</td>\n",
       "      <td>2015</td>\n",
       "      <td>NaN</td>\n",
       "      <td>None</td>\n",
       "    </tr>\n",
       "    <tr>\n",
       "      <th>3</th>\n",
       "      <td>250000000</td>\n",
       "      <td>[{\"id\": 28, \"name\": \"Action\"}, {\"id\": 80, \"nam...</td>\n",
       "      <td>[{\"id\": 849, \"name\": \"dc comics\"}, {\"id\": 853,...</td>\n",
       "      <td>en</td>\n",
       "      <td>112.312950</td>\n",
       "      <td>[{\"name\": \"Legendary Pictures\", \"id\": 923}, {\"...</td>\n",
       "      <td>[{\"iso_3166_1\": \"US\", \"name\": \"United States o...</td>\n",
       "      <td>2012-07-16</td>\n",
       "      <td>1084939099</td>\n",
       "      <td>165.0</td>\n",
       "      <td>...</td>\n",
       "      <td>The Dark Knight Rises</td>\n",
       "      <td>7.6</td>\n",
       "      <td>9106</td>\n",
       "      <td>The Dark Knight Rises</td>\n",
       "      <td>[{\"cast_id\": 2, \"character\": \"Bruce Wayne / Ba...</td>\n",
       "      <td>[{\"credit_id\": \"52fe4781c3a36847f81398c3\", \"de...</td>\n",
       "      <td>834939099</td>\n",
       "      <td>2012</td>\n",
       "      <td>NaN</td>\n",
       "      <td>None</td>\n",
       "    </tr>\n",
       "    <tr>\n",
       "      <th>4</th>\n",
       "      <td>260000000</td>\n",
       "      <td>[{\"id\": 28, \"name\": \"Action\"}, {\"id\": 12, \"nam...</td>\n",
       "      <td>[{\"id\": 818, \"name\": \"based on novel\"}, {\"id\":...</td>\n",
       "      <td>en</td>\n",
       "      <td>43.926995</td>\n",
       "      <td>[{\"name\": \"Walt Disney Pictures\", \"id\": 2}]</td>\n",
       "      <td>[{\"iso_3166_1\": \"US\", \"name\": \"United States o...</td>\n",
       "      <td>2012-03-07</td>\n",
       "      <td>284139100</td>\n",
       "      <td>132.0</td>\n",
       "      <td>...</td>\n",
       "      <td>John Carter</td>\n",
       "      <td>6.1</td>\n",
       "      <td>2124</td>\n",
       "      <td>John Carter</td>\n",
       "      <td>[{\"cast_id\": 5, \"character\": \"John Carter\", \"c...</td>\n",
       "      <td>[{\"credit_id\": \"52fe479ac3a36847f813eaa3\", \"de...</td>\n",
       "      <td>24139100</td>\n",
       "      <td>2012</td>\n",
       "      <td>27.0</td>\n",
       "      <td>Andrew Stanton</td>\n",
       "    </tr>\n",
       "    <tr>\n",
       "      <th>...</th>\n",
       "      <td>...</td>\n",
       "      <td>...</td>\n",
       "      <td>...</td>\n",
       "      <td>...</td>\n",
       "      <td>...</td>\n",
       "      <td>...</td>\n",
       "      <td>...</td>\n",
       "      <td>...</td>\n",
       "      <td>...</td>\n",
       "      <td>...</td>\n",
       "      <td>...</td>\n",
       "      <td>...</td>\n",
       "      <td>...</td>\n",
       "      <td>...</td>\n",
       "      <td>...</td>\n",
       "      <td>...</td>\n",
       "      <td>...</td>\n",
       "      <td>...</td>\n",
       "      <td>...</td>\n",
       "      <td>...</td>\n",
       "      <td>...</td>\n",
       "    </tr>\n",
       "    <tr>\n",
       "      <th>4798</th>\n",
       "      <td>220000</td>\n",
       "      <td>[{\"id\": 28, \"name\": \"Action\"}, {\"id\": 80, \"nam...</td>\n",
       "      <td>[{\"id\": 5616, \"name\": \"united states\\u2013mexi...</td>\n",
       "      <td>es</td>\n",
       "      <td>14.269792</td>\n",
       "      <td>[{\"name\": \"Columbia Pictures\", \"id\": 5}]</td>\n",
       "      <td>[{\"iso_3166_1\": \"MX\", \"name\": \"Mexico\"}, {\"iso...</td>\n",
       "      <td>1992-09-04</td>\n",
       "      <td>2040920</td>\n",
       "      <td>81.0</td>\n",
       "      <td>...</td>\n",
       "      <td>El Mariachi</td>\n",
       "      <td>6.6</td>\n",
       "      <td>238</td>\n",
       "      <td>El Mariachi</td>\n",
       "      <td>[{\"cast_id\": 1, \"character\": \"El Mariachi\", \"c...</td>\n",
       "      <td>[{\"credit_id\": \"52fe44eec3a36847f80b280b\", \"de...</td>\n",
       "      <td>1820920</td>\n",
       "      <td>1992</td>\n",
       "      <td>NaN</td>\n",
       "      <td>Robert Rodriguez</td>\n",
       "    </tr>\n",
       "    <tr>\n",
       "      <th>4799</th>\n",
       "      <td>9000</td>\n",
       "      <td>[{\"id\": 35, \"name\": \"Comedy\"}, {\"id\": 10749, \"...</td>\n",
       "      <td>[]</td>\n",
       "      <td>en</td>\n",
       "      <td>0.642552</td>\n",
       "      <td>[]</td>\n",
       "      <td>[]</td>\n",
       "      <td>2011-12-26</td>\n",
       "      <td>0</td>\n",
       "      <td>85.0</td>\n",
       "      <td>...</td>\n",
       "      <td>Newlyweds</td>\n",
       "      <td>5.9</td>\n",
       "      <td>5</td>\n",
       "      <td>Newlyweds</td>\n",
       "      <td>[{\"cast_id\": 1, \"character\": \"Buzzy\", \"credit_...</td>\n",
       "      <td>[{\"credit_id\": \"52fe487dc3a368484e0fb013\", \"de...</td>\n",
       "      <td>-9000</td>\n",
       "      <td>2011</td>\n",
       "      <td>5.0</td>\n",
       "      <td>Edward Burns</td>\n",
       "    </tr>\n",
       "    <tr>\n",
       "      <th>4800</th>\n",
       "      <td>0</td>\n",
       "      <td>[{\"id\": 35, \"name\": \"Comedy\"}, {\"id\": 18, \"nam...</td>\n",
       "      <td>[{\"id\": 248, \"name\": \"date\"}, {\"id\": 699, \"nam...</td>\n",
       "      <td>en</td>\n",
       "      <td>1.444476</td>\n",
       "      <td>[{\"name\": \"Front Street Pictures\", \"id\": 3958}...</td>\n",
       "      <td>[{\"iso_3166_1\": \"US\", \"name\": \"United States o...</td>\n",
       "      <td>2013-10-13</td>\n",
       "      <td>0</td>\n",
       "      <td>120.0</td>\n",
       "      <td>...</td>\n",
       "      <td>Signed, Sealed, Delivered</td>\n",
       "      <td>7.0</td>\n",
       "      <td>6</td>\n",
       "      <td>Signed, Sealed, Delivered</td>\n",
       "      <td>[{\"cast_id\": 8, \"character\": \"Oliver O\\u2019To...</td>\n",
       "      <td>[{\"credit_id\": \"52fe4df3c3a36847f8275ecf\", \"de...</td>\n",
       "      <td>0</td>\n",
       "      <td>2013</td>\n",
       "      <td>7.0</td>\n",
       "      <td>Scott Smith</td>\n",
       "    </tr>\n",
       "    <tr>\n",
       "      <th>4801</th>\n",
       "      <td>0</td>\n",
       "      <td>[]</td>\n",
       "      <td>[]</td>\n",
       "      <td>en</td>\n",
       "      <td>0.857008</td>\n",
       "      <td>[]</td>\n",
       "      <td>[{\"iso_3166_1\": \"US\", \"name\": \"United States o...</td>\n",
       "      <td>2012-05-03</td>\n",
       "      <td>0</td>\n",
       "      <td>98.0</td>\n",
       "      <td>...</td>\n",
       "      <td>Shanghai Calling</td>\n",
       "      <td>5.7</td>\n",
       "      <td>7</td>\n",
       "      <td>Shanghai Calling</td>\n",
       "      <td>[{\"cast_id\": 3, \"character\": \"Sam\", \"credit_id...</td>\n",
       "      <td>[{\"credit_id\": \"52fe4ad9c3a368484e16a36b\", \"de...</td>\n",
       "      <td>0</td>\n",
       "      <td>2012</td>\n",
       "      <td>5.0</td>\n",
       "      <td>Daniel Hsia</td>\n",
       "    </tr>\n",
       "    <tr>\n",
       "      <th>4802</th>\n",
       "      <td>0</td>\n",
       "      <td>[{\"id\": 99, \"name\": \"Documentary\"}]</td>\n",
       "      <td>[{\"id\": 1523, \"name\": \"obsession\"}, {\"id\": 224...</td>\n",
       "      <td>en</td>\n",
       "      <td>1.929883</td>\n",
       "      <td>[{\"name\": \"rusty bear entertainment\", \"id\": 87...</td>\n",
       "      <td>[{\"iso_3166_1\": \"US\", \"name\": \"United States o...</td>\n",
       "      <td>2005-08-05</td>\n",
       "      <td>0</td>\n",
       "      <td>90.0</td>\n",
       "      <td>...</td>\n",
       "      <td>My Date with Drew</td>\n",
       "      <td>6.3</td>\n",
       "      <td>16</td>\n",
       "      <td>My Date with Drew</td>\n",
       "      <td>[{\"cast_id\": 3, \"character\": \"Herself\", \"credi...</td>\n",
       "      <td>[{\"credit_id\": \"58ce021b9251415a390165d9\", \"de...</td>\n",
       "      <td>0</td>\n",
       "      <td>2005</td>\n",
       "      <td>NaN</td>\n",
       "      <td>Brian Herzlinger, Jon Gunn, Brett Winn</td>\n",
       "    </tr>\n",
       "  </tbody>\n",
       "</table>\n",
       "<p>4799 rows × 21 columns</p>\n",
       "</div>"
      ],
      "text/plain": [
       "         budget                                             genres  \\\n",
       "0     237000000  [{\"id\": 28, \"name\": \"Action\"}, {\"id\": 12, \"nam...   \n",
       "1     300000000  [{\"id\": 12, \"name\": \"Adventure\"}, {\"id\": 14, \"...   \n",
       "2     245000000  [{\"id\": 28, \"name\": \"Action\"}, {\"id\": 12, \"nam...   \n",
       "3     250000000  [{\"id\": 28, \"name\": \"Action\"}, {\"id\": 80, \"nam...   \n",
       "4     260000000  [{\"id\": 28, \"name\": \"Action\"}, {\"id\": 12, \"nam...   \n",
       "...         ...                                                ...   \n",
       "4798     220000  [{\"id\": 28, \"name\": \"Action\"}, {\"id\": 80, \"nam...   \n",
       "4799       9000  [{\"id\": 35, \"name\": \"Comedy\"}, {\"id\": 10749, \"...   \n",
       "4800          0  [{\"id\": 35, \"name\": \"Comedy\"}, {\"id\": 18, \"nam...   \n",
       "4801          0                                                 []   \n",
       "4802          0                [{\"id\": 99, \"name\": \"Documentary\"}]   \n",
       "\n",
       "                                               keywords original_language  \\\n",
       "0     [{\"id\": 1463, \"name\": \"culture clash\"}, {\"id\":...                en   \n",
       "1     [{\"id\": 270, \"name\": \"ocean\"}, {\"id\": 726, \"na...                en   \n",
       "2     [{\"id\": 470, \"name\": \"spy\"}, {\"id\": 818, \"name...                en   \n",
       "3     [{\"id\": 849, \"name\": \"dc comics\"}, {\"id\": 853,...                en   \n",
       "4     [{\"id\": 818, \"name\": \"based on novel\"}, {\"id\":...                en   \n",
       "...                                                 ...               ...   \n",
       "4798  [{\"id\": 5616, \"name\": \"united states\\u2013mexi...                es   \n",
       "4799                                                 []                en   \n",
       "4800  [{\"id\": 248, \"name\": \"date\"}, {\"id\": 699, \"nam...                en   \n",
       "4801                                                 []                en   \n",
       "4802  [{\"id\": 1523, \"name\": \"obsession\"}, {\"id\": 224...                en   \n",
       "\n",
       "      popularity                               production_companies  \\\n",
       "0     150.437577  [{\"name\": \"Ingenious Film Partners\", \"id\": 289...   \n",
       "1     139.082615  [{\"name\": \"Walt Disney Pictures\", \"id\": 2}, {\"...   \n",
       "2     107.376788  [{\"name\": \"Columbia Pictures\", \"id\": 5}, {\"nam...   \n",
       "3     112.312950  [{\"name\": \"Legendary Pictures\", \"id\": 923}, {\"...   \n",
       "4      43.926995        [{\"name\": \"Walt Disney Pictures\", \"id\": 2}]   \n",
       "...          ...                                                ...   \n",
       "4798   14.269792           [{\"name\": \"Columbia Pictures\", \"id\": 5}]   \n",
       "4799    0.642552                                                 []   \n",
       "4800    1.444476  [{\"name\": \"Front Street Pictures\", \"id\": 3958}...   \n",
       "4801    0.857008                                                 []   \n",
       "4802    1.929883  [{\"name\": \"rusty bear entertainment\", \"id\": 87...   \n",
       "\n",
       "                                   production_countries release_date  \\\n",
       "0     [{\"iso_3166_1\": \"US\", \"name\": \"United States o...   2009-12-10   \n",
       "1     [{\"iso_3166_1\": \"US\", \"name\": \"United States o...   2007-05-19   \n",
       "2     [{\"iso_3166_1\": \"GB\", \"name\": \"United Kingdom\"...   2015-10-26   \n",
       "3     [{\"iso_3166_1\": \"US\", \"name\": \"United States o...   2012-07-16   \n",
       "4     [{\"iso_3166_1\": \"US\", \"name\": \"United States o...   2012-03-07   \n",
       "...                                                 ...          ...   \n",
       "4798  [{\"iso_3166_1\": \"MX\", \"name\": \"Mexico\"}, {\"iso...   1992-09-04   \n",
       "4799                                                 []   2011-12-26   \n",
       "4800  [{\"iso_3166_1\": \"US\", \"name\": \"United States o...   2013-10-13   \n",
       "4801  [{\"iso_3166_1\": \"US\", \"name\": \"United States o...   2012-05-03   \n",
       "4802  [{\"iso_3166_1\": \"US\", \"name\": \"United States o...   2005-08-05   \n",
       "\n",
       "         revenue  runtime  ...                                   title_x  \\\n",
       "0     2787965087    162.0  ...                                    Avatar   \n",
       "1      961000000    169.0  ...  Pirates of the Caribbean: At World's End   \n",
       "2      880674609    148.0  ...                                   Spectre   \n",
       "3     1084939099    165.0  ...                     The Dark Knight Rises   \n",
       "4      284139100    132.0  ...                               John Carter   \n",
       "...          ...      ...  ...                                       ...   \n",
       "4798     2040920     81.0  ...                               El Mariachi   \n",
       "4799           0     85.0  ...                                 Newlyweds   \n",
       "4800           0    120.0  ...                 Signed, Sealed, Delivered   \n",
       "4801           0     98.0  ...                          Shanghai Calling   \n",
       "4802           0     90.0  ...                         My Date with Drew   \n",
       "\n",
       "     vote_average  vote_count                                   title_y  \\\n",
       "0             7.2       11800                                    Avatar   \n",
       "1             6.9        4500  Pirates of the Caribbean: At World's End   \n",
       "2             6.3        4466                                   Spectre   \n",
       "3             7.6        9106                     The Dark Knight Rises   \n",
       "4             6.1        2124                               John Carter   \n",
       "...           ...         ...                                       ...   \n",
       "4798          6.6         238                               El Mariachi   \n",
       "4799          5.9           5                                 Newlyweds   \n",
       "4800          7.0           6                 Signed, Sealed, Delivered   \n",
       "4801          5.7           7                          Shanghai Calling   \n",
       "4802          6.3          16                         My Date with Drew   \n",
       "\n",
       "                                                   cast  \\\n",
       "0     [{\"cast_id\": 242, \"character\": \"Jake Sully\", \"...   \n",
       "1     [{\"cast_id\": 4, \"character\": \"Captain Jack Spa...   \n",
       "2     [{\"cast_id\": 1, \"character\": \"James Bond\", \"cr...   \n",
       "3     [{\"cast_id\": 2, \"character\": \"Bruce Wayne / Ba...   \n",
       "4     [{\"cast_id\": 5, \"character\": \"John Carter\", \"c...   \n",
       "...                                                 ...   \n",
       "4798  [{\"cast_id\": 1, \"character\": \"El Mariachi\", \"c...   \n",
       "4799  [{\"cast_id\": 1, \"character\": \"Buzzy\", \"credit_...   \n",
       "4800  [{\"cast_id\": 8, \"character\": \"Oliver O\\u2019To...   \n",
       "4801  [{\"cast_id\": 3, \"character\": \"Sam\", \"credit_id...   \n",
       "4802  [{\"cast_id\": 3, \"character\": \"Herself\", \"credi...   \n",
       "\n",
       "                                                   crew      profit  \\\n",
       "0     [{\"credit_id\": \"52fe48009251416c750aca23\", \"de...  2550965087   \n",
       "1     [{\"credit_id\": \"52fe4232c3a36847f800b579\", \"de...   661000000   \n",
       "2     [{\"credit_id\": \"54805967c3a36829b5002c41\", \"de...   635674609   \n",
       "3     [{\"credit_id\": \"52fe4781c3a36847f81398c3\", \"de...   834939099   \n",
       "4     [{\"credit_id\": \"52fe479ac3a36847f813eaa3\", \"de...    24139100   \n",
       "...                                                 ...         ...   \n",
       "4798  [{\"credit_id\": \"52fe44eec3a36847f80b280b\", \"de...     1820920   \n",
       "4799  [{\"credit_id\": \"52fe487dc3a368484e0fb013\", \"de...       -9000   \n",
       "4800  [{\"credit_id\": \"52fe4df3c3a36847f8275ecf\", \"de...           0   \n",
       "4801  [{\"credit_id\": \"52fe4ad9c3a368484e16a36b\", \"de...           0   \n",
       "4802  [{\"credit_id\": \"58ce021b9251415a390165d9\", \"de...           0   \n",
       "\n",
       "      release_year  cast_size                                director  \n",
       "0             2009        NaN                                    None  \n",
       "1             2007        NaN                          Gore Verbinski  \n",
       "2             2015        NaN                                    None  \n",
       "3             2012        NaN                                    None  \n",
       "4             2012       27.0                          Andrew Stanton  \n",
       "...            ...        ...                                     ...  \n",
       "4798          1992        NaN                        Robert Rodriguez  \n",
       "4799          2011        5.0                            Edward Burns  \n",
       "4800          2013        7.0                             Scott Smith  \n",
       "4801          2012        5.0                             Daniel Hsia  \n",
       "4802          2005        NaN  Brian Herzlinger, Jon Gunn, Brett Winn  \n",
       "\n",
       "[4799 rows x 21 columns]"
      ]
     },
     "execution_count": 20,
     "metadata": {},
     "output_type": "execute_result"
    }
   ],
   "source": [
    "movies1"
   ]
  },
  {
   "cell_type": "code",
   "execution_count": 21,
   "metadata": {},
   "outputs": [],
   "source": [
    "# Tidying up genre, production_companies and production_countries column\n",
    "def func(obj):\n",
    "    List = []\n",
    "    for i in ast.literal_eval(obj):\n",
    "        List.append(i['name'])\n",
    "    return List\n"
   ]
  },
  {
   "cell_type": "code",
   "execution_count": 22,
   "metadata": {},
   "outputs": [],
   "source": [
    "movies1['genres'] = movies1['genres'].apply(func)\n",
    "movies1['production_companies'] = movies1['production_companies'].apply(func)\n",
    "movies1['production_countries'] = movies1['production_countries'].apply(func)"
   ]
  },
  {
   "cell_type": "markdown",
   "metadata": {},
   "source": [
    "Let us try to visualise our data for better understanding!¶\n"
   ]
  },
  {
   "cell_type": "code",
   "execution_count": 24,
   "metadata": {},
   "outputs": [
    {
     "data": {
      "text/html": [
       "<div>\n",
       "<style scoped>\n",
       "    .dataframe tbody tr th:only-of-type {\n",
       "        vertical-align: middle;\n",
       "    }\n",
       "\n",
       "    .dataframe tbody tr th {\n",
       "        vertical-align: top;\n",
       "    }\n",
       "\n",
       "    .dataframe thead th {\n",
       "        text-align: right;\n",
       "    }\n",
       "</style>\n",
       "<table border=\"1\" class=\"dataframe\">\n",
       "  <thead>\n",
       "    <tr style=\"text-align: right;\">\n",
       "      <th></th>\n",
       "      <th>budget</th>\n",
       "      <th>genres</th>\n",
       "      <th>keywords</th>\n",
       "      <th>original_language</th>\n",
       "      <th>popularity</th>\n",
       "      <th>production_companies</th>\n",
       "      <th>production_countries</th>\n",
       "      <th>release_date</th>\n",
       "      <th>revenue</th>\n",
       "      <th>runtime</th>\n",
       "      <th>...</th>\n",
       "      <th>title_x</th>\n",
       "      <th>vote_average</th>\n",
       "      <th>vote_count</th>\n",
       "      <th>title_y</th>\n",
       "      <th>cast</th>\n",
       "      <th>crew</th>\n",
       "      <th>profit</th>\n",
       "      <th>release_year</th>\n",
       "      <th>cast_size</th>\n",
       "      <th>director</th>\n",
       "    </tr>\n",
       "  </thead>\n",
       "  <tbody>\n",
       "    <tr>\n",
       "      <th>0</th>\n",
       "      <td>237000000</td>\n",
       "      <td>[Action, Adventure, Fantasy, Science Fiction]</td>\n",
       "      <td>[{\"id\": 1463, \"name\": \"culture clash\"}, {\"id\":...</td>\n",
       "      <td>en</td>\n",
       "      <td>150.437577</td>\n",
       "      <td>[Ingenious Film Partners, Twentieth Century Fo...</td>\n",
       "      <td>[United States of America, United Kingdom]</td>\n",
       "      <td>2009-12-10</td>\n",
       "      <td>2787965087</td>\n",
       "      <td>162.0</td>\n",
       "      <td>...</td>\n",
       "      <td>Avatar</td>\n",
       "      <td>7.2</td>\n",
       "      <td>11800</td>\n",
       "      <td>Avatar</td>\n",
       "      <td>[{\"cast_id\": 242, \"character\": \"Jake Sully\", \"...</td>\n",
       "      <td>[{\"credit_id\": \"52fe48009251416c750aca23\", \"de...</td>\n",
       "      <td>2550965087</td>\n",
       "      <td>2009</td>\n",
       "      <td>NaN</td>\n",
       "      <td>None</td>\n",
       "    </tr>\n",
       "    <tr>\n",
       "      <th>1</th>\n",
       "      <td>300000000</td>\n",
       "      <td>[Adventure, Fantasy, Action]</td>\n",
       "      <td>[{\"id\": 270, \"name\": \"ocean\"}, {\"id\": 726, \"na...</td>\n",
       "      <td>en</td>\n",
       "      <td>139.082615</td>\n",
       "      <td>[Walt Disney Pictures, Jerry Bruckheimer Films...</td>\n",
       "      <td>[United States of America]</td>\n",
       "      <td>2007-05-19</td>\n",
       "      <td>961000000</td>\n",
       "      <td>169.0</td>\n",
       "      <td>...</td>\n",
       "      <td>Pirates of the Caribbean: At World's End</td>\n",
       "      <td>6.9</td>\n",
       "      <td>4500</td>\n",
       "      <td>Pirates of the Caribbean: At World's End</td>\n",
       "      <td>[{\"cast_id\": 4, \"character\": \"Captain Jack Spa...</td>\n",
       "      <td>[{\"credit_id\": \"52fe4232c3a36847f800b579\", \"de...</td>\n",
       "      <td>661000000</td>\n",
       "      <td>2007</td>\n",
       "      <td>NaN</td>\n",
       "      <td>Gore Verbinski</td>\n",
       "    </tr>\n",
       "    <tr>\n",
       "      <th>2</th>\n",
       "      <td>245000000</td>\n",
       "      <td>[Action, Adventure, Crime]</td>\n",
       "      <td>[{\"id\": 470, \"name\": \"spy\"}, {\"id\": 818, \"name...</td>\n",
       "      <td>en</td>\n",
       "      <td>107.376788</td>\n",
       "      <td>[Columbia Pictures, Danjaq, B24]</td>\n",
       "      <td>[United Kingdom, United States of America]</td>\n",
       "      <td>2015-10-26</td>\n",
       "      <td>880674609</td>\n",
       "      <td>148.0</td>\n",
       "      <td>...</td>\n",
       "      <td>Spectre</td>\n",
       "      <td>6.3</td>\n",
       "      <td>4466</td>\n",
       "      <td>Spectre</td>\n",
       "      <td>[{\"cast_id\": 1, \"character\": \"James Bond\", \"cr...</td>\n",
       "      <td>[{\"credit_id\": \"54805967c3a36829b5002c41\", \"de...</td>\n",
       "      <td>635674609</td>\n",
       "      <td>2015</td>\n",
       "      <td>NaN</td>\n",
       "      <td>None</td>\n",
       "    </tr>\n",
       "    <tr>\n",
       "      <th>3</th>\n",
       "      <td>250000000</td>\n",
       "      <td>[Action, Crime, Drama, Thriller]</td>\n",
       "      <td>[{\"id\": 849, \"name\": \"dc comics\"}, {\"id\": 853,...</td>\n",
       "      <td>en</td>\n",
       "      <td>112.312950</td>\n",
       "      <td>[Legendary Pictures, Warner Bros., DC Entertai...</td>\n",
       "      <td>[United States of America]</td>\n",
       "      <td>2012-07-16</td>\n",
       "      <td>1084939099</td>\n",
       "      <td>165.0</td>\n",
       "      <td>...</td>\n",
       "      <td>The Dark Knight Rises</td>\n",
       "      <td>7.6</td>\n",
       "      <td>9106</td>\n",
       "      <td>The Dark Knight Rises</td>\n",
       "      <td>[{\"cast_id\": 2, \"character\": \"Bruce Wayne / Ba...</td>\n",
       "      <td>[{\"credit_id\": \"52fe4781c3a36847f81398c3\", \"de...</td>\n",
       "      <td>834939099</td>\n",
       "      <td>2012</td>\n",
       "      <td>NaN</td>\n",
       "      <td>None</td>\n",
       "    </tr>\n",
       "    <tr>\n",
       "      <th>4</th>\n",
       "      <td>260000000</td>\n",
       "      <td>[Action, Adventure, Science Fiction]</td>\n",
       "      <td>[{\"id\": 818, \"name\": \"based on novel\"}, {\"id\":...</td>\n",
       "      <td>en</td>\n",
       "      <td>43.926995</td>\n",
       "      <td>[Walt Disney Pictures]</td>\n",
       "      <td>[United States of America]</td>\n",
       "      <td>2012-03-07</td>\n",
       "      <td>284139100</td>\n",
       "      <td>132.0</td>\n",
       "      <td>...</td>\n",
       "      <td>John Carter</td>\n",
       "      <td>6.1</td>\n",
       "      <td>2124</td>\n",
       "      <td>John Carter</td>\n",
       "      <td>[{\"cast_id\": 5, \"character\": \"John Carter\", \"c...</td>\n",
       "      <td>[{\"credit_id\": \"52fe479ac3a36847f813eaa3\", \"de...</td>\n",
       "      <td>24139100</td>\n",
       "      <td>2012</td>\n",
       "      <td>27.0</td>\n",
       "      <td>Andrew Stanton</td>\n",
       "    </tr>\n",
       "    <tr>\n",
       "      <th>...</th>\n",
       "      <td>...</td>\n",
       "      <td>...</td>\n",
       "      <td>...</td>\n",
       "      <td>...</td>\n",
       "      <td>...</td>\n",
       "      <td>...</td>\n",
       "      <td>...</td>\n",
       "      <td>...</td>\n",
       "      <td>...</td>\n",
       "      <td>...</td>\n",
       "      <td>...</td>\n",
       "      <td>...</td>\n",
       "      <td>...</td>\n",
       "      <td>...</td>\n",
       "      <td>...</td>\n",
       "      <td>...</td>\n",
       "      <td>...</td>\n",
       "      <td>...</td>\n",
       "      <td>...</td>\n",
       "      <td>...</td>\n",
       "      <td>...</td>\n",
       "    </tr>\n",
       "    <tr>\n",
       "      <th>4798</th>\n",
       "      <td>220000</td>\n",
       "      <td>[Action, Crime, Thriller]</td>\n",
       "      <td>[{\"id\": 5616, \"name\": \"united states\\u2013mexi...</td>\n",
       "      <td>es</td>\n",
       "      <td>14.269792</td>\n",
       "      <td>[Columbia Pictures]</td>\n",
       "      <td>[Mexico, United States of America]</td>\n",
       "      <td>1992-09-04</td>\n",
       "      <td>2040920</td>\n",
       "      <td>81.0</td>\n",
       "      <td>...</td>\n",
       "      <td>El Mariachi</td>\n",
       "      <td>6.6</td>\n",
       "      <td>238</td>\n",
       "      <td>El Mariachi</td>\n",
       "      <td>[{\"cast_id\": 1, \"character\": \"El Mariachi\", \"c...</td>\n",
       "      <td>[{\"credit_id\": \"52fe44eec3a36847f80b280b\", \"de...</td>\n",
       "      <td>1820920</td>\n",
       "      <td>1992</td>\n",
       "      <td>NaN</td>\n",
       "      <td>Robert Rodriguez</td>\n",
       "    </tr>\n",
       "    <tr>\n",
       "      <th>4799</th>\n",
       "      <td>9000</td>\n",
       "      <td>[Comedy, Romance]</td>\n",
       "      <td>[]</td>\n",
       "      <td>en</td>\n",
       "      <td>0.642552</td>\n",
       "      <td>[]</td>\n",
       "      <td>[]</td>\n",
       "      <td>2011-12-26</td>\n",
       "      <td>0</td>\n",
       "      <td>85.0</td>\n",
       "      <td>...</td>\n",
       "      <td>Newlyweds</td>\n",
       "      <td>5.9</td>\n",
       "      <td>5</td>\n",
       "      <td>Newlyweds</td>\n",
       "      <td>[{\"cast_id\": 1, \"character\": \"Buzzy\", \"credit_...</td>\n",
       "      <td>[{\"credit_id\": \"52fe487dc3a368484e0fb013\", \"de...</td>\n",
       "      <td>-9000</td>\n",
       "      <td>2011</td>\n",
       "      <td>5.0</td>\n",
       "      <td>Edward Burns</td>\n",
       "    </tr>\n",
       "    <tr>\n",
       "      <th>4800</th>\n",
       "      <td>0</td>\n",
       "      <td>[Comedy, Drama, Romance, TV Movie]</td>\n",
       "      <td>[{\"id\": 248, \"name\": \"date\"}, {\"id\": 699, \"nam...</td>\n",
       "      <td>en</td>\n",
       "      <td>1.444476</td>\n",
       "      <td>[Front Street Pictures, Muse Entertainment Ent...</td>\n",
       "      <td>[United States of America]</td>\n",
       "      <td>2013-10-13</td>\n",
       "      <td>0</td>\n",
       "      <td>120.0</td>\n",
       "      <td>...</td>\n",
       "      <td>Signed, Sealed, Delivered</td>\n",
       "      <td>7.0</td>\n",
       "      <td>6</td>\n",
       "      <td>Signed, Sealed, Delivered</td>\n",
       "      <td>[{\"cast_id\": 8, \"character\": \"Oliver O\\u2019To...</td>\n",
       "      <td>[{\"credit_id\": \"52fe4df3c3a36847f8275ecf\", \"de...</td>\n",
       "      <td>0</td>\n",
       "      <td>2013</td>\n",
       "      <td>7.0</td>\n",
       "      <td>Scott Smith</td>\n",
       "    </tr>\n",
       "    <tr>\n",
       "      <th>4801</th>\n",
       "      <td>0</td>\n",
       "      <td>[]</td>\n",
       "      <td>[]</td>\n",
       "      <td>en</td>\n",
       "      <td>0.857008</td>\n",
       "      <td>[]</td>\n",
       "      <td>[United States of America, China]</td>\n",
       "      <td>2012-05-03</td>\n",
       "      <td>0</td>\n",
       "      <td>98.0</td>\n",
       "      <td>...</td>\n",
       "      <td>Shanghai Calling</td>\n",
       "      <td>5.7</td>\n",
       "      <td>7</td>\n",
       "      <td>Shanghai Calling</td>\n",
       "      <td>[{\"cast_id\": 3, \"character\": \"Sam\", \"credit_id...</td>\n",
       "      <td>[{\"credit_id\": \"52fe4ad9c3a368484e16a36b\", \"de...</td>\n",
       "      <td>0</td>\n",
       "      <td>2012</td>\n",
       "      <td>5.0</td>\n",
       "      <td>Daniel Hsia</td>\n",
       "    </tr>\n",
       "    <tr>\n",
       "      <th>4802</th>\n",
       "      <td>0</td>\n",
       "      <td>[Documentary]</td>\n",
       "      <td>[{\"id\": 1523, \"name\": \"obsession\"}, {\"id\": 224...</td>\n",
       "      <td>en</td>\n",
       "      <td>1.929883</td>\n",
       "      <td>[rusty bear entertainment, lucky crow films]</td>\n",
       "      <td>[United States of America]</td>\n",
       "      <td>2005-08-05</td>\n",
       "      <td>0</td>\n",
       "      <td>90.0</td>\n",
       "      <td>...</td>\n",
       "      <td>My Date with Drew</td>\n",
       "      <td>6.3</td>\n",
       "      <td>16</td>\n",
       "      <td>My Date with Drew</td>\n",
       "      <td>[{\"cast_id\": 3, \"character\": \"Herself\", \"credi...</td>\n",
       "      <td>[{\"credit_id\": \"58ce021b9251415a390165d9\", \"de...</td>\n",
       "      <td>0</td>\n",
       "      <td>2005</td>\n",
       "      <td>NaN</td>\n",
       "      <td>Brian Herzlinger, Jon Gunn, Brett Winn</td>\n",
       "    </tr>\n",
       "  </tbody>\n",
       "</table>\n",
       "<p>4799 rows × 21 columns</p>\n",
       "</div>"
      ],
      "text/plain": [
       "         budget                                         genres  \\\n",
       "0     237000000  [Action, Adventure, Fantasy, Science Fiction]   \n",
       "1     300000000                   [Adventure, Fantasy, Action]   \n",
       "2     245000000                     [Action, Adventure, Crime]   \n",
       "3     250000000               [Action, Crime, Drama, Thriller]   \n",
       "4     260000000           [Action, Adventure, Science Fiction]   \n",
       "...         ...                                            ...   \n",
       "4798     220000                      [Action, Crime, Thriller]   \n",
       "4799       9000                              [Comedy, Romance]   \n",
       "4800          0             [Comedy, Drama, Romance, TV Movie]   \n",
       "4801          0                                             []   \n",
       "4802          0                                  [Documentary]   \n",
       "\n",
       "                                               keywords original_language  \\\n",
       "0     [{\"id\": 1463, \"name\": \"culture clash\"}, {\"id\":...                en   \n",
       "1     [{\"id\": 270, \"name\": \"ocean\"}, {\"id\": 726, \"na...                en   \n",
       "2     [{\"id\": 470, \"name\": \"spy\"}, {\"id\": 818, \"name...                en   \n",
       "3     [{\"id\": 849, \"name\": \"dc comics\"}, {\"id\": 853,...                en   \n",
       "4     [{\"id\": 818, \"name\": \"based on novel\"}, {\"id\":...                en   \n",
       "...                                                 ...               ...   \n",
       "4798  [{\"id\": 5616, \"name\": \"united states\\u2013mexi...                es   \n",
       "4799                                                 []                en   \n",
       "4800  [{\"id\": 248, \"name\": \"date\"}, {\"id\": 699, \"nam...                en   \n",
       "4801                                                 []                en   \n",
       "4802  [{\"id\": 1523, \"name\": \"obsession\"}, {\"id\": 224...                en   \n",
       "\n",
       "      popularity                               production_companies  \\\n",
       "0     150.437577  [Ingenious Film Partners, Twentieth Century Fo...   \n",
       "1     139.082615  [Walt Disney Pictures, Jerry Bruckheimer Films...   \n",
       "2     107.376788                   [Columbia Pictures, Danjaq, B24]   \n",
       "3     112.312950  [Legendary Pictures, Warner Bros., DC Entertai...   \n",
       "4      43.926995                             [Walt Disney Pictures]   \n",
       "...          ...                                                ...   \n",
       "4798   14.269792                                [Columbia Pictures]   \n",
       "4799    0.642552                                                 []   \n",
       "4800    1.444476  [Front Street Pictures, Muse Entertainment Ent...   \n",
       "4801    0.857008                                                 []   \n",
       "4802    1.929883       [rusty bear entertainment, lucky crow films]   \n",
       "\n",
       "                            production_countries release_date     revenue  \\\n",
       "0     [United States of America, United Kingdom]   2009-12-10  2787965087   \n",
       "1                     [United States of America]   2007-05-19   961000000   \n",
       "2     [United Kingdom, United States of America]   2015-10-26   880674609   \n",
       "3                     [United States of America]   2012-07-16  1084939099   \n",
       "4                     [United States of America]   2012-03-07   284139100   \n",
       "...                                          ...          ...         ...   \n",
       "4798          [Mexico, United States of America]   1992-09-04     2040920   \n",
       "4799                                          []   2011-12-26           0   \n",
       "4800                  [United States of America]   2013-10-13           0   \n",
       "4801           [United States of America, China]   2012-05-03           0   \n",
       "4802                  [United States of America]   2005-08-05           0   \n",
       "\n",
       "      runtime  ...                                   title_x vote_average  \\\n",
       "0       162.0  ...                                    Avatar          7.2   \n",
       "1       169.0  ...  Pirates of the Caribbean: At World's End          6.9   \n",
       "2       148.0  ...                                   Spectre          6.3   \n",
       "3       165.0  ...                     The Dark Knight Rises          7.6   \n",
       "4       132.0  ...                               John Carter          6.1   \n",
       "...       ...  ...                                       ...          ...   \n",
       "4798     81.0  ...                               El Mariachi          6.6   \n",
       "4799     85.0  ...                                 Newlyweds          5.9   \n",
       "4800    120.0  ...                 Signed, Sealed, Delivered          7.0   \n",
       "4801     98.0  ...                          Shanghai Calling          5.7   \n",
       "4802     90.0  ...                         My Date with Drew          6.3   \n",
       "\n",
       "      vote_count                                   title_y  \\\n",
       "0          11800                                    Avatar   \n",
       "1           4500  Pirates of the Caribbean: At World's End   \n",
       "2           4466                                   Spectre   \n",
       "3           9106                     The Dark Knight Rises   \n",
       "4           2124                               John Carter   \n",
       "...          ...                                       ...   \n",
       "4798         238                               El Mariachi   \n",
       "4799           5                                 Newlyweds   \n",
       "4800           6                 Signed, Sealed, Delivered   \n",
       "4801           7                          Shanghai Calling   \n",
       "4802          16                         My Date with Drew   \n",
       "\n",
       "                                                   cast  \\\n",
       "0     [{\"cast_id\": 242, \"character\": \"Jake Sully\", \"...   \n",
       "1     [{\"cast_id\": 4, \"character\": \"Captain Jack Spa...   \n",
       "2     [{\"cast_id\": 1, \"character\": \"James Bond\", \"cr...   \n",
       "3     [{\"cast_id\": 2, \"character\": \"Bruce Wayne / Ba...   \n",
       "4     [{\"cast_id\": 5, \"character\": \"John Carter\", \"c...   \n",
       "...                                                 ...   \n",
       "4798  [{\"cast_id\": 1, \"character\": \"El Mariachi\", \"c...   \n",
       "4799  [{\"cast_id\": 1, \"character\": \"Buzzy\", \"credit_...   \n",
       "4800  [{\"cast_id\": 8, \"character\": \"Oliver O\\u2019To...   \n",
       "4801  [{\"cast_id\": 3, \"character\": \"Sam\", \"credit_id...   \n",
       "4802  [{\"cast_id\": 3, \"character\": \"Herself\", \"credi...   \n",
       "\n",
       "                                                   crew      profit  \\\n",
       "0     [{\"credit_id\": \"52fe48009251416c750aca23\", \"de...  2550965087   \n",
       "1     [{\"credit_id\": \"52fe4232c3a36847f800b579\", \"de...   661000000   \n",
       "2     [{\"credit_id\": \"54805967c3a36829b5002c41\", \"de...   635674609   \n",
       "3     [{\"credit_id\": \"52fe4781c3a36847f81398c3\", \"de...   834939099   \n",
       "4     [{\"credit_id\": \"52fe479ac3a36847f813eaa3\", \"de...    24139100   \n",
       "...                                                 ...         ...   \n",
       "4798  [{\"credit_id\": \"52fe44eec3a36847f80b280b\", \"de...     1820920   \n",
       "4799  [{\"credit_id\": \"52fe487dc3a368484e0fb013\", \"de...       -9000   \n",
       "4800  [{\"credit_id\": \"52fe4df3c3a36847f8275ecf\", \"de...           0   \n",
       "4801  [{\"credit_id\": \"52fe4ad9c3a368484e16a36b\", \"de...           0   \n",
       "4802  [{\"credit_id\": \"58ce021b9251415a390165d9\", \"de...           0   \n",
       "\n",
       "      release_year  cast_size                                director  \n",
       "0             2009        NaN                                    None  \n",
       "1             2007        NaN                          Gore Verbinski  \n",
       "2             2015        NaN                                    None  \n",
       "3             2012        NaN                                    None  \n",
       "4             2012       27.0                          Andrew Stanton  \n",
       "...            ...        ...                                     ...  \n",
       "4798          1992        NaN                        Robert Rodriguez  \n",
       "4799          2011        5.0                            Edward Burns  \n",
       "4800          2013        7.0                             Scott Smith  \n",
       "4801          2012        5.0                             Daniel Hsia  \n",
       "4802          2005        NaN  Brian Herzlinger, Jon Gunn, Brett Winn  \n",
       "\n",
       "[4799 rows x 21 columns]"
      ]
     },
     "execution_count": 24,
     "metadata": {},
     "output_type": "execute_result"
    }
   ],
   "source": [
    "movies1"
   ]
  },
  {
   "cell_type": "code",
   "execution_count": 25,
   "metadata": {},
   "outputs": [],
   "source": [
    "movies1 = movies1.reset_index(drop=True)\n"
   ]
  },
  {
   "cell_type": "code",
   "execution_count": 26,
   "metadata": {},
   "outputs": [
    {
     "data": {
      "application/vnd.plotly.v1+json": {
       "config": {
        "plotlyServerURL": "https://plot.ly"
       },
       "data": [
        {
         "domain": {
          "x": [
           0,
           1
          ],
          "y": [
           0,
           1
          ]
         },
         "hovertemplate": "Genres=%{label}<br>Frequency=%{value}<extra></extra>",
         "labels": [
          "Action",
          "Adventure",
          "Fantasy",
          "Science Fiction",
          "Crime",
          "Drama",
          "Thriller",
          "Animation",
          "Family",
          "Others",
          "Comedy",
          "Romance",
          "Horror",
          "Mystery",
          "Others",
          "Others",
          "Others",
          "Others",
          "Others",
          "Others"
         ],
         "legendgroup": "",
         "name": "",
         "showlegend": true,
         "textinfo": "percent+label",
         "textposition": "inside",
         "type": "pie",
         "values": [
          1154,
          790,
          424,
          535,
          696,
          2296,
          1274,
          234,
          513,
          82,
          1722,
          894,
          519,
          348,
          197,
          144,
          185,
          108,
          34,
          8
         ]
        }
       ],
       "layout": {
        "font": {
         "size": 14
        },
        "height": 500,
        "legend": {
         "title": {
          "text": "Genre"
         },
         "tracegroupgap": 0
        },
        "margin": {
         "t": 60
        },
        "template": {
         "data": {
          "bar": [
           {
            "error_x": {
             "color": "#2a3f5f"
            },
            "error_y": {
             "color": "#2a3f5f"
            },
            "marker": {
             "line": {
              "color": "#E5ECF6",
              "width": 0.5
             },
             "pattern": {
              "fillmode": "overlay",
              "size": 10,
              "solidity": 0.2
             }
            },
            "type": "bar"
           }
          ],
          "barpolar": [
           {
            "marker": {
             "line": {
              "color": "#E5ECF6",
              "width": 0.5
             },
             "pattern": {
              "fillmode": "overlay",
              "size": 10,
              "solidity": 0.2
             }
            },
            "type": "barpolar"
           }
          ],
          "carpet": [
           {
            "aaxis": {
             "endlinecolor": "#2a3f5f",
             "gridcolor": "white",
             "linecolor": "white",
             "minorgridcolor": "white",
             "startlinecolor": "#2a3f5f"
            },
            "baxis": {
             "endlinecolor": "#2a3f5f",
             "gridcolor": "white",
             "linecolor": "white",
             "minorgridcolor": "white",
             "startlinecolor": "#2a3f5f"
            },
            "type": "carpet"
           }
          ],
          "choropleth": [
           {
            "colorbar": {
             "outlinewidth": 0,
             "ticks": ""
            },
            "type": "choropleth"
           }
          ],
          "contour": [
           {
            "colorbar": {
             "outlinewidth": 0,
             "ticks": ""
            },
            "colorscale": [
             [
              0,
              "#0d0887"
             ],
             [
              0.1111111111111111,
              "#46039f"
             ],
             [
              0.2222222222222222,
              "#7201a8"
             ],
             [
              0.3333333333333333,
              "#9c179e"
             ],
             [
              0.4444444444444444,
              "#bd3786"
             ],
             [
              0.5555555555555556,
              "#d8576b"
             ],
             [
              0.6666666666666666,
              "#ed7953"
             ],
             [
              0.7777777777777778,
              "#fb9f3a"
             ],
             [
              0.8888888888888888,
              "#fdca26"
             ],
             [
              1,
              "#f0f921"
             ]
            ],
            "type": "contour"
           }
          ],
          "contourcarpet": [
           {
            "colorbar": {
             "outlinewidth": 0,
             "ticks": ""
            },
            "type": "contourcarpet"
           }
          ],
          "heatmap": [
           {
            "colorbar": {
             "outlinewidth": 0,
             "ticks": ""
            },
            "colorscale": [
             [
              0,
              "#0d0887"
             ],
             [
              0.1111111111111111,
              "#46039f"
             ],
             [
              0.2222222222222222,
              "#7201a8"
             ],
             [
              0.3333333333333333,
              "#9c179e"
             ],
             [
              0.4444444444444444,
              "#bd3786"
             ],
             [
              0.5555555555555556,
              "#d8576b"
             ],
             [
              0.6666666666666666,
              "#ed7953"
             ],
             [
              0.7777777777777778,
              "#fb9f3a"
             ],
             [
              0.8888888888888888,
              "#fdca26"
             ],
             [
              1,
              "#f0f921"
             ]
            ],
            "type": "heatmap"
           }
          ],
          "heatmapgl": [
           {
            "colorbar": {
             "outlinewidth": 0,
             "ticks": ""
            },
            "colorscale": [
             [
              0,
              "#0d0887"
             ],
             [
              0.1111111111111111,
              "#46039f"
             ],
             [
              0.2222222222222222,
              "#7201a8"
             ],
             [
              0.3333333333333333,
              "#9c179e"
             ],
             [
              0.4444444444444444,
              "#bd3786"
             ],
             [
              0.5555555555555556,
              "#d8576b"
             ],
             [
              0.6666666666666666,
              "#ed7953"
             ],
             [
              0.7777777777777778,
              "#fb9f3a"
             ],
             [
              0.8888888888888888,
              "#fdca26"
             ],
             [
              1,
              "#f0f921"
             ]
            ],
            "type": "heatmapgl"
           }
          ],
          "histogram": [
           {
            "marker": {
             "pattern": {
              "fillmode": "overlay",
              "size": 10,
              "solidity": 0.2
             }
            },
            "type": "histogram"
           }
          ],
          "histogram2d": [
           {
            "colorbar": {
             "outlinewidth": 0,
             "ticks": ""
            },
            "colorscale": [
             [
              0,
              "#0d0887"
             ],
             [
              0.1111111111111111,
              "#46039f"
             ],
             [
              0.2222222222222222,
              "#7201a8"
             ],
             [
              0.3333333333333333,
              "#9c179e"
             ],
             [
              0.4444444444444444,
              "#bd3786"
             ],
             [
              0.5555555555555556,
              "#d8576b"
             ],
             [
              0.6666666666666666,
              "#ed7953"
             ],
             [
              0.7777777777777778,
              "#fb9f3a"
             ],
             [
              0.8888888888888888,
              "#fdca26"
             ],
             [
              1,
              "#f0f921"
             ]
            ],
            "type": "histogram2d"
           }
          ],
          "histogram2dcontour": [
           {
            "colorbar": {
             "outlinewidth": 0,
             "ticks": ""
            },
            "colorscale": [
             [
              0,
              "#0d0887"
             ],
             [
              0.1111111111111111,
              "#46039f"
             ],
             [
              0.2222222222222222,
              "#7201a8"
             ],
             [
              0.3333333333333333,
              "#9c179e"
             ],
             [
              0.4444444444444444,
              "#bd3786"
             ],
             [
              0.5555555555555556,
              "#d8576b"
             ],
             [
              0.6666666666666666,
              "#ed7953"
             ],
             [
              0.7777777777777778,
              "#fb9f3a"
             ],
             [
              0.8888888888888888,
              "#fdca26"
             ],
             [
              1,
              "#f0f921"
             ]
            ],
            "type": "histogram2dcontour"
           }
          ],
          "mesh3d": [
           {
            "colorbar": {
             "outlinewidth": 0,
             "ticks": ""
            },
            "type": "mesh3d"
           }
          ],
          "parcoords": [
           {
            "line": {
             "colorbar": {
              "outlinewidth": 0,
              "ticks": ""
             }
            },
            "type": "parcoords"
           }
          ],
          "pie": [
           {
            "automargin": true,
            "type": "pie"
           }
          ],
          "scatter": [
           {
            "fillpattern": {
             "fillmode": "overlay",
             "size": 10,
             "solidity": 0.2
            },
            "type": "scatter"
           }
          ],
          "scatter3d": [
           {
            "line": {
             "colorbar": {
              "outlinewidth": 0,
              "ticks": ""
             }
            },
            "marker": {
             "colorbar": {
              "outlinewidth": 0,
              "ticks": ""
             }
            },
            "type": "scatter3d"
           }
          ],
          "scattercarpet": [
           {
            "marker": {
             "colorbar": {
              "outlinewidth": 0,
              "ticks": ""
             }
            },
            "type": "scattercarpet"
           }
          ],
          "scattergeo": [
           {
            "marker": {
             "colorbar": {
              "outlinewidth": 0,
              "ticks": ""
             }
            },
            "type": "scattergeo"
           }
          ],
          "scattergl": [
           {
            "marker": {
             "colorbar": {
              "outlinewidth": 0,
              "ticks": ""
             }
            },
            "type": "scattergl"
           }
          ],
          "scattermapbox": [
           {
            "marker": {
             "colorbar": {
              "outlinewidth": 0,
              "ticks": ""
             }
            },
            "type": "scattermapbox"
           }
          ],
          "scatterpolar": [
           {
            "marker": {
             "colorbar": {
              "outlinewidth": 0,
              "ticks": ""
             }
            },
            "type": "scatterpolar"
           }
          ],
          "scatterpolargl": [
           {
            "marker": {
             "colorbar": {
              "outlinewidth": 0,
              "ticks": ""
             }
            },
            "type": "scatterpolargl"
           }
          ],
          "scatterternary": [
           {
            "marker": {
             "colorbar": {
              "outlinewidth": 0,
              "ticks": ""
             }
            },
            "type": "scatterternary"
           }
          ],
          "surface": [
           {
            "colorbar": {
             "outlinewidth": 0,
             "ticks": ""
            },
            "colorscale": [
             [
              0,
              "#0d0887"
             ],
             [
              0.1111111111111111,
              "#46039f"
             ],
             [
              0.2222222222222222,
              "#7201a8"
             ],
             [
              0.3333333333333333,
              "#9c179e"
             ],
             [
              0.4444444444444444,
              "#bd3786"
             ],
             [
              0.5555555555555556,
              "#d8576b"
             ],
             [
              0.6666666666666666,
              "#ed7953"
             ],
             [
              0.7777777777777778,
              "#fb9f3a"
             ],
             [
              0.8888888888888888,
              "#fdca26"
             ],
             [
              1,
              "#f0f921"
             ]
            ],
            "type": "surface"
           }
          ],
          "table": [
           {
            "cells": {
             "fill": {
              "color": "#EBF0F8"
             },
             "line": {
              "color": "white"
             }
            },
            "header": {
             "fill": {
              "color": "#C8D4E3"
             },
             "line": {
              "color": "white"
             }
            },
            "type": "table"
           }
          ]
         },
         "layout": {
          "annotationdefaults": {
           "arrowcolor": "#2a3f5f",
           "arrowhead": 0,
           "arrowwidth": 1
          },
          "autotypenumbers": "strict",
          "coloraxis": {
           "colorbar": {
            "outlinewidth": 0,
            "ticks": ""
           }
          },
          "colorscale": {
           "diverging": [
            [
             0,
             "#8e0152"
            ],
            [
             0.1,
             "#c51b7d"
            ],
            [
             0.2,
             "#de77ae"
            ],
            [
             0.3,
             "#f1b6da"
            ],
            [
             0.4,
             "#fde0ef"
            ],
            [
             0.5,
             "#f7f7f7"
            ],
            [
             0.6,
             "#e6f5d0"
            ],
            [
             0.7,
             "#b8e186"
            ],
            [
             0.8,
             "#7fbc41"
            ],
            [
             0.9,
             "#4d9221"
            ],
            [
             1,
             "#276419"
            ]
           ],
           "sequential": [
            [
             0,
             "#0d0887"
            ],
            [
             0.1111111111111111,
             "#46039f"
            ],
            [
             0.2222222222222222,
             "#7201a8"
            ],
            [
             0.3333333333333333,
             "#9c179e"
            ],
            [
             0.4444444444444444,
             "#bd3786"
            ],
            [
             0.5555555555555556,
             "#d8576b"
            ],
            [
             0.6666666666666666,
             "#ed7953"
            ],
            [
             0.7777777777777778,
             "#fb9f3a"
            ],
            [
             0.8888888888888888,
             "#fdca26"
            ],
            [
             1,
             "#f0f921"
            ]
           ],
           "sequentialminus": [
            [
             0,
             "#0d0887"
            ],
            [
             0.1111111111111111,
             "#46039f"
            ],
            [
             0.2222222222222222,
             "#7201a8"
            ],
            [
             0.3333333333333333,
             "#9c179e"
            ],
            [
             0.4444444444444444,
             "#bd3786"
            ],
            [
             0.5555555555555556,
             "#d8576b"
            ],
            [
             0.6666666666666666,
             "#ed7953"
            ],
            [
             0.7777777777777778,
             "#fb9f3a"
            ],
            [
             0.8888888888888888,
             "#fdca26"
            ],
            [
             1,
             "#f0f921"
            ]
           ]
          },
          "colorway": [
           "#636efa",
           "#EF553B",
           "#00cc96",
           "#ab63fa",
           "#FFA15A",
           "#19d3f3",
           "#FF6692",
           "#B6E880",
           "#FF97FF",
           "#FECB52"
          ],
          "font": {
           "color": "#2a3f5f"
          },
          "geo": {
           "bgcolor": "white",
           "lakecolor": "white",
           "landcolor": "#E5ECF6",
           "showlakes": true,
           "showland": true,
           "subunitcolor": "white"
          },
          "hoverlabel": {
           "align": "left"
          },
          "hovermode": "closest",
          "mapbox": {
           "style": "light"
          },
          "paper_bgcolor": "white",
          "plot_bgcolor": "#E5ECF6",
          "polar": {
           "angularaxis": {
            "gridcolor": "white",
            "linecolor": "white",
            "ticks": ""
           },
           "bgcolor": "#E5ECF6",
           "radialaxis": {
            "gridcolor": "white",
            "linecolor": "white",
            "ticks": ""
           }
          },
          "scene": {
           "xaxis": {
            "backgroundcolor": "#E5ECF6",
            "gridcolor": "white",
            "gridwidth": 2,
            "linecolor": "white",
            "showbackground": true,
            "ticks": "",
            "zerolinecolor": "white"
           },
           "yaxis": {
            "backgroundcolor": "#E5ECF6",
            "gridcolor": "white",
            "gridwidth": 2,
            "linecolor": "white",
            "showbackground": true,
            "ticks": "",
            "zerolinecolor": "white"
           },
           "zaxis": {
            "backgroundcolor": "#E5ECF6",
            "gridcolor": "white",
            "gridwidth": 2,
            "linecolor": "white",
            "showbackground": true,
            "ticks": "",
            "zerolinecolor": "white"
           }
          },
          "shapedefaults": {
           "line": {
            "color": "#2a3f5f"
           }
          },
          "ternary": {
           "aaxis": {
            "gridcolor": "white",
            "linecolor": "white",
            "ticks": ""
           },
           "baxis": {
            "gridcolor": "white",
            "linecolor": "white",
            "ticks": ""
           },
           "bgcolor": "#E5ECF6",
           "caxis": {
            "gridcolor": "white",
            "linecolor": "white",
            "ticks": ""
           }
          },
          "title": {
           "x": 0.05
          },
          "xaxis": {
           "automargin": true,
           "gridcolor": "white",
           "linecolor": "white",
           "ticks": "",
           "title": {
            "standoff": 15
           },
           "zerolinecolor": "white",
           "zerolinewidth": 2
          },
          "yaxis": {
           "automargin": true,
           "gridcolor": "white",
           "linecolor": "white",
           "ticks": "",
           "title": {
            "standoff": 15
           },
           "zerolinecolor": "white",
           "zerolinewidth": 2
          }
         }
        },
        "title": {
         "text": "Distribution of Genres"
        },
        "width": 800
       }
      }
     },
     "metadata": {},
     "output_type": "display_data"
    }
   ],
   "source": [
    "genres = Counter()\n",
    "for i in range(movies1.shape[0]):\n",
    "    for j in movies1.genres[i]:\n",
    "        genres[j]+=1\n",
    "Genres = pd.DataFrame.from_dict(genres, orient='index').reset_index()\n",
    "Genres = Genres.rename(columns = {'index': 'Genres' ,0: 'Frequency'})\n",
    "\n",
    "Genres.loc[Genres['Frequency'] < 200, 'Genres'] = 'Others'\n",
    "fig = px.pie(Genres, values='Frequency', names='Genres',width=800,height=500)\n",
    "fig.update_layout(\n",
    "    title=\"Distribution of Genres\",\n",
    "    legend_title=\"Genre\",\n",
    "    font=dict(\n",
    "        size=14\n",
    "    )\n",
    ")\n",
    "fig.layout.template = 'plotly'\n",
    "fig.update_traces(textposition='inside', textinfo='percent+label')\n",
    "fig.show()"
   ]
  },
  {
   "cell_type": "markdown",
   "metadata": {},
   "source": [
    "Most of the movies are of Drama, Comedy, Thriller and Action genre.\n",
    "\n"
   ]
  },
  {
   "cell_type": "code",
   "execution_count": 27,
   "metadata": {},
   "outputs": [
    {
     "data": {
      "image/png": "[encoded data removed]",
      "text/plain": [
       "<Figure size 640x480 with 1 Axes>"
      ]
     },
     "metadata": {},
     "output_type": "display_data"
    }
   ],
   "source": [
    "# Word cloud for Genre\n",
    "wc = WordCloud(background_color='white',min_font_size = 5, width = 1600, height=900, margin=2)\n",
    "wc=wc.fit_words(genres)\n",
    "plt.imshow(wc)\n",
    "plt.axis('off')\n",
    "plt.show()"
   ]
  },
  {
   "cell_type": "code",
   "execution_count": 28,
   "metadata": {},
   "outputs": [
    {
     "data": {
      "text/html": [
       "<style type=\"text/css\">\n",
       "#T_a0e81_row0_col1 {\n",
       "  background-color: #67001f;\n",
       "  color: #f1f1f1;\n",
       "}\n",
       "#T_a0e81_row1_col1 {\n",
       "  background-color: #7f0823;\n",
       "  color: #f1f1f1;\n",
       "}\n",
       "#T_a0e81_row2_col1 {\n",
       "  background-color: #bf3338;\n",
       "  color: #f1f1f1;\n",
       "}\n",
       "#T_a0e81_row3_col1 {\n",
       "  background-color: #fdd9c4;\n",
       "  color: #000000;\n",
       "}\n",
       "#T_a0e81_row4_col1 {\n",
       "  background-color: #f8f2ef;\n",
       "  color: #000000;\n",
       "}\n",
       "#T_a0e81_row5_col1 {\n",
       "  background-color: #bddbea;\n",
       "  color: #000000;\n",
       "}\n",
       "#T_a0e81_row6_col1 {\n",
       "  background-color: #408fc1;\n",
       "  color: #f1f1f1;\n",
       "}\n",
       "#T_a0e81_row7_col1 {\n",
       "  background-color: #3b88be;\n",
       "  color: #f1f1f1;\n",
       "}\n",
       "#T_a0e81_row8_col1 {\n",
       "  background-color: #3480b9;\n",
       "  color: #f1f1f1;\n",
       "}\n",
       "#T_a0e81_row9_col1 {\n",
       "  background-color: #246aae;\n",
       "  color: #f1f1f1;\n",
       "}\n",
       "#T_a0e81_row10_col1 {\n",
       "  background-color: #1d5fa2;\n",
       "  color: #f1f1f1;\n",
       "}\n",
       "#T_a0e81_row11_col1 {\n",
       "  background-color: #1a5899;\n",
       "  color: #f1f1f1;\n",
       "}\n",
       "#T_a0e81_row12_col1 {\n",
       "  background-color: #0c3d73;\n",
       "  color: #f1f1f1;\n",
       "}\n",
       "#T_a0e81_row13_col1 {\n",
       "  background-color: #09386d;\n",
       "  color: #f1f1f1;\n",
       "}\n",
       "#T_a0e81_row14_col1 {\n",
       "  background-color: #053061;\n",
       "  color: #f1f1f1;\n",
       "}\n",
       "</style>\n",
       "<table id=\"T_a0e81\">\n",
       "  <thead>\n",
       "    <tr>\n",
       "      <th class=\"blank level0\" >&nbsp;</th>\n",
       "      <th id=\"T_a0e81_level0_col0\" class=\"col_heading level0 col0\" >Production Company</th>\n",
       "      <th id=\"T_a0e81_level0_col1\" class=\"col_heading level0 col1\" >Frequency</th>\n",
       "    </tr>\n",
       "  </thead>\n",
       "  <tbody>\n",
       "    <tr>\n",
       "      <th id=\"T_a0e81_level0_row0\" class=\"row_heading level0 row0\" >0</th>\n",
       "      <td id=\"T_a0e81_row0_col0\" class=\"data row0 col0\" >Warner Bros.</td>\n",
       "      <td id=\"T_a0e81_row0_col1\" class=\"data row0 col1\" >319</td>\n",
       "    </tr>\n",
       "    <tr>\n",
       "      <th id=\"T_a0e81_level0_row1\" class=\"row_heading level0 row1\" >1</th>\n",
       "      <td id=\"T_a0e81_row1_col0\" class=\"data row1 col0\" >Universal Pictures</td>\n",
       "      <td id=\"T_a0e81_row1_col1\" class=\"data row1 col1\" >311</td>\n",
       "    </tr>\n",
       "    <tr>\n",
       "      <th id=\"T_a0e81_level0_row2\" class=\"row_heading level0 row2\" >2</th>\n",
       "      <td id=\"T_a0e81_row2_col0\" class=\"data row2 col0\" >Paramount Pictures</td>\n",
       "      <td id=\"T_a0e81_row2_col1\" class=\"data row2 col1\" >285</td>\n",
       "    </tr>\n",
       "    <tr>\n",
       "      <th id=\"T_a0e81_level0_row3\" class=\"row_heading level0 row3\" >3</th>\n",
       "      <td id=\"T_a0e81_row3_col0\" class=\"data row3 col0\" >Twentieth Century Fox Film Corporation</td>\n",
       "      <td id=\"T_a0e81_row3_col1\" class=\"data row3 col1\" >222</td>\n",
       "    </tr>\n",
       "    <tr>\n",
       "      <th id=\"T_a0e81_level0_row4\" class=\"row_heading level0 row4\" >4</th>\n",
       "      <td id=\"T_a0e81_row4_col0\" class=\"data row4 col0\" >Columbia Pictures</td>\n",
       "      <td id=\"T_a0e81_row4_col1\" class=\"data row4 col1\" >201</td>\n",
       "    </tr>\n",
       "    <tr>\n",
       "      <th id=\"T_a0e81_level0_row5\" class=\"row_heading level0 row5\" >5</th>\n",
       "      <td id=\"T_a0e81_row5_col0\" class=\"data row5 col0\" >New Line Cinema</td>\n",
       "      <td id=\"T_a0e81_row5_col1\" class=\"data row5 col1\" >165</td>\n",
       "    </tr>\n",
       "    <tr>\n",
       "      <th id=\"T_a0e81_level0_row6\" class=\"row_heading level0 row6\" >6</th>\n",
       "      <td id=\"T_a0e81_row6_col0\" class=\"data row6 col0\" >Metro-Goldwyn-Mayer (MGM)</td>\n",
       "      <td id=\"T_a0e81_row6_col1\" class=\"data row6 col1\" >122</td>\n",
       "    </tr>\n",
       "    <tr>\n",
       "      <th id=\"T_a0e81_level0_row7\" class=\"row_heading level0 row7\" >7</th>\n",
       "      <td id=\"T_a0e81_row7_col0\" class=\"data row7 col0\" >Touchstone Pictures</td>\n",
       "      <td id=\"T_a0e81_row7_col1\" class=\"data row7 col1\" >118</td>\n",
       "    </tr>\n",
       "    <tr>\n",
       "      <th id=\"T_a0e81_level0_row8\" class=\"row_heading level0 row8\" >8</th>\n",
       "      <td id=\"T_a0e81_row8_col0\" class=\"data row8 col0\" >Walt Disney Pictures</td>\n",
       "      <td id=\"T_a0e81_row8_col1\" class=\"data row8 col1\" >114</td>\n",
       "    </tr>\n",
       "    <tr>\n",
       "      <th id=\"T_a0e81_level0_row9\" class=\"row_heading level0 row9\" >9</th>\n",
       "      <td id=\"T_a0e81_row9_col0\" class=\"data row9 col0\" >Relativity Media</td>\n",
       "      <td id=\"T_a0e81_row9_col1\" class=\"data row9 col1\" >102</td>\n",
       "    </tr>\n",
       "    <tr>\n",
       "      <th id=\"T_a0e81_level0_row10\" class=\"row_heading level0 row10\" >10</th>\n",
       "      <td id=\"T_a0e81_row10_col0\" class=\"data row10 col0\" >Columbia Pictures Corporation</td>\n",
       "      <td id=\"T_a0e81_row10_col1\" class=\"data row10 col1\" >96</td>\n",
       "    </tr>\n",
       "    <tr>\n",
       "      <th id=\"T_a0e81_level0_row11\" class=\"row_heading level0 row11\" >11</th>\n",
       "      <td id=\"T_a0e81_row11_col0\" class=\"data row11 col0\" >Miramax Films</td>\n",
       "      <td id=\"T_a0e81_row11_col1\" class=\"data row11 col1\" >94</td>\n",
       "    </tr>\n",
       "    <tr>\n",
       "      <th id=\"T_a0e81_level0_row12\" class=\"row_heading level0 row12\" >12</th>\n",
       "      <td id=\"T_a0e81_row12_col0\" class=\"data row12 col0\" >Village Roadshow Pictures</td>\n",
       "      <td id=\"T_a0e81_row12_col1\" class=\"data row12 col1\" >81</td>\n",
       "    </tr>\n",
       "    <tr>\n",
       "      <th id=\"T_a0e81_level0_row13\" class=\"row_heading level0 row13\" >13</th>\n",
       "      <td id=\"T_a0e81_row13_col0\" class=\"data row13 col0\" >DreamWorks SKG</td>\n",
       "      <td id=\"T_a0e81_row13_col1\" class=\"data row13 col1\" >79</td>\n",
       "    </tr>\n",
       "    <tr>\n",
       "      <th id=\"T_a0e81_level0_row14\" class=\"row_heading level0 row14\" >14</th>\n",
       "      <td id=\"T_a0e81_row14_col0\" class=\"data row14 col0\" >United Artists</td>\n",
       "      <td id=\"T_a0e81_row14_col1\" class=\"data row14 col1\" >75</td>\n",
       "    </tr>\n",
       "  </tbody>\n",
       "</table>\n"
      ],
      "text/plain": [
       "<pandas.io.formats.style.Styler at 0x1d487f2cfe0>"
      ]
     },
     "execution_count": 28,
     "metadata": {},
     "output_type": "execute_result"
    }
   ],
   "source": [
    "# Top production Comapanies\n",
    "prod = Counter()\n",
    "for i in range(movies1.shape[0]):\n",
    "    for j in movies1.production_companies[i]:\n",
    "        prod[j]+=1\n",
    "movie_prod = pd.DataFrame.from_dict(prod, orient='index').reset_index()\n",
    "movie_prod = movie_prod.rename(columns = {'index': 'Production Company' ,0: 'Frequency'})\n",
    "movie_prod=movie_prod.sort_values(by = ['Frequency'],ascending=False).reset_index().head(15)\n",
    "movie_prod.drop(columns='index',axis=0,inplace=True)\n",
    "movie_prod.style.background_gradient(cmap='RdBu_r')"
   ]
  },
  {
   "cell_type": "code",
   "execution_count": 29,
   "metadata": {},
   "outputs": [
    {
     "data": {
      "application/vnd.plotly.v1+json": {
       "config": {
        "plotlyServerURL": "https://plot.ly"
       },
       "data": [
        {
         "alignmentgroup": "True",
         "hovertemplate": "Production Company=%{x}<br>Frequency=%{y}<extra></extra>",
         "legendgroup": "Warner Bros.",
         "marker": {
          "color": "#636efa",
          "pattern": {
           "shape": ""
          }
         },
         "name": "Warner Bros.",
         "offsetgroup": "Warner Bros.",
         "orientation": "v",
         "showlegend": true,
         "textposition": "auto",
         "type": "bar",
         "x": [
          "Warner Bros."
         ],
         "xaxis": "x",
         "y": [
          319
         ],
         "yaxis": "y"
        },
        {
         "alignmentgroup": "True",
         "hovertemplate": "Production Company=%{x}<br>Frequency=%{y}<extra></extra>",
         "legendgroup": "Universal Pictures",
         "marker": {
          "color": "#EF553B",
          "pattern": {
           "shape": ""
          }
         },
         "name": "Universal Pictures",
         "offsetgroup": "Universal Pictures",
         "orientation": "v",
         "showlegend": true,
         "textposition": "auto",
         "type": "bar",
         "x": [
          "Universal Pictures"
         ],
         "xaxis": "x",
         "y": [
          311
         ],
         "yaxis": "y"
        },
        {
         "alignmentgroup": "True",
         "hovertemplate": "Production Company=%{x}<br>Frequency=%{y}<extra></extra>",
         "legendgroup": "Paramount Pictures",
         "marker": {
          "color": "#00cc96",
          "pattern": {
           "shape": ""
          }
         },
         "name": "Paramount Pictures",
         "offsetgroup": "Paramount Pictures",
         "orientation": "v",
         "showlegend": true,
         "textposition": "auto",
         "type": "bar",
         "x": [
          "Paramount Pictures"
         ],
         "xaxis": "x",
         "y": [
          285
         ],
         "yaxis": "y"
        },
        {
         "alignmentgroup": "True",
         "hovertemplate": "Production Company=%{x}<br>Frequency=%{y}<extra></extra>",
         "legendgroup": "Twentieth Century Fox Film Corporation",
         "marker": {
          "color": "#ab63fa",
          "pattern": {
           "shape": ""
          }
         },
         "name": "Twentieth Century Fox Film Corporation",
         "offsetgroup": "Twentieth Century Fox Film Corporation",
         "orientation": "v",
         "showlegend": true,
         "textposition": "auto",
         "type": "bar",
         "x": [
          "Twentieth Century Fox Film Corporation"
         ],
         "xaxis": "x",
         "y": [
          222
         ],
         "yaxis": "y"
        },
        {
         "alignmentgroup": "True",
         "hovertemplate": "Production Company=%{x}<br>Frequency=%{y}<extra></extra>",
         "legendgroup": "Columbia Pictures",
         "marker": {
          "color": "#FFA15A",
          "pattern": {
           "shape": ""
          }
         },
         "name": "Columbia Pictures",
         "offsetgroup": "Columbia Pictures",
         "orientation": "v",
         "showlegend": true,
         "textposition": "auto",
         "type": "bar",
         "x": [
          "Columbia Pictures"
         ],
         "xaxis": "x",
         "y": [
          201
         ],
         "yaxis": "y"
        },
        {
         "alignmentgroup": "True",
         "hovertemplate": "Production Company=%{x}<br>Frequency=%{y}<extra></extra>",
         "legendgroup": "New Line Cinema",
         "marker": {
          "color": "#19d3f3",
          "pattern": {
           "shape": ""
          }
         },
         "name": "New Line Cinema",
         "offsetgroup": "New Line Cinema",
         "orientation": "v",
         "showlegend": true,
         "textposition": "auto",
         "type": "bar",
         "x": [
          "New Line Cinema"
         ],
         "xaxis": "x",
         "y": [
          165
         ],
         "yaxis": "y"
        },
        {
         "alignmentgroup": "True",
         "hovertemplate": "Production Company=%{x}<br>Frequency=%{y}<extra></extra>",
         "legendgroup": "Metro-Goldwyn-Mayer (MGM)",
         "marker": {
          "color": "#FF6692",
          "pattern": {
           "shape": ""
          }
         },
         "name": "Metro-Goldwyn-Mayer (MGM)",
         "offsetgroup": "Metro-Goldwyn-Mayer (MGM)",
         "orientation": "v",
         "showlegend": true,
         "textposition": "auto",
         "type": "bar",
         "x": [
          "Metro-Goldwyn-Mayer (MGM)"
         ],
         "xaxis": "x",
         "y": [
          122
         ],
         "yaxis": "y"
        },
        {
         "alignmentgroup": "True",
         "hovertemplate": "Production Company=%{x}<br>Frequency=%{y}<extra></extra>",
         "legendgroup": "Touchstone Pictures",
         "marker": {
          "color": "#B6E880",
          "pattern": {
           "shape": ""
          }
         },
         "name": "Touchstone Pictures",
         "offsetgroup": "Touchstone Pictures",
         "orientation": "v",
         "showlegend": true,
         "textposition": "auto",
         "type": "bar",
         "x": [
          "Touchstone Pictures"
         ],
         "xaxis": "x",
         "y": [
          118
         ],
         "yaxis": "y"
        },
        {
         "alignmentgroup": "True",
         "hovertemplate": "Production Company=%{x}<br>Frequency=%{y}<extra></extra>",
         "legendgroup": "Walt Disney Pictures",
         "marker": {
          "color": "#FF97FF",
          "pattern": {
           "shape": ""
          }
         },
         "name": "Walt Disney Pictures",
         "offsetgroup": "Walt Disney Pictures",
         "orientation": "v",
         "showlegend": true,
         "textposition": "auto",
         "type": "bar",
         "x": [
          "Walt Disney Pictures"
         ],
         "xaxis": "x",
         "y": [
          114
         ],
         "yaxis": "y"
        },
        {
         "alignmentgroup": "True",
         "hovertemplate": "Production Company=%{x}<br>Frequency=%{y}<extra></extra>",
         "legendgroup": "Relativity Media",
         "marker": {
          "color": "#FECB52",
          "pattern": {
           "shape": ""
          }
         },
         "name": "Relativity Media",
         "offsetgroup": "Relativity Media",
         "orientation": "v",
         "showlegend": true,
         "textposition": "auto",
         "type": "bar",
         "x": [
          "Relativity Media"
         ],
         "xaxis": "x",
         "y": [
          102
         ],
         "yaxis": "y"
        },
        {
         "alignmentgroup": "True",
         "hovertemplate": "Production Company=%{x}<br>Frequency=%{y}<extra></extra>",
         "legendgroup": "Columbia Pictures Corporation",
         "marker": {
          "color": "#636efa",
          "pattern": {
           "shape": ""
          }
         },
         "name": "Columbia Pictures Corporation",
         "offsetgroup": "Columbia Pictures Corporation",
         "orientation": "v",
         "showlegend": true,
         "textposition": "auto",
         "type": "bar",
         "x": [
          "Columbia Pictures Corporation"
         ],
         "xaxis": "x",
         "y": [
          96
         ],
         "yaxis": "y"
        },
        {
         "alignmentgroup": "True",
         "hovertemplate": "Production Company=%{x}<br>Frequency=%{y}<extra></extra>",
         "legendgroup": "Miramax Films",
         "marker": {
          "color": "#EF553B",
          "pattern": {
           "shape": ""
          }
         },
         "name": "Miramax Films",
         "offsetgroup": "Miramax Films",
         "orientation": "v",
         "showlegend": true,
         "textposition": "auto",
         "type": "bar",
         "x": [
          "Miramax Films"
         ],
         "xaxis": "x",
         "y": [
          94
         ],
         "yaxis": "y"
        },
        {
         "alignmentgroup": "True",
         "hovertemplate": "Production Company=%{x}<br>Frequency=%{y}<extra></extra>",
         "legendgroup": "Village Roadshow Pictures",
         "marker": {
          "color": "#00cc96",
          "pattern": {
           "shape": ""
          }
         },
         "name": "Village Roadshow Pictures",
         "offsetgroup": "Village Roadshow Pictures",
         "orientation": "v",
         "showlegend": true,
         "textposition": "auto",
         "type": "bar",
         "x": [
          "Village Roadshow Pictures"
         ],
         "xaxis": "x",
         "y": [
          81
         ],
         "yaxis": "y"
        },
        {
         "alignmentgroup": "True",
         "hovertemplate": "Production Company=%{x}<br>Frequency=%{y}<extra></extra>",
         "legendgroup": "DreamWorks SKG",
         "marker": {
          "color": "#ab63fa",
          "pattern": {
           "shape": ""
          }
         },
         "name": "DreamWorks SKG",
         "offsetgroup": "DreamWorks SKG",
         "orientation": "v",
         "showlegend": true,
         "textposition": "auto",
         "type": "bar",
         "x": [
          "DreamWorks SKG"
         ],
         "xaxis": "x",
         "y": [
          79
         ],
         "yaxis": "y"
        },
        {
         "alignmentgroup": "True",
         "hovertemplate": "Production Company=%{x}<br>Frequency=%{y}<extra></extra>",
         "legendgroup": "United Artists",
         "marker": {
          "color": "#FFA15A",
          "pattern": {
           "shape": ""
          }
         },
         "name": "United Artists",
         "offsetgroup": "United Artists",
         "orientation": "v",
         "showlegend": true,
         "textposition": "auto",
         "type": "bar",
         "x": [
          "United Artists"
         ],
         "xaxis": "x",
         "y": [
          75
         ],
         "yaxis": "y"
        }
       ],
       "layout": {
        "barmode": "relative",
        "font": {
         "size": 14
        },
        "height": 650,
        "legend": {
         "title": {
          "text": "Production Companies"
         },
         "tracegroupgap": 0
        },
        "margin": {
         "t": 60
        },
        "template": {
         "data": {
          "bar": [
           {
            "error_x": {
             "color": "#2a3f5f"
            },
            "error_y": {
             "color": "#2a3f5f"
            },
            "marker": {
             "line": {
              "color": "#E5ECF6",
              "width": 0.5
             },
             "pattern": {
              "fillmode": "overlay",
              "size": 10,
              "solidity": 0.2
             }
            },
            "type": "bar"
           }
          ],
          "barpolar": [
           {
            "marker": {
             "line": {
              "color": "#E5ECF6",
              "width": 0.5
             },
             "pattern": {
              "fillmode": "overlay",
              "size": 10,
              "solidity": 0.2
             }
            },
            "type": "barpolar"
           }
          ],
          "carpet": [
           {
            "aaxis": {
             "endlinecolor": "#2a3f5f",
             "gridcolor": "white",
             "linecolor": "white",
             "minorgridcolor": "white",
             "startlinecolor": "#2a3f5f"
            },
            "baxis": {
             "endlinecolor": "#2a3f5f",
             "gridcolor": "white",
             "linecolor": "white",
             "minorgridcolor": "white",
             "startlinecolor": "#2a3f5f"
            },
            "type": "carpet"
           }
          ],
          "choropleth": [
           {
            "colorbar": {
             "outlinewidth": 0,
             "ticks": ""
            },
            "type": "choropleth"
           }
          ],
          "contour": [
           {
            "colorbar": {
             "outlinewidth": 0,
             "ticks": ""
            },
            "colorscale": [
             [
              0,
              "#0d0887"
             ],
             [
              0.1111111111111111,
              "#46039f"
             ],
             [
              0.2222222222222222,
              "#7201a8"
             ],
             [
              0.3333333333333333,
              "#9c179e"
             ],
             [
              0.4444444444444444,
              "#bd3786"
             ],
             [
              0.5555555555555556,
              "#d8576b"
             ],
             [
              0.6666666666666666,
              "#ed7953"
             ],
             [
              0.7777777777777778,
              "#fb9f3a"
             ],
             [
              0.8888888888888888,
              "#fdca26"
             ],
             [
              1,
              "#f0f921"
             ]
            ],
            "type": "contour"
           }
          ],
          "contourcarpet": [
           {
            "colorbar": {
             "outlinewidth": 0,
             "ticks": ""
            },
            "type": "contourcarpet"
           }
          ],
          "heatmap": [
           {
            "colorbar": {
             "outlinewidth": 0,
             "ticks": ""
            },
            "colorscale": [
             [
              0,
              "#0d0887"
             ],
             [
              0.1111111111111111,
              "#46039f"
             ],
             [
              0.2222222222222222,
              "#7201a8"
             ],
             [
              0.3333333333333333,
              "#9c179e"
             ],
             [
              0.4444444444444444,
              "#bd3786"
             ],
             [
              0.5555555555555556,
              "#d8576b"
             ],
             [
              0.6666666666666666,
              "#ed7953"
             ],
             [
              0.7777777777777778,
              "#fb9f3a"
             ],
             [
              0.8888888888888888,
              "#fdca26"
             ],
             [
              1,
              "#f0f921"
             ]
            ],
            "type": "heatmap"
           }
          ],
          "heatmapgl": [
           {
            "colorbar": {
             "outlinewidth": 0,
             "ticks": ""
            },
            "colorscale": [
             [
              0,
              "#0d0887"
             ],
             [
              0.1111111111111111,
              "#46039f"
             ],
             [
              0.2222222222222222,
              "#7201a8"
             ],
             [
              0.3333333333333333,
              "#9c179e"
             ],
             [
              0.4444444444444444,
              "#bd3786"
             ],
             [
              0.5555555555555556,
              "#d8576b"
             ],
             [
              0.6666666666666666,
              "#ed7953"
             ],
             [
              0.7777777777777778,
              "#fb9f3a"
             ],
             [
              0.8888888888888888,
              "#fdca26"
             ],
             [
              1,
              "#f0f921"
             ]
            ],
            "type": "heatmapgl"
           }
          ],
          "histogram": [
           {
            "marker": {
             "pattern": {
              "fillmode": "overlay",
              "size": 10,
              "solidity": 0.2
             }
            },
            "type": "histogram"
           }
          ],
          "histogram2d": [
           {
            "colorbar": {
             "outlinewidth": 0,
             "ticks": ""
            },
            "colorscale": [
             [
              0,
              "#0d0887"
             ],
             [
              0.1111111111111111,
              "#46039f"
             ],
             [
              0.2222222222222222,
              "#7201a8"
             ],
             [
              0.3333333333333333,
              "#9c179e"
             ],
             [
              0.4444444444444444,
              "#bd3786"
             ],
             [
              0.5555555555555556,
              "#d8576b"
             ],
             [
              0.6666666666666666,
              "#ed7953"
             ],
             [
              0.7777777777777778,
              "#fb9f3a"
             ],
             [
              0.8888888888888888,
              "#fdca26"
             ],
             [
              1,
              "#f0f921"
             ]
            ],
            "type": "histogram2d"
           }
          ],
          "histogram2dcontour": [
           {
            "colorbar": {
             "outlinewidth": 0,
             "ticks": ""
            },
            "colorscale": [
             [
              0,
              "#0d0887"
             ],
             [
              0.1111111111111111,
              "#46039f"
             ],
             [
              0.2222222222222222,
              "#7201a8"
             ],
             [
              0.3333333333333333,
              "#9c179e"
             ],
             [
              0.4444444444444444,
              "#bd3786"
             ],
             [
              0.5555555555555556,
              "#d8576b"
             ],
             [
              0.6666666666666666,
              "#ed7953"
             ],
             [
              0.7777777777777778,
              "#fb9f3a"
             ],
             [
              0.8888888888888888,
              "#fdca26"
             ],
             [
              1,
              "#f0f921"
             ]
            ],
            "type": "histogram2dcontour"
           }
          ],
          "mesh3d": [
           {
            "colorbar": {
             "outlinewidth": 0,
             "ticks": ""
            },
            "type": "mesh3d"
           }
          ],
          "parcoords": [
           {
            "line": {
             "colorbar": {
              "outlinewidth": 0,
              "ticks": ""
             }
            },
            "type": "parcoords"
           }
          ],
          "pie": [
           {
            "automargin": true,
            "type": "pie"
           }
          ],
          "scatter": [
           {
            "fillpattern": {
             "fillmode": "overlay",
             "size": 10,
             "solidity": 0.2
            },
            "type": "scatter"
           }
          ],
          "scatter3d": [
           {
            "line": {
             "colorbar": {
              "outlinewidth": 0,
              "ticks": ""
             }
            },
            "marker": {
             "colorbar": {
              "outlinewidth": 0,
              "ticks": ""
             }
            },
            "type": "scatter3d"
           }
          ],
          "scattercarpet": [
           {
            "marker": {
             "colorbar": {
              "outlinewidth": 0,
              "ticks": ""
             }
            },
            "type": "scattercarpet"
           }
          ],
          "scattergeo": [
           {
            "marker": {
             "colorbar": {
              "outlinewidth": 0,
              "ticks": ""
             }
            },
            "type": "scattergeo"
           }
          ],
          "scattergl": [
           {
            "marker": {
             "colorbar": {
              "outlinewidth": 0,
              "ticks": ""
             }
            },
            "type": "scattergl"
           }
          ],
          "scattermapbox": [
           {
            "marker": {
             "colorbar": {
              "outlinewidth": 0,
              "ticks": ""
             }
            },
            "type": "scattermapbox"
           }
          ],
          "scatterpolar": [
           {
            "marker": {
             "colorbar": {
              "outlinewidth": 0,
              "ticks": ""
             }
            },
            "type": "scatterpolar"
           }
          ],
          "scatterpolargl": [
           {
            "marker": {
             "colorbar": {
              "outlinewidth": 0,
              "ticks": ""
             }
            },
            "type": "scatterpolargl"
           }
          ],
          "scatterternary": [
           {
            "marker": {
             "colorbar": {
              "outlinewidth": 0,
              "ticks": ""
             }
            },
            "type": "scatterternary"
           }
          ],
          "surface": [
           {
            "colorbar": {
             "outlinewidth": 0,
             "ticks": ""
            },
            "colorscale": [
             [
              0,
              "#0d0887"
             ],
             [
              0.1111111111111111,
              "#46039f"
             ],
             [
              0.2222222222222222,
              "#7201a8"
             ],
             [
              0.3333333333333333,
              "#9c179e"
             ],
             [
              0.4444444444444444,
              "#bd3786"
             ],
             [
              0.5555555555555556,
              "#d8576b"
             ],
             [
              0.6666666666666666,
              "#ed7953"
             ],
             [
              0.7777777777777778,
              "#fb9f3a"
             ],
             [
              0.8888888888888888,
              "#fdca26"
             ],
             [
              1,
              "#f0f921"
             ]
            ],
            "type": "surface"
           }
          ],
          "table": [
           {
            "cells": {
             "fill": {
              "color": "#EBF0F8"
             },
             "line": {
              "color": "white"
             }
            },
            "header": {
             "fill": {
              "color": "#C8D4E3"
             },
             "line": {
              "color": "white"
             }
            },
            "type": "table"
           }
          ]
         },
         "layout": {
          "annotationdefaults": {
           "arrowcolor": "#2a3f5f",
           "arrowhead": 0,
           "arrowwidth": 1
          },
          "autotypenumbers": "strict",
          "coloraxis": {
           "colorbar": {
            "outlinewidth": 0,
            "ticks": ""
           }
          },
          "colorscale": {
           "diverging": [
            [
             0,
             "#8e0152"
            ],
            [
             0.1,
             "#c51b7d"
            ],
            [
             0.2,
             "#de77ae"
            ],
            [
             0.3,
             "#f1b6da"
            ],
            [
             0.4,
             "#fde0ef"
            ],
            [
             0.5,
             "#f7f7f7"
            ],
            [
             0.6,
             "#e6f5d0"
            ],
            [
             0.7,
             "#b8e186"
            ],
            [
             0.8,
             "#7fbc41"
            ],
            [
             0.9,
             "#4d9221"
            ],
            [
             1,
             "#276419"
            ]
           ],
           "sequential": [
            [
             0,
             "#0d0887"
            ],
            [
             0.1111111111111111,
             "#46039f"
            ],
            [
             0.2222222222222222,
             "#7201a8"
            ],
            [
             0.3333333333333333,
             "#9c179e"
            ],
            [
             0.4444444444444444,
             "#bd3786"
            ],
            [
             0.5555555555555556,
             "#d8576b"
            ],
            [
             0.6666666666666666,
             "#ed7953"
            ],
            [
             0.7777777777777778,
             "#fb9f3a"
            ],
            [
             0.8888888888888888,
             "#fdca26"
            ],
            [
             1,
             "#f0f921"
            ]
           ],
           "sequentialminus": [
            [
             0,
             "#0d0887"
            ],
            [
             0.1111111111111111,
             "#46039f"
            ],
            [
             0.2222222222222222,
             "#7201a8"
            ],
            [
             0.3333333333333333,
             "#9c179e"
            ],
            [
             0.4444444444444444,
             "#bd3786"
            ],
            [
             0.5555555555555556,
             "#d8576b"
            ],
            [
             0.6666666666666666,
             "#ed7953"
            ],
            [
             0.7777777777777778,
             "#fb9f3a"
            ],
            [
             0.8888888888888888,
             "#fdca26"
            ],
            [
             1,
             "#f0f921"
            ]
           ]
          },
          "colorway": [
           "#636efa",
           "#EF553B",
           "#00cc96",
           "#ab63fa",
           "#FFA15A",
           "#19d3f3",
           "#FF6692",
           "#B6E880",
           "#FF97FF",
           "#FECB52"
          ],
          "font": {
           "color": "#2a3f5f"
          },
          "geo": {
           "bgcolor": "white",
           "lakecolor": "white",
           "landcolor": "#E5ECF6",
           "showlakes": true,
           "showland": true,
           "subunitcolor": "white"
          },
          "hoverlabel": {
           "align": "left"
          },
          "hovermode": "closest",
          "mapbox": {
           "style": "light"
          },
          "paper_bgcolor": "white",
          "plot_bgcolor": "#E5ECF6",
          "polar": {
           "angularaxis": {
            "gridcolor": "white",
            "linecolor": "white",
            "ticks": ""
           },
           "bgcolor": "#E5ECF6",
           "radialaxis": {
            "gridcolor": "white",
            "linecolor": "white",
            "ticks": ""
           }
          },
          "scene": {
           "xaxis": {
            "backgroundcolor": "#E5ECF6",
            "gridcolor": "white",
            "gridwidth": 2,
            "linecolor": "white",
            "showbackground": true,
            "ticks": "",
            "zerolinecolor": "white"
           },
           "yaxis": {
            "backgroundcolor": "#E5ECF6",
            "gridcolor": "white",
            "gridwidth": 2,
            "linecolor": "white",
            "showbackground": true,
            "ticks": "",
            "zerolinecolor": "white"
           },
           "zaxis": {
            "backgroundcolor": "#E5ECF6",
            "gridcolor": "white",
            "gridwidth": 2,
            "linecolor": "white",
            "showbackground": true,
            "ticks": "",
            "zerolinecolor": "white"
           }
          },
          "shapedefaults": {
           "line": {
            "color": "#2a3f5f"
           }
          },
          "ternary": {
           "aaxis": {
            "gridcolor": "white",
            "linecolor": "white",
            "ticks": ""
           },
           "baxis": {
            "gridcolor": "white",
            "linecolor": "white",
            "ticks": ""
           },
           "bgcolor": "#E5ECF6",
           "caxis": {
            "gridcolor": "white",
            "linecolor": "white",
            "ticks": ""
           }
          },
          "title": {
           "x": 0.05
          },
          "xaxis": {
           "automargin": true,
           "gridcolor": "white",
           "linecolor": "white",
           "ticks": "",
           "title": {
            "standoff": 15
           },
           "zerolinecolor": "white",
           "zerolinewidth": 2
          },
          "yaxis": {
           "automargin": true,
           "gridcolor": "white",
           "linecolor": "white",
           "ticks": "",
           "title": {
            "standoff": 15
           },
           "zerolinecolor": "white",
           "zerolinewidth": 2
          }
         }
        },
        "title": {
         "text": "Top 15 Production Companies"
        },
        "width": 1000,
        "xaxis": {
         "anchor": "y",
         "categoryarray": [
          "Warner Bros.",
          "Universal Pictures",
          "Paramount Pictures",
          "Twentieth Century Fox Film Corporation",
          "Columbia Pictures",
          "New Line Cinema",
          "Metro-Goldwyn-Mayer (MGM)",
          "Touchstone Pictures",
          "Walt Disney Pictures",
          "Relativity Media",
          "Columbia Pictures Corporation",
          "Miramax Films",
          "Village Roadshow Pictures",
          "DreamWorks SKG",
          "United Artists"
         ],
         "categoryorder": "array",
         "domain": [
          0,
          1
         ],
         "title": {
          "text": "Production Companies"
         }
        },
        "yaxis": {
         "anchor": "x",
         "domain": [
          0,
          1
         ],
         "title": {
          "text": "Frequency"
         }
        }
       }
      }
     },
     "metadata": {},
     "output_type": "display_data"
    }
   ],
   "source": [
    "fig = px.bar( movie_prod, x='Production Company',y='Frequency', color ='Production Company',width=1000, height=650) \n",
    "fig.update_layout(\n",
    "    title=\"Top 15 Production Companies\",\n",
    "    xaxis_title=\"Production Companies\",\n",
    "    yaxis_title=\"Frequency\",\n",
    "    legend_title=\"Production Companies\",\n",
    "    font=dict(\n",
    "        size=14\n",
    "    )\n",
    ")\n",
    "fig.layout.template = 'plotly'\n",
    "fig.show()"
   ]
  },
  {
   "cell_type": "markdown",
   "metadata": {},
   "source": [
    "Warner Bros. has produced highest number of movies, follwed by Universal Pictures and Paramount Pictures.\n",
    "\n"
   ]
  },
  {
   "cell_type": "code",
   "execution_count": 33,
   "metadata": {},
   "outputs": [
    {
     "data": {
      "application/vnd.plotly.v1+json": {
       "config": {
        "plotlyServerURL": "https://plot.ly"
       },
       "data": [
        {
         "hovertemplate": "title_x=%{x}<br>popularity=%{marker.color}<extra></extra>",
         "legendgroup": "",
         "marker": {
          "color": [
           875.581305,
           724.247784,
           514.569956,
           481.098624,
           434.278564,
           418.708552,
           271.972889,
           243.791743,
           206.227151,
           203.73459,
           202.042635,
           198.372395,
           192.528841,
           187.322927,
           167.93287
          ],
          "coloraxis": "coloraxis",
          "size": [
           875.581305,
           724.247784,
           514.569956,
           481.098624,
           434.278564,
           418.708552,
           271.972889,
           243.791743,
           206.227151,
           203.73459,
           202.042635,
           198.372395,
           192.528841,
           187.322927,
           167.93287
          ],
          "sizemode": "area",
          "sizeref": 2.1889532625,
          "symbol": "circle"
         },
         "mode": "markers",
         "name": "",
         "orientation": "v",
         "showlegend": false,
         "type": "scatter",
         "x": [
          "Minions",
          "Interstellar",
          "Deadpool",
          "Guardians of the Galaxy",
          "Mad Max: Fury Road",
          "Jurassic World",
          "Pirates of the Caribbean: The Curse of the Black Pearl",
          "Dawn of the Planet of the Apes",
          "The Hunger Games: Mockingjay - Part 1",
          "Big Hero 6",
          "Terminator Genisys",
          "Captain America: Civil War",
          "Whiplash",
          "The Dark Knight",
          "The Martian"
         ],
         "xaxis": "x",
         "y": [
          875.581305,
          724.247784,
          514.569956,
          481.098624,
          434.278564,
          418.708552,
          271.972889,
          243.791743,
          206.227151,
          203.73459,
          202.042635,
          198.372395,
          192.528841,
          187.322927,
          167.93287
         ],
         "yaxis": "y"
        }
       ],
       "layout": {
        "coloraxis": {
         "colorbar": {
          "title": {
           "text": "popularity"
          }
         },
         "colorscale": [
          [
           0,
           "#0d0887"
          ],
          [
           0.1111111111111111,
           "#46039f"
          ],
          [
           0.2222222222222222,
           "#7201a8"
          ],
          [
           0.3333333333333333,
           "#9c179e"
          ],
          [
           0.4444444444444444,
           "#bd3786"
          ],
          [
           0.5555555555555556,
           "#d8576b"
          ],
          [
           0.6666666666666666,
           "#ed7953"
          ],
          [
           0.7777777777777778,
           "#fb9f3a"
          ],
          [
           0.8888888888888888,
           "#fdca26"
          ],
          [
           1,
           "#f0f921"
          ]
         ]
        },
        "font": {
         "size": 14
        },
        "height": 650,
        "legend": {
         "itemsizing": "constant",
         "title": {
          "text": "Popularity"
         },
         "tracegroupgap": 0
        },
        "margin": {
         "t": 60
        },
        "template": {
         "data": {
          "bar": [
           {
            "error_x": {
             "color": "#2a3f5f"
            },
            "error_y": {
             "color": "#2a3f5f"
            },
            "marker": {
             "line": {
              "color": "#E5ECF6",
              "width": 0.5
             },
             "pattern": {
              "fillmode": "overlay",
              "size": 10,
              "solidity": 0.2
             }
            },
            "type": "bar"
           }
          ],
          "barpolar": [
           {
            "marker": {
             "line": {
              "color": "#E5ECF6",
              "width": 0.5
             },
             "pattern": {
              "fillmode": "overlay",
              "size": 10,
              "solidity": 0.2
             }
            },
            "type": "barpolar"
           }
          ],
          "carpet": [
           {
            "aaxis": {
             "endlinecolor": "#2a3f5f",
             "gridcolor": "white",
             "linecolor": "white",
             "minorgridcolor": "white",
             "startlinecolor": "#2a3f5f"
            },
            "baxis": {
             "endlinecolor": "#2a3f5f",
             "gridcolor": "white",
             "linecolor": "white",
             "minorgridcolor": "white",
             "startlinecolor": "#2a3f5f"
            },
            "type": "carpet"
           }
          ],
          "choropleth": [
           {
            "colorbar": {
             "outlinewidth": 0,
             "ticks": ""
            },
            "type": "choropleth"
           }
          ],
          "contour": [
           {
            "colorbar": {
             "outlinewidth": 0,
             "ticks": ""
            },
            "colorscale": [
             [
              0,
              "#0d0887"
             ],
             [
              0.1111111111111111,
              "#46039f"
             ],
             [
              0.2222222222222222,
              "#7201a8"
             ],
             [
              0.3333333333333333,
              "#9c179e"
             ],
             [
              0.4444444444444444,
              "#bd3786"
             ],
             [
              0.5555555555555556,
              "#d8576b"
             ],
             [
              0.6666666666666666,
              "#ed7953"
             ],
             [
              0.7777777777777778,
              "#fb9f3a"
             ],
             [
              0.8888888888888888,
              "#fdca26"
             ],
             [
              1,
              "#f0f921"
             ]
            ],
            "type": "contour"
           }
          ],
          "contourcarpet": [
           {
            "colorbar": {
             "outlinewidth": 0,
             "ticks": ""
            },
            "type": "contourcarpet"
           }
          ],
          "heatmap": [
           {
            "colorbar": {
             "outlinewidth": 0,
             "ticks": ""
            },
            "colorscale": [
             [
              0,
              "#0d0887"
             ],
             [
              0.1111111111111111,
              "#46039f"
             ],
             [
              0.2222222222222222,
              "#7201a8"
             ],
             [
              0.3333333333333333,
              "#9c179e"
             ],
             [
              0.4444444444444444,
              "#bd3786"
             ],
             [
              0.5555555555555556,
              "#d8576b"
             ],
             [
              0.6666666666666666,
              "#ed7953"
             ],
             [
              0.7777777777777778,
              "#fb9f3a"
             ],
             [
              0.8888888888888888,
              "#fdca26"
             ],
             [
              1,
              "#f0f921"
             ]
            ],
            "type": "heatmap"
           }
          ],
          "heatmapgl": [
           {
            "colorbar": {
             "outlinewidth": 0,
             "ticks": ""
            },
            "colorscale": [
             [
              0,
              "#0d0887"
             ],
             [
              0.1111111111111111,
              "#46039f"
             ],
             [
              0.2222222222222222,
              "#7201a8"
             ],
             [
              0.3333333333333333,
              "#9c179e"
             ],
             [
              0.4444444444444444,
              "#bd3786"
             ],
             [
              0.5555555555555556,
              "#d8576b"
             ],
             [
              0.6666666666666666,
              "#ed7953"
             ],
             [
              0.7777777777777778,
              "#fb9f3a"
             ],
             [
              0.8888888888888888,
              "#fdca26"
             ],
             [
              1,
              "#f0f921"
             ]
            ],
            "type": "heatmapgl"
           }
          ],
          "histogram": [
           {
            "marker": {
             "pattern": {
              "fillmode": "overlay",
              "size": 10,
              "solidity": 0.2
             }
            },
            "type": "histogram"
           }
          ],
          "histogram2d": [
           {
            "colorbar": {
             "outlinewidth": 0,
             "ticks": ""
            },
            "colorscale": [
             [
              0,
              "#0d0887"
             ],
             [
              0.1111111111111111,
              "#46039f"
             ],
             [
              0.2222222222222222,
              "#7201a8"
             ],
             [
              0.3333333333333333,
              "#9c179e"
             ],
             [
              0.4444444444444444,
              "#bd3786"
             ],
             [
              0.5555555555555556,
              "#d8576b"
             ],
             [
              0.6666666666666666,
              "#ed7953"
             ],
             [
              0.7777777777777778,
              "#fb9f3a"
             ],
             [
              0.8888888888888888,
              "#fdca26"
             ],
             [
              1,
              "#f0f921"
             ]
            ],
            "type": "histogram2d"
           }
          ],
          "histogram2dcontour": [
           {
            "colorbar": {
             "outlinewidth": 0,
             "ticks": ""
            },
            "colorscale": [
             [
              0,
              "#0d0887"
             ],
             [
              0.1111111111111111,
              "#46039f"
             ],
             [
              0.2222222222222222,
              "#7201a8"
             ],
             [
              0.3333333333333333,
              "#9c179e"
             ],
             [
              0.4444444444444444,
              "#bd3786"
             ],
             [
              0.5555555555555556,
              "#d8576b"
             ],
             [
              0.6666666666666666,
              "#ed7953"
             ],
             [
              0.7777777777777778,
              "#fb9f3a"
             ],
             [
              0.8888888888888888,
              "#fdca26"
             ],
             [
              1,
              "#f0f921"
             ]
            ],
            "type": "histogram2dcontour"
           }
          ],
          "mesh3d": [
           {
            "colorbar": {
             "outlinewidth": 0,
             "ticks": ""
            },
            "type": "mesh3d"
           }
          ],
          "parcoords": [
           {
            "line": {
             "colorbar": {
              "outlinewidth": 0,
              "ticks": ""
             }
            },
            "type": "parcoords"
           }
          ],
          "pie": [
           {
            "automargin": true,
            "type": "pie"
           }
          ],
          "scatter": [
           {
            "fillpattern": {
             "fillmode": "overlay",
             "size": 10,
             "solidity": 0.2
            },
            "type": "scatter"
           }
          ],
          "scatter3d": [
           {
            "line": {
             "colorbar": {
              "outlinewidth": 0,
              "ticks": ""
             }
            },
            "marker": {
             "colorbar": {
              "outlinewidth": 0,
              "ticks": ""
             }
            },
            "type": "scatter3d"
           }
          ],
          "scattercarpet": [
           {
            "marker": {
             "colorbar": {
              "outlinewidth": 0,
              "ticks": ""
             }
            },
            "type": "scattercarpet"
           }
          ],
          "scattergeo": [
           {
            "marker": {
             "colorbar": {
              "outlinewidth": 0,
              "ticks": ""
             }
            },
            "type": "scattergeo"
           }
          ],
          "scattergl": [
           {
            "marker": {
             "colorbar": {
              "outlinewidth": 0,
              "ticks": ""
             }
            },
            "type": "scattergl"
           }
          ],
          "scattermapbox": [
           {
            "marker": {
             "colorbar": {
              "outlinewidth": 0,
              "ticks": ""
             }
            },
            "type": "scattermapbox"
           }
          ],
          "scatterpolar": [
           {
            "marker": {
             "colorbar": {
              "outlinewidth": 0,
              "ticks": ""
             }
            },
            "type": "scatterpolar"
           }
          ],
          "scatterpolargl": [
           {
            "marker": {
             "colorbar": {
              "outlinewidth": 0,
              "ticks": ""
             }
            },
            "type": "scatterpolargl"
           }
          ],
          "scatterternary": [
           {
            "marker": {
             "colorbar": {
              "outlinewidth": 0,
              "ticks": ""
             }
            },
            "type": "scatterternary"
           }
          ],
          "surface": [
           {
            "colorbar": {
             "outlinewidth": 0,
             "ticks": ""
            },
            "colorscale": [
             [
              0,
              "#0d0887"
             ],
             [
              0.1111111111111111,
              "#46039f"
             ],
             [
              0.2222222222222222,
              "#7201a8"
             ],
             [
              0.3333333333333333,
              "#9c179e"
             ],
             [
              0.4444444444444444,
              "#bd3786"
             ],
             [
              0.5555555555555556,
              "#d8576b"
             ],
             [
              0.6666666666666666,
              "#ed7953"
             ],
             [
              0.7777777777777778,
              "#fb9f3a"
             ],
             [
              0.8888888888888888,
              "#fdca26"
             ],
             [
              1,
              "#f0f921"
             ]
            ],
            "type": "surface"
           }
          ],
          "table": [
           {
            "cells": {
             "fill": {
              "color": "#EBF0F8"
             },
             "line": {
              "color": "white"
             }
            },
            "header": {
             "fill": {
              "color": "#C8D4E3"
             },
             "line": {
              "color": "white"
             }
            },
            "type": "table"
           }
          ]
         },
         "layout": {
          "annotationdefaults": {
           "arrowcolor": "#2a3f5f",
           "arrowhead": 0,
           "arrowwidth": 1
          },
          "autotypenumbers": "strict",
          "coloraxis": {
           "colorbar": {
            "outlinewidth": 0,
            "ticks": ""
           }
          },
          "colorscale": {
           "diverging": [
            [
             0,
             "#8e0152"
            ],
            [
             0.1,
             "#c51b7d"
            ],
            [
             0.2,
             "#de77ae"
            ],
            [
             0.3,
             "#f1b6da"
            ],
            [
             0.4,
             "#fde0ef"
            ],
            [
             0.5,
             "#f7f7f7"
            ],
            [
             0.6,
             "#e6f5d0"
            ],
            [
             0.7,
             "#b8e186"
            ],
            [
             0.8,
             "#7fbc41"
            ],
            [
             0.9,
             "#4d9221"
            ],
            [
             1,
             "#276419"
            ]
           ],
           "sequential": [
            [
             0,
             "#0d0887"
            ],
            [
             0.1111111111111111,
             "#46039f"
            ],
            [
             0.2222222222222222,
             "#7201a8"
            ],
            [
             0.3333333333333333,
             "#9c179e"
            ],
            [
             0.4444444444444444,
             "#bd3786"
            ],
            [
             0.5555555555555556,
             "#d8576b"
            ],
            [
             0.6666666666666666,
             "#ed7953"
            ],
            [
             0.7777777777777778,
             "#fb9f3a"
            ],
            [
             0.8888888888888888,
             "#fdca26"
            ],
            [
             1,
             "#f0f921"
            ]
           ],
           "sequentialminus": [
            [
             0,
             "#0d0887"
            ],
            [
             0.1111111111111111,
             "#46039f"
            ],
            [
             0.2222222222222222,
             "#7201a8"
            ],
            [
             0.3333333333333333,
             "#9c179e"
            ],
            [
             0.4444444444444444,
             "#bd3786"
            ],
            [
             0.5555555555555556,
             "#d8576b"
            ],
            [
             0.6666666666666666,
             "#ed7953"
            ],
            [
             0.7777777777777778,
             "#fb9f3a"
            ],
            [
             0.8888888888888888,
             "#fdca26"
            ],
            [
             1,
             "#f0f921"
            ]
           ]
          },
          "colorway": [
           "#636efa",
           "#EF553B",
           "#00cc96",
           "#ab63fa",
           "#FFA15A",
           "#19d3f3",
           "#FF6692",
           "#B6E880",
           "#FF97FF",
           "#FECB52"
          ],
          "font": {
           "color": "#2a3f5f"
          },
          "geo": {
           "bgcolor": "white",
           "lakecolor": "white",
           "landcolor": "#E5ECF6",
           "showlakes": true,
           "showland": true,
           "subunitcolor": "white"
          },
          "hoverlabel": {
           "align": "left"
          },
          "hovermode": "closest",
          "mapbox": {
           "style": "light"
          },
          "paper_bgcolor": "white",
          "plot_bgcolor": "#E5ECF6",
          "polar": {
           "angularaxis": {
            "gridcolor": "white",
            "linecolor": "white",
            "ticks": ""
           },
           "bgcolor": "#E5ECF6",
           "radialaxis": {
            "gridcolor": "white",
            "linecolor": "white",
            "ticks": ""
           }
          },
          "scene": {
           "xaxis": {
            "backgroundcolor": "#E5ECF6",
            "gridcolor": "white",
            "gridwidth": 2,
            "linecolor": "white",
            "showbackground": true,
            "ticks": "",
            "zerolinecolor": "white"
           },
           "yaxis": {
            "backgroundcolor": "#E5ECF6",
            "gridcolor": "white",
            "gridwidth": 2,
            "linecolor": "white",
            "showbackground": true,
            "ticks": "",
            "zerolinecolor": "white"
           },
           "zaxis": {
            "backgroundcolor": "#E5ECF6",
            "gridcolor": "white",
            "gridwidth": 2,
            "linecolor": "white",
            "showbackground": true,
            "ticks": "",
            "zerolinecolor": "white"
           }
          },
          "shapedefaults": {
           "line": {
            "color": "#2a3f5f"
           }
          },
          "ternary": {
           "aaxis": {
            "gridcolor": "white",
            "linecolor": "white",
            "ticks": ""
           },
           "baxis": {
            "gridcolor": "white",
            "linecolor": "white",
            "ticks": ""
           },
           "bgcolor": "#E5ECF6",
           "caxis": {
            "gridcolor": "white",
            "linecolor": "white",
            "ticks": ""
           }
          },
          "title": {
           "x": 0.05
          },
          "xaxis": {
           "automargin": true,
           "gridcolor": "white",
           "linecolor": "white",
           "ticks": "",
           "title": {
            "standoff": 15
           },
           "zerolinecolor": "white",
           "zerolinewidth": 2
          },
          "yaxis": {
           "automargin": true,
           "gridcolor": "white",
           "linecolor": "white",
           "ticks": "",
           "title": {
            "standoff": 15
           },
           "zerolinecolor": "white",
           "zerolinewidth": 2
          }
         }
        },
        "title": {
         "text": "Top 15 popular movies of all time"
        },
        "width": 950,
        "xaxis": {
         "anchor": "y",
         "domain": [
          0,
          1
         ],
         "title": {
          "text": "Movies"
         }
        },
        "yaxis": {
         "anchor": "x",
         "domain": [
          0,
          1
         ],
         "title": {
          "text": "Popularity"
         }
        }
       }
      }
     },
     "metadata": {},
     "output_type": "display_data"
    }
   ],
   "source": [
    "popular = movies1[['title_x','popularity']]\n",
    "popular=popular.sort_values(by='popularity',ascending=False).reset_index().head(15)\n",
    "popular.drop(columns='index',axis=0,inplace=True)\n",
    "\n",
    "fig = px.scatter( popular, x='title_x',y='popularity', color ='popularity',size='popularity',width=950, height=650) \n",
    "fig.update_layout(\n",
    "    title=\"Top 15 popular movies of all time\",\n",
    "    xaxis_title=\"Movies\",\n",
    "    yaxis_title=\"Popularity\",\n",
    "    legend_title=\"Popularity\",\n",
    "    font=dict(\n",
    "        size=14\n",
    "    )\n",
    ")\n",
    "fig.layout.template = 'plotly'\n",
    "fig.show()"
   ]
  },
  {
   "cell_type": "code",
   "execution_count": 34,
   "metadata": {},
   "outputs": [
    {
     "data": {
      "application/vnd.plotly.v1+json": {
       "config": {
        "plotlyServerURL": "https://plot.ly"
       },
       "data": [
        {
         "alignmentgroup": "True",
         "hovertemplate": "Year=%{x}<br>title_x=%{marker.color}<extra></extra>",
         "legendgroup": "",
         "marker": {
          "color": [
           1,
           1,
           1,
           2,
           1,
           1,
           2,
           1,
           1,
           2,
           2,
           2,
           3,
           5,
           1,
           2,
           2,
           4,
           3,
           3,
           3,
           2,
           1,
           3,
           4,
           4,
           4,
           2,
           3,
           2,
           1,
           3,
           3,
           5,
           7,
           8,
           10,
           8,
           6,
           4,
           10,
           10,
           12,
           10,
           9,
           9,
           8,
           6,
           9,
           16,
           14,
           16,
           22,
           33,
           24,
           23,
           28,
           28,
           26,
           31,
           31,
           32,
           29,
           30,
           34,
           47,
           55,
           70,
           97,
           112,
           133,
           171,
           166,
           183,
           203,
           169,
           204,
           217,
           237,
           195,
           227,
           247,
           225,
           223,
           208,
           231,
           237,
           214,
           104,
           1
          ],
          "coloraxis": "coloraxis",
          "pattern": {
           "shape": ""
          }
         },
         "name": "",
         "offsetgroup": "",
         "orientation": "v",
         "showlegend": false,
         "textposition": "auto",
         "type": "bar",
         "x": [
          1916,
          1925,
          1927,
          1929,
          1930,
          1932,
          1933,
          1934,
          1935,
          1936,
          1937,
          1938,
          1939,
          1940,
          1941,
          1942,
          1944,
          1945,
          1946,
          1947,
          1948,
          1949,
          1950,
          1951,
          1952,
          1953,
          1954,
          1955,
          1956,
          1957,
          1958,
          1959,
          1960,
          1961,
          1962,
          1963,
          1964,
          1965,
          1966,
          1967,
          1968,
          1969,
          1970,
          1971,
          1972,
          1973,
          1974,
          1975,
          1976,
          1977,
          1978,
          1979,
          1980,
          1981,
          1982,
          1983,
          1984,
          1985,
          1986,
          1987,
          1988,
          1989,
          1990,
          1991,
          1992,
          1993,
          1994,
          1995,
          1996,
          1997,
          1998,
          1999,
          2000,
          2001,
          2002,
          2003,
          2004,
          2005,
          2006,
          2007,
          2008,
          2009,
          2010,
          2011,
          2012,
          2013,
          2014,
          2015,
          2016,
          2017
         ],
         "xaxis": "x",
         "y": [
          1,
          1,
          1,
          2,
          1,
          1,
          2,
          1,
          1,
          2,
          2,
          2,
          3,
          5,
          1,
          2,
          2,
          4,
          3,
          3,
          3,
          2,
          1,
          3,
          4,
          4,
          4,
          2,
          3,
          2,
          1,
          3,
          3,
          5,
          7,
          8,
          10,
          8,
          6,
          4,
          10,
          10,
          12,
          10,
          9,
          9,
          8,
          6,
          9,
          16,
          14,
          16,
          22,
          33,
          24,
          23,
          28,
          28,
          26,
          31,
          31,
          32,
          29,
          30,
          34,
          47,
          55,
          70,
          97,
          112,
          133,
          171,
          166,
          183,
          203,
          169,
          204,
          217,
          237,
          195,
          227,
          247,
          225,
          223,
          208,
          231,
          237,
          214,
          104,
          1
         ],
         "yaxis": "y"
        }
       ],
       "layout": {
        "barmode": "relative",
        "coloraxis": {
         "colorbar": {
          "title": {
           "text": "title_x"
          }
         },
         "colorscale": [
          [
           0,
           "#0d0887"
          ],
          [
           0.1111111111111111,
           "#46039f"
          ],
          [
           0.2222222222222222,
           "#7201a8"
          ],
          [
           0.3333333333333333,
           "#9c179e"
          ],
          [
           0.4444444444444444,
           "#bd3786"
          ],
          [
           0.5555555555555556,
           "#d8576b"
          ],
          [
           0.6666666666666666,
           "#ed7953"
          ],
          [
           0.7777777777777778,
           "#fb9f3a"
          ],
          [
           0.8888888888888888,
           "#fdca26"
          ],
          [
           1,
           "#f0f921"
          ]
         ]
        },
        "font": {
         "size": 14
        },
        "height": 500,
        "legend": {
         "title": {
          "text": "Frequency"
         },
         "tracegroupgap": 0
        },
        "margin": {
         "t": 60
        },
        "template": {
         "data": {
          "bar": [
           {
            "error_x": {
             "color": "#2a3f5f"
            },
            "error_y": {
             "color": "#2a3f5f"
            },
            "marker": {
             "line": {
              "color": "#E5ECF6",
              "width": 0.5
             },
             "pattern": {
              "fillmode": "overlay",
              "size": 10,
              "solidity": 0.2
             }
            },
            "type": "bar"
           }
          ],
          "barpolar": [
           {
            "marker": {
             "line": {
              "color": "#E5ECF6",
              "width": 0.5
             },
             "pattern": {
              "fillmode": "overlay",
              "size": 10,
              "solidity": 0.2
             }
            },
            "type": "barpolar"
           }
          ],
          "carpet": [
           {
            "aaxis": {
             "endlinecolor": "#2a3f5f",
             "gridcolor": "white",
             "linecolor": "white",
             "minorgridcolor": "white",
             "startlinecolor": "#2a3f5f"
            },
            "baxis": {
             "endlinecolor": "#2a3f5f",
             "gridcolor": "white",
             "linecolor": "white",
             "minorgridcolor": "white",
             "startlinecolor": "#2a3f5f"
            },
            "type": "carpet"
           }
          ],
          "choropleth": [
           {
            "colorbar": {
             "outlinewidth": 0,
             "ticks": ""
            },
            "type": "choropleth"
           }
          ],
          "contour": [
           {
            "colorbar": {
             "outlinewidth": 0,
             "ticks": ""
            },
            "colorscale": [
             [
              0,
              "#0d0887"
             ],
             [
              0.1111111111111111,
              "#46039f"
             ],
             [
              0.2222222222222222,
              "#7201a8"
             ],
             [
              0.3333333333333333,
              "#9c179e"
             ],
             [
              0.4444444444444444,
              "#bd3786"
             ],
             [
              0.5555555555555556,
              "#d8576b"
             ],
             [
              0.6666666666666666,
              "#ed7953"
             ],
             [
              0.7777777777777778,
              "#fb9f3a"
             ],
             [
              0.8888888888888888,
              "#fdca26"
             ],
             [
              1,
              "#f0f921"
             ]
            ],
            "type": "contour"
           }
          ],
          "contourcarpet": [
           {
            "colorbar": {
             "outlinewidth": 0,
             "ticks": ""
            },
            "type": "contourcarpet"
           }
          ],
          "heatmap": [
           {
            "colorbar": {
             "outlinewidth": 0,
             "ticks": ""
            },
            "colorscale": [
             [
              0,
              "#0d0887"
             ],
             [
              0.1111111111111111,
              "#46039f"
             ],
             [
              0.2222222222222222,
              "#7201a8"
             ],
             [
              0.3333333333333333,
              "#9c179e"
             ],
             [
              0.4444444444444444,
              "#bd3786"
             ],
             [
              0.5555555555555556,
              "#d8576b"
             ],
             [
              0.6666666666666666,
              "#ed7953"
             ],
             [
              0.7777777777777778,
              "#fb9f3a"
             ],
             [
              0.8888888888888888,
              "#fdca26"
             ],
             [
              1,
              "#f0f921"
             ]
            ],
            "type": "heatmap"
           }
          ],
          "heatmapgl": [
           {
            "colorbar": {
             "outlinewidth": 0,
             "ticks": ""
            },
            "colorscale": [
             [
              0,
              "#0d0887"
             ],
             [
              0.1111111111111111,
              "#46039f"
             ],
             [
              0.2222222222222222,
              "#7201a8"
             ],
             [
              0.3333333333333333,
              "#9c179e"
             ],
             [
              0.4444444444444444,
              "#bd3786"
             ],
             [
              0.5555555555555556,
              "#d8576b"
             ],
             [
              0.6666666666666666,
              "#ed7953"
             ],
             [
              0.7777777777777778,
              "#fb9f3a"
             ],
             [
              0.8888888888888888,
              "#fdca26"
             ],
             [
              1,
              "#f0f921"
             ]
            ],
            "type": "heatmapgl"
           }
          ],
          "histogram": [
           {
            "marker": {
             "pattern": {
              "fillmode": "overlay",
              "size": 10,
              "solidity": 0.2
             }
            },
            "type": "histogram"
           }
          ],
          "histogram2d": [
           {
            "colorbar": {
             "outlinewidth": 0,
             "ticks": ""
            },
            "colorscale": [
             [
              0,
              "#0d0887"
             ],
             [
              0.1111111111111111,
              "#46039f"
             ],
             [
              0.2222222222222222,
              "#7201a8"
             ],
             [
              0.3333333333333333,
              "#9c179e"
             ],
             [
              0.4444444444444444,
              "#bd3786"
             ],
             [
              0.5555555555555556,
              "#d8576b"
             ],
             [
              0.6666666666666666,
              "#ed7953"
             ],
             [
              0.7777777777777778,
              "#fb9f3a"
             ],
             [
              0.8888888888888888,
              "#fdca26"
             ],
             [
              1,
              "#f0f921"
             ]
            ],
            "type": "histogram2d"
           }
          ],
          "histogram2dcontour": [
           {
            "colorbar": {
             "outlinewidth": 0,
             "ticks": ""
            },
            "colorscale": [
             [
              0,
              "#0d0887"
             ],
             [
              0.1111111111111111,
              "#46039f"
             ],
             [
              0.2222222222222222,
              "#7201a8"
             ],
             [
              0.3333333333333333,
              "#9c179e"
             ],
             [
              0.4444444444444444,
              "#bd3786"
             ],
             [
              0.5555555555555556,
              "#d8576b"
             ],
             [
              0.6666666666666666,
              "#ed7953"
             ],
             [
              0.7777777777777778,
              "#fb9f3a"
             ],
             [
              0.8888888888888888,
              "#fdca26"
             ],
             [
              1,
              "#f0f921"
             ]
            ],
            "type": "histogram2dcontour"
           }
          ],
          "mesh3d": [
           {
            "colorbar": {
             "outlinewidth": 0,
             "ticks": ""
            },
            "type": "mesh3d"
           }
          ],
          "parcoords": [
           {
            "line": {
             "colorbar": {
              "outlinewidth": 0,
              "ticks": ""
             }
            },
            "type": "parcoords"
           }
          ],
          "pie": [
           {
            "automargin": true,
            "type": "pie"
           }
          ],
          "scatter": [
           {
            "fillpattern": {
             "fillmode": "overlay",
             "size": 10,
             "solidity": 0.2
            },
            "type": "scatter"
           }
          ],
          "scatter3d": [
           {
            "line": {
             "colorbar": {
              "outlinewidth": 0,
              "ticks": ""
             }
            },
            "marker": {
             "colorbar": {
              "outlinewidth": 0,
              "ticks": ""
             }
            },
            "type": "scatter3d"
           }
          ],
          "scattercarpet": [
           {
            "marker": {
             "colorbar": {
              "outlinewidth": 0,
              "ticks": ""
             }
            },
            "type": "scattercarpet"
           }
          ],
          "scattergeo": [
           {
            "marker": {
             "colorbar": {
              "outlinewidth": 0,
              "ticks": ""
             }
            },
            "type": "scattergeo"
           }
          ],
          "scattergl": [
           {
            "marker": {
             "colorbar": {
              "outlinewidth": 0,
              "ticks": ""
             }
            },
            "type": "scattergl"
           }
          ],
          "scattermapbox": [
           {
            "marker": {
             "colorbar": {
              "outlinewidth": 0,
              "ticks": ""
             }
            },
            "type": "scattermapbox"
           }
          ],
          "scatterpolar": [
           {
            "marker": {
             "colorbar": {
              "outlinewidth": 0,
              "ticks": ""
             }
            },
            "type": "scatterpolar"
           }
          ],
          "scatterpolargl": [
           {
            "marker": {
             "colorbar": {
              "outlinewidth": 0,
              "ticks": ""
             }
            },
            "type": "scatterpolargl"
           }
          ],
          "scatterternary": [
           {
            "marker": {
             "colorbar": {
              "outlinewidth": 0,
              "ticks": ""
             }
            },
            "type": "scatterternary"
           }
          ],
          "surface": [
           {
            "colorbar": {
             "outlinewidth": 0,
             "ticks": ""
            },
            "colorscale": [
             [
              0,
              "#0d0887"
             ],
             [
              0.1111111111111111,
              "#46039f"
             ],
             [
              0.2222222222222222,
              "#7201a8"
             ],
             [
              0.3333333333333333,
              "#9c179e"
             ],
             [
              0.4444444444444444,
              "#bd3786"
             ],
             [
              0.5555555555555556,
              "#d8576b"
             ],
             [
              0.6666666666666666,
              "#ed7953"
             ],
             [
              0.7777777777777778,
              "#fb9f3a"
             ],
             [
              0.8888888888888888,
              "#fdca26"
             ],
             [
              1,
              "#f0f921"
             ]
            ],
            "type": "surface"
           }
          ],
          "table": [
           {
            "cells": {
             "fill": {
              "color": "#EBF0F8"
             },
             "line": {
              "color": "white"
             }
            },
            "header": {
             "fill": {
              "color": "#C8D4E3"
             },
             "line": {
              "color": "white"
             }
            },
            "type": "table"
           }
          ]
         },
         "layout": {
          "annotationdefaults": {
           "arrowcolor": "#2a3f5f",
           "arrowhead": 0,
           "arrowwidth": 1
          },
          "autotypenumbers": "strict",
          "coloraxis": {
           "colorbar": {
            "outlinewidth": 0,
            "ticks": ""
           }
          },
          "colorscale": {
           "diverging": [
            [
             0,
             "#8e0152"
            ],
            [
             0.1,
             "#c51b7d"
            ],
            [
             0.2,
             "#de77ae"
            ],
            [
             0.3,
             "#f1b6da"
            ],
            [
             0.4,
             "#fde0ef"
            ],
            [
             0.5,
             "#f7f7f7"
            ],
            [
             0.6,
             "#e6f5d0"
            ],
            [
             0.7,
             "#b8e186"
            ],
            [
             0.8,
             "#7fbc41"
            ],
            [
             0.9,
             "#4d9221"
            ],
            [
             1,
             "#276419"
            ]
           ],
           "sequential": [
            [
             0,
             "#0d0887"
            ],
            [
             0.1111111111111111,
             "#46039f"
            ],
            [
             0.2222222222222222,
             "#7201a8"
            ],
            [
             0.3333333333333333,
             "#9c179e"
            ],
            [
             0.4444444444444444,
             "#bd3786"
            ],
            [
             0.5555555555555556,
             "#d8576b"
            ],
            [
             0.6666666666666666,
             "#ed7953"
            ],
            [
             0.7777777777777778,
             "#fb9f3a"
            ],
            [
             0.8888888888888888,
             "#fdca26"
            ],
            [
             1,
             "#f0f921"
            ]
           ],
           "sequentialminus": [
            [
             0,
             "#0d0887"
            ],
            [
             0.1111111111111111,
             "#46039f"
            ],
            [
             0.2222222222222222,
             "#7201a8"
            ],
            [
             0.3333333333333333,
             "#9c179e"
            ],
            [
             0.4444444444444444,
             "#bd3786"
            ],
            [
             0.5555555555555556,
             "#d8576b"
            ],
            [
             0.6666666666666666,
             "#ed7953"
            ],
            [
             0.7777777777777778,
             "#fb9f3a"
            ],
            [
             0.8888888888888888,
             "#fdca26"
            ],
            [
             1,
             "#f0f921"
            ]
           ]
          },
          "colorway": [
           "#636efa",
           "#EF553B",
           "#00cc96",
           "#ab63fa",
           "#FFA15A",
           "#19d3f3",
           "#FF6692",
           "#B6E880",
           "#FF97FF",
           "#FECB52"
          ],
          "font": {
           "color": "#2a3f5f"
          },
          "geo": {
           "bgcolor": "white",
           "lakecolor": "white",
           "landcolor": "#E5ECF6",
           "showlakes": true,
           "showland": true,
           "subunitcolor": "white"
          },
          "hoverlabel": {
           "align": "left"
          },
          "hovermode": "closest",
          "mapbox": {
           "style": "light"
          },
          "paper_bgcolor": "white",
          "plot_bgcolor": "#E5ECF6",
          "polar": {
           "angularaxis": {
            "gridcolor": "white",
            "linecolor": "white",
            "ticks": ""
           },
           "bgcolor": "#E5ECF6",
           "radialaxis": {
            "gridcolor": "white",
            "linecolor": "white",
            "ticks": ""
           }
          },
          "scene": {
           "xaxis": {
            "backgroundcolor": "#E5ECF6",
            "gridcolor": "white",
            "gridwidth": 2,
            "linecolor": "white",
            "showbackground": true,
            "ticks": "",
            "zerolinecolor": "white"
           },
           "yaxis": {
            "backgroundcolor": "#E5ECF6",
            "gridcolor": "white",
            "gridwidth": 2,
            "linecolor": "white",
            "showbackground": true,
            "ticks": "",
            "zerolinecolor": "white"
           },
           "zaxis": {
            "backgroundcolor": "#E5ECF6",
            "gridcolor": "white",
            "gridwidth": 2,
            "linecolor": "white",
            "showbackground": true,
            "ticks": "",
            "zerolinecolor": "white"
           }
          },
          "shapedefaults": {
           "line": {
            "color": "#2a3f5f"
           }
          },
          "ternary": {
           "aaxis": {
            "gridcolor": "white",
            "linecolor": "white",
            "ticks": ""
           },
           "baxis": {
            "gridcolor": "white",
            "linecolor": "white",
            "ticks": ""
           },
           "bgcolor": "#E5ECF6",
           "caxis": {
            "gridcolor": "white",
            "linecolor": "white",
            "ticks": ""
           }
          },
          "title": {
           "x": 0.05
          },
          "xaxis": {
           "automargin": true,
           "gridcolor": "white",
           "linecolor": "white",
           "ticks": "",
           "title": {
            "standoff": 15
           },
           "zerolinecolor": "white",
           "zerolinewidth": 2
          },
          "yaxis": {
           "automargin": true,
           "gridcolor": "white",
           "linecolor": "white",
           "ticks": "",
           "title": {
            "standoff": 15
           },
           "zerolinecolor": "white",
           "zerolinewidth": 2
          }
         }
        },
        "title": {
         "text": "No. of movies produced over the years"
        },
        "width": 950,
        "xaxis": {
         "anchor": "y",
         "domain": [
          0,
          1
         ],
         "title": {
          "text": "Time Period"
         }
        },
        "yaxis": {
         "anchor": "x",
         "domain": [
          0,
          1
         ],
         "title": {
          "text": "Frequency"
         }
        }
       }
      }
     },
     "metadata": {},
     "output_type": "display_data"
    }
   ],
   "source": [
    "pd.options.mode.chained_assignment = None\n",
    "release_date=movies1[['title_x','release_date']]\n",
    "release_date['release_date']=pd.to_datetime(release_date['release_date'])\n",
    "release_date['Year']=release_date['release_date'].dt.year\n",
    "release= release_date.groupby('Year')[['title_x']].count() \n",
    "\n",
    "fig = px.bar(release, x=release.index,y='title_x', color ='title_x',width=950, height=500) \n",
    "fig.update_layout(\n",
    "    title=\"No. of movies produced over the years\",\n",
    "    xaxis_title=\"Time Period\",\n",
    "    yaxis_title=\"Frequency\",\n",
    "    legend_title=\"Frequency\",\n",
    "    font=dict(\n",
    "        size=14\n",
    "    )\n",
    ")\n",
    "fig.layout.template = 'plotly'\n",
    "fig.show()"
   ]
  },
  {
   "cell_type": "markdown",
   "metadata": {},
   "source": [
    "Most of the movies were produced after the year 2000.\n",
    "\n"
   ]
  },
  {
   "cell_type": "code",
   "execution_count": 36,
   "metadata": {},
   "outputs": [
    {
     "data": {
      "text/html": [
       "<style type=\"text/css\">\n",
       "#T_5c9e9_row0_col1 {\n",
       "  background-color: #b40426;\n",
       "  color: #f1f1f1;\n",
       "}\n",
       "#T_5c9e9_row1_col1 {\n",
       "  background-color: #5977e3;\n",
       "  color: #f1f1f1;\n",
       "}\n",
       "#T_5c9e9_row2_col1 {\n",
       "  background-color: #3f53c6;\n",
       "  color: #f1f1f1;\n",
       "}\n",
       "#T_5c9e9_row3_col1 {\n",
       "  background-color: #3e51c5;\n",
       "  color: #f1f1f1;\n",
       "}\n",
       "#T_5c9e9_row4_col1 {\n",
       "  background-color: #3b4cc0;\n",
       "  color: #f1f1f1;\n",
       "}\n",
       "</style>\n",
       "<table id=\"T_5c9e9\">\n",
       "  <thead>\n",
       "    <tr>\n",
       "      <th class=\"blank level0\" >&nbsp;</th>\n",
       "      <th id=\"T_5c9e9_level0_col0\" class=\"col_heading level0 col0\" >Production Country</th>\n",
       "      <th id=\"T_5c9e9_level0_col1\" class=\"col_heading level0 col1\" >Frequency</th>\n",
       "    </tr>\n",
       "  </thead>\n",
       "  <tbody>\n",
       "    <tr>\n",
       "      <th id=\"T_5c9e9_level0_row0\" class=\"row_heading level0 row0\" >0</th>\n",
       "      <td id=\"T_5c9e9_row0_col0\" class=\"data row0 col0\" >United States of America</td>\n",
       "      <td id=\"T_5c9e9_row0_col1\" class=\"data row0 col1\" >3956</td>\n",
       "    </tr>\n",
       "    <tr>\n",
       "      <th id=\"T_5c9e9_level0_row1\" class=\"row_heading level0 row1\" >1</th>\n",
       "      <td id=\"T_5c9e9_row1_col0\" class=\"data row1 col0\" >United Kingdom</td>\n",
       "      <td id=\"T_5c9e9_row1_col1\" class=\"data row1 col1\" >635</td>\n",
       "    </tr>\n",
       "    <tr>\n",
       "      <th id=\"T_5c9e9_level0_row2\" class=\"row_heading level0 row2\" >2</th>\n",
       "      <td id=\"T_5c9e9_row2_col0\" class=\"data row2 col0\" >Germany</td>\n",
       "      <td id=\"T_5c9e9_row2_col1\" class=\"data row2 col1\" >324</td>\n",
       "    </tr>\n",
       "    <tr>\n",
       "      <th id=\"T_5c9e9_level0_row3\" class=\"row_heading level0 row3\" >3</th>\n",
       "      <td id=\"T_5c9e9_row3_col0\" class=\"data row3 col0\" >France</td>\n",
       "      <td id=\"T_5c9e9_row3_col1\" class=\"data row3 col1\" >306</td>\n",
       "    </tr>\n",
       "    <tr>\n",
       "      <th id=\"T_5c9e9_level0_row4\" class=\"row_heading level0 row4\" >4</th>\n",
       "      <td id=\"T_5c9e9_row4_col0\" class=\"data row4 col0\" >Canada</td>\n",
       "      <td id=\"T_5c9e9_row4_col1\" class=\"data row4 col1\" >261</td>\n",
       "    </tr>\n",
       "  </tbody>\n",
       "</table>\n"
      ],
      "text/plain": [
       "<pandas.io.formats.style.Styler at 0x1d4888a9850>"
      ]
     },
     "execution_count": 36,
     "metadata": {},
     "output_type": "execute_result"
    }
   ],
   "source": [
    "# Top Production Counties\n",
    "prod_cont = Counter()\n",
    "for i in range(movies1.shape[0]):\n",
    "    for j in movies1.production_countries[i]:\n",
    "        prod_cont[j]+=1\n",
    "movie_prod_cont = pd.DataFrame.from_dict(prod_cont, orient='index').reset_index()\n",
    "movie_prod_cont = movie_prod_cont.rename(columns = {'index': 'Production Country' ,0: 'Frequency'})\n",
    "movie_prod_cont=movie_prod_cont.sort_values(by = ['Frequency'],ascending=False).reset_index().head(5)\n",
    "movie_prod_cont.drop(columns='index',axis=0,inplace=True)\n",
    "movie_prod_cont.style.background_gradient(cmap='coolwarm')"
   ]
  },
  {
   "cell_type": "code",
   "execution_count": 38,
   "metadata": {},
   "outputs": [
    {
     "name": "stderr",
     "output_type": "stream",
     "text": [
      "C:\\Users\\Hesan\\AppData\\Local\\Temp\\ipykernel_11244\\3608034020.py:2: FutureWarning:\n",
      "\n",
      "Setting an item of incompatible dtype is deprecated and will raise in a future error of pandas. Value 'Others' has dtype incompatible with int64, please explicitly cast to a compatible dtype first.\n",
      "\n"
     ]
    },
    {
     "data": {
      "application/vnd.plotly.v1+json": {
       "config": {
        "plotlyServerURL": "https://plot.ly"
       },
       "data": [
        {
         "domain": {
          "x": [
           0,
           1
          ],
          "y": [
           0,
           1
          ]
         },
         "hovertemplate": "original_language=%{label}<br>title_x=%{value}<extra></extra>",
         "labels": [
          "af",
          "ar",
          "cn",
          "cs",
          "da",
          "de",
          "el",
          "en",
          "es",
          "fa",
          "fr",
          "he",
          "hi",
          "hu",
          "id",
          "is",
          "it",
          "ja",
          "ko",
          "ky",
          "nb",
          "nl",
          "no",
          "pl",
          "ps",
          "pt",
          "ro",
          "ru",
          "sl",
          "sv",
          "ta",
          "te",
          "th",
          "tr",
          "vi",
          "xx",
          "zh"
         ],
         "legendgroup": "",
         "name": "",
         "showlegend": true,
         "textinfo": "percent+label",
         "textposition": "outside",
         "type": "pie",
         "values": [
          "Others",
          "Others",
          "Others",
          "Others",
          "Others",
          26,
          "Others",
          4503,
          32,
          "Others",
          70,
          "Others",
          "Others",
          "Others",
          "Others",
          "Others",
          "Others",
          "Others",
          "Others",
          "Others",
          "Others",
          "Others",
          "Others",
          "Others",
          "Others",
          "Others",
          "Others",
          "Others",
          "Others",
          "Others",
          "Others",
          "Others",
          "Others",
          "Others",
          "Others",
          "Others",
          27
         ]
        }
       ],
       "layout": {
        "font": {
         "size": 14
        },
        "height": 500,
        "legend": {
         "title": {
          "text": "Language"
         },
         "tracegroupgap": 0
        },
        "margin": {
         "t": 60
        },
        "template": {
         "data": {
          "bar": [
           {
            "error_x": {
             "color": "#2a3f5f"
            },
            "error_y": {
             "color": "#2a3f5f"
            },
            "marker": {
             "line": {
              "color": "#E5ECF6",
              "width": 0.5
             },
             "pattern": {
              "fillmode": "overlay",
              "size": 10,
              "solidity": 0.2
             }
            },
            "type": "bar"
           }
          ],
          "barpolar": [
           {
            "marker": {
             "line": {
              "color": "#E5ECF6",
              "width": 0.5
             },
             "pattern": {
              "fillmode": "overlay",
              "size": 10,
              "solidity": 0.2
             }
            },
            "type": "barpolar"
           }
          ],
          "carpet": [
           {
            "aaxis": {
             "endlinecolor": "#2a3f5f",
             "gridcolor": "white",
             "linecolor": "white",
             "minorgridcolor": "white",
             "startlinecolor": "#2a3f5f"
            },
            "baxis": {
             "endlinecolor": "#2a3f5f",
             "gridcolor": "white",
             "linecolor": "white",
             "minorgridcolor": "white",
             "startlinecolor": "#2a3f5f"
            },
            "type": "carpet"
           }
          ],
          "choropleth": [
           {
            "colorbar": {
             "outlinewidth": 0,
             "ticks": ""
            },
            "type": "choropleth"
           }
          ],
          "contour": [
           {
            "colorbar": {
             "outlinewidth": 0,
             "ticks": ""
            },
            "colorscale": [
             [
              0,
              "#0d0887"
             ],
             [
              0.1111111111111111,
              "#46039f"
             ],
             [
              0.2222222222222222,
              "#7201a8"
             ],
             [
              0.3333333333333333,
              "#9c179e"
             ],
             [
              0.4444444444444444,
              "#bd3786"
             ],
             [
              0.5555555555555556,
              "#d8576b"
             ],
             [
              0.6666666666666666,
              "#ed7953"
             ],
             [
              0.7777777777777778,
              "#fb9f3a"
             ],
             [
              0.8888888888888888,
              "#fdca26"
             ],
             [
              1,
              "#f0f921"
             ]
            ],
            "type": "contour"
           }
          ],
          "contourcarpet": [
           {
            "colorbar": {
             "outlinewidth": 0,
             "ticks": ""
            },
            "type": "contourcarpet"
           }
          ],
          "heatmap": [
           {
            "colorbar": {
             "outlinewidth": 0,
             "ticks": ""
            },
            "colorscale": [
             [
              0,
              "#0d0887"
             ],
             [
              0.1111111111111111,
              "#46039f"
             ],
             [
              0.2222222222222222,
              "#7201a8"
             ],
             [
              0.3333333333333333,
              "#9c179e"
             ],
             [
              0.4444444444444444,
              "#bd3786"
             ],
             [
              0.5555555555555556,
              "#d8576b"
             ],
             [
              0.6666666666666666,
              "#ed7953"
             ],
             [
              0.7777777777777778,
              "#fb9f3a"
             ],
             [
              0.8888888888888888,
              "#fdca26"
             ],
             [
              1,
              "#f0f921"
             ]
            ],
            "type": "heatmap"
           }
          ],
          "heatmapgl": [
           {
            "colorbar": {
             "outlinewidth": 0,
             "ticks": ""
            },
            "colorscale": [
             [
              0,
              "#0d0887"
             ],
             [
              0.1111111111111111,
              "#46039f"
             ],
             [
              0.2222222222222222,
              "#7201a8"
             ],
             [
              0.3333333333333333,
              "#9c179e"
             ],
             [
              0.4444444444444444,
              "#bd3786"
             ],
             [
              0.5555555555555556,
              "#d8576b"
             ],
             [
              0.6666666666666666,
              "#ed7953"
             ],
             [
              0.7777777777777778,
              "#fb9f3a"
             ],
             [
              0.8888888888888888,
              "#fdca26"
             ],
             [
              1,
              "#f0f921"
             ]
            ],
            "type": "heatmapgl"
           }
          ],
          "histogram": [
           {
            "marker": {
             "pattern": {
              "fillmode": "overlay",
              "size": 10,
              "solidity": 0.2
             }
            },
            "type": "histogram"
           }
          ],
          "histogram2d": [
           {
            "colorbar": {
             "outlinewidth": 0,
             "ticks": ""
            },
            "colorscale": [
             [
              0,
              "#0d0887"
             ],
             [
              0.1111111111111111,
              "#46039f"
             ],
             [
              0.2222222222222222,
              "#7201a8"
             ],
             [
              0.3333333333333333,
              "#9c179e"
             ],
             [
              0.4444444444444444,
              "#bd3786"
             ],
             [
              0.5555555555555556,
              "#d8576b"
             ],
             [
              0.6666666666666666,
              "#ed7953"
             ],
             [
              0.7777777777777778,
              "#fb9f3a"
             ],
             [
              0.8888888888888888,
              "#fdca26"
             ],
             [
              1,
              "#f0f921"
             ]
            ],
            "type": "histogram2d"
           }
          ],
          "histogram2dcontour": [
           {
            "colorbar": {
             "outlinewidth": 0,
             "ticks": ""
            },
            "colorscale": [
             [
              0,
              "#0d0887"
             ],
             [
              0.1111111111111111,
              "#46039f"
             ],
             [
              0.2222222222222222,
              "#7201a8"
             ],
             [
              0.3333333333333333,
              "#9c179e"
             ],
             [
              0.4444444444444444,
              "#bd3786"
             ],
             [
              0.5555555555555556,
              "#d8576b"
             ],
             [
              0.6666666666666666,
              "#ed7953"
             ],
             [
              0.7777777777777778,
              "#fb9f3a"
             ],
             [
              0.8888888888888888,
              "#fdca26"
             ],
             [
              1,
              "#f0f921"
             ]
            ],
            "type": "histogram2dcontour"
           }
          ],
          "mesh3d": [
           {
            "colorbar": {
             "outlinewidth": 0,
             "ticks": ""
            },
            "type": "mesh3d"
           }
          ],
          "parcoords": [
           {
            "line": {
             "colorbar": {
              "outlinewidth": 0,
              "ticks": ""
             }
            },
            "type": "parcoords"
           }
          ],
          "pie": [
           {
            "automargin": true,
            "type": "pie"
           }
          ],
          "scatter": [
           {
            "fillpattern": {
             "fillmode": "overlay",
             "size": 10,
             "solidity": 0.2
            },
            "type": "scatter"
           }
          ],
          "scatter3d": [
           {
            "line": {
             "colorbar": {
              "outlinewidth": 0,
              "ticks": ""
             }
            },
            "marker": {
             "colorbar": {
              "outlinewidth": 0,
              "ticks": ""
             }
            },
            "type": "scatter3d"
           }
          ],
          "scattercarpet": [
           {
            "marker": {
             "colorbar": {
              "outlinewidth": 0,
              "ticks": ""
             }
            },
            "type": "scattercarpet"
           }
          ],
          "scattergeo": [
           {
            "marker": {
             "colorbar": {
              "outlinewidth": 0,
              "ticks": ""
             }
            },
            "type": "scattergeo"
           }
          ],
          "scattergl": [
           {
            "marker": {
             "colorbar": {
              "outlinewidth": 0,
              "ticks": ""
             }
            },
            "type": "scattergl"
           }
          ],
          "scattermapbox": [
           {
            "marker": {
             "colorbar": {
              "outlinewidth": 0,
              "ticks": ""
             }
            },
            "type": "scattermapbox"
           }
          ],
          "scatterpolar": [
           {
            "marker": {
             "colorbar": {
              "outlinewidth": 0,
              "ticks": ""
             }
            },
            "type": "scatterpolar"
           }
          ],
          "scatterpolargl": [
           {
            "marker": {
             "colorbar": {
              "outlinewidth": 0,
              "ticks": ""
             }
            },
            "type": "scatterpolargl"
           }
          ],
          "scatterternary": [
           {
            "marker": {
             "colorbar": {
              "outlinewidth": 0,
              "ticks": ""
             }
            },
            "type": "scatterternary"
           }
          ],
          "surface": [
           {
            "colorbar": {
             "outlinewidth": 0,
             "ticks": ""
            },
            "colorscale": [
             [
              0,
              "#0d0887"
             ],
             [
              0.1111111111111111,
              "#46039f"
             ],
             [
              0.2222222222222222,
              "#7201a8"
             ],
             [
              0.3333333333333333,
              "#9c179e"
             ],
             [
              0.4444444444444444,
              "#bd3786"
             ],
             [
              0.5555555555555556,
              "#d8576b"
             ],
             [
              0.6666666666666666,
              "#ed7953"
             ],
             [
              0.7777777777777778,
              "#fb9f3a"
             ],
             [
              0.8888888888888888,
              "#fdca26"
             ],
             [
              1,
              "#f0f921"
             ]
            ],
            "type": "surface"
           }
          ],
          "table": [
           {
            "cells": {
             "fill": {
              "color": "#EBF0F8"
             },
             "line": {
              "color": "white"
             }
            },
            "header": {
             "fill": {
              "color": "#C8D4E3"
             },
             "line": {
              "color": "white"
             }
            },
            "type": "table"
           }
          ]
         },
         "layout": {
          "annotationdefaults": {
           "arrowcolor": "#2a3f5f",
           "arrowhead": 0,
           "arrowwidth": 1
          },
          "autotypenumbers": "strict",
          "coloraxis": {
           "colorbar": {
            "outlinewidth": 0,
            "ticks": ""
           }
          },
          "colorscale": {
           "diverging": [
            [
             0,
             "#8e0152"
            ],
            [
             0.1,
             "#c51b7d"
            ],
            [
             0.2,
             "#de77ae"
            ],
            [
             0.3,
             "#f1b6da"
            ],
            [
             0.4,
             "#fde0ef"
            ],
            [
             0.5,
             "#f7f7f7"
            ],
            [
             0.6,
             "#e6f5d0"
            ],
            [
             0.7,
             "#b8e186"
            ],
            [
             0.8,
             "#7fbc41"
            ],
            [
             0.9,
             "#4d9221"
            ],
            [
             1,
             "#276419"
            ]
           ],
           "sequential": [
            [
             0,
             "#0d0887"
            ],
            [
             0.1111111111111111,
             "#46039f"
            ],
            [
             0.2222222222222222,
             "#7201a8"
            ],
            [
             0.3333333333333333,
             "#9c179e"
            ],
            [
             0.4444444444444444,
             "#bd3786"
            ],
            [
             0.5555555555555556,
             "#d8576b"
            ],
            [
             0.6666666666666666,
             "#ed7953"
            ],
            [
             0.7777777777777778,
             "#fb9f3a"
            ],
            [
             0.8888888888888888,
             "#fdca26"
            ],
            [
             1,
             "#f0f921"
            ]
           ],
           "sequentialminus": [
            [
             0,
             "#0d0887"
            ],
            [
             0.1111111111111111,
             "#46039f"
            ],
            [
             0.2222222222222222,
             "#7201a8"
            ],
            [
             0.3333333333333333,
             "#9c179e"
            ],
            [
             0.4444444444444444,
             "#bd3786"
            ],
            [
             0.5555555555555556,
             "#d8576b"
            ],
            [
             0.6666666666666666,
             "#ed7953"
            ],
            [
             0.7777777777777778,
             "#fb9f3a"
            ],
            [
             0.8888888888888888,
             "#fdca26"
            ],
            [
             1,
             "#f0f921"
            ]
           ]
          },
          "colorway": [
           "#636efa",
           "#EF553B",
           "#00cc96",
           "#ab63fa",
           "#FFA15A",
           "#19d3f3",
           "#FF6692",
           "#B6E880",
           "#FF97FF",
           "#FECB52"
          ],
          "font": {
           "color": "#2a3f5f"
          },
          "geo": {
           "bgcolor": "white",
           "lakecolor": "white",
           "landcolor": "#E5ECF6",
           "showlakes": true,
           "showland": true,
           "subunitcolor": "white"
          },
          "hoverlabel": {
           "align": "left"
          },
          "hovermode": "closest",
          "mapbox": {
           "style": "light"
          },
          "paper_bgcolor": "white",
          "plot_bgcolor": "#E5ECF6",
          "polar": {
           "angularaxis": {
            "gridcolor": "white",
            "linecolor": "white",
            "ticks": ""
           },
           "bgcolor": "#E5ECF6",
           "radialaxis": {
            "gridcolor": "white",
            "linecolor": "white",
            "ticks": ""
           }
          },
          "scene": {
           "xaxis": {
            "backgroundcolor": "#E5ECF6",
            "gridcolor": "white",
            "gridwidth": 2,
            "linecolor": "white",
            "showbackground": true,
            "ticks": "",
            "zerolinecolor": "white"
           },
           "yaxis": {
            "backgroundcolor": "#E5ECF6",
            "gridcolor": "white",
            "gridwidth": 2,
            "linecolor": "white",
            "showbackground": true,
            "ticks": "",
            "zerolinecolor": "white"
           },
           "zaxis": {
            "backgroundcolor": "#E5ECF6",
            "gridcolor": "white",
            "gridwidth": 2,
            "linecolor": "white",
            "showbackground": true,
            "ticks": "",
            "zerolinecolor": "white"
           }
          },
          "shapedefaults": {
           "line": {
            "color": "#2a3f5f"
           }
          },
          "ternary": {
           "aaxis": {
            "gridcolor": "white",
            "linecolor": "white",
            "ticks": ""
           },
           "baxis": {
            "gridcolor": "white",
            "linecolor": "white",
            "ticks": ""
           },
           "bgcolor": "#E5ECF6",
           "caxis": {
            "gridcolor": "white",
            "linecolor": "white",
            "ticks": ""
           }
          },
          "title": {
           "x": 0.05
          },
          "xaxis": {
           "automargin": true,
           "gridcolor": "white",
           "linecolor": "white",
           "ticks": "",
           "title": {
            "standoff": 15
           },
           "zerolinecolor": "white",
           "zerolinewidth": 2
          },
          "yaxis": {
           "automargin": true,
           "gridcolor": "white",
           "linecolor": "white",
           "ticks": "",
           "title": {
            "standoff": 15
           },
           "zerolinecolor": "white",
           "zerolinewidth": 2
          }
         }
        },
        "title": {
         "text": "Distribution of Languages"
        },
        "width": 800
       }
      }
     },
     "metadata": {},
     "output_type": "display_data"
    }
   ],
   "source": [
    "lang= movies1.groupby('original_language')[['title_x']].count() \n",
    "lang.loc[lang['title_x'] < 20, 'title_x'] = 'Others'\n",
    "fig = px.pie(lang, values='title_x', names=lang.index,width=800,height=500)\n",
    "fig.update_layout(\n",
    "    title=\"Distribution of Languages\",\n",
    "    legend_title=\"Language\",\n",
    "    font=dict(\n",
    "        size=14\n",
    "    )\n",
    ")\n",
    "fig.layout.template = 'plotly'\n",
    "fig.update_traces(textposition='outside', textinfo='percent+label')\n",
    "fig.show()"
   ]
  },
  {
   "cell_type": "markdown",
   "metadata": {},
   "source": [
    "About 97% of the movies are in English language.\n",
    "\n"
   ]
  },
  {
   "cell_type": "code",
   "execution_count": 39,
   "metadata": {},
   "outputs": [
    {
     "data": {
      "application/vnd.plotly.v1+json": {
       "config": {
        "plotlyServerURL": "https://plot.ly"
       },
       "data": [
        {
         "hovertemplate": "revenue=%{x}<br>budget=%{y}<extra></extra>",
         "legendgroup": "",
         "marker": {
          "color": "#636efa",
          "symbol": "circle"
         },
         "mode": "markers",
         "name": "",
         "showlegend": false,
         "type": "scattergl",
         "x": [
          2787965087,
          961000000,
          880674609,
          1084939099,
          284139100,
          890871626,
          591794936,
          1405403694,
          933959197,
          873260194,
          391081192,
          586090727,
          1065659812,
          89289910,
          662845518,
          419651413,
          1519557910,
          1045713802,
          624026776,
          956019788,
          752215857,
          310669540,
          958400000,
          372234864,
          550000000,
          1845034188,
          1153304495,
          303025485,
          1513528810,
          1108561013,
          783766341,
          1215439994,
          1025491110,
          459359555,
          743559607,
          836297228,
          1091405097,
          491868548,
          705717432,
          400062763,
          559852396,
          219851172,
          1066969703,
          371353001,
          1506249360,
          531865000,
          747862775,
          467365246,
          197687603,
          351040419,
          335154643,
          407602906,
          1123746996,
          786636033,
          331926147,
          538983207,
          343471816,
          521311860,
          258022233,
          769653595,
          325233863,
          183987723,
          356743061,
          748806957,
          543934787,
          1004558444,
          735099082,
          381509870,
          585174222,
          185770160,
          222104681,
          401128639,
          745000000,
          173000000,
          370541256,
          264218220,
          302469017,
          857611174,
          966550600,
          623933331,
          396600000,
          758539785,
          710644566,
          0,
          150962475,
          714766572,
          752600867,
          209154322,
          652105443,
          471222889,
          305875730,
          389681935,
          494878759,
          435000000,
          773328629,
          675120017,
          825532764,
          77000000,
          1021103568,
          207283925,
          333932083,
          353624124,
          653428261,
          215283742,
          181674817,
          299370084,
          798958165,
          433677183,
          440603537,
          415686217,
          449220945,
          709709780,
          167298192,
          938212738,
          895921036,
          624029371,
          585349010,
          474968763,
          623722818,
          374218673,
          603900354,
          413106170,
          373062864,
          424988211,
          1274219009,
          738599701,
          644571402,
          378858340,
          356613439,
          449326618,
          309979994,
          292817841,
          301000000,
          245527149,
          682330139,
          0,
          287594577,
          665692281,
          318502923,
          397850012,
          205366737,
          38992758,
          64459316,
          128388320,
          272912430,
          497409852,
          746921274,
          431971116,
          229147509,
          553799566,
          441818803,
          195735876,
          521170825,
          694713380,
          306941670,
          202026112,
          456758981,
          268031828,
          385680446,
          821708551,
          609123048,
          150680864,
          76932943,
          185258983,
          285444603,
          245360480,
          371876278,
          119269486,
          85131830,
          370569774,
          361832400,
          212011111,
          829000000,
          150406466,
          163712074,
          183345589,
          532950503,
          282570682,
          245724603,
          373552094,
          442824138,
          631744560,
          519311965,
          847423452,
          368871007,
          591739379,
          273339556,
          554987477,
          293329073,
          362637473,
          371940071,
          789804554,
          49554002,
          243843127,
          354248063,
          349424282,
          321887208,
          976475550,
          61648500,
          655011224,
          752100229,
          767820459,
          500188435,
          407711549,
          626137675,
          334615000,
          232713139,
          261317921,
          61698899,
          276572938,
          238207122,
          345141403,
          544272402,
          546388105,
          325756637,
          289047763,
          609016565,
          228738393,
          415484914,
          259175788,
          403170142,
          169956806,
          286140700,
          115772733,
          242688965,
          93945766,
          48668907,
          261930431,
          286168572,
          850000000,
          649398328,
          562816256,
          415440673,
          924317558,
          585178928,
          132900000,
          77628265,
          164602163,
          477200000,
          716392705,
          178127760,
          245623848,
          167977596,
          574480841,
          470490832,
          333011068,
          215294342,
          362744280,
          478207520,
          295238201,
          102000000,
          237382724,
          227817248,
          337580051,
          563749323,
          103951461,
          179246868,
          299268508,
          347434178,
          164508066,
          125537191,
          383531464,
          871368364,
          72178895,
          87713825,
          0,
          347234916,
          211643158,
          300135367,
          267045765,
          630161890,
          162949164,
          10372291,
          237202299,
          457640427,
          358372926,
          876688482,
          599045960,
          362211740,
          520000000,
          214104620,
          266465037,
          378882411,
          150166126,
          310650585,
          170432927,
          242295562,
          425368238,
          100138851,
          169327687,
          312573423,
          347451894,
          249288105,
          100086793,
          268426634,
          278731369,
          211989043,
          170877916,
          392000694,
          336529144,
          121214377,
          130482868,
          140073390,
          82102379,
          243400000,
          109578115,
          68688831,
          206172544,
          133718711,
          0,
          93820758,
          7103973,
          94882889,
          246233113,
          13835130,
          433013274,
          193772504,
          95311434,
          149044513,
          102000000,
          172989651,
          104907746,
          263920180,
          288347692,
          76432727,
          877244782,
          543514353,
          93525586,
          940335536,
          1118888979,
          926287400,
          114178613,
          274703340,
          103039258,
          368780809,
          482860185,
          162839667,
          304654182,
          25819961,
          631442092,
          10017322,
          226497209,
          589390539,
          497366869,
          167805466,
          347325802,
          155464351,
          242988466,
          886686817,
          188133322,
          264105545,
          289847354,
          304320254,
          188072649,
          232617430,
          366101666,
          524028679,
          94061311,
          186053725,
          233755553,
          200276000,
          201596308,
          243637091,
          235926552,
          182290266,
          171120329,
          190213455,
          162944923,
          174578751,
          156505388,
          334901337,
          118063304,
          143049560,
          60874615,
          484635760,
          93700000,
          0,
          140807547,
          35168966,
          79114085,
          108539911,
          16178959,
          148336445,
          494471524,
          429632142,
          384335608,
          288500217,
          315156409,
          450717150,
          132274484,
          358375603,
          340487652,
          208076205,
          183611771,
          152930623,
          194168700,
          250649836,
          219103655,
          311312624,
          197309027,
          288747895,
          96976270,
          80916492,
          137298489,
          162242962,
          158468292,
          0,
          142940100,
          78382433,
          37823676,
          183018522,
          47664559,
          74208267,
          123307945,
          275650703,
          41037742,
          237681299,
          21028755,
          112483764,
          222231186,
          160388063,
          84785914,
          96085477,
          484572835,
          274470394,
          457696359,
          691210692,
          254455986,
          280000000,
          343397247,
          145771527,
          144000000,
          140464664,
          0,
          190320568,
          342695435,
          246984278,
          230685453,
          266728738,
          294804195,
          163733697,
          260696994,
          245676146,
          212874442,
          181001478,
          214918407,
          224012234,
          178066569,
          173013509,
          157107755,
          177977226,
          91188905,
          250200000,
          0,
          233093859,
          136982834,
          211817906,
          164000000,
          201584141,
          122563539,
          169852759,
          136159423,
          96105964,
          0,
          473226958,
          90874570,
          123729176,
          0,
          147080413,
          142400065,
          71485043,
          0,
          105316267,
          101371017,
          0,
          43312294,
          122444772,
          34566746,
          159212469,
          126546518,
          21400000,
          68514844,
          53825515,
          19480739,
          17626234,
          69131860,
          146936910,
          33463969,
          107944236,
          19406406,
          5989640,
          117831631,
          0,
          313542341,
          788241776,
          355692760,
          248384621,
          209196298,
          108103450,
          149673788,
          236350661,
          97571250,
          15071514,
          35134820,
          875958308,
          179265204,
          970761885,
          816969268,
          229074524,
          532680671,
          69959751,
          296339527,
          258270008,
          335062621,
          660940780,
          196482882,
          90450008,
          78000586,
          0,
          117698894,
          271430189,
          219417255,
          73034460,
          215663859,
          119000410,
          367275019,
          154937680,
          95226116,
          130358911,
          85632458,
          98159963,
          108145109,
          55041367,
          140175006,
          67631903,
          127600435,
          0,
          226904017,
          77944725,
          36754634,
          51142659,
          14567883,
          5802422,
          5409517,
          21009180,
          248118121,
          1156730962,
          89792502,
          103891409,
          13100000,
          349779543,
          111231041,
          61458982,
          86658558,
          162966177,
          176104344,
          210000000,
          96889998,
          527068851,
          37317558,
          54744738,
          62172050,
          256697520,
          294456605,
          408247917,
          919838758,
          461983149,
          309457509,
          277448382,
          311594032,
          309492681,
          319131050,
          300854823,
          240031094,
          116643346,
          203388341,
          42285169,
          171183863,
          443140005,
          114660784,
          161025640,
          118000000,
          202466756,
          122919055,
          0,
          177584879,
          154984035,
          90000098,
          134748021,
          215529201,
          116672912,
          135560026,
          131457682,
          67112664,
          65977295,
          55987321,
          33561137,
          160112671,
          59418613,
          32287044,
          57777106,
          0,
          19924033,
          19870567,
          13596911,
          18662027,
          17752940,
          57958696,
          38629478,
          122915111,
          61279452,
          193000000,
          698491347,
          71069884,
          543513985,
          35431113,
          217022588,
          39041505,
          29762011,
          83160734,
          60289912,
          52099090,
          113280098,
          86387857,
          112265139,
          212404396,
          189198313,
          25303038,
          481840909,
          203277636,
          374111707,
          383257136,
          75715436,
          275293450,
          463517383,
          355237933,
          172855065,
          441809770,
          250821495,
          128107642,
          250288523,
          211780824,
          163442937,
          128884132,
          255000211,
          150270147,
          69700000,
          162945894,
          0,
          179379533,
          162091208,
          133821816,
          153962963,
          156974557,
          128905366,
          38376497,
          0,
          240159255,
          73762516,
          89456761,
          0,
          64321501,
          100853753,
          43545364,
          17218080,
          0,
          71154592,
          42093706,
          56681566,
          39407616,
          74608570,
          203427584,
          132180323,
          296655431,
          44091067,
          920100000,
          25052000,
          215887717,
          121545703,
          101595121,
          127666415,
          107879496,
          41819064,
          18720175,
          155760117,
          0,
          183953723,
          422610419,
          516642939,
          244082376,
          284600000,
          253625427,
          314432665,
          369330363,
          214034224,
          352194034,
          149705852,
          264118201,
          218613188,
          164433867,
          131940411,
          93375151,
          176070171,
          93354918,
          171757863,
          171844840,
          157920733,
          129181830,
          311256926,
          204594016,
          0,
          71664962,
          100230832,
          186883563,
          217764291,
          165333180,
          74541707,
          218340595,
          73648228,
          0,
          137551594,
          0,
          124596398,
          163403799,
          130293714,
          61112916,
          170268750,
          129832389,
          99318987,
          56702901,
          107139399,
          159330280,
          96269812,
          0,
          50877145,
          0,
          104324083,
          50549107,
          101134059,
          205754447,
          162000000,
          95696996,
          108255770,
          46683377,
          469160692,
          0,
          43061982,
          105200903,
          62357900,
          122233971,
          87784194,
          60000000,
          36850101,
          77920346,
          104945765,
          67312826,
          119940815,
          0,
          74901339,
          33956608,
          55003135,
          73174566,
          0,
          31720158,
          39459427,
          47383689,
          141702264,
          71073932,
          78309131,
          26288320,
          26673242,
          52322400,
          49111202,
          17800000,
          27642707,
          14828081,
          30800231,
          90565421,
          50650079,
          25473093,
          0,
          57490374,
          39031337,
          30418560,
          0,
          0,
          193677158,
          10166502,
          783112979,
          0,
          542307423,
          158162788,
          102854431,
          59468275,
          189015611,
          41299492,
          0,
          85280250,
          44000000,
          300228084,
          50365377,
          152944660,
          58058367,
          115267375,
          61347797,
          149217355,
          62112895,
          113006880,
          57223890,
          677945399,
          361366633,
          330444045,
          346079773,
          300218018,
          128769345,
          368100420,
          0,
          231449203,
          95000000,
          152263880,
          287928194,
          192330738,
          154906693,
          157387195,
          307077295,
          223387299,
          214015089,
          198685114,
          180949000,
          0,
          152159461,
          63408614,
          149022650,
          56932305,
          121969216,
          187361754,
          127906624,
          110000000,
          159773545,
          141047179,
          41610884,
          75000000,
          259207227,
          68267862,
          34234008,
          0,
          33828318,
          33472850,
          118338361,
          113020255,
          60209334,
          18626419,
          154648887,
          74237563,
          52304001,
          12923936,
          11466088,
          0,
          80383290,
          28283637,
          89519773,
          0,
          9250000,
          6416302,
          155010032,
          168167691,
          9489829,
          136766062,
          52034889,
          130431368,
          190458706,
          7266209,
          9450897,
          107196498,
          139804348,
          179213434,
          54249294,
          98837872,
          65900249,
          126690726,
          25037897,
          0,
          5761917,
          352114312,
          132820716,
          204999686,
          609841637,
          216485654,
          110803676,
          98126565,
          75450437,
          47434430,
          116112375,
          52826594,
          0,
          149270999,
          72779000,
          47231070,
          709827462,
          484409218,
          127869379,
          390493908,
          273552592,
          549368315,
          314178011,
          202292902,
          173649015,
          171269535,
          260095987,
          256271286,
          177371441,
          188441614,
          223664608,
          225990978,
          216972543,
          0,
          242786137,
          212902372,
          184376254,
          161626121,
          152022101,
          120081841,
          155446362,
          88715192,
          161451538,
          142851197,
          200804534,
          0,
          110206216,
          189859560,
          222809600,
          106303988,
          132511035,
          88323487,
          69834815,
          66002004,
          100020092,
          224803475,
          119137784,
          144492830,
          94000000,
          69411370,
          97437106,
          82800000,
          50068310,
          48169156,
          109423648,
          97607453,
          0,
          234989584,
          44547681,
          160602194,
          119208989,
          41482207,
          83719388,
          0,
          129394835,
          40203020,
          55495563,
          49000000,
          69425966,
          144056873,
          49718611,
          60462347,
          0,
          113309743,
          83761844,
          105197635,
          56714147,
          30303072,
          82169884,
          58900031,
          63327201,
          42792561,
          26199517,
          60161391,
          42277365,
          23159305,
          34808403,
          25035950,
          38955598,
          0,
          71561644,
          55112356,
          44434439,
          66976317,
          26121638,
          38502340,
          10541523,
          16671505,
          10382407,
          24188922,
          22944502,
          9851610,
          40828540,
          60052138,
          0,
          55969000,
          6808550,
          0,
          28931401,
          12764201,
          72700000,
          20423389,
          36348784,
          207515725,
          474171806,
          68929150,
          104399548,
          151493655,
          196397415,
          0,
          108000000,
          3324330,
          85498534,
          50315140,
          0,
          90383208,
          25928721,
          70016220,
          325771424,
          77745568,
          102825796,
          528972,
          103738726,
          124305181,
          35743308,
          125212904,
          0,
          38085778,
          12379402,
          299288605,
          0,
          113714830,
          150000000,
          10539000,
          100860818,
          181000000,
          15436808,
          5200000,
          341631208,
          376141306,
          220673217,
          212000000,
          101702060,
          95149435,
          195268056,
          117615211,
          175372502,
          178051587,
          154749918,
          122126687,
          104876233,
          90683916,
          141220678,
          165184237,
          131183530,
          76669806,
          94935764,
          136885767,
          113916474,
          244931766,
          363258859,
          74558115,
          170362582,
          53854588,
          0,
          56070433,
          104478416,
          0,
          148412065,
          123494610,
          38399961,
          0,
          0,
          82966152,
          56422687,
          160583018,
          55181129,
          30925690,
          0,
          75225693,
          65664721,
          72108608,
          0,
          0,
          57881056,
          29400000,
          38058335,
          17300889,
          0,
          13681765,
          60222298,
          11203026,
          9323833,
          0,
          42487390,
          8493890,
          4607608,
          2154540,
          160078586,
          73706,
          232324128,
          368875760,
          136000000,
          165615285,
          300400432,
          0,
          84300000,
          3484331,
          111340801,
          34227298,
          80049764,
          0,
          50871113,
          68696770,
          270248367,
          48190704,
          51070807,
          201585328,
          363889678,
          224834564,
          171963386,
          70100000,
          158674180,
          71000000,
          73100172,
          63781810,
          0,
          55157539,
          0,
          156167015,
          89162162,
          56359980,
          20915465,
          24127895,
          177394432,
          36893721,
          12342632,
          11087569,
          14000000,
          215000000,
          0,
          117487473,
          0,
          672806292,
          46221189,
          7448385,
          90815558,
          251171807,
          317375031,
          177841558,
          332000000,
          126546825,
          571006128,
          197011982,
          152266007,
          190212113,
          149295601,
          107458785,
          320170008,
          224920315,
          177259441,
          178262620,
          161834276,
          244527583,
          111811453,
          215862692,
          129540499,
          95020213,
          128798265,
          169837010,
          120455994,
          194564672,
          124827316,
          75505856,
          124731534,
          158733820,
          151161491,
          91636986,
          141069860,
          205405498,
          138259062,
          147845033,
          136267476,
          196781193,
          186167139,
          165478348,
          91753202,
          90029656,
          170128460,
          54682547,
          87840042,
          75395048,
          85412898,
          130786397,
          109676311,
          107670357,
          74597643,
          120175290,
          191185897,
          126248813,
          0,
          92913171,
          114830111,
          91974818,
          51854875,
          84601681,
          67347013,
          45916769,
          141591324,
          74000000,
          0,
          41797066,
          0,
          0,
          145896422,
          97552050,
          41863726,
          97138686,
          96618699,
          34416893,
          126069509,
          36037909,
          157887643,
          0,
          55707411,
          50451307,
          0,
          0,
          48063435,
          55247881,
          58785180,
          46442528,
          30199105,
          31670620,
          0,
          29000000,
          49627779,
          27053815,
          0,
          65754228,
          62771059,
          3000000,
          24332324,
          60965854,
          38172500,
          22433915,
          0,
          46546197,
          0,
          20350754,
          60474340,
          0,
          19412993,
          180274123,
          14375181,
          46471023,
          16872671,
          14358033,
          173921954,
          0,
          13395939,
          24719215,
          28121100,
          18902015,
          28169671,
          19322135,
          0,
          0,
          10667893,
          20645327,
          0,
          10959475,
          0,
          32017803,
          22044277,
          0,
          13644292,
          23937870,
          117760134,
          7563728,
          0,
          0,
          0,
          0,
          86758912,
          0,
          0,
          94000000,
          100000000,
          101229792,
          69485490,
          35287788,
          38869464,
          6614280,
          75850624,
          44907260,
          127814609,
          180622424,
          205298907,
          0,
          119723358,
          120000000,
          64076736,
          114156230,
          0,
          73956241,
          51801187,
          0,
          107597242,
          29700000,
          0,
          58401898,
          17380126,
          16991902,
          47536959,
          10300000,
          19629760,
          98337295,
          6482195,
          0,
          17869048,
          28258060,
          5410749,
          9793496,
          109906372,
          173567581,
          154026136,
          79700000,
          163720069,
          100076342,
          90247624,
          48451803,
          55583804,
          112343513,
          95404397,
          392616625,
          102244770,
          117758500,
          269994119,
          21834845,
          50159144,
          160000000,
          64572262,
          52424533,
          32168970,
          44350926,
          26250020,
          0,
          0,
          96047633,
          12532777,
          3003296,
          63800345,
          0,
          459270619,
          156844753,
          310940086,
          411348924,
          0,
          321731527,
          309208309,
          147934180,
          117000000,
          252276927,
          326551094,
          139000000,
          173965010,
          182300000,
          69823199,
          140795793,
          68915888,
          231976425,
          126216940,
          86369815,
          0,
          113374103,
          25504513,
          104155843,
          0,
          60251371,
          95608995,
          52277485,
          150483765,
          108758521,
          112544580,
          48169908,
          88058786,
          92219310,
          91353501,
          69307224,
          0,
          58405313,
          41954997,
          102984862,
          122200000,
          0,
          85416905,
          173930596,
          77477008,
          59901913,
          0,
          35323292,
          99423521,
          120072577,
          0,
          68766121,
          115505027,
          84606030,
          72436439,
          45479110,
          57120318,
          32483410,
          40263020,
          27107960,
          36098382,
          30353232,
          25105255,
          4100000,
          93246388,
          0,
          68369434,
          27388767,
          50363790,
          82087155,
          19478106,
          0,
          25871834,
          19701164,
          19294901,
          31083599,
          51680201,
          29882645,
          46216641,
          41512007,
          39340177,
          0,
          16519460,
          63215872,
          0,
          18317151,
          0,
          13678913,
          27409889,
          12206028,
          54674226,
          0,
          17508518,
          11560806,
          10089373,
          12506188,
          61181942,
          0,
          42064105,
          4651977,
          0,
          0,
          16838910,
          0,
          15000000,
          635096,
          25147786,
          10496317,
          0,
          348319861,
          14431253,
          32255440,
          15304890,
          11263966,
          2106557,
          187479518,
          63013281,
          19598588,
          0,
          0,
          27330000,
          40382659,
          243240178,
          79958599,
          173959438,
          0,
          64626786,
          140470746,
          62022014,
          0,
          54700105,
          27610873,
          40346186,
          0,
          572700000,
          22211426,
          113019290,
          24159934,
          173398518,
          152036382,
          0,
          60328000,
          80197993,
          288383523,
          126041322,
          50041732,
          48814909,
          69055695,
          21819348,
          83615414,
          147332697,
          36733909,
          77566815,
          9494789,
          31755742,
          0,
          60740827,
          85167639,
          18552460,
          30016165,
          0,
          18409891,
          53587404,
          0,
          27437881,
          3566637,
          0,
          5914908,
          0,
          89460381,
          42045846,
          106269971,
          14708696,
          128499205,
          161772375,
          210308099,
          174600318,
          24185781,
          53208180,
          68106245,
          104384188,
          115101622,
          306776732,
          234801895,
          287553595,
          373554033,
          350448145,
          196114570,
          15134293,
          136706683,
          199200000,
          115922175,
          167722310,
          191502426,
          212385533,
          165335153,
          116400000,
          327311859,
          210819611,
          140161792,
          156822020,
          216763646,
          176885658,
          115603229,
          160259319,
          155545279,
          103,
          74787599,
          160638883,
          163670000,
          105834556,
          116980662,
          47042000,
          0,
          254134910,
          114281051,
          105173115,
          92374674,
          63833449,
          0,
          114663461,
          69631118,
          96455697,
          151119219,
          0,
          83282296,
          118880016,
          70200000,
          0,
          51132598,
          152427960,
          192452832,
          156835339,
          93772522,
          129266061,
          0,
          45892212,
          54819301,
          117195061,
          42647449,
          84025816,
          91709827,
          90810892,
          65663276,
          0,
          159291809,
          51842679,
          53653224,
          75505973,
          66486080,
          84646831,
          38413606,
          38122105,
          38748395,
          63782078,
          51376861,
          36160375,
          82394288,
          34742066,
          41480851,
          0,
          48428063,
          63372757,
          0,
          14460000,
          39267515,
          29202884,
          31911598,
          0,
          24048000,
          60896147,
          0,
          108609310,
          22034832,
          53909751,
          21800302,
          51148651,
          31070211,
          35294470,
          19204929,
          17193231,
          0,
          102820008,
          16930884,
          25224242,
          26155781,
          0,
          37962774,
          31148328,
          15007991,
          15368897,
          13001257,
          24922237,
          30536013,
          0,
          0,
          0,
          0,
          30114487,
          12,
          13521829,
          18618284,
          64352607,
          8454301,
          62616646,
          18195610,
          26828365,
          0,
          18074539,
          0,
          0,
          3102550,
          35078241,
          0,
          480314,
          14711793,
          108348,
          0,
          0,
          2527904,
          0,
          0,
          0,
          0,
          0,
          0,
          140752617,
          287506194,
          186438883,
          37036004,
          0,
          0,
          33013805,
          16930185,
          78636257,
          0,
          0,
          24829644,
          21126225,
          504050219,
          201634991,
          333000000,
          100491683,
          105178561,
          48902953,
          98185582,
          140767956,
          92380927,
          133346506,
          0,
          64445708,
          102356381,
          94728529,
          17137302,
          71441250,
          90259536,
          134402450,
          195312802,
          77516304,
          101646581,
          60780981,
          97594140,
          39514713,
          92601050,
          96188903,
          40547440,
          33000337,
          100654149,
          121147947,
          33139618,
          31596911,
          52597999,
          54926886,
          0,
          20217080,
          38159905,
          8888143,
          45236543,
          8345056,
          14010832,
          7002261,
          16374328,
          5684789,
          17286299,
          60700000,
          23321954,
          68896829,
          187500000,
          219076518,
          95714875,
          43650785,
          27187653,
          49469904,
          24748670,
          96900000,
          0,
          60527873,
          115229890,
          44352417,
          0,
          129000000,
          56870414,
          56308881,
          21500000,
          15395087,
          20158808,
          27200316,
          0,
          11137801,
          76000000,
          29000000,
          13000000,
          0,
          85564310,
          93282604,
          14,
          4488529,
          21148829,
          6673422,
          0,
          0,
          183293131,
          110230332,
          109449237,
          289317794,
          53181600,
          201957688,
          101624843,
          65705772,
          68296293,
          61489265,
          50750000,
          57891803,
          90426405,
          71868327,
          67918658,
          86175291,
          0,
          38793283,
          0,
          43318349,
          28818995,
          142044638,
          35402320,
          29657751,
          14000000,
          36800000,
          0,
          0,
          0,
          0,
          20080020,
          30523226,
          82466670,
          611899420,
          441286195,
          412800000,
          269958228,
          29506464,
          226830568,
          35926213,
          411006740,
          321365567,
          124272124,
          8555008,
          181466833,
          0,
          114908830,
          0,
          80936232,
          170764026,
          78000000,
          76270454,
          171600000,
          153997819,
          281929795,
          152500343,
          124914842,
          119772232,
          147780440,
          56505065,
          91036760,
          60922980,
          117719158,
          99357138,
          137587063,
          116766556,
          0,
          77278331,
          122644820,
          90574188,
          46836394,
          58795814,
          122489822,
          65884703,
          0,
          43984230,
          63100000,
          0,
          77208711,
          0,
          0,
          41604473,
          39053061,
          64437847,
          70442940,
          36351350,
          38307627,
          66980456,
          0,
          63102666,
          59192128,
          56489558,
          41597830,
          33889159,
          229736344,
          70992898,
          2415472,
          66122026,
          82150642,
          50671850,
          29548291,
          100000000,
          34942188,
          0,
          28341469,
          39438674,
          25023434,
          39171130,
          74188937,
          27645491,
          42886719,
          46152800,
          21567853,
          22200000,
          114977104,
          23580000,
          36993168,
          40452643,
          17000000,
          20796847,
          0,
          0,
          0,
          0,
          15431177,
          33333531,
          0,
          24362772,
          19829957,
          30411183,
          51702483,
          0,
          42972994,
          14334401,
          10126458,
          13,
          28831145,
          0,
          15478800,
          13411957,
          24902723,
          11000000,
          0,
          23057115,
          16900000,
          25000000,
          11207130,
          10719357,
          13000000,
          85446075,
          10070000,
          10324441,
          11772461,
          0,
          27635305,
          5778353,
          0,
          0,
          0,
          4064495,
          0,
          19844979,
          2405420,
          27603069,
          0,
          34153101,
          777423,
          2336172,
          19255873,
          10589102,
          0,
          48531470,
          0,
          0,
          6500000,
          71009334,
          0,
          3052000,
          0,
          0,
          34670720,
          8784318,
          133000000,
          155721132,
          172363301,
          1397284,
          70181428,
          106371651,
          80035402,
          87055349,
          41895491,
          40002112,
          36609995,
          42105111,
          0,
          68729358,
          0,
          0,
          16980098,
          16290976,
          21049053,
          12372410,
          8434146,
          30551495,
          83188165,
          0,
          4562146,
          669276,
          0,
          23081726,
          234710455,
          102391382,
          185991646,
          538400000,
          141407024,
          86930411,
          53302314,
          75993061,
          53187659,
          0,
          47351251,
          36642838,
          6399,
          18653615,
          0,
          33372606,
          51881013,
          0,
          0,
          10827816,
          7434726,
          29541790,
          0,
          0,
          9366227,
          16123851,
          5837674,
          94679598,
          38119483,
          15520023,
          505000000,
          369884651,
          189833357,
          75597042,
          147880543,
          182016617,
          84772742,
          77737889,
          88880821,
          110627965,
          92542418,
          67800064,
          95708457,
          57479076,
          35424826,
          0,
          22400154,
          51164106,
          9930095,
          19351569,
          77112176,
          0,
          33788161,
          23619609,
          63647656,
          0,
          43058898,
          13555988,
          0,
          10696210,
          0,
          0,
          0,
          72629670,
          0,
          26193068,
          17709155,
          14400000,
          0,
          15447154,
          12000000,
          9479718,
          0,
          15400000,
          92991835,
          0,
          0,
          24000000,
          73244881,
          70687344,
          0,
          46,
          42000000,
          40222729,
          205738714,
          41170784,
          37000000,
          43928932,
          41627431,
          17762705,
          14899417,
          17600000,
          10011050,
          0,
          0,
          970816,
          69701637,
          2856712,
          389925971,
          358991681,
          303788635,
          29907685,
          299965036,
          132675402,
          272742922,
          121697323,
          117224271,
          187884007,
          149281606,
          318000141,
          97918663,
          100525432,
          131282949,
          122195920,
          113086475,
          177243185,
          0,
          0,
          187000000,
          57588485,
          60072596,
          53000000,
          207945075,
          0,
          41158757,
          183936074,
          48548426,
          109862682,
          66787908,
          135680000,
          67192859,
          84146832,
          45554533,
          41596251,
          43967255,
          86865564,
          88346473,
          27640028,
          39143839,
          37672350,
          0,
          41237648,
          35841901,
          65464324,
          60000000,
          80547866,
          135330182,
          41296320,
          50907234,
          50907422,
          47241945,
          0,
          78378744,
          31678778,
          54586584,
          46069568,
          68349884,
          35387212,
          67200000,
          0,
          45636368,
          47126295,
          0,
          0,
          64822796,
          72258126,
          32005248,
          65569869,
          46089287,
          0,
          51416464,
          49779728,
          17425000,
          27105095,
          0,
          39300000,
          37597471,
          0,
          28972508,
          21284514,
          83707310,
          20211394,
          0,
          32000000,
          36620508,
          34077920,
          0,
          2297493,
          18432000,
          18253415,
          22222308,
          56255142,
          17807569,
          52302796,
          25836616,
          0,
          17519169,
          100914445,
          0,
          73276047,
          60427839,
          16605763,
          17432163,
          0,
          17436509,
          15473333,
          34854990,
          14109284,
          22942221,
          13801755,
          30426096,
          32204030,
          0,
          34560577,
          0,
          13391174,
          27674124,
          12482775,
          12398628,
          0,
          17280326,
          24145613,
          0,
          0,
          0,
          12639297,
          10686841,
          0,
          36606743,
          0,
          0,
          16974459,
          0,
          9109322,
          12382362,
          10337477,
          11341016,
          20000000,
          11110975,
          0,
          16549477,
          7000000,
          15008161,
          0,
          6575282,
          0,
          6420319,
          27462041,
          7659918,
          0,
          10442808,
          5210988,
          0,
          12007070,
          0,
          0,
          4001121,
          16863583,
          5530764,
          0,
          159375308,
          0,
          0,
          5048693,
          0,
          1675706,
          5359645,
          7400000,
          0,
          0,
          3727746,
          0,
          0,
          0,
          305070,
          47301471,
          0,
          4634062,
          0,
          346594,
          17671101,
          0,
          0,
          0,
          0,
          0,
          0,
          0,
          5496951,
          0,
          0,
          424208848,
          216197492,
          110879513,
          70067909,
          173046663,
          0,
          44017374,
          381109762,
          40846082,
          0,
          0,
          49830607,
          101564935,
          5728213,
          0,
          54956140,
          274925095,
          0,
          8613462,
          76586316,
          18755936,
          29922472,
          4750000,
          6928068,
          5310554,
          2119994,
          0,
          0,
          108047131,
          32801173,
          46770602,
          0,
          10680275,
          31912793,
          268157400,
          351583407,
          151668774,
          261572744,
          141774679,
          87000000,
          144216468,
          65535067,
          19682924,
          0,
          65070412,
          76488889,
          67683989,
          88923251,
          72417394,
          98235548,
          51973029,
          14796236,
          129042871,
          0,
          87754044,
          41382841,
          103215094,
          99206215,
          76286096,
          62646763,
          0,
          21378361,
          47088990,
          24911670,
          24007324,
          100000000,
          23000000,
          36133014,
          0,
          0,
          35692920,
          0,
          17200925,
          24000000,
          16702864,
          0,
          34441873,
          0,
          0,
          2945600,
          28008462,
          12000000,
          10501938,
          8038061,
          25312387,
          0,
          0,
          6735922,
          14110013,
          0,
          5887457,
          20275812,
          26527510,
          25739015,
          0,
          0,
          20719451,
          6212282,
          0,
          22309223,
          0,
          0,
          3500000,
          676698,
          7972967,
          382174,
          871279,
          0,
          0,
          34000000,
          0,
          1831348,
          6948633,
          13551174,
          121463226,
          90508336,
          0,
          150816700,
          51053787,
          38000000,
          99965753,
          7018189,
          266586800,
          0,
          0,
          183316455,
          72070731,
          125586134,
          136621271,
          109502303,
          19179969,
          70000000,
          0,
          71625195,
          57103895,
          136150434,
          0,
          30331165,
          43165571,
          69623713,
          0,
          45710059,
          0,
          21170563,
          115350426,
          19693891,
          0,
          0,
          0,
          0,
          29536299,
          10000000,
          97542952,
          20455276,
          7314027,
          19300000,
          0,
          9500000,
          0,
          0,
          86915017,
          2000000,
          1569918,
          3758328,
          374743,
          0,
          8720000,
          9627492,
          0,
          2281089,
          43848069,
          135000000,
          37311672,
          13620075,
          16942795,
          235860116,
          247275374,
          92823546,
          53977250,
          119754278,
          0,
          133432856,
          76514050,
          68263166,
          0,
          6490401,
          0,
          83258226,
          0,
          29381649,
          40492759,
          30987695,
          30102717,
          80573774,
          50007546,
          96408652,
          0,
          20627372,
          0,
          31556061,
          15427192,
          0,
          0,
          0,
          13854000,
          206678440,
          18564088,
          12,
          0,
          0,
          0,
          4217115,
          5900000,
          2849142,
          1686429,
          5867686,
          0,
          24261569,
          14822346,
          53191886,
          0,
          754249,
          0,
          47801389,
          0,
          3442853,
          0,
          0,
          0,
          1237615,
          0,
          0,
          316360478,
          476684675,
          0,
          177200000,
          356830601,
          213525736,
          356296601,
          414211549,
          216614388,
          317000,
          146292009,
          11301649,
          233555708,
          0,
          67182787,
          75700498,
          146497771,
          61399552,
          151831537,
          123384128,
          73326666,
          55184721,
          0,
          127730736,
          66966987,
          52970014,
          50000000,
          64256513,
          55534455,
          42930462,
          61548707,
          40283321,
          0,
          44862187,
          66468332,
          48126384,
          35007180,
          123726688,
          0,
          33771174,
          69995385,
          39421467,
          52501541,
          32721635,
          47175038,
          37664855,
          30857814,
          30226144,
          78054825,
          29331068,
          46905889,
          64238440,
          30127963,
          32645546,
          27728118,
          28084357,
          40105542,
          0,
          24769466,
          85306374,
          0,
          23237911,
          43101594,
          0,
          21000000,
          0,
          38574362,
          0,
          22165608,
          20566327,
          20529194,
          17507368,
          35485608,
          32556119,
          0,
          42000000,
          17080167,
          37930465,
          31554855,
          0,
          0,
          22730842,
          15843608,
          0,
          59389433,
          16633035,
          12000000,
          0,
          0,
          0,
          0,
          0,
          15608545,
          10443316,
          0,
          0,
          14867514,
          46189568,
          10903846,
          9237470,
          18928871,
          9902115,
          8586376,
          0,
          0,
          0,
          34533783,
          0,
          8762890,
          6405245,
          8138788,
          35097815,
          5217498,
          12036149,
          0,
          15785148,
          4152230,
          20117339,
          0,
          0,
          9455232,
          0,
          5926410,
          0,
          0,
          7938872,
          0,
          0,
          650422,
          9584131,
          529766,
          632542,
          0,
          0,
          8936663,
          6814789,
          76382,
          3533227,
          0,
          0,
          23000,
          20380,
          0,
          27187375,
          0,
          0,
          0,
          0,
          70906973,
          122513057,
          147298761,
          17511906,
          0,
          159157447,
          674918,
          377910544,
          320145693,
          463000000,
          239606210,
          0,
          161001698,
          154864401,
          100734718,
          75511123,
          185438673,
          72527595,
          0,
          34793160,
          0,
          114956699,
          0,
          27515786,
          25482931,
          19800000,
          30749142,
          0,
          0,
          22852638,
          21409028,
          0,
          21001563,
          0,
          0,
          0,
          13196245,
          16951798,
          0,
          10424470,
          11417362,
          19777647,
          14821658,
          5108820,
          0,
          4291965,
          0,
          2474000,
          0,
          0,
          5405500,
          0,
          0,
          0,
          0,
          46495,
          0,
          1755212,
          178043761,
          0,
          29027914,
          12314651,
          7060876,
          19422261,
          0,
          92180910,
          38535221,
          5380251,
          123922370,
          16700000,
          98441954,
          327803731,
          47542841,
          91038276,
          72500000,
          77000000,
          73180723,
          44726644,
          54837234,
          49002684,
          53478166,
          0,
          0,
          119100758,
          96060858,
          0,
          0,
          36450736,
          27007143,
          0,
          35763605,
          53830415,
          57096190,
          36869414,
          22863596,
          0,
          45300000,
          16929123,
          68673228,
          11130889,
          8026971,
          35401758,
          0,
          7820688,
          27500000,
          0,
          16757163,
          0,
          0,
          48065672,
          4857367,
          0,
          18000000,
          0,
          8459458,
          9789900,
          2636637,
          33400000,
          1200000,
          1151330,
          0,
          1784763,
          3964682,
          303877,
          68572378,
          0,
          33082548,
          10652035,
          55260558,
          23367586,
          0,
          12281551,
          0,
          10725228,
          0,
          0,
          27206120,
          0,
          11293663,
          20416563,
          40031879,
          0,
          1227324,
          5024782,
          31327899,
          1083683,
          84460846,
          15,
          3878993,
          441306145,
          470654000,
          235483004,
          8109160,
          79817939,
          96070507,
          75781642,
          96800000,
          107217396,
          79567667,
          68706993,
          81272766,
          114194847,
          0,
          39673162,
          43493123,
          145000000,
          30400000,
          42365581,
          61141030,
          100000000,
          89800000,
          52223306,
          40855419,
          56309766,
          31179516,
          31155435,
          27281507,
          56298474,
          32726956,
          307166834,
          22921898,
          25434291,
          54000000,
          21133087,
          100129872,
          0,
          0,
          23006849,
          85512300,
          51,
          17654912,
          0,
          17292381,
          22939027,
          42931041,
          13960203,
          12902790,
          21520719,
          0,
          0,
          31466789,
          85000000,
          0,
          87100449,
          92863945,
          35485056,
          32248241,
          0,
          0,
          6739141,
          5542025,
          0,
          6754898,
          4922166,
          4939939,
          23,
          3148182,
          0,
          88489643,
          0,
          0,
          0,
          8371085,
          0,
          12077441,
          19271312,
          0,
          0,
          1644755,
          15250000,
          0,
          0,
          0,
          0,
          0,
          0,
          0,
          0,
          0,
          10652498,
          2570000,
          11212294,
          17479,
          0,
          0,
          101332962,
          83557872,
          0,
          57469467,
          0,
          0,
          0,
          153083102,
          775398007,
          94073028,
          111858363,
          0,
          0,
          93617009,
          72778712,
          64088552,
          78874843,
          0,
          49797148,
          0,
          97837138,
          41227069,
          39363635,
          75902208,
          68233629,
          31672907,
          38105395,
          23978402,
          37170057,
          11,
          4884663,
          62076141,
          20000000,
          14782676,
          13700000,
          59520298,
          23430766,
          13110448,
          61619773,
          0,
          0,
          6413915,
          30000000,
          4069090,
          0,
          0,
          2832826,
          32935319,
          16017403,
          2807854,
          2200000,
          2945242,
          0,
          0,
          113857533,
          0,
          0,
          0,
          17000000,
          18535191,
          0,
          0,
          68700000,
          792910554,
          17500000,
          0,
          123509,
          0,
          0,
          9622846,
          0,
          225933435,
          0,
          163876815,
          85300000,
          90449929,
          118587880,
          103166989,
          139352633,
          91196419,
          57231524,
          52293982,
          50100000,
          50752337,
          183474602,
          41205099,
          59217789,
          40485039,
          37402877,
          136836156,
          44460850,
          36230219,
          57500000,
          64188367,
          33583175,
          33526835,
          104303851,
          25754284,
          32101000,
          32973937,
          30652890,
          0,
          29450919,
          30050028,
          29392418,
          34411240,
          38368909,
          25605015,
          33697647,
          143695338,
          20766616,
          52882018,
          24637469,
          0,
          42333295,
          0,
          0,
          0,
          0,
          17096053,
          66821036,
          85978266,
          0,
          0,
          16153593,
          0,
          48572000,
          28650575,
          15795189,
          15156200,
          21587700,
          20342161,
          0,
          0,
          0,
          35057696,
          17297244,
          0,
          58978653,
          0,
          0,
          12827813,
          10571408,
          28883511,
          9898412,
          0,
          8801940,
          6110000,
          0,
          32438988,
          0,
          9636289,
          6861102,
          23875127,
          6842058,
          0,
          9495408,
          0,
          0,
          7800000,
          33000000,
          2154696,
          21571189,
          0,
          7177143,
          10835752,
          4417580,
          0,
          0,
          3275585,
          3193102,
          98410061,
          5164404,
          0,
          0,
          0,
          0,
          40055439,
          439564,
          7587485,
          1759252,
          0,
          1631839,
          0,
          1969193,
          0,
          0,
          3665069,
          7022728,
          0,
          0,
          21786738,
          0,
          598645,
          1296184,
          42776760,
          0,
          0,
          0,
          0,
          1072602,
          0,
          0,
          295750,
          0,
          0,
          42145,
          126247,
          0,
          0,
          0,
          45779,
          0,
          0,
          0,
          140987,
          17472,
          9069,
          0,
          0,
          0,
          0,
          0,
          0,
          0,
          0,
          0,
          11,
          0,
          0,
          0,
          0,
          0,
          10000000,
          0,
          17164377,
          4386236,
          59827328,
          0,
          111584787,
          0,
          19839492,
          14144000,
          0,
          60000000,
          85582407,
          0,
          0,
          0,
          0,
          0,
          21817298,
          0,
          0,
          104931801,
          30859000,
          2995811,
          83304330,
          141195658,
          0,
          8220215,
          41590886,
          34573780,
          44196684,
          24538513,
          108782847,
          0,
          23936908,
          0,
          28780255,
          90400000,
          21510851,
          0,
          0,
          0,
          6126237,
          19125401,
          4777465,
          4350774,
          0,
          0,
          2955039,
          0,
          0,
          1053788,
          0,
          18663238,
          0,
          0,
          14348529,
          0,
          771499,
          140666,
          0,
          1046166,
          0,
          0,
          0,
          328203506,
          0,
          0,
          0,
          20374201,
          14373825,
          0,
          0,
          32222567,
          39462438,
          29174648,
          22456509,
          2500000,
          0,
          0,
          20138836,
          43528634,
          5271666,
          0,
          0,
          4440055,
          42345360,
          6108720,
          1997807,
          0,
          22889018,
          46000000,
          30000000,
          188126,
          0,
          213928762,
          76657000,
          38697217,
          5001655,
          286214286,
          69821334,
          100523181,
          52287414,
          82719885,
          0,
          43000000,
          27362712,
          0,
          39187783,
          0,
          26049082,
          0,
          0,
          0,
          81974493,
          18090181,
          22593409,
          18948425,
          17460020,
          29010817,
          34266564,
          16856124,
          12671300,
          10629321,
          0,
          25288872,
          74952305,
          8880705,
          8279017,
          10130000,
          0,
          0,
          0,
          25966555,
          5659286,
          18124262,
          0,
          2275557,
          0,
          6491240,
          0,
          92,
          589304,
          0,
          0,
          63464861,
          852872,
          458232,
          0,
          0,
          0,
          426224,
          0,
          3453043,
          0,
          0,
          143451,
          0,
          53086,
          553171,
          413454,
          2019009,
          0,
          0,
          2455831,
          0,
          22441323,
          0,
          882290,
          0,
          145793296,
          0,
          32392047,
          0,
          24793509,
          35619521,
          26096852,
          11588205,
          0,
          12633747,
          4245870,
          0,
          3347647,
          10848783,
          0,
          0,
          0,
          0,
          5634828,
          0,
          0,
          0,
          0,
          19000000,
          1333124,
          10329747,
          2400000,
          231411584,
          0,
          116019547,
          245066411,
          92921203,
          60722734,
          116700000,
          167221571,
          0,
          161777836,
          0,
          55447968,
          37710610,
          54600000,
          49084830,
          25405445,
          25000000,
          97572000,
          20256975,
          0,
          21268532,
          36433975,
          14702438,
          0,
          17986781,
          14011454,
          16829545,
          0,
          31430334,
          0,
          0,
          14618727,
          0,
          8373585,
          7292175,
          0,
          0,
          0,
          5,
          4720371,
          29385320,
          0,
          0,
          0,
          2062066,
          0,
          6038942,
          0,
          0,
          1246141,
          0,
          0,
          0,
          0,
          1429299,
          0,
          382946,
          523511,
          0,
          0,
          573335,
          453079,
          1310673,
          46488,
          0,
          30471,
          0,
          0,
          12400000,
          0,
          41410568,
          8900000,
          7993039,
          7000000,
          0,
          0,
          0,
          0,
          0,
          44287131,
          7103838,
          0,
          0,
          0,
          255273813,
          7,
          57504069,
          54215416,
          0,
          31899000,
          0,
          28451622,
          13368437,
          12376563,
          10,
          0,
          17693675,
          11850214,
          2025032,
          2401510,
          1548955,
          0,
          1521261,
          0,
          8159508,
          78371200,
          79384880,
          0,
          14237000,
          2122561,
          181813770,
          138530565,
          119114517,
          102308889,
          102272727,
          0,
          43656822,
          39846344,
          0,
          25059640,
          23341568,
          22168359,
          38275483,
          44703995,
          20400000,
          0,
          50244700,
          0,
          18197398,
          18814720,
          18750246,
          0,
          58000000,
          12000000,
          48027970,
          11642254,
          9206470,
          7518876,
          0,
          6852450,
          13231461,
          0,
          6670712,
          19560274,
          6230276,
          10409377,
          0,
          0,
          5483299,
          4398989,
          0,
          3283371,
          0,
          2944752,
          2025238,
          0,
          638641,
          2899975,
          0,
          0,
          869325,
          399611,
          0,
          0,
          1332231,
          0,
          0,
          0,
          69497,
          25,
          0,
          0,
          0,
          66351,
          0,
          0,
          0,
          2120439,
          3897799,
          32251,
          530048,
          0,
          6800000,
          0,
          27165581,
          0,
          76578641,
          0,
          7000000,
          126,
          18469680,
          531826,
          159616327,
          58972904,
          0,
          0,
          0,
          15700000,
          0,
          0,
          4865000,
          0,
          3031801,
          2466444,
          37295445,
          0,
          0,
          792,
          0,
          11502151,
          0,
          0,
          0,
          0,
          15699707,
          0,
          0,
          5000000,
          0,
          0,
          0,
          152925093,
          108286421,
          64282312,
          44107032,
          205703818,
          103590271,
          44793222,
          99067206,
          142817992,
          36000000,
          41833347,
          34872033,
          60378584,
          28200000,
          86362372,
          26010864,
          55198285,
          64110728,
          39723096,
          44030246,
          26888376,
          110000000,
          23198652,
          0,
          20659423,
          0,
          0,
          0,
          17273593,
          24804129,
          0,
          40100000,
          0,
          0,
          43884652,
          15000000,
          19905359,
          14000000,
          368744044,
          31724284,
          15116634,
          33616692,
          30039392,
          0,
          13269963,
          17768757,
          0,
          0,
          12232628,
          25562924,
          16174377,
          54418872,
          14056528,
          12200000,
          21164799,
          0,
          25,
          0,
          0,
          0,
          3432342,
          0,
          0,
          7230000,
          0,
          6538177,
          0,
          5321508,
          5476060,
          9760104,
          0,
          4074023,
          3263585,
          41424067,
          4040588,
          0,
          3049135,
          4842699,
          2614773,
          1980338,
          8203235,
          0,
          2450846,
          5129058,
          742898,
          3220371,
          0,
          846704,
          560069,
          0,
          0,
          0,
          0,
          5476793,
          0,
          0,
          0,
          0,
          98450062,
          782102,
          0,
          0,
          0,
          0,
          0,
          0,
          0,
          0,
          0,
          0,
          0,
          0,
          0,
          0,
          0,
          0,
          0,
          0,
          0,
          17872796,
          24475416,
          209696,
          80578934,
          0,
          3099314,
          0,
          0,
          0,
          8025872,
          11000000,
          10337387,
          0,
          0,
          0,
          0,
          0,
          0,
          0,
          0,
          146198896,
          58853106,
          254700832,
          27092880,
          10400000,
          13060843,
          7011317,
          7390108,
          0,
          0,
          0,
          10429707,
          1270522,
          0,
          0,
          0,
          744816,
          23803308,
          0,
          0,
          0,
          623528,
          0,
          3606395,
          0,
          108981275,
          0,
          0,
          32000000,
          0,
          0,
          6294161,
          0,
          0,
          41400000,
          0,
          0,
          0,
          0,
          32000000,
          62548947,
          125728258,
          0,
          30000000,
          119723856,
          38251425,
          36000000,
          44909486,
          187112,
          49800000,
          0,
          0,
          52425855,
          14400000,
          34705850,
          13008928,
          11744471,
          10000000,
          15179302,
          44349000,
          31584901,
          10229331,
          9000000,
          0,
          8200000,
          0,
          0,
          44000000,
          0,
          0,
          6000000,
          4630045,
          4300000,
          9304609,
          0,
          3468572,
          0,
          0,
          2426851,
          1919197,
          1104682,
          866999,
          0,
          0,
          1406224,
          0,
          0,
          0,
          641100,
          2365467,
          302204,
          354704,
          0,
          0,
          0,
          120000,
          0,
          0,
          318982,
          0,
          146402,
          33245,
          0,
          0,
          355688,
          25345000,
          0,
          4037782,
          0,
          0,
          8000000,
          0,
          0,
          0,
          0,
          0,
          0,
          28350000,
          23689877,
          400176459,
          0,
          14873,
          8000000,
          4270000,
          0,
          44462,
          2956000,
          0,
          13401952,
          44785053,
          257850122,
          83453539,
          0,
          28215918,
          27900000,
          14000000,
          5000000,
          13007551,
          12800000,
          12000000,
          12600000,
          40423945,
          0,
          9482579,
          6451628,
          33965843,
          0,
          5923044,
          0,
          0,
          0,
          4159678,
          0,
          113783,
          0,
          0,
          0,
          0,
          0,
          0,
          0,
          0,
          0,
          0,
          0,
          0,
          31063038,
          127392239,
          19504039,
          0,
          3830137,
          13092000,
          30641770,
          4000000,
          0,
          0,
          16800000,
          19294144,
          0,
          0,
          45000,
          7,
          28814580,
          33395426,
          8000000,
          2277396,
          0,
          5332926,
          658573,
          141000000,
          124881062,
          0,
          9644124,
          16491080,
          0,
          177512032,
          0,
          35564473,
          0,
          29999213,
          20966644,
          89328627,
          77712439,
          19184015,
          17570324,
          18999718,
          23144499,
          68411275,
          19472057,
          33300000,
          15369573,
          7900000,
          25000000,
          15938065,
          13000000,
          11718595,
          229094,
          0,
          0,
          10400000,
          10000000,
          9016377,
          9012000,
          0,
          11176469,
          0,
          7282851,
          6804016,
          0,
          10422387,
          28200000,
          0,
          4109095,
          0,
          4000000,
          0,
          0,
          0,
          0,
          3076820,
          3011195,
          4069826,
          9879971,
          2807390,
          0,
          1826705,
          14980005,
          0,
          748453,
          0,
          0,
          0,
          2357852,
          0,
          0,
          11947954,
          0,
          0,
          0,
          0,
          0,
          0,
          22000,
          0,
          3387000,
          0,
          0,
          0,
          0,
          0,
          0,
          0,
          3200000,
          0,
          0,
          0,
          0,
          0,
          0,
          0,
          5596708,
          5000000,
          0,
          0,
          0,
          103735,
          0,
          0,
          0,
          23563727,
          25000000,
          19170001,
          33754967,
          86273333,
          5364858,
          0,
          0,
          37799643,
          0,
          0,
          6600000,
          0,
          5363000,
          119500000,
          32980880,
          10700000,
          0,
          0,
          3166000,
          553198,
          0,
          0,
          7200000,
          0,
          60141683,
          33400000,
          34585416,
          14400000,
          12348905,
          10000000,
          32230907,
          0,
          26781723,
          5535405,
          0,
          0,
          0,
          0,
          3325038,
          9726954,
          6854611,
          0,
          0,
          0,
          71904,
          0,
          0,
          0,
          107559,
          324138,
          0,
          0,
          0,
          5731103,
          0,
          495303,
          0,
          8176544,
          0,
          6892000,
          0,
          565592,
          11000000,
          0,
          0,
          0,
          83320000,
          0,
          36690067,
          21930418,
          0,
          0,
          0,
          9132000,
          0,
          0,
          0,
          0,
          23650000,
          480811,
          0,
          3330,
          30448000,
          0,
          0,
          0,
          0,
          78898765,
          0,
          18344729,
          14674076,
          18016290,
          13129846,
          24600832,
          0,
          11540607,
          13101672,
          70000000,
          34522221,
          7600000,
          9172000,
          1477676,
          0,
          6003587,
          15992615,
          20908467,
          4601043,
          7800000,
          13831503,
          13885802,
          4000000,
          0,
          7871522,
          11122090,
          0,
          5967038,
          2801508,
          2506446,
          0,
          5179037,
          11125849,
          1672730,
          1431623,
          1477002,
          0,
          876302,
          653621,
          0,
          0,
          563706,
          390659,
          0,
          0,
          124494,
          0,
          120620,
          111731,
          0,
          187674,
          1100000,
          0,
          0,
          0,
          0,
          54207,
          0,
          622806,
          0,
          3983997,
          0,
          0,
          0,
          0,
          0,
          95000,
          0,
          11833696,
          0,
          0,
          0,
          0,
          0,
          0,
          0,
          0,
          0,
          0,
          0,
          0,
          0,
          0,
          0,
          0,
          0,
          0,
          0,
          0,
          19152480,
          864659,
          0,
          0,
          222000,
          2957978,
          0,
          0,
          67738090,
          0,
          8000000,
          9440272,
          0,
          21107746,
          8844595,
          0,
          841733,
          0,
          621951,
          0,
          0,
          6800000,
          0,
          0,
          0,
          0,
          0,
          7267585,
          150277,
          0,
          23311391,
          9700000,
          0,
          572809,
          1943649,
          0,
          4235151,
          0,
          7433101,
          30500000,
          5400000,
          0,
          6033999,
          2592808,
          0,
          0,
          0,
          4420000,
          0,
          0,
          0,
          0,
          22179430,
          11806119,
          9600000,
          7412216,
          11098131,
          10013424,
          0,
          7000000,
          0,
          2375097,
          97009150,
          2300000,
          0,
          0,
          712294,
          3566225,
          418961,
          416925,
          414404,
          0,
          373967,
          0,
          330048,
          0,
          8500000,
          0,
          173066,
          0,
          0,
          0,
          0,
          32000,
          0,
          0,
          1165882,
          0,
          0,
          0,
          0,
          0,
          1500000,
          0,
          0,
          0,
          0,
          184925486,
          0,
          2620000,
          0,
          0,
          0,
          0,
          0,
          0,
          3897569,
          0,
          0,
          0,
          639000,
          619042,
          1632,
          0,
          0,
          0,
          0,
          0,
          0,
          6000000,
          21722776,
          11000000,
          3412497,
          0,
          0,
          8500000,
          6000000,
          0,
          0,
          103911669,
          18492362,
          0,
          0,
          0,
          0,
          7000000,
          0,
          2861020,
          14661007,
          0,
          6000000,
          0,
          0,
          0,
          25000,
          0,
          0,
          0,
          0,
          0,
          2736000,
          0,
          0,
          2850263,
          0,
          0,
          0,
          18637690,
          0,
          1400000,
          0,
          0,
          0,
          0,
          4105187,
          0,
          0,
          10462500,
          0,
          0,
          0,
          117235147,
          0,
          37600000,
          62882090,
          28262574,
          17985893,
          59600000,
          18112929,
          14564027,
          23507567,
          10047674,
          10037390,
          16566240,
          13350369,
          101758490,
          40000000,
          9000000,
          46243000,
          7800000,
          0,
          6833445,
          0,
          9138338,
          0,
          5355847,
          0,
          5284309,
          3538446,
          3123963,
          0,
          0,
          2057193,
          0,
          1678874,
          1744858,
          0,
          0,
          852206,
          623791,
          0,
          0,
          0,
          464000,
          0,
          0,
          0,
          336472,
          0,
          444575,
          274661,
          0,
          0,
          0,
          0,
          0,
          0,
          0,
          0,
          14870,
          0,
          0,
          0,
          0,
          0,
          10018,
          0,
          7202,
          0,
          0,
          0,
          0,
          0,
          0,
          0,
          0,
          0,
          0,
          0,
          0,
          0,
          0,
          0,
          0,
          0,
          0,
          0,
          0,
          0,
          0,
          0,
          0,
          0,
          0,
          0,
          814666,
          0,
          0,
          0,
          9600000,
          30905,
          1185783,
          0,
          7022209,
          381420,
          0,
          17385830,
          0,
          267447150,
          0,
          819939,
          0,
          0,
          1243961,
          3094813,
          0,
          0,
          0,
          0,
          0,
          0,
          0,
          1001437,
          2816116,
          0,
          0,
          0,
          0,
          62852,
          0,
          0,
          1984662,
          0,
          0,
          140000000,
          0,
          0,
          4007792,
          0,
          171760,
          78396,
          0,
          0,
          0,
          0,
          0,
          8000000,
          7830611,
          0,
          1667192,
          0,
          0,
          4911725,
          10508,
          0,
          0,
          0,
          0,
          0,
          0,
          0,
          0,
          3202000,
          248000000,
          34505110,
          0,
          0,
          0,
          0,
          0,
          0,
          0,
          0,
          0,
          12299668,
          0,
          0,
          0,
          33456317,
          0,
          0,
          54667954,
          0,
          17000000,
          0,
          8679814,
          0,
          0,
          500000,
          0,
          0,
          845188,
          0,
          0,
          0,
          603943,
          0,
          0,
          0,
          0,
          343341,
          0,
          271841,
          0,
          0,
          0,
          98017,
          0,
          0,
          4242978,
          0,
          0,
          0,
          0,
          0,
          0,
          316472,
          0,
          0,
          0,
          0,
          0,
          0,
          0,
          0,
          0,
          0,
          0,
          0,
          0,
          0,
          773228,
          0,
          973525,
          0,
          0,
          2281000,
          0,
          0,
          0,
          0,
          46118097,
          258384,
          193355800,
          0,
          5028948,
          0,
          0,
          1162014,
          0,
          0,
          0,
          170000000,
          0,
          2451545,
          0,
          0,
          0,
          8394751,
          0,
          4358000,
          29400000,
          31081,
          0,
          1750211,
          0,
          0,
          0,
          1000000,
          246574,
          4500000,
          110197,
          7808524,
          1281176,
          16,
          0,
          0,
          0,
          0,
          0,
          0,
          0,
          0,
          2074000,
          0,
          40542,
          0,
          0,
          0,
          8000000,
          0,
          0,
          0,
          0,
          0,
          0,
          319285,
          12021272,
          4186931,
          0,
          0,
          0,
          0,
          0,
          0,
          501818,
          0,
          203,
          0,
          3542353,
          0,
          0,
          0,
          56825,
          0,
          0,
          0,
          0,
          0,
          0,
          0,
          0,
          0,
          0,
          0,
          0,
          0,
          22000000,
          0,
          0,
          2260712,
          0,
          111300,
          0,
          27000000,
          5000000,
          100000000,
          4505922,
          14500000,
          2200000,
          0,
          2295733,
          0,
          2611555,
          0,
          0,
          0,
          0,
          0,
          0,
          0,
          0,
          0,
          0,
          0,
          0,
          0,
          0,
          0,
          0,
          0,
          900000,
          469947,
          0,
          0,
          0,
          1776935,
          15200000,
          0,
          2891288,
          20710513,
          0,
          0,
          0,
          0,
          0,
          0,
          0,
          0,
          6706368,
          0,
          0,
          0,
          3200000,
          0,
          0,
          15861566,
          0,
          10178331,
          42664410,
          7000000,
          0,
          0,
          0,
          0,
          0,
          0,
          0,
          0,
          0,
          0,
          0,
          0,
          0,
          3221152,
          0,
          0,
          0,
          28575078,
          0,
          0,
          0,
          0,
          0,
          0,
          0,
          0,
          0,
          416498,
          0,
          0,
          0,
          0,
          0,
          600896,
          0,
          0,
          0,
          0,
          0,
          0,
          0,
          321952,
          0,
          0,
          0,
          0,
          0,
          10000,
          3151130,
          0,
          76901,
          0,
          0,
          0,
          0,
          0,
          0,
          0,
          0,
          0,
          0,
          0,
          0,
          6000000,
          0,
          0,
          0,
          99000,
          0,
          0,
          0,
          424760,
          0,
          2040920,
          0,
          0,
          0,
          0
         ],
         "xaxis": "x",
         "y": [
          237000000,
          300000000,
          245000000,
          250000000,
          260000000,
          258000000,
          260000000,
          280000000,
          250000000,
          250000000,
          270000000,
          200000000,
          200000000,
          255000000,
          225000000,
          225000000,
          220000000,
          380000000,
          225000000,
          250000000,
          215000000,
          200000000,
          250000000,
          180000000,
          207000000,
          200000000,
          250000000,
          209000000,
          150000000,
          200000000,
          200000000,
          200000000,
          200000000,
          210000000,
          200000000,
          150000000,
          210000000,
          200000000,
          200000000,
          170000000,
          200000000,
          200000000,
          200000000,
          200000000,
          190000000,
          200000000,
          250000000,
          190000000,
          195000000,
          105000000,
          150000000,
          180000000,
          195000000,
          185000000,
          175000000,
          185000000,
          185000000,
          180000000,
          140000000,
          200000000,
          200000000,
          176000003,
          180000000,
          180000000,
          178000000,
          185000000,
          175000000,
          175000000,
          140000000,
          170000000,
          170000000,
          145000000,
          175000000,
          175000000,
          178000000,
          175000000,
          175000000,
          175000000,
          175000000,
          200000000,
          170000000,
          180000000,
          170000000,
          27000000,
          175000000,
          170000000,
          165000000,
          190000000,
          165000000,
          165000000,
          165000000,
          165000000,
          165000000,
          200000000,
          170000000,
          165000000,
          160000000,
          15000000,
          250000000,
          38000000,
          150000000,
          160000000,
          160000000,
          150000000,
          160000000,
          170000000,
          160000000,
          160000000,
          155000000,
          155000000,
          140000000,
          150000000,
          155000000,
          150000000,
          150000000,
          150000000,
          150000000,
          150000000,
          150000000,
          150000000,
          150000000,
          150000000,
          150000000,
          150000000,
          150000000,
          150000000,
          170000000,
          150000000,
          150000000,
          150000000,
          150000000,
          150000000,
          150000000,
          150000000,
          150000000,
          150000000,
          150000000,
          150000000,
          150000000,
          150000000,
          150000000,
          150000000,
          149000000,
          150000000,
          145000000,
          175000000,
          145000000,
          140000000,
          144000000,
          140000000,
          140000000,
          70000000,
          145000000,
          145000000,
          145000000,
          100000000,
          140000000,
          140000000,
          150000000,
          139000000,
          145000000,
          140000000,
          135000000,
          130000000,
          140000000,
          137000000,
          130000000,
          130000000,
          137000000,
          140000000,
          135000000,
          150000000,
          120000000,
          130000000,
          150000000,
          140000000,
          135000000,
          135000000,
          135000000,
          132000000,
          70000000,
          130000000,
          130000000,
          130000000,
          135000000,
          132000000,
          130000000,
          130000000,
          110000000,
          125000000,
          130000000,
          130000000,
          130000000,
          130000000,
          127500000,
          127000000,
          130000000,
          125000000,
          130000000,
          140000000,
          125000000,
          125000000,
          103000000,
          110000000,
          125000000,
          125000000,
          125000000,
          65000000,
          160000000,
          130000000,
          125000000,
          123000000,
          125000000,
          125000000,
          120000000,
          130000000,
          120000000,
          110000000,
          120000000,
          120000000,
          130000000,
          120000000,
          115000000,
          105000000,
          120000000,
          120000000,
          120000000,
          117000000,
          120000000,
          113000000,
          120000000,
          115000000,
          120000000,
          115000000,
          135000000,
          97250400,
          115000000,
          115000000,
          125000000,
          105000000,
          116000000,
          135000000,
          120000000,
          110000000,
          110000000,
          110000000,
          110000000,
          110000000,
          110000000,
          110000000,
          116000000,
          112000000,
          120000000,
          110000000,
          110000000,
          110000000,
          110000000,
          110000000,
          105000000,
          160000000,
          110000000,
          110000000,
          93000000,
          110000000,
          107000000,
          0,
          120000000,
          130000000,
          133000000,
          105000000,
          108000000,
          126000000,
          90000000,
          90000000,
          103000000,
          102000000,
          100000000,
          150000000,
          100000000,
          100000000,
          80000000,
          100000000,
          115000000,
          100000000,
          100000000,
          100000000,
          100000000,
          100000000,
          100000000,
          100000000,
          100000000,
          100000000,
          100000000,
          100000000,
          100000000,
          100000000,
          100000000,
          100000000,
          100000000,
          100000000,
          105000000,
          102000000,
          80000000,
          100000000,
          100000000,
          140000000,
          100000000,
          90000000,
          105000000,
          84000000,
          100000000,
          100000000,
          100000000,
          99000000,
          10000000,
          98000000,
          100000000,
          94000000,
          85000000,
          90000000,
          92000000,
          0,
          90000000,
          100000000,
          95000000,
          95000000,
          95000000,
          65000000,
          94000000,
          94000000,
          79000000,
          95000000,
          115000000,
          100000000,
          93000000,
          93000000,
          90000000,
          92000000,
          145000000,
          92000000,
          98000000,
          95000000,
          90000000,
          90000000,
          100000000,
          90000000,
          100000000,
          100000000,
          90000000,
          90000000,
          92000000,
          90000000,
          90000000,
          92000000,
          90000000,
          90000000,
          90000000,
          100000000,
          120000000,
          0,
          75000000,
          90000000,
          88000000,
          100000000,
          90000000,
          90000000,
          95000000,
          80000000,
          90000000,
          95000000,
          90000000,
          68000000,
          92000000,
          90000000,
          90000000,
          100000000,
          90000000,
          90000000,
          100000000,
          20000000,
          88000000,
          90000000,
          87000000,
          92000000,
          90000000,
          100000000,
          75000000,
          85000000,
          85000000,
          75000000,
          85000000,
          85000000,
          85000000,
          85000000,
          75000000,
          85000000,
          90000000,
          85000000,
          85000000,
          85000000,
          85000000,
          68000000,
          85000000,
          85000000,
          85000000,
          85000000,
          0,
          90000000,
          85000000,
          0,
          85000000,
          60000000,
          60000000,
          84000000,
          84000000,
          50000000,
          82500000,
          8000000,
          85000000,
          85000000,
          85000000,
          65000000,
          82000000,
          80000000,
          80000000,
          80000000,
          75000000,
          80000000,
          80000000,
          80000000,
          80000000,
          85000000,
          75000000,
          84000000,
          82000000,
          75000000,
          80000000,
          80000000,
          80000000,
          80000000,
          80000000,
          75000000,
          80000000,
          80000000,
          80000000,
          80000000,
          75000000,
          80000000,
          79000000,
          80000000,
          80000000,
          80000000,
          80000000,
          0,
          80000000,
          75000000,
          68000000,
          70000000,
          80000000,
          80000000,
          80000000,
          80000000,
          80000000,
          0,
          80000000,
          80000000,
          80000000,
          90000000,
          102000000,
          75000000,
          85000000,
          85000000,
          88000000,
          70000000,
          0,
          0,
          80000000,
          80000000,
          80000000,
          80000000,
          44000000,
          80000000,
          80000000,
          80000000,
          80000000,
          90000000,
          90000000,
          80000000,
          86000000,
          0,
          80000000,
          130000000,
          8000000,
          60000000,
          45000000,
          79000000,
          78000000,
          78000000,
          100000000,
          79000000,
          76000000,
          64000000,
          80000000,
          76000000,
          75000000,
          78000000,
          76000000,
          75000000,
          73000000,
          75000000,
          76000000,
          75000000,
          75000000,
          75000000,
          80000000,
          75000000,
          50000000,
          80000000,
          75000000,
          75000000,
          80000000,
          60000000,
          35000000,
          75000000,
          75000000,
          75000000,
          70000000,
          53000000,
          70000000,
          70000000,
          75000000,
          75000000,
          80000000,
          75000000,
          75000000,
          55000000,
          75000000,
          75000000,
          52000000,
          75000000,
          75000000,
          75000000,
          0,
          75000000,
          45000000,
          75000000,
          74000000,
          82000000,
          73000000,
          75000000,
          73000000,
          70000000,
          75000000,
          70000000,
          72500000,
          70000000,
          72000000,
          72000000,
          75000000,
          72000000,
          94000000,
          74500000,
          60000000,
          71000000,
          72000000,
          150000000,
          120000000,
          70000000,
          70000000,
          74000000,
          80000000,
          70000000,
          70000000,
          70000000,
          80000000,
          68000000,
          75000000,
          70000000,
          75000000,
          75000000,
          70000000,
          70000000,
          70000000,
          70000000,
          0,
          66000000,
          70000000,
          70000000,
          70000000,
          70000000,
          70000000,
          70000000,
          70000000,
          70000000,
          70000000,
          60000000,
          70000000,
          70000000,
          75000000,
          70000000,
          66000000,
          0,
          70000000,
          70000000,
          75000000,
          70000000,
          70000000,
          70000000,
          70000000,
          50000000,
          70000000,
          68000000,
          68000000,
          68000000,
          69000000,
          60000000,
          68000000,
          70000000,
          68000000,
          36000000,
          90000000,
          80000000,
          70000000,
          69000000,
          69000000,
          66000000,
          66000000,
          67000000,
          70000000,
          66000000,
          70000000,
          59000000,
          68000000,
          65000000,
          63000000,
          52000000,
          65000000,
          61000000,
          65000000,
          65000000,
          95000000,
          65000000,
          65000000,
          65000000,
          70000000,
          50000000,
          65000000,
          63000000,
          65000000,
          65000000,
          65000000,
          65000000,
          50100000,
          65000000,
          65000000,
          4200000,
          65000000,
          65000000,
          45000000,
          65000000,
          65000000,
          65000000,
          63000000,
          65000000,
          65000000,
          65000000,
          65000000,
          50000000,
          43000000,
          65000000,
          64000000,
          55000000,
          50000000,
          63000000,
          65000000,
          63000000,
          63000000,
          62000000,
          65000000,
          64000000,
          62000000,
          62000000,
          62000000,
          62000000,
          44000000,
          53000000,
          63000000,
          65000000,
          80000000,
          60000000,
          60000000,
          0,
          150000000,
          61000000,
          60000000,
          58000000,
          60000000,
          60000000,
          70000000,
          60000000,
          61000000,
          60000000,
          60000000,
          60000000,
          60000000,
          70000000,
          60000000,
          60000000,
          61000000,
          60000000,
          60000000,
          58000000,
          55000000,
          60000000,
          65000000,
          60000000,
          60000000,
          60000000,
          60000000,
          60000000,
          60000000,
          0,
          60000000,
          60000000,
          70000000,
          50000000,
          60000000,
          60000000,
          66000000,
          70000000,
          60000000,
          60000000,
          60000000,
          60000000,
          60000000,
          0,
          60000000,
          60000000,
          60000000,
          60000000,
          70000000,
          61000000,
          60000000,
          75000000,
          60000000,
          0,
          60000000,
          60000000,
          60000000,
          60000000,
          60000000,
          78146652,
          65000000,
          60000000,
          70000000,
          60000000,
          60000000,
          0,
          80000000,
          60000000,
          60000000,
          60000000,
          60000000,
          60000000,
          80000000,
          60000000,
          0,
          60000000,
          60000000,
          60000000,
          60000000,
          60000000,
          50000000,
          60000000,
          72000000,
          90000000,
          60000000,
          60000000,
          60000000,
          30000000,
          80000000,
          60000000,
          60000000,
          60000000,
          60000000,
          35000000,
          68490000,
          80000000,
          58000000,
          60000000,
          58800000,
          58000000,
          58000000,
          83000000,
          63000000,
          58000000,
          60000000,
          58000000,
          58000000,
          60000000,
          58000000,
          57000000,
          70000000,
          57000000,
          60000000,
          57000000,
          57000000,
          56000000,
          56000000,
          55000000,
          60000000,
          55000000,
          55000000,
          55000000,
          54000000,
          70000000,
          55000000,
          55000000,
          55000000,
          55000000,
          50000000,
          55000000,
          55000000,
          53000000,
          55000000,
          55000000,
          55000000,
          55000000,
          30000000,
          55000000,
          30000000,
          55000000,
          55000000,
          55000000,
          55000000,
          55000000,
          55000000,
          55000000,
          50000000,
          55000000,
          55000000,
          50000000,
          55000000,
          68000000,
          55000000,
          80000000,
          55000000,
          0,
          60000000,
          55000000,
          50000000,
          55000000,
          70000000,
          55000000,
          62000000,
          56000000,
          55000000,
          55000000,
          50000000,
          57000000,
          55000000,
          47000000,
          2000000,
          55000000,
          54000000,
          55000000,
          55000000,
          54000000,
          57000000,
          54000000,
          54000000,
          54000000,
          55000000,
          46000000,
          53000000,
          52500000,
          75000000,
          53000000,
          90000000,
          53000000,
          67000000,
          0,
          0,
          52000000,
          40000000,
          52000000,
          52000000,
          52000000,
          50000000,
          52000000,
          52000000,
          82000000,
          52000000,
          52000000,
          52000000,
          51000000,
          51000000,
          0,
          50000000,
          60000000,
          50200000,
          48000000,
          50000000,
          50000000,
          50000000,
          50000000,
          50000000,
          50000000,
          50000000,
          52000000,
          50000000,
          50000000,
          60000000,
          70000000,
          50000000,
          0,
          50000000,
          50000000,
          45000000,
          90000000,
          50000000,
          50000000,
          50000000,
          50000000,
          50000000,
          50000000,
          50000000,
          60000000,
          50000000,
          50000000,
          50000000,
          50000000,
          54000000,
          50000000,
          50000000,
          50000000,
          50000000,
          50000000,
          50000000,
          50000000,
          50000000,
          50000000,
          50000000,
          45000000,
          50000000,
          50000000,
          50000000,
          50000000,
          0,
          50000000,
          50000000,
          50000000,
          50000000,
          50000000,
          50000000,
          50000000,
          45000000,
          50000000,
          50000000,
          50000000,
          50000000,
          40000000,
          50000000,
          40000000,
          50000000,
          50000000,
          50000000,
          50000000,
          50000000,
          50000000,
          50000000,
          50000000,
          44000000,
          50000000,
          50000000,
          50000000,
          50000000,
          70000000,
          50000000,
          50000000,
          50000000,
          40000000,
          50000000,
          51500000,
          50000000,
          60000000,
          49900000,
          50000000,
          50000000,
          50000000,
          50000000,
          22000000,
          50000000,
          50000000,
          50000000,
          60000000,
          55000000,
          50000000,
          50000000,
          60000000,
          50000000,
          50000000,
          49000000,
          49000000,
          50000000,
          48000000,
          48000000,
          0,
          49000000,
          73000000,
          48000000,
          0,
          75000000,
          50000000,
          48000000,
          48000000,
          0,
          48000000,
          58000000,
          55000000,
          48000000,
          48000000,
          47000000,
          0,
          47000000,
          48000000,
          48000000,
          15000000,
          0,
          47000000,
          47000000,
          38000000,
          0,
          46000000,
          46000000,
          47000000,
          46000000,
          45000000,
          25000000,
          46000000,
          46000000,
          45000000,
          48000000,
          45000000,
          45000000,
          40000000,
          45000000,
          45000000,
          45000000,
          45000000,
          43000000,
          46000000,
          45000000,
          45000000,
          45000000,
          45000000,
          45000000,
          30000000,
          45000000,
          45000000,
          45000000,
          40000000,
          120000000,
          35000000,
          45000000,
          45000000,
          0,
          45000000,
          50000000,
          0,
          45000000,
          40000000,
          45000000,
          45000000,
          45000000,
          45000000,
          25000000,
          40000000,
          50000000,
          40000000,
          0,
          35000000,
          55000000,
          70000000,
          45000000,
          45000000,
          45000000,
          35000000,
          45000000,
          45000000,
          57000000,
          44000000,
          45000000,
          45000000,
          45000000,
          110,
          45000000,
          40000000,
          45000000,
          45000000,
          45000000,
          65000000,
          44500000,
          44000000,
          40000000,
          44000000,
          44000000,
          44000000,
          2600000,
          44000000,
          50000000,
          40000000,
          43000000,
          43000000,
          45000000,
          43000000,
          42000000,
          44000000,
          40000000,
          42000000,
          42000000,
          45000000,
          42000000,
          40000000,
          43000000,
          31115000,
          0,
          42000000,
          42000000,
          32000000,
          42000000,
          32000000,
          42000000,
          60000000,
          48000000,
          42000000,
          31000000,
          40000000,
          44000000,
          42000000,
          33000000,
          41000000,
          0,
          65000000,
          41000000,
          40000000,
          42000000,
          41000000,
          8000000,
          40000000,
          40000000,
          70000000,
          40000000,
          40000000,
          40000000,
          38000000,
          40000000,
          40000000,
          40000000,
          40000000,
          40000000,
          40000000,
          40000000,
          45000000,
          40000000,
          40000000,
          40000000,
          40000000,
          40000000,
          40000000,
          40000000,
          40000000,
          40000000,
          35000000,
          40000000,
          40000000,
          40000000,
          40000000,
          40000000,
          41000000,
          40000000,
          40000000,
          40000000,
          57000000,
          20000000,
          40000000,
          40000000,
          40000000,
          40000000,
          40000000,
          50000000,
          40000000,
          40000000,
          35000000,
          40000000,
          30000000,
          40000000,
          42000000,
          40000000,
          40000000,
          40000000,
          40000000,
          0,
          40000000,
          40000000,
          43000000,
          0,
          40000000,
          40000000,
          40000000,
          40000000,
          36000000,
          40000000,
          40000000,
          40000000,
          65000000,
          40000000,
          40000000,
          40000000,
          40000000,
          40000000,
          38000000,
          40000000,
          40000000,
          47000000,
          0,
          40000000,
          30000000,
          40000000,
          0,
          25000000,
          40000000,
          40000000,
          40000000,
          40000000,
          40000000,
          40000000,
          75000000,
          40000000,
          40000000,
          35000000,
          40000000,
          40000000,
          500000,
          40000000,
          40000000,
          40000000,
          40000000,
          0,
          40000000,
          0,
          45000000,
          40000000,
          40000000,
          63600000,
          42000000,
          55000000,
          40000000,
          40000000,
          40000000,
          10000000,
          0,
          60000000,
          40000000,
          38000000,
          40000000,
          40000000,
          40000000,
          0,
          0,
          45000000,
          33000000,
          40000000,
          40000000,
          0,
          50000000,
          40000000,
          40000000,
          40000000,
          40000000,
          20000000,
          20000000,
          0,
          30000000,
          40000000,
          25000000,
          39200000,
          25000000,
          0,
          15000000,
          40000000,
          39000000,
          0,
          39000000,
          39000000,
          39000000,
          39000000,
          40000000,
          80341000,
          30000000,
          38000000,
          0,
          38000000,
          38000000,
          3860000,
          38000000,
          40000000,
          50000000,
          38000000,
          35000000,
          38000000,
          53000000,
          38000000,
          38000000,
          38000000,
          57000000,
          10000000,
          38000000,
          15000000,
          38000000,
          37000000,
          0,
          55000000,
          32000000,
          38000000,
          40000000,
          38000000,
          37000000,
          37000000,
          40000000,
          37000000,
          37000000,
          38000000,
          37000000,
          30000000,
          38000000,
          37000000,
          37000000,
          36000000,
          65000000,
          37000000,
          36500000,
          36000000,
          36000000,
          36000000,
          36000000,
          42000000,
          36000000,
          37000000,
          0,
          0,
          37000000,
          36000000,
          36000000,
          37000000,
          0,
          35000000,
          36000000,
          33000000,
          35000000,
          0,
          35000000,
          29000000,
          35000000,
          35000000,
          38000000,
          35000000,
          35000000,
          35000000,
          35000000,
          35000000,
          35000000,
          35000000,
          27000000,
          35000000,
          35000000,
          35000000,
          35000000,
          1800000,
          33000000,
          0,
          35000000,
          34000000,
          32000000,
          35000000,
          35000000,
          35000000,
          34000000,
          35000000,
          35000000,
          35000000,
          35000000,
          0,
          30000000,
          35000000,
          33000000,
          10700000,
          0,
          35000000,
          40000000,
          35000000,
          35000000,
          0,
          35000000,
          35000000,
          35000000,
          35000000,
          40000000,
          27000000,
          35000000,
          35000000,
          35000000,
          35000000,
          35000000,
          35000000,
          35000000,
          35000000,
          45000000,
          35000000,
          8900000,
          35000000,
          35000000,
          30000000,
          31000000,
          35000000,
          35000000,
          35000000,
          35000000,
          35000000,
          56000000,
          35000000,
          35000000,
          35000000,
          35000000,
          35000000,
          31000000,
          35000000,
          30000000,
          27000000,
          35000000,
          35000000,
          35000000,
          0,
          35000000,
          35000000,
          40000000,
          32000000,
          33000000,
          35000000,
          35000000,
          20500000,
          35000000,
          35000000,
          0,
          35000000,
          35000000,
          35000000,
          35000000,
          35000000,
          35000000,
          35000000,
          38000000,
          0,
          35000000,
          0,
          34000000,
          35000000,
          34000000,
          35000000,
          70000000,
          35000000,
          41677699,
          34000000,
          75000000,
          34000000,
          35000000,
          35000000,
          32000000,
          40000000,
          50000000,
          30000000,
          34000000,
          30000000,
          33000000,
          33000000,
          33000000,
          33000000,
          30000000,
          30000000,
          33000000,
          32350000,
          30000000,
          32000000,
          35000000,
          32000000,
          32000000,
          33000000,
          0,
          32000000,
          32500000,
          32000000,
          29000000,
          32000000,
          32000000,
          35000000,
          32000000,
          32000000,
          32000000,
          30000000,
          33000000,
          35000000,
          0,
          32000000,
          32000000,
          32000000,
          28000000,
          32000000,
          32000000,
          70000000,
          32000000,
          30000000,
          32000000,
          0,
          32000000,
          32000000,
          31500000,
          32000000,
          0,
          31500000,
          31000000,
          31000000,
          34000000,
          30000000,
          31000000,
          31000000,
          31000000,
          31000000,
          30250000,
          45000000,
          34200000,
          30000000,
          30000000,
          30000000,
          30000000,
          31000000,
          30000000,
          30000000,
          25000000,
          20000000,
          30000000,
          30000000,
          37000000,
          26000000,
          33000000,
          30000000,
          30000000,
          25000000,
          30000000,
          80000000,
          29000000,
          30000000,
          35000000,
          30,
          30000000,
          30000000,
          25000000,
          30000000,
          35000000,
          30000000,
          0,
          30000000,
          30000000,
          30000000,
          45000000,
          30000000,
          0,
          30000000,
          19000000,
          37000000,
          30000000,
          0,
          53000000,
          80000000,
          30000000,
          30000000,
          30000000,
          30000000,
          30000000,
          30000000,
          30000000,
          30000000,
          30000000,
          30000000,
          30000000,
          40000000,
          0,
          30000000,
          30000000,
          30000000,
          25000000,
          0,
          30000000,
          25000000,
          30000000,
          30000000,
          30000000,
          30000000,
          30000000,
          27000000,
          25000000,
          30000000,
          30000000,
          30000000,
          30000000,
          30000000,
          30000000,
          45000000,
          30000000,
          30000000,
          0,
          30000000,
          19000000,
          30000000,
          0,
          0,
          30000000,
          0,
          30000000,
          30000000,
          35000000,
          30000000,
          30000000,
          30000000,
          30000000,
          30000000,
          30000000,
          25000000,
          0,
          30000000,
          30000000,
          35000000,
          40000000,
          26000000,
          37000000,
          30000000,
          30000000,
          30000000,
          30000000,
          17000000,
          30000000,
          30000000,
          0,
          100000000,
          30000000,
          25000000,
          23000000,
          30000000,
          30000000,
          30000000,
          30000000,
          30000000,
          30000000,
          18000000,
          30000000,
          0,
          0,
          0,
          0,
          30000000,
          0,
          21000000,
          30000000,
          30000000,
          0,
          30000000,
          30000000,
          0,
          30000000,
          27000000,
          30000000,
          30000000,
          30000000,
          19000000,
          29000000,
          28000000,
          30000000,
          29000000,
          0,
          30000000,
          29000000,
          29000000,
          0,
          0,
          12000000,
          29000000,
          28000000,
          28000000,
          28000000,
          30000000,
          60000000,
          29000000,
          29000000,
          28000000,
          28000000,
          28000000,
          0,
          28000000,
          28000000,
          35000000,
          30000000,
          21000000,
          30000000,
          28000000,
          28000000,
          28000000,
          27000000,
          28000000,
          28000000,
          28000000,
          28000000,
          28000000,
          28000000,
          28000000,
          28000000,
          28000000,
          28000000,
          28000000,
          28000000,
          21000000,
          0,
          35866397,
          28000000,
          28000000,
          28000000,
          28000000,
          28000000,
          28000000,
          28000000,
          28000000,
          27000000,
          28000000,
          24000000,
          28000000,
          27500000,
          30000000,
          30000000,
          35000000,
          8000000,
          15000000,
          27500000,
          27000000,
          27000000,
          27000000,
          27000000,
          27000000,
          0,
          27000000,
          27000000,
          27000000,
          27000000,
          30000000,
          27000000,
          27000000,
          0,
          25000000,
          27000000,
          27000000,
          27000000,
          0,
          27000000,
          27000000,
          28,
          0,
          27000000,
          25000000,
          0,
          0,
          26000000,
          26000000,
          26000000,
          25000000,
          28000000,
          15000000,
          27000000,
          26000000,
          22000000,
          26000000,
          22000000,
          26000000,
          26000000,
          26000000,
          26000000,
          25000000,
          0,
          26000000,
          26000000,
          26000000,
          26000000,
          56000000,
          42000000,
          26000000,
          30000000,
          26000000,
          26000000,
          26000000,
          0,
          26000000,
          25530000,
          26000000,
          25000000,
          30000000,
          25000000,
          25000000,
          33000000,
          25100000,
          25000000,
          26000000,
          25000000,
          22000000,
          25000000,
          28000000,
          0,
          26000000,
          30000000,
          0,
          25000000,
          25000000,
          25000000,
          25000000,
          25000000,
          25000000,
          25000000,
          25000000,
          45000000,
          25000000,
          25000000,
          25000000,
          25000000,
          2800000,
          25000000,
          25000000,
          60000000,
          25000000,
          0,
          25000000,
          25000000,
          26000000,
          25000000,
          28000000,
          25000000,
          25000000,
          25000000,
          23000000,
          25000000,
          0,
          25000000,
          35000000,
          0,
          25000000,
          25000000,
          25000000,
          25000000,
          25000000,
          25000000,
          25000000,
          0,
          17000000,
          25000000,
          25000000,
          25000000,
          20000000,
          25000000,
          20000000,
          25500000,
          25000000,
          30000000,
          25000000,
          25485000,
          25000000,
          25000000,
          0,
          25000000,
          21150000,
          27000000,
          25000000,
          25000000,
          25000000,
          30000000,
          23000000,
          25000000,
          25000000,
          25000000,
          25000000,
          25000000,
          25000000,
          25000000,
          25000000,
          13000000,
          26000000,
          0,
          0,
          25000000,
          30000000,
          8000000,
          25000000,
          25000000,
          25000000,
          25000000,
          0,
          25000000,
          0,
          28000000,
          25,
          25000000,
          25000000,
          25000000,
          25000000,
          25000000,
          25000000,
          0,
          25000000,
          28000000,
          0,
          25000000,
          25000000,
          25000000,
          14000000,
          25000000,
          25000000,
          25000000,
          0,
          32000000,
          25000000,
          0,
          25000000,
          25000000,
          25000000,
          0,
          25000000,
          25000000,
          25000000,
          25000000,
          0,
          25000000,
          25000000,
          13500000,
          25000000,
          0,
          25000000,
          0,
          0,
          25000000,
          25000000,
          25000000,
          25000000,
          25000000,
          25000000,
          14000000,
          25000000,
          24000000,
          24000000,
          24000000,
          25000000,
          24000000,
          41300000,
          8200000,
          24000000,
          24000000,
          65000000,
          24000000,
          24000000,
          24000000,
          24000000,
          0,
          40000000,
          17000000,
          24000000,
          24000000,
          24000000,
          24000000,
          24000000,
          24000000,
          23000000,
          24000000,
          28000000,
          0,
          24000000,
          24000000,
          23600000,
          23000000,
          18000000,
          19000000,
          23000000,
          23000000,
          12500000,
          23000000,
          23000000,
          23000000,
          23000000,
          25000000,
          23000000,
          0,
          23000000,
          23000000,
          0,
          0,
          23000000,
          23000000,
          23000000,
          0,
          11000000,
          23000000,
          23000000,
          23000000,
          25000000,
          22700000,
          22500000,
          22000000,
          23000000,
          22000000,
          20000000,
          22000000,
          24000000,
          22000000,
          22000000,
          22000000,
          22000000,
          22000000,
          22000000,
          22000000,
          22000000,
          22000000,
          22000000,
          22000000,
          26000000,
          0,
          22000000,
          22000000,
          0,
          22000000,
          30000000,
          22000000,
          22000000,
          22000000,
          22000000,
          22000000,
          22000000,
          0,
          0,
          70000000,
          25000000,
          0,
          21000000,
          22000000,
          2000000,
          0,
          22000000,
          22000000,
          22000000,
          0,
          22000000,
          25000000,
          0,
          21500000,
          22000000,
          17000000,
          18000000,
          21000000,
          9000000,
          21000000,
          32000000,
          21000000,
          21000000,
          0,
          21000000,
          20000000,
          21000000,
          17000000,
          21000000,
          21000000,
          30000000,
          0,
          21000000,
          35000000,
          15000000,
          18000000,
          18000000,
          20000000,
          38000000,
          20000000,
          20000000,
          19000000,
          20000000,
          20000000,
          20000000,
          20000000,
          13000000,
          32000000,
          20000000,
          35000000,
          18000000,
          37000000,
          20000000,
          20000000,
          0,
          20000000,
          20000000,
          20000000,
          20000000,
          20000000,
          0,
          1800000,
          20000000,
          20000000,
          20000000,
          20000000,
          20000000,
          20000000,
          20000000,
          30000000,
          20000000,
          20000000,
          20000000,
          20000000,
          20000000,
          20000000,
          20000000,
          0,
          20000000,
          20000000,
          20000000,
          20000000,
          20000000,
          25000000,
          19800000,
          20000000,
          32000000,
          20000000,
          0,
          20000000,
          20000000,
          20000000,
          20000000,
          35000000,
          19000000,
          20000000,
          0,
          20000000,
          30000000,
          20000000,
          20000000,
          20000000,
          20000000,
          20000000,
          20000000,
          20000000,
          0,
          20000000,
          20000000,
          20000000,
          9000000,
          0,
          20000000,
          20000000,
          0,
          40000000,
          20000000,
          20000000,
          20000000,
          20000000,
          806948,
          20000000,
          20000000,
          20000000,
          20000000,
          20000000,
          20000000,
          20000000,
          15000000,
          20000000,
          20000000,
          19000000,
          0,
          0,
          20000000,
          35000000,
          20000000,
          20000000,
          20000000,
          20000000,
          0,
          20000000,
          20000000,
          19500000,
          25000000,
          20000000,
          20000000,
          20000000,
          20000000,
          40000000,
          20000000,
          0,
          20000000,
          30000000,
          20000000,
          20000000,
          0,
          20000000,
          20000000,
          0,
          0,
          0,
          20000000,
          20000000,
          20000000,
          20000000,
          20000000,
          20000000,
          20000000,
          21000000,
          0,
          0,
          20000000,
          20000000,
          8000000,
          20000000,
          0,
          20000000,
          20000000,
          12000000,
          22000000,
          0,
          0,
          20000000,
          15000000,
          8700000,
          0,
          20000000,
          20000000,
          20000000,
          20000000,
          0,
          0,
          20000000,
          20000000,
          20000000,
          21000000,
          26500000,
          0,
          0,
          2000000,
          20000000,
          20000000,
          20000000,
          40000000,
          0,
          0,
          10000000,
          20000000,
          0,
          0,
          20000000,
          0,
          0,
          20000000,
          20000000,
          20000000,
          0,
          0,
          20000000,
          20000000,
          0,
          0,
          20000000,
          20000000,
          27220000,
          19400000,
          27000000,
          22000000,
          20000000,
          19000000,
          19000000,
          14000000,
          0,
          19000000,
          19000000,
          19000000,
          0,
          27000000,
          19000000,
          18000000,
          19100000,
          0,
          20000000,
          15000000,
          0,
          25000000,
          0,
          19000000,
          19000000,
          19000000,
          19000000,
          0,
          19000000,
          18000000,
          0,
          19000000,
          19000000,
          15000000,
          0,
          18500000,
          18500000,
          18000000,
          23000000,
          18000000,
          18000000,
          18000000,
          18000000,
          19000000,
          17000000,
          16000000,
          0,
          18000000,
          23000000,
          16500000,
          18000000,
          21000000,
          18000000,
          18000000,
          0,
          17000000,
          0,
          19800000,
          18000000,
          18000000,
          18000000,
          15000000,
          18000000,
          18000000,
          1000000,
          18000000,
          18000000,
          0,
          18000000,
          18000000,
          18000000,
          18000000,
          0,
          18000000,
          0,
          18000000,
          17000000,
          18000000,
          18000000,
          30000000,
          18000000,
          18000000,
          18000000,
          21000000,
          18000000,
          18000000,
          18000000,
          18000000,
          0,
          0,
          17000000,
          18000000,
          0,
          18000000,
          18000000,
          18000000,
          18000000,
          0,
          0,
          25000000,
          18000000,
          0,
          18000000,
          15238800,
          0,
          2700000,
          18000000,
          18000000,
          18000000,
          18000000,
          18000000,
          0,
          3500000,
          18000000,
          18000000,
          17900000,
          14000000,
          20000000,
          0,
          18000000,
          23000000,
          15000000,
          17500000,
          24000000,
          17500000,
          18000000,
          0,
          0,
          18500000,
          17000000,
          17000000,
          17000000,
          16000000,
          17500000,
          300000,
          17000000,
          17000000,
          17000000,
          20000000,
          17000000,
          17000000,
          17000000,
          15000000,
          0,
          0,
          0,
          20000000,
          17000000,
          34000000,
          0,
          17000000,
          0,
          0,
          17000000,
          17000000,
          17000000,
          17000000,
          17000000,
          17000000,
          0,
          17000000,
          0,
          17000000,
          40000000,
          17000000,
          17000000,
          17000000,
          17000000,
          15000000,
          17000000,
          17000000,
          16500000,
          16800000,
          15000000,
          16500000,
          16500000,
          16500000,
          16500000,
          16400000,
          16000000,
          16000000,
          16000000,
          16000000,
          0,
          15000000,
          16000000,
          16000000,
          16000000,
          18500000,
          0,
          19000000,
          0,
          16000000,
          16000000,
          17700000,
          15000000,
          12000000,
          16000000,
          15000000,
          25000000,
          16000000,
          0,
          16000000,
          16000000,
          16000000,
          20000000,
          0,
          20000000,
          26000000,
          16000000,
          16000000,
          0,
          0,
          16000000,
          6500000,
          16000000,
          16000000,
          16000000,
          16000000,
          0,
          20000000,
          16000000,
          11000000,
          0,
          13000000,
          16000000,
          16000000,
          16000000,
          16000000,
          15600000,
          0,
          0,
          15500000,
          15300000,
          15500000,
          15000000,
          18000000,
          0,
          21000000,
          15000000,
          17000000,
          15000000,
          15000000,
          15000000,
          15000000,
          15000000,
          16000000,
          14000000,
          0,
          15000000,
          15000000,
          15000000,
          15000000,
          15000000,
          15000000,
          15000000,
          15000000,
          18000000,
          17000000,
          15000000,
          15000000,
          15000000,
          15000000,
          17000000,
          35000000,
          15000000,
          15000000,
          0,
          15000000,
          16000000,
          7000000,
          15000000,
          15000000,
          0,
          15000000,
          15000000,
          15000000,
          15000000,
          15000000,
          15000000,
          13000000,
          16000000,
          15000000,
          15000000,
          15000000,
          15000000,
          15000000,
          15000000,
          14000000,
          20000000,
          0,
          15000000,
          0,
          15000000,
          15000000,
          0,
          11500000,
          15000000,
          0,
          15000000,
          15000000,
          14000000,
          0,
          20000000,
          15000000,
          15000000,
          15000000,
          15000000,
          15000000,
          15000000,
          15000000,
          15000000,
          15000000,
          15000000,
          0,
          0,
          15000000,
          25000000,
          0,
          15000000,
          15000000,
          15000000,
          0,
          0,
          20000000,
          15000000,
          0,
          15000000,
          15000000,
          0,
          15000000,
          15000000,
          15000000,
          15000000,
          15000000,
          16000000,
          15000000,
          20000000,
          0,
          0,
          0,
          15000000,
          15,
          15000000,
          15000000,
          15000000,
          15000000,
          15000000,
          15000000,
          0,
          15000000,
          25000000,
          15000000,
          0,
          22000000,
          15000000,
          0,
          15000000,
          15000000,
          0,
          15000000,
          0,
          0,
          92620000,
          12000000,
          8000000,
          15000000,
          15000000,
          0,
          8500000,
          12000000,
          15000000,
          15000000,
          15000000,
          15000000,
          15000000,
          15000000,
          0,
          20000000,
          7000000,
          0,
          15000000,
          0,
          14600000,
          14800000,
          14500000,
          10000000,
          14500000,
          14000000,
          14200000,
          15000000,
          14000000,
          14000000,
          0,
          0,
          14000000,
          14000000,
          15000000,
          13000000,
          14000000,
          14000000,
          0,
          14000000,
          0,
          13000000,
          0,
          14000000,
          14000000,
          14000000,
          14000000,
          0,
          14000000,
          14000000,
          14000000,
          0,
          12000000,
          0,
          0,
          0,
          11000000,
          11000000,
          0,
          14000000,
          14000000,
          14000000,
          26000000,
          14000000,
          14000000,
          0,
          0,
          14000000,
          0,
          0,
          0,
          0,
          0,
          12000000,
          0,
          14000000,
          108,
          14000000,
          14000000,
          12000000,
          13500000,
          14000000,
          13500000,
          15000000,
          0,
          18339750,
          12806000,
          13300000,
          13000000,
          13400000,
          13000000,
          13000000,
          13000000,
          13000000,
          7000000,
          16000000,
          13000000,
          13000000,
          13000000,
          12500000,
          16000000,
          13000000,
          0,
          17000000,
          13000000,
          0,
          13000000,
          12000000,
          13000000,
          12000000,
          13000000,
          13200000,
          18000000,
          15000000,
          13000000,
          6000000,
          13000000,
          13000000,
          19000000,
          13000000,
          13000000,
          6000000,
          0,
          13000000,
          13000000,
          0,
          13000000,
          0,
          13000000,
          13000000,
          13000000,
          0,
          13000000,
          0,
          15000000,
          13000000,
          13000000,
          13000000,
          3000000,
          13000000,
          0,
          13000000,
          14350531,
          10000000,
          13000000,
          0,
          0,
          13000000,
          12000000,
          12500000,
          0,
          12500000,
          3100000,
          12500000,
          13000000,
          0,
          12500000,
          0,
          12000000,
          12500000,
          12800000,
          0,
          12500000,
          15000000,
          20000000,
          12500000,
          12300000,
          0,
          12500000,
          8000000,
          7000000,
          11000000,
          12516654,
          25000000,
          12000000,
          12000000,
          12000000,
          15000000,
          12000000,
          12000000,
          12000000,
          12000000,
          12000000,
          12000000,
          12000000,
          15000000,
          12000000,
          5000000,
          12000000,
          12000000,
          12000000,
          12000000,
          12000000,
          12000000,
          12000000,
          12000000,
          0,
          12000000,
          12000000,
          12000000,
          12000000,
          0,
          12000000,
          12000000,
          12000000,
          0,
          0,
          12000000,
          12000000,
          0,
          12000000,
          0,
          12000000,
          12000000,
          12000000,
          0,
          12000000,
          0,
          0,
          12000000,
          0,
          14000000,
          12000000,
          0,
          0,
          12000000,
          12000000,
          12000000,
          0,
          8000000,
          12000000,
          0,
          12000000,
          12000000,
          12000000,
          12000000,
          12000000,
          0,
          11000000,
          0,
          12000000,
          12000000,
          12400000,
          0,
          12000000,
          12000000,
          12000000,
          12000000,
          12000000,
          12000000,
          1200000,
          0,
          8000000,
          0,
          12000000,
          0,
          12000000,
          0,
          7500000,
          12000000,
          19000000,
          12000000,
          20000000,
          12000000,
          1200000,
          12000000,
          10000000,
          0,
          11500000,
          0,
          11500000,
          0,
          11000000,
          11000000,
          11500000,
          11000000,
          0,
          0,
          25000000,
          11000000,
          11000000,
          11000000,
          12000000,
          11000000,
          0,
          13000000,
          11000000,
          11000000,
          10500000,
          11000000,
          11000000,
          11000000,
          11000000,
          12000000,
          11,
          12000000,
          11000000,
          11000000,
          24000000,
          24000000,
          11000000,
          11000000,
          11000000,
          11000000,
          0,
          11000000,
          14000000,
          11000000,
          10000000,
          11000000,
          0,
          11000000,
          11000000,
          0,
          11000000,
          11000000,
          0,
          11000000,
          0,
          10800000,
          0,
          11000000,
          0,
          7400000,
          14000000,
          0,
          0,
          10500000,
          10500000,
          10000000,
          0,
          10500000,
          0,
          11000000,
          12000000,
          11000000,
          10000000,
          11000000,
          10000000,
          10000000,
          28000000,
          10000000,
          10000000,
          10000000,
          10000000,
          6000000,
          13800000,
          10000000,
          10000000,
          10000000,
          12000000,
          10000000,
          10000000,
          10000000,
          10000000,
          10000000,
          12305523,
          10000000,
          10000000,
          10000000,
          20000000,
          10000000,
          10000000,
          10000000,
          9000000,
          10000000,
          10000000,
          10000000,
          15000000,
          10000000,
          8500000,
          12000000,
          10000000,
          10000000,
          65000000,
          10000000,
          10000000,
          14000000,
          0,
          10000000,
          10000000,
          0,
          0,
          0,
          9000000,
          10000000,
          10000000,
          0,
          0,
          10000000,
          0,
          11000000,
          12600000,
          10000000,
          25000000,
          10000000,
          10000000,
          10000000,
          10000000,
          0,
          6400000,
          10000000,
          10000000,
          5000000,
          0,
          10000000,
          10000000,
          10000000,
          10000000,
          30000000,
          0,
          10000000,
          10000000,
          0,
          6000000,
          10000000,
          10000000,
          0,
          20000000,
          0,
          10000000,
          18000000,
          10000000,
          0,
          9500000,
          10000000,
          10000000,
          9000000,
          0,
          10000000,
          10000000,
          10000000,
          0,
          0,
          11500000,
          10000000,
          6500000,
          10000000,
          0,
          0,
          10000000,
          0,
          10000000,
          14000000,
          10000000,
          10000000,
          0,
          10000000,
          0,
          20000000,
          0,
          10000000,
          10000000,
          10000000,
          0,
          0,
          10000000,
          0,
          10000000,
          5000000,
          0,
          10000000,
          0,
          0,
          0,
          7700000,
          10000000,
          0,
          10000000,
          0,
          10000000,
          0,
          0,
          0,
          10000000,
          10000000,
          10000000,
          0,
          3200000,
          0,
          0,
          10000000,
          10000000,
          10000000,
          14100000,
          0,
          0,
          0,
          10000000,
          0,
          0,
          10000000,
          10,
          0,
          10000000,
          0,
          0,
          10000000,
          10,
          10000000,
          9500000,
          9600000,
          11000000,
          10000000,
          9500000,
          10,
          8900000,
          10500000,
          9500000,
          9400000,
          12899867,
          9300000,
          10000000,
          0,
          10000000,
          0,
          7400000,
          0,
          0,
          11000000,
          85000,
          10000000,
          9000000,
          5500000,
          10000000,
          7000000,
          9000000,
          9000000,
          9000000,
          9000000,
          9000000,
          9000000,
          9000000,
          9000000,
          26000000,
          40600000,
          9000000,
          0,
          9000000,
          0,
          0,
          8500000,
          9000000,
          9000000,
          0,
          9000000,
          9000000,
          9000000,
          0,
          0,
          0,
          9000000,
          0,
          9000000,
          6000000,
          9000000,
          9000000,
          5000000,
          6500000,
          9000000,
          0,
          0,
          9000000,
          5000000,
          0,
          8800000,
          7347125,
          0,
          86000000,
          0,
          9000000,
          8500000,
          7000000,
          9250000,
          8500000,
          9000000,
          0,
          0,
          12000000,
          8500000,
          22000000,
          0,
          8000000,
          8500000,
          12000000,
          9000000,
          8000000,
          0,
          6500000,
          7700000,
          8250000,
          0,
          10000000,
          8000000,
          0,
          8500000,
          8500000,
          8200000,
          8000000,
          8000000,
          8000000,
          5000000,
          0,
          8000000,
          8000000,
          0,
          8000000,
          0,
          8000000,
          0,
          0,
          8000000,
          6500000,
          14000000,
          8000000,
          8000000,
          8000000,
          8000000,
          7000000,
          8000000,
          8000000,
          8000000,
          0,
          0,
          8000000,
          0,
          8000000,
          8000000,
          8000000,
          0,
          8000000,
          0,
          8000000,
          8000000,
          8000000,
          8000000,
          0,
          8000000,
          7200000,
          0,
          8000000,
          0,
          0,
          8000000,
          8000000,
          8000000,
          0,
          0,
          0,
          8000000,
          0,
          8000000,
          8000000,
          0,
          8000000,
          0,
          8000000,
          8000000,
          22000000,
          8000000,
          0,
          0,
          0,
          8000000,
          7800000,
          0,
          0,
          8000000,
          7500000,
          0,
          7500000,
          7700000,
          6500000,
          10200000,
          7500000,
          10284523,
          7500000,
          6500000,
          7500000,
          0,
          7500000,
          8000000,
          0,
          0,
          7500000,
          7500000,
          8000000,
          12500000,
          0,
          7300000,
          0,
          7500000,
          7000000,
          7300000,
          0,
          7500000,
          7500000,
          7200000,
          6000000,
          4000000,
          7500000,
          7000000,
          7000000,
          0,
          7000000,
          7000000,
          0,
          6600000,
          7000000,
          7000000,
          7000000,
          9000000,
          7000000,
          7000000,
          0,
          0,
          7000000,
          7000000,
          0,
          700000,
          7000000,
          7000000,
          0,
          7000000,
          7500000,
          7000000,
          7000000,
          7000000,
          7000000,
          7000000,
          7000000,
          0,
          0,
          7,
          7000000,
          7000000,
          7000000,
          7000000,
          0,
          7000000,
          7000000,
          7000000,
          0,
          7000000,
          7000000,
          7000000,
          0,
          0,
          8000000,
          7000000,
          0,
          7000000,
          0,
          3500000,
          7000000,
          7000000,
          7000000,
          7000000,
          7000000,
          0,
          6000000,
          0,
          7000000,
          7000000,
          0,
          0,
          7000000,
          6900000,
          0,
          0,
          7000000,
          0,
          0,
          6800000,
          6900000,
          6800000,
          0,
          0,
          4000000,
          6500000,
          7,
          6500000,
          6500000,
          0,
          6500000,
          6500000,
          6500000,
          6500000,
          6500000,
          0,
          0,
          6500000,
          6500000,
          6500000,
          6500000,
          6500000,
          0,
          6500000,
          6500000,
          0,
          6400000,
          4800000,
          10000000,
          4000000,
          6000000,
          6000000,
          6000000,
          6000000,
          6000000,
          6000000,
          6000000,
          6000000,
          6000000,
          0,
          6000000,
          6000000,
          8000000,
          5000000,
          6000000,
          6000000,
          0,
          6000000,
          0,
          6000000,
          12716953,
          6000000,
          0,
          6000000,
          6000000,
          6000000,
          5000000,
          5000000,
          6000000,
          0,
          6000000,
          6000000,
          0,
          6000000,
          6000000,
          7000000,
          6000000,
          0,
          0,
          5500000,
          6000000,
          0,
          6000000,
          0,
          6000000,
          6000000,
          0,
          6244087,
          6000000,
          6000000,
          0,
          6000000,
          6000000,
          0,
          6000000,
          134005,
          6000000,
          0,
          0,
          6000000,
          0,
          6000000,
          0,
          0,
          12000000,
          6000000,
          6000000,
          0,
          5952000,
          5300000,
          6000000,
          4000000,
          0,
          5800000,
          0,
          6000000,
          0,
          3500159,
          0,
          5800000,
          0,
          5600000,
          0,
          5500000,
          5500000,
          0,
          0,
          6000000,
          5500000,
          7000000,
          0,
          5500000,
          0,
          4361898,
          5000000,
          6500000,
          0,
          3850000,
          0,
          5500000,
          2200000,
          0,
          8000000,
          0,
          0,
          0,
          0,
          0,
          5500000,
          5100000,
          0,
          5000000,
          4000000,
          15000000,
          5000000,
          4900000,
          5000000,
          5000000,
          5000000,
          5500000,
          5000000,
          4100000,
          5000000,
          11000000,
          8000000,
          5000000,
          5000000,
          5000000,
          5000000,
          3300000,
          9000000,
          5000000,
          5000000,
          5000000,
          4600000,
          0,
          3500000,
          0,
          5000000,
          0,
          10000000,
          5000000,
          0,
          5000000,
          0,
          0,
          5000000,
          5000000,
          5000000,
          5000000,
          5000000,
          5000000,
          5000000,
          5000000,
          4000000,
          0,
          5000000,
          5000000,
          5000000,
          0,
          5000000,
          5000000,
          5000000,
          5000000,
          0,
          5000000,
          20000000,
          0,
          4,
          0,
          5500000,
          0,
          8000000,
          0,
          5000000,
          5000000,
          5000000,
          0,
          5000000,
          5000000,
          5000000,
          5000000,
          0,
          5000000,
          5000000,
          4000000,
          5000000,
          0,
          5000000,
          5000000,
          5000000,
          5000000,
          5000000,
          5000000,
          5000000,
          5000000,
          5000000,
          5000000,
          5000000,
          5000000,
          7000000,
          6000000,
          0,
          0,
          0,
          5000000,
          0,
          0,
          0,
          5000000,
          5000000,
          5000000,
          0,
          5000000,
          5000000,
          0,
          0,
          0,
          0,
          5000000,
          5000000,
          0,
          0,
          15000000,
          0,
          5000000,
          0,
          0,
          5000000,
          0,
          0,
          5000000,
          1000000,
          4798235,
          4800000,
          0,
          5000000,
          0,
          0,
          5000000,
          4700000,
          4638783,
          4800000,
          0,
          4,
          0,
          0,
          4600000,
          4700000,
          4600000,
          0,
          4500000,
          4500000,
          6000000,
          4500000,
          4500000,
          15000000,
          4500000,
          4500000,
          0,
          0,
          4500000,
          5000000,
          6000000,
          0,
          4500000,
          2000000,
          4500000,
          0,
          0,
          0,
          4500000,
          0,
          0,
          4500000,
          0,
          3000000,
          4400000,
          0,
          4500000,
          0,
          0,
          3730500,
          5000000,
          0,
          8000000,
          3250000,
          0,
          4200000,
          0,
          4200000,
          3705538,
          4000000,
          4000000,
          114000,
          4000000,
          4000000,
          4000000,
          4000000,
          4000000,
          3600000,
          4500000,
          4000000,
          4000000,
          4000000,
          3500000,
          4000000,
          4000000,
          0,
          5000000,
          4000000,
          4000000,
          7000000,
          6000000,
          32000000,
          4000000,
          0,
          0,
          0,
          0,
          4000000,
          4000000,
          4000000,
          4000000,
          4000000,
          0,
          4000000,
          0,
          0,
          4000000,
          0,
          4000000,
          4000000,
          4000000,
          0,
          0,
          0,
          0,
          4000000,
          0,
          4000000,
          3000000,
          1300000,
          1500000,
          0,
          4000000,
          9500000,
          0,
          0,
          16000000,
          4000000,
          4000000,
          650000,
          0,
          0,
          4000000,
          4000000,
          0,
          0,
          0,
          0,
          3950000,
          4000000,
          4000000,
          0,
          4000000,
          4000000,
          0,
          3900000,
          3800000,
          4000000,
          0,
          3800000,
          3768785,
          967686,
          0,
          3500000,
          3700000,
          3800000,
          4000000,
          3600000,
          3500000,
          3500000,
          5000000,
          3500000,
          3500000,
          3500000,
          3716946,
          3500000,
          3500000,
          3500000,
          3500000,
          3500000,
          0,
          3500000,
          10000000,
          2000000,
          0,
          3600000,
          0,
          1000000,
          0,
          3500000,
          0,
          3500000,
          3500000,
          0,
          3500000,
          0,
          0,
          3500000,
          3500000,
          3500000,
          3500000,
          3500000,
          0,
          3440000,
          3400000,
          8000000,
          3500000,
          0,
          3000000,
          3300000,
          3300000,
          600000,
          3400000,
          0,
          3800000,
          0,
          0,
          4300000,
          3300000,
          2000000,
          0,
          3200000,
          3200000,
          0,
          0,
          3200000,
          0,
          2700000,
          2500000,
          2400000,
          3180000,
          4000000,
          0,
          3000000,
          0,
          4000000,
          0,
          3000000,
          3000000,
          3000000,
          3000000,
          3000000,
          3000000,
          3000000,
          3000000,
          16000000,
          3000000,
          3000000,
          3000000,
          2000000,
          3000000,
          3000000,
          3000000,
          3000000,
          0,
          3000000,
          0,
          3000000,
          3000000,
          0,
          3000000,
          0,
          3000000,
          0,
          3000000,
          3000000,
          0,
          0,
          3800000,
          3000000,
          3000000,
          3000000,
          3000000,
          0,
          0,
          0,
          0,
          3000000,
          2962051,
          0,
          3000000,
          3000000,
          0,
          2800000,
          3000000,
          0,
          3000000,
          3000000,
          3000000,
          0,
          3000000,
          0,
          0,
          3000000,
          0,
          0,
          2700000,
          0,
          0,
          3000000,
          3000000,
          0,
          3000000,
          0,
          0,
          0,
          3000000,
          0,
          0,
          3000000,
          2500000,
          3,
          0,
          3000000,
          3000000,
          0,
          3200000,
          0,
          2900000,
          2900000,
          0,
          0,
          3000000,
          3000000,
          0,
          2902660,
          0,
          8000000,
          2883848,
          2800000,
          2777000,
          2800000,
          2000000,
          0,
          0,
          2700000,
          0,
          0,
          2686000,
          0,
          2627000,
          2600000,
          2600000,
          2159280,
          0,
          0,
          2600000,
          2600000,
          0,
          2600000,
          2540800,
          0,
          2500000,
          2500000,
          0,
          2500000,
          2500000,
          2500000,
          0,
          2500000,
          2500000,
          2500000,
          0,
          0,
          0,
          0,
          2500000,
          0,
          2500000,
          0,
          0,
          0,
          2500000,
          0,
          14000000,
          0,
          2500000,
          2500000,
          0,
          2500000,
          35000000,
          2400000,
          0,
          30000000,
          2500000,
          2380000,
          2500000,
          2361000,
          2450000,
          0,
          2300000,
          0,
          0,
          2000000,
          2280000,
          0,
          4000000,
          2200000,
          0,
          0,
          0,
          2160000,
          2300000,
          0,
          0,
          0,
          2100000,
          0,
          0,
          2100000,
          1500000,
          0,
          0,
          0,
          0,
          2000000,
          0,
          2000000,
          2000000,
          2000000,
          2000000,
          2000000,
          0,
          2000000,
          2000000,
          2000000,
          1000000,
          2000000,
          2000000,
          8000000,
          0,
          0,
          2700000,
          2000000,
          2000000,
          2000000,
          2000000,
          0,
          2000000,
          0,
          2000000,
          6000000,
          0,
          2000000,
          2000000,
          2000000,
          0,
          2000000,
          2000000,
          2000000,
          2000000,
          2000000,
          2000000,
          0,
          2000000,
          0,
          0,
          2000000,
          2000000,
          0,
          0,
          2000000,
          0,
          2000000,
          3800000,
          0,
          13500000,
          7000000,
          0,
          0,
          0,
          0,
          2000000,
          0,
          2000000,
          0,
          0,
          0,
          0,
          0,
          0,
          1000000,
          100000,
          2000000,
          2000000,
          0,
          0,
          2300000,
          2000000,
          14000000,
          2000000,
          0,
          0,
          0,
          0,
          7000000,
          0,
          0,
          0,
          0,
          2000000,
          2000000,
          19000000,
          0,
          1950000,
          1987650,
          0,
          0,
          0,
          0,
          0,
          0,
          1900000,
          1800000,
          0,
          1800000,
          1800000,
          1800000,
          1800000,
          1700000,
          0,
          2000000,
          0,
          0,
          0,
          0,
          1800000,
          0,
          0,
          0,
          1800000,
          1800000,
          1530000,
          500000,
          1493619,
          0,
          1700000,
          1700000,
          2000000,
          1700000,
          0,
          1000000,
          0,
          1644736,
          1650000,
          1600000,
          0,
          0,
          0,
          0,
          0,
          0,
          1600000,
          0,
          0,
          0,
          0,
          2000000,
          1500000,
          1500000,
          1500000,
          1500000,
          1000000,
          17000000,
          1500000,
          0,
          1500000,
          1500000,
          1500000,
          1500000,
          0,
          1500000,
          1500000,
          1500000,
          1500000,
          0,
          0,
          1500000,
          0,
          0,
          0,
          1,
          0,
          1500000,
          1500000,
          1500000,
          1500000,
          1200000,
          1500000,
          2000000,
          1,
          1500000,
          0,
          0,
          1,
          0,
          9000000,
          0,
          0,
          0,
          1500000,
          0,
          1488423,
          1400000,
          1455000,
          1,
          2000000,
          3150000,
          0,
          0,
          1377800,
          1350000,
          0,
          1300000,
          0,
          1300000,
          0,
          0,
          0,
          0,
          1000000,
          0,
          0,
          0,
          1288000,
          1250000,
          1250000,
          1250000,
          0,
          15000000,
          1250000,
          1250000,
          0,
          1200000,
          1200000,
          3000000,
          1,
          1300000,
          0,
          0,
          1200000,
          0,
          1200000,
          1200000,
          0,
          1200000,
          0,
          1250000,
          0,
          900000,
          1200000,
          1344000,
          0,
          0,
          0,
          1200000,
          0,
          1200000,
          2600000,
          1200000,
          0,
          0,
          3000000,
          0,
          1100000,
          0,
          1596010,
          0,
          1100000,
          1100000,
          0,
          0,
          878000,
          0,
          1250000,
          1000000,
          1000000,
          0,
          1000000,
          1000000,
          1300000,
          1000000,
          950000,
          0,
          1000000,
          5000000,
          1000000,
          1000000,
          3500000,
          1000000,
          1000000,
          2090000,
          1000000,
          1000000,
          1000000,
          0,
          5000000,
          0,
          1000000,
          0,
          0,
          0,
          0,
          0,
          0,
          0,
          1000000,
          1000000,
          0,
          1000000,
          1000000,
          1000000,
          1,
          1000000,
          1000000,
          1000000,
          0,
          0,
          1000000,
          0,
          0,
          0,
          0,
          1000000,
          1000000,
          1000000,
          1000000,
          0,
          0,
          1000000,
          650000,
          1000000,
          0,
          0,
          0,
          0,
          1000000,
          0,
          0,
          0,
          1000000,
          1000000,
          1000000,
          0,
          0,
          0,
          0,
          1000000,
          0,
          900000,
          1000000,
          0,
          0,
          0,
          0,
          0,
          0,
          0,
          1000000,
          0,
          1000000,
          0,
          1000000,
          0,
          0,
          0,
          1000000,
          1,
          0,
          0,
          950000,
          950000,
          950000,
          0,
          910000,
          930000,
          852510,
          0,
          950000,
          900000,
          0,
          0,
          0,
          858000,
          0,
          850000,
          0,
          1000000,
          850000,
          0,
          0,
          0,
          0,
          0,
          800000,
          0,
          0,
          800000,
          800000,
          0,
          0,
          0,
          0,
          800000,
          0,
          0,
          800000,
          780000,
          0,
          777000,
          0,
          0,
          750000,
          0,
          500000,
          750000,
          750000,
          500000,
          0,
          750000,
          0,
          730000,
          700000,
          0,
          700000,
          0,
          0,
          700000,
          700000,
          0,
          750000,
          650,
          0,
          0,
          0,
          625000,
          700000,
          609000,
          60000,
          600000,
          600000,
          0,
          0,
          0,
          0,
          522360,
          0,
          0,
          0,
          560000,
          56000,
          550000,
          0,
          500000,
          550000,
          0,
          130000,
          0,
          500000,
          0,
          500000,
          0,
          0,
          2053648,
          0,
          46000,
          500000,
          0,
          0,
          0,
          500000,
          0,
          0,
          0,
          0,
          0,
          500000,
          2000000,
          0,
          500000,
          0,
          500000,
          0,
          0,
          500000,
          0,
          0,
          500000,
          0,
          0,
          500000,
          0,
          0,
          0,
          500000,
          0,
          0,
          500,
          0,
          0,
          0,
          0,
          0,
          500000,
          0,
          0,
          0,
          0,
          450000,
          0,
          0,
          439000,
          0,
          225000,
          0,
          0,
          400000,
          0,
          15000,
          0,
          400000,
          0,
          0,
          218,
          0,
          0,
          0,
          35000000,
          500000,
          860000,
          0,
          0,
          0,
          385907,
          0,
          379000,
          350000,
          6000000,
          0,
          300000,
          0,
          0,
          350000,
          350000,
          0,
          325000,
          0,
          300000,
          312000,
          8,
          0,
          300000,
          0,
          300000,
          200000,
          0,
          300000,
          0,
          300000,
          0,
          300000,
          0,
          0,
          0,
          300000,
          0,
          0,
          300000,
          0,
          0,
          300000,
          0,
          250000,
          250000,
          0,
          0,
          0,
          0,
          250000,
          300000,
          250000,
          0,
          250,
          0,
          250000,
          0,
          0,
          0,
          250000,
          0,
          0,
          0,
          250000,
          0,
          0,
          250000,
          250000,
          0,
          0,
          0,
          0,
          0,
          245000,
          0,
          250,
          230000,
          0,
          225000,
          0,
          100000,
          210000,
          400000,
          200000,
          200000,
          200000,
          0,
          200000,
          0,
          0,
          200000,
          0,
          450000,
          0,
          13000000,
          0,
          0,
          0,
          0,
          0,
          0,
          0,
          0,
          0,
          0,
          0,
          0,
          180000,
          8000,
          0,
          0,
          0,
          100000,
          150000,
          200,
          150000,
          160000,
          0,
          0,
          0,
          0,
          0,
          0,
          0,
          0,
          160000,
          0,
          0,
          0,
          125000,
          120000,
          120000,
          8500000,
          0,
          100000,
          100000,
          10000,
          0,
          0,
          0,
          0,
          0,
          0,
          0,
          0,
          0,
          0,
          0,
          100,
          0,
          60000,
          0,
          0,
          75000,
          65000,
          0,
          0,
          62000,
          0,
          0,
          70000,
          0,
          0,
          0,
          65000,
          60000,
          0,
          50000,
          50000,
          0,
          4000000,
          50000,
          0,
          0,
          0,
          0,
          0,
          0,
          0,
          50000,
          0,
          0,
          500000,
          0,
          31192,
          27000,
          27000,
          0,
          0,
          0,
          0,
          0,
          0,
          22000,
          0,
          0,
          0,
          0,
          0,
          0,
          12000,
          0,
          0,
          13,
          20000,
          0,
          0,
          0,
          7000,
          0,
          220000,
          9000,
          0,
          0,
          0
         ],
         "yaxis": "y"
        }
       ],
       "layout": {
        "font": {
         "size": 14
        },
        "height": 500,
        "legend": {
         "tracegroupgap": 0
        },
        "margin": {
         "t": 60
        },
        "template": {
         "data": {
          "bar": [
           {
            "error_x": {
             "color": "#2a3f5f"
            },
            "error_y": {
             "color": "#2a3f5f"
            },
            "marker": {
             "line": {
              "color": "#E5ECF6",
              "width": 0.5
             },
             "pattern": {
              "fillmode": "overlay",
              "size": 10,
              "solidity": 0.2
             }
            },
            "type": "bar"
           }
          ],
          "barpolar": [
           {
            "marker": {
             "line": {
              "color": "#E5ECF6",
              "width": 0.5
             },
             "pattern": {
              "fillmode": "overlay",
              "size": 10,
              "solidity": 0.2
             }
            },
            "type": "barpolar"
           }
          ],
          "carpet": [
           {
            "aaxis": {
             "endlinecolor": "#2a3f5f",
             "gridcolor": "white",
             "linecolor": "white",
             "minorgridcolor": "white",
             "startlinecolor": "#2a3f5f"
            },
            "baxis": {
             "endlinecolor": "#2a3f5f",
             "gridcolor": "white",
             "linecolor": "white",
             "minorgridcolor": "white",
             "startlinecolor": "#2a3f5f"
            },
            "type": "carpet"
           }
          ],
          "choropleth": [
           {
            "colorbar": {
             "outlinewidth": 0,
             "ticks": ""
            },
            "type": "choropleth"
           }
          ],
          "contour": [
           {
            "colorbar": {
             "outlinewidth": 0,
             "ticks": ""
            },
            "colorscale": [
             [
              0,
              "#0d0887"
             ],
             [
              0.1111111111111111,
              "#46039f"
             ],
             [
              0.2222222222222222,
              "#7201a8"
             ],
             [
              0.3333333333333333,
              "#9c179e"
             ],
             [
              0.4444444444444444,
              "#bd3786"
             ],
             [
              0.5555555555555556,
              "#d8576b"
             ],
             [
              0.6666666666666666,
              "#ed7953"
             ],
             [
              0.7777777777777778,
              "#fb9f3a"
             ],
             [
              0.8888888888888888,
              "#fdca26"
             ],
             [
              1,
              "#f0f921"
             ]
            ],
            "type": "contour"
           }
          ],
          "contourcarpet": [
           {
            "colorbar": {
             "outlinewidth": 0,
             "ticks": ""
            },
            "type": "contourcarpet"
           }
          ],
          "heatmap": [
           {
            "colorbar": {
             "outlinewidth": 0,
             "ticks": ""
            },
            "colorscale": [
             [
              0,
              "#0d0887"
             ],
             [
              0.1111111111111111,
              "#46039f"
             ],
             [
              0.2222222222222222,
              "#7201a8"
             ],
             [
              0.3333333333333333,
              "#9c179e"
             ],
             [
              0.4444444444444444,
              "#bd3786"
             ],
             [
              0.5555555555555556,
              "#d8576b"
             ],
             [
              0.6666666666666666,
              "#ed7953"
             ],
             [
              0.7777777777777778,
              "#fb9f3a"
             ],
             [
              0.8888888888888888,
              "#fdca26"
             ],
             [
              1,
              "#f0f921"
             ]
            ],
            "type": "heatmap"
           }
          ],
          "heatmapgl": [
           {
            "colorbar": {
             "outlinewidth": 0,
             "ticks": ""
            },
            "colorscale": [
             [
              0,
              "#0d0887"
             ],
             [
              0.1111111111111111,
              "#46039f"
             ],
             [
              0.2222222222222222,
              "#7201a8"
             ],
             [
              0.3333333333333333,
              "#9c179e"
             ],
             [
              0.4444444444444444,
              "#bd3786"
             ],
             [
              0.5555555555555556,
              "#d8576b"
             ],
             [
              0.6666666666666666,
              "#ed7953"
             ],
             [
              0.7777777777777778,
              "#fb9f3a"
             ],
             [
              0.8888888888888888,
              "#fdca26"
             ],
             [
              1,
              "#f0f921"
             ]
            ],
            "type": "heatmapgl"
           }
          ],
          "histogram": [
           {
            "marker": {
             "pattern": {
              "fillmode": "overlay",
              "size": 10,
              "solidity": 0.2
             }
            },
            "type": "histogram"
           }
          ],
          "histogram2d": [
           {
            "colorbar": {
             "outlinewidth": 0,
             "ticks": ""
            },
            "colorscale": [
             [
              0,
              "#0d0887"
             ],
             [
              0.1111111111111111,
              "#46039f"
             ],
             [
              0.2222222222222222,
              "#7201a8"
             ],
             [
              0.3333333333333333,
              "#9c179e"
             ],
             [
              0.4444444444444444,
              "#bd3786"
             ],
             [
              0.5555555555555556,
              "#d8576b"
             ],
             [
              0.6666666666666666,
              "#ed7953"
             ],
             [
              0.7777777777777778,
              "#fb9f3a"
             ],
             [
              0.8888888888888888,
              "#fdca26"
             ],
             [
              1,
              "#f0f921"
             ]
            ],
            "type": "histogram2d"
           }
          ],
          "histogram2dcontour": [
           {
            "colorbar": {
             "outlinewidth": 0,
             "ticks": ""
            },
            "colorscale": [
             [
              0,
              "#0d0887"
             ],
             [
              0.1111111111111111,
              "#46039f"
             ],
             [
              0.2222222222222222,
              "#7201a8"
             ],
             [
              0.3333333333333333,
              "#9c179e"
             ],
             [
              0.4444444444444444,
              "#bd3786"
             ],
             [
              0.5555555555555556,
              "#d8576b"
             ],
             [
              0.6666666666666666,
              "#ed7953"
             ],
             [
              0.7777777777777778,
              "#fb9f3a"
             ],
             [
              0.8888888888888888,
              "#fdca26"
             ],
             [
              1,
              "#f0f921"
             ]
            ],
            "type": "histogram2dcontour"
           }
          ],
          "mesh3d": [
           {
            "colorbar": {
             "outlinewidth": 0,
             "ticks": ""
            },
            "type": "mesh3d"
           }
          ],
          "parcoords": [
           {
            "line": {
             "colorbar": {
              "outlinewidth": 0,
              "ticks": ""
             }
            },
            "type": "parcoords"
           }
          ],
          "pie": [
           {
            "automargin": true,
            "type": "pie"
           }
          ],
          "scatter": [
           {
            "fillpattern": {
             "fillmode": "overlay",
             "size": 10,
             "solidity": 0.2
            },
            "type": "scatter"
           }
          ],
          "scatter3d": [
           {
            "line": {
             "colorbar": {
              "outlinewidth": 0,
              "ticks": ""
             }
            },
            "marker": {
             "colorbar": {
              "outlinewidth": 0,
              "ticks": ""
             }
            },
            "type": "scatter3d"
           }
          ],
          "scattercarpet": [
           {
            "marker": {
             "colorbar": {
              "outlinewidth": 0,
              "ticks": ""
             }
            },
            "type": "scattercarpet"
           }
          ],
          "scattergeo": [
           {
            "marker": {
             "colorbar": {
              "outlinewidth": 0,
              "ticks": ""
             }
            },
            "type": "scattergeo"
           }
          ],
          "scattergl": [
           {
            "marker": {
             "colorbar": {
              "outlinewidth": 0,
              "ticks": ""
             }
            },
            "type": "scattergl"
           }
          ],
          "scattermapbox": [
           {
            "marker": {
             "colorbar": {
              "outlinewidth": 0,
              "ticks": ""
             }
            },
            "type": "scattermapbox"
           }
          ],
          "scatterpolar": [
           {
            "marker": {
             "colorbar": {
              "outlinewidth": 0,
              "ticks": ""
             }
            },
            "type": "scatterpolar"
           }
          ],
          "scatterpolargl": [
           {
            "marker": {
             "colorbar": {
              "outlinewidth": 0,
              "ticks": ""
             }
            },
            "type": "scatterpolargl"
           }
          ],
          "scatterternary": [
           {
            "marker": {
             "colorbar": {
              "outlinewidth": 0,
              "ticks": ""
             }
            },
            "type": "scatterternary"
           }
          ],
          "surface": [
           {
            "colorbar": {
             "outlinewidth": 0,
             "ticks": ""
            },
            "colorscale": [
             [
              0,
              "#0d0887"
             ],
             [
              0.1111111111111111,
              "#46039f"
             ],
             [
              0.2222222222222222,
              "#7201a8"
             ],
             [
              0.3333333333333333,
              "#9c179e"
             ],
             [
              0.4444444444444444,
              "#bd3786"
             ],
             [
              0.5555555555555556,
              "#d8576b"
             ],
             [
              0.6666666666666666,
              "#ed7953"
             ],
             [
              0.7777777777777778,
              "#fb9f3a"
             ],
             [
              0.8888888888888888,
              "#fdca26"
             ],
             [
              1,
              "#f0f921"
             ]
            ],
            "type": "surface"
           }
          ],
          "table": [
           {
            "cells": {
             "fill": {
              "color": "#EBF0F8"
             },
             "line": {
              "color": "white"
             }
            },
            "header": {
             "fill": {
              "color": "#C8D4E3"
             },
             "line": {
              "color": "white"
             }
            },
            "type": "table"
           }
          ]
         },
         "layout": {
          "annotationdefaults": {
           "arrowcolor": "#2a3f5f",
           "arrowhead": 0,
           "arrowwidth": 1
          },
          "autotypenumbers": "strict",
          "coloraxis": {
           "colorbar": {
            "outlinewidth": 0,
            "ticks": ""
           }
          },
          "colorscale": {
           "diverging": [
            [
             0,
             "#8e0152"
            ],
            [
             0.1,
             "#c51b7d"
            ],
            [
             0.2,
             "#de77ae"
            ],
            [
             0.3,
             "#f1b6da"
            ],
            [
             0.4,
             "#fde0ef"
            ],
            [
             0.5,
             "#f7f7f7"
            ],
            [
             0.6,
             "#e6f5d0"
            ],
            [
             0.7,
             "#b8e186"
            ],
            [
             0.8,
             "#7fbc41"
            ],
            [
             0.9,
             "#4d9221"
            ],
            [
             1,
             "#276419"
            ]
           ],
           "sequential": [
            [
             0,
             "#0d0887"
            ],
            [
             0.1111111111111111,
             "#46039f"
            ],
            [
             0.2222222222222222,
             "#7201a8"
            ],
            [
             0.3333333333333333,
             "#9c179e"
            ],
            [
             0.4444444444444444,
             "#bd3786"
            ],
            [
             0.5555555555555556,
             "#d8576b"
            ],
            [
             0.6666666666666666,
             "#ed7953"
            ],
            [
             0.7777777777777778,
             "#fb9f3a"
            ],
            [
             0.8888888888888888,
             "#fdca26"
            ],
            [
             1,
             "#f0f921"
            ]
           ],
           "sequentialminus": [
            [
             0,
             "#0d0887"
            ],
            [
             0.1111111111111111,
             "#46039f"
            ],
            [
             0.2222222222222222,
             "#7201a8"
            ],
            [
             0.3333333333333333,
             "#9c179e"
            ],
            [
             0.4444444444444444,
             "#bd3786"
            ],
            [
             0.5555555555555556,
             "#d8576b"
            ],
            [
             0.6666666666666666,
             "#ed7953"
            ],
            [
             0.7777777777777778,
             "#fb9f3a"
            ],
            [
             0.8888888888888888,
             "#fdca26"
            ],
            [
             1,
             "#f0f921"
            ]
           ]
          },
          "colorway": [
           "#636efa",
           "#EF553B",
           "#00cc96",
           "#ab63fa",
           "#FFA15A",
           "#19d3f3",
           "#FF6692",
           "#B6E880",
           "#FF97FF",
           "#FECB52"
          ],
          "font": {
           "color": "#2a3f5f"
          },
          "geo": {
           "bgcolor": "white",
           "lakecolor": "white",
           "landcolor": "#E5ECF6",
           "showlakes": true,
           "showland": true,
           "subunitcolor": "white"
          },
          "hoverlabel": {
           "align": "left"
          },
          "hovermode": "closest",
          "mapbox": {
           "style": "light"
          },
          "paper_bgcolor": "white",
          "plot_bgcolor": "#E5ECF6",
          "polar": {
           "angularaxis": {
            "gridcolor": "white",
            "linecolor": "white",
            "ticks": ""
           },
           "bgcolor": "#E5ECF6",
           "radialaxis": {
            "gridcolor": "white",
            "linecolor": "white",
            "ticks": ""
           }
          },
          "scene": {
           "xaxis": {
            "backgroundcolor": "#E5ECF6",
            "gridcolor": "white",
            "gridwidth": 2,
            "linecolor": "white",
            "showbackground": true,
            "ticks": "",
            "zerolinecolor": "white"
           },
           "yaxis": {
            "backgroundcolor": "#E5ECF6",
            "gridcolor": "white",
            "gridwidth": 2,
            "linecolor": "white",
            "showbackground": true,
            "ticks": "",
            "zerolinecolor": "white"
           },
           "zaxis": {
            "backgroundcolor": "#E5ECF6",
            "gridcolor": "white",
            "gridwidth": 2,
            "linecolor": "white",
            "showbackground": true,
            "ticks": "",
            "zerolinecolor": "white"
           }
          },
          "shapedefaults": {
           "line": {
            "color": "#2a3f5f"
           }
          },
          "ternary": {
           "aaxis": {
            "gridcolor": "white",
            "linecolor": "white",
            "ticks": ""
           },
           "baxis": {
            "gridcolor": "white",
            "linecolor": "white",
            "ticks": ""
           },
           "bgcolor": "#E5ECF6",
           "caxis": {
            "gridcolor": "white",
            "linecolor": "white",
            "ticks": ""
           }
          },
          "title": {
           "x": 0.05
          },
          "xaxis": {
           "automargin": true,
           "gridcolor": "white",
           "linecolor": "white",
           "ticks": "",
           "title": {
            "standoff": 15
           },
           "zerolinecolor": "white",
           "zerolinewidth": 2
          },
          "yaxis": {
           "automargin": true,
           "gridcolor": "white",
           "linecolor": "white",
           "ticks": "",
           "title": {
            "standoff": 15
           },
           "zerolinecolor": "white",
           "zerolinewidth": 2
          }
         }
        },
        "title": {
         "text": "No. of movies produced over the years"
        },
        "width": 950,
        "xaxis": {
         "anchor": "y",
         "domain": [
          0,
          1
         ],
         "title": {
          "text": "Revenue"
         }
        },
        "yaxis": {
         "anchor": "x",
         "domain": [
          0,
          1
         ],
         "title": {
          "text": "Budget"
         }
        }
       }
      }
     },
     "metadata": {},
     "output_type": "display_data"
    }
   ],
   "source": [
    "fig = px.scatter(movies1, y='budget',x='revenue',width=950, height=500) \n",
    "fig.update_layout(\n",
    "    title=\"No. of movies produced over the years\",\n",
    "    xaxis_title=\"Revenue\",\n",
    "    yaxis_title=\"Budget\",\n",
    "    font=dict(\n",
    "        size=14\n",
    "    )\n",
    ")\n",
    "fig.layout.template = 'plotly'\n",
    "fig.show()"
   ]
  },
  {
   "cell_type": "markdown",
   "metadata": {},
   "source": [
    "We can clearly there is a linear relationship between Budget and Revenue of the movie. Higher the budget, higher will be its revenue."
   ]
  },
  {
   "cell_type": "code",
   "execution_count": 40,
   "metadata": {},
   "outputs": [
    {
     "data": {
      "application/vnd.plotly.v1+json": {
       "config": {
        "plotlyServerURL": "https://plot.ly"
       },
       "data": [
        {
         "marker": {
          "color": "rgb(116, 18, 25)"
         },
         "name": "Budget",
         "offsetgroup": "0",
         "type": "bar",
         "x": [
          "Pirates of the Caribbean: On Stranger Tides",
          "Pirates of the Caribbean: At World's End",
          "Avengers: Age of Ultron",
          "Superman Returns",
          "John Carter",
          "Tangled",
          "Spider-Man 3",
          "The Lone Ranger",
          "The Hobbit: The Desolation of Smaug",
          "The Hobbit: An Unexpected Journey",
          "Captain America: Civil War",
          "Batman v Superman: Dawn of Justice",
          "X-Men: Days of Future Past",
          "The Hobbit: The Battle of the Five Armies",
          "Harry Potter and the Half-Blood Prince"
         ],
         "y": [
          380000000,
          300000000,
          280000000,
          270000000,
          260000000,
          260000000,
          258000000,
          255000000,
          250000000,
          250000000,
          250000000,
          250000000,
          250000000,
          250000000,
          250000000
         ]
        },
        {
         "marker": {
          "color": "rgb(56, 208, 95)"
         },
         "name": "Revenue",
         "offsetgroup": "1",
         "type": "bar",
         "x": [
          "Pirates of the Caribbean: On Stranger Tides",
          "Pirates of the Caribbean: At World's End",
          "Avengers: Age of Ultron",
          "Superman Returns",
          "John Carter",
          "Tangled",
          "Spider-Man 3",
          "The Lone Ranger",
          "The Hobbit: The Desolation of Smaug",
          "The Hobbit: An Unexpected Journey",
          "Captain America: Civil War",
          "Batman v Superman: Dawn of Justice",
          "X-Men: Days of Future Past",
          "The Hobbit: The Battle of the Five Armies",
          "Harry Potter and the Half-Blood Prince"
         ],
         "y": [
          1045713802,
          961000000,
          1405403694,
          391081192,
          284139100,
          591794936,
          890871626,
          89289910,
          958400000,
          1021103568,
          1153304495,
          873260194,
          747862775,
          956019788,
          933959197
         ]
        }
       ],
       "layout": {
        "template": {
         "data": {
          "bar": [
           {
            "error_x": {
             "color": "#2a3f5f"
            },
            "error_y": {
             "color": "#2a3f5f"
            },
            "marker": {
             "line": {
              "color": "#E5ECF6",
              "width": 0.5
             },
             "pattern": {
              "fillmode": "overlay",
              "size": 10,
              "solidity": 0.2
             }
            },
            "type": "bar"
           }
          ],
          "barpolar": [
           {
            "marker": {
             "line": {
              "color": "#E5ECF6",
              "width": 0.5
             },
             "pattern": {
              "fillmode": "overlay",
              "size": 10,
              "solidity": 0.2
             }
            },
            "type": "barpolar"
           }
          ],
          "carpet": [
           {
            "aaxis": {
             "endlinecolor": "#2a3f5f",
             "gridcolor": "white",
             "linecolor": "white",
             "minorgridcolor": "white",
             "startlinecolor": "#2a3f5f"
            },
            "baxis": {
             "endlinecolor": "#2a3f5f",
             "gridcolor": "white",
             "linecolor": "white",
             "minorgridcolor": "white",
             "startlinecolor": "#2a3f5f"
            },
            "type": "carpet"
           }
          ],
          "choropleth": [
           {
            "colorbar": {
             "outlinewidth": 0,
             "ticks": ""
            },
            "type": "choropleth"
           }
          ],
          "contour": [
           {
            "colorbar": {
             "outlinewidth": 0,
             "ticks": ""
            },
            "colorscale": [
             [
              0,
              "#0d0887"
             ],
             [
              0.1111111111111111,
              "#46039f"
             ],
             [
              0.2222222222222222,
              "#7201a8"
             ],
             [
              0.3333333333333333,
              "#9c179e"
             ],
             [
              0.4444444444444444,
              "#bd3786"
             ],
             [
              0.5555555555555556,
              "#d8576b"
             ],
             [
              0.6666666666666666,
              "#ed7953"
             ],
             [
              0.7777777777777778,
              "#fb9f3a"
             ],
             [
              0.8888888888888888,
              "#fdca26"
             ],
             [
              1,
              "#f0f921"
             ]
            ],
            "type": "contour"
           }
          ],
          "contourcarpet": [
           {
            "colorbar": {
             "outlinewidth": 0,
             "ticks": ""
            },
            "type": "contourcarpet"
           }
          ],
          "heatmap": [
           {
            "colorbar": {
             "outlinewidth": 0,
             "ticks": ""
            },
            "colorscale": [
             [
              0,
              "#0d0887"
             ],
             [
              0.1111111111111111,
              "#46039f"
             ],
             [
              0.2222222222222222,
              "#7201a8"
             ],
             [
              0.3333333333333333,
              "#9c179e"
             ],
             [
              0.4444444444444444,
              "#bd3786"
             ],
             [
              0.5555555555555556,
              "#d8576b"
             ],
             [
              0.6666666666666666,
              "#ed7953"
             ],
             [
              0.7777777777777778,
              "#fb9f3a"
             ],
             [
              0.8888888888888888,
              "#fdca26"
             ],
             [
              1,
              "#f0f921"
             ]
            ],
            "type": "heatmap"
           }
          ],
          "heatmapgl": [
           {
            "colorbar": {
             "outlinewidth": 0,
             "ticks": ""
            },
            "colorscale": [
             [
              0,
              "#0d0887"
             ],
             [
              0.1111111111111111,
              "#46039f"
             ],
             [
              0.2222222222222222,
              "#7201a8"
             ],
             [
              0.3333333333333333,
              "#9c179e"
             ],
             [
              0.4444444444444444,
              "#bd3786"
             ],
             [
              0.5555555555555556,
              "#d8576b"
             ],
             [
              0.6666666666666666,
              "#ed7953"
             ],
             [
              0.7777777777777778,
              "#fb9f3a"
             ],
             [
              0.8888888888888888,
              "#fdca26"
             ],
             [
              1,
              "#f0f921"
             ]
            ],
            "type": "heatmapgl"
           }
          ],
          "histogram": [
           {
            "marker": {
             "pattern": {
              "fillmode": "overlay",
              "size": 10,
              "solidity": 0.2
             }
            },
            "type": "histogram"
           }
          ],
          "histogram2d": [
           {
            "colorbar": {
             "outlinewidth": 0,
             "ticks": ""
            },
            "colorscale": [
             [
              0,
              "#0d0887"
             ],
             [
              0.1111111111111111,
              "#46039f"
             ],
             [
              0.2222222222222222,
              "#7201a8"
             ],
             [
              0.3333333333333333,
              "#9c179e"
             ],
             [
              0.4444444444444444,
              "#bd3786"
             ],
             [
              0.5555555555555556,
              "#d8576b"
             ],
             [
              0.6666666666666666,
              "#ed7953"
             ],
             [
              0.7777777777777778,
              "#fb9f3a"
             ],
             [
              0.8888888888888888,
              "#fdca26"
             ],
             [
              1,
              "#f0f921"
             ]
            ],
            "type": "histogram2d"
           }
          ],
          "histogram2dcontour": [
           {
            "colorbar": {
             "outlinewidth": 0,
             "ticks": ""
            },
            "colorscale": [
             [
              0,
              "#0d0887"
             ],
             [
              0.1111111111111111,
              "#46039f"
             ],
             [
              0.2222222222222222,
              "#7201a8"
             ],
             [
              0.3333333333333333,
              "#9c179e"
             ],
             [
              0.4444444444444444,
              "#bd3786"
             ],
             [
              0.5555555555555556,
              "#d8576b"
             ],
             [
              0.6666666666666666,
              "#ed7953"
             ],
             [
              0.7777777777777778,
              "#fb9f3a"
             ],
             [
              0.8888888888888888,
              "#fdca26"
             ],
             [
              1,
              "#f0f921"
             ]
            ],
            "type": "histogram2dcontour"
           }
          ],
          "mesh3d": [
           {
            "colorbar": {
             "outlinewidth": 0,
             "ticks": ""
            },
            "type": "mesh3d"
           }
          ],
          "parcoords": [
           {
            "line": {
             "colorbar": {
              "outlinewidth": 0,
              "ticks": ""
             }
            },
            "type": "parcoords"
           }
          ],
          "pie": [
           {
            "automargin": true,
            "type": "pie"
           }
          ],
          "scatter": [
           {
            "fillpattern": {
             "fillmode": "overlay",
             "size": 10,
             "solidity": 0.2
            },
            "type": "scatter"
           }
          ],
          "scatter3d": [
           {
            "line": {
             "colorbar": {
              "outlinewidth": 0,
              "ticks": ""
             }
            },
            "marker": {
             "colorbar": {
              "outlinewidth": 0,
              "ticks": ""
             }
            },
            "type": "scatter3d"
           }
          ],
          "scattercarpet": [
           {
            "marker": {
             "colorbar": {
              "outlinewidth": 0,
              "ticks": ""
             }
            },
            "type": "scattercarpet"
           }
          ],
          "scattergeo": [
           {
            "marker": {
             "colorbar": {
              "outlinewidth": 0,
              "ticks": ""
             }
            },
            "type": "scattergeo"
           }
          ],
          "scattergl": [
           {
            "marker": {
             "colorbar": {
              "outlinewidth": 0,
              "ticks": ""
             }
            },
            "type": "scattergl"
           }
          ],
          "scattermapbox": [
           {
            "marker": {
             "colorbar": {
              "outlinewidth": 0,
              "ticks": ""
             }
            },
            "type": "scattermapbox"
           }
          ],
          "scatterpolar": [
           {
            "marker": {
             "colorbar": {
              "outlinewidth": 0,
              "ticks": ""
             }
            },
            "type": "scatterpolar"
           }
          ],
          "scatterpolargl": [
           {
            "marker": {
             "colorbar": {
              "outlinewidth": 0,
              "ticks": ""
             }
            },
            "type": "scatterpolargl"
           }
          ],
          "scatterternary": [
           {
            "marker": {
             "colorbar": {
              "outlinewidth": 0,
              "ticks": ""
             }
            },
            "type": "scatterternary"
           }
          ],
          "surface": [
           {
            "colorbar": {
             "outlinewidth": 0,
             "ticks": ""
            },
            "colorscale": [
             [
              0,
              "#0d0887"
             ],
             [
              0.1111111111111111,
              "#46039f"
             ],
             [
              0.2222222222222222,
              "#7201a8"
             ],
             [
              0.3333333333333333,
              "#9c179e"
             ],
             [
              0.4444444444444444,
              "#bd3786"
             ],
             [
              0.5555555555555556,
              "#d8576b"
             ],
             [
              0.6666666666666666,
              "#ed7953"
             ],
             [
              0.7777777777777778,
              "#fb9f3a"
             ],
             [
              0.8888888888888888,
              "#fdca26"
             ],
             [
              1,
              "#f0f921"
             ]
            ],
            "type": "surface"
           }
          ],
          "table": [
           {
            "cells": {
             "fill": {
              "color": "#EBF0F8"
             },
             "line": {
              "color": "white"
             }
            },
            "header": {
             "fill": {
              "color": "#C8D4E3"
             },
             "line": {
              "color": "white"
             }
            },
            "type": "table"
           }
          ]
         },
         "layout": {
          "annotationdefaults": {
           "arrowcolor": "#2a3f5f",
           "arrowhead": 0,
           "arrowwidth": 1
          },
          "autotypenumbers": "strict",
          "coloraxis": {
           "colorbar": {
            "outlinewidth": 0,
            "ticks": ""
           }
          },
          "colorscale": {
           "diverging": [
            [
             0,
             "#8e0152"
            ],
            [
             0.1,
             "#c51b7d"
            ],
            [
             0.2,
             "#de77ae"
            ],
            [
             0.3,
             "#f1b6da"
            ],
            [
             0.4,
             "#fde0ef"
            ],
            [
             0.5,
             "#f7f7f7"
            ],
            [
             0.6,
             "#e6f5d0"
            ],
            [
             0.7,
             "#b8e186"
            ],
            [
             0.8,
             "#7fbc41"
            ],
            [
             0.9,
             "#4d9221"
            ],
            [
             1,
             "#276419"
            ]
           ],
           "sequential": [
            [
             0,
             "#0d0887"
            ],
            [
             0.1111111111111111,
             "#46039f"
            ],
            [
             0.2222222222222222,
             "#7201a8"
            ],
            [
             0.3333333333333333,
             "#9c179e"
            ],
            [
             0.4444444444444444,
             "#bd3786"
            ],
            [
             0.5555555555555556,
             "#d8576b"
            ],
            [
             0.6666666666666666,
             "#ed7953"
            ],
            [
             0.7777777777777778,
             "#fb9f3a"
            ],
            [
             0.8888888888888888,
             "#fdca26"
            ],
            [
             1,
             "#f0f921"
            ]
           ],
           "sequentialminus": [
            [
             0,
             "#0d0887"
            ],
            [
             0.1111111111111111,
             "#46039f"
            ],
            [
             0.2222222222222222,
             "#7201a8"
            ],
            [
             0.3333333333333333,
             "#9c179e"
            ],
            [
             0.4444444444444444,
             "#bd3786"
            ],
            [
             0.5555555555555556,
             "#d8576b"
            ],
            [
             0.6666666666666666,
             "#ed7953"
            ],
            [
             0.7777777777777778,
             "#fb9f3a"
            ],
            [
             0.8888888888888888,
             "#fdca26"
            ],
            [
             1,
             "#f0f921"
            ]
           ]
          },
          "colorway": [
           "#636efa",
           "#EF553B",
           "#00cc96",
           "#ab63fa",
           "#FFA15A",
           "#19d3f3",
           "#FF6692",
           "#B6E880",
           "#FF97FF",
           "#FECB52"
          ],
          "font": {
           "color": "#2a3f5f"
          },
          "geo": {
           "bgcolor": "white",
           "lakecolor": "white",
           "landcolor": "#E5ECF6",
           "showlakes": true,
           "showland": true,
           "subunitcolor": "white"
          },
          "hoverlabel": {
           "align": "left"
          },
          "hovermode": "closest",
          "mapbox": {
           "style": "light"
          },
          "paper_bgcolor": "white",
          "plot_bgcolor": "#E5ECF6",
          "polar": {
           "angularaxis": {
            "gridcolor": "white",
            "linecolor": "white",
            "ticks": ""
           },
           "bgcolor": "#E5ECF6",
           "radialaxis": {
            "gridcolor": "white",
            "linecolor": "white",
            "ticks": ""
           }
          },
          "scene": {
           "xaxis": {
            "backgroundcolor": "#E5ECF6",
            "gridcolor": "white",
            "gridwidth": 2,
            "linecolor": "white",
            "showbackground": true,
            "ticks": "",
            "zerolinecolor": "white"
           },
           "yaxis": {
            "backgroundcolor": "#E5ECF6",
            "gridcolor": "white",
            "gridwidth": 2,
            "linecolor": "white",
            "showbackground": true,
            "ticks": "",
            "zerolinecolor": "white"
           },
           "zaxis": {
            "backgroundcolor": "#E5ECF6",
            "gridcolor": "white",
            "gridwidth": 2,
            "linecolor": "white",
            "showbackground": true,
            "ticks": "",
            "zerolinecolor": "white"
           }
          },
          "shapedefaults": {
           "line": {
            "color": "#2a3f5f"
           }
          },
          "ternary": {
           "aaxis": {
            "gridcolor": "white",
            "linecolor": "white",
            "ticks": ""
           },
           "baxis": {
            "gridcolor": "white",
            "linecolor": "white",
            "ticks": ""
           },
           "bgcolor": "#E5ECF6",
           "caxis": {
            "gridcolor": "white",
            "linecolor": "white",
            "ticks": ""
           }
          },
          "title": {
           "x": 0.05
          },
          "xaxis": {
           "automargin": true,
           "gridcolor": "white",
           "linecolor": "white",
           "ticks": "",
           "title": {
            "standoff": 15
           },
           "zerolinecolor": "white",
           "zerolinewidth": 2
          },
          "yaxis": {
           "automargin": true,
           "gridcolor": "white",
           "linecolor": "white",
           "ticks": "",
           "title": {
            "standoff": 15
           },
           "zerolinecolor": "white",
           "zerolinewidth": 2
          }
         }
        },
        "title": {
         "text": "Budget v/s Revenue of top 15 movies by budget"
        },
        "xaxis": {
         "title": {
          "text": "Movies"
         }
        },
        "yaxis": {
         "title": {
          "text": "Price"
         }
        }
       }
      }
     },
     "metadata": {},
     "output_type": "display_data"
    }
   ],
   "source": [
    "budget=movies1[['title_x','budget','revenue']].sort_values(by='budget',ascending=False).reset_index().head(15)\n",
    "budget.drop(columns='index',axis=0,inplace=True)\n",
    "\n",
    "fig = go.Figure(\n",
    "    data=[\n",
    "        go.Bar(\n",
    "            name=\"Budget\",\n",
    "            x=budget[\"title_x\"],\n",
    "            y=budget[\"budget\"],\n",
    "            offsetgroup=0, \n",
    "            marker_color='rgb(116, 18, 25)'\n",
    "        ),\n",
    "        go.Bar(\n",
    "            name=\"Revenue\",\n",
    "            x=budget[\"title_x\"],\n",
    "            y=budget[\"revenue\"],\n",
    "            offsetgroup=1,\n",
    "            marker_color='rgb(56, 208, 95)'\n",
    "        ),\n",
    "    ],\n",
    "    layout=go.Layout(\n",
    "        title=\"Budget v/s Revenue of top 15 movies by budget\",\n",
    "        xaxis_title=\"Movies\",\n",
    "        yaxis_title=\"Price\"\n",
    "    )\n",
    ")\n",
    "fig.show()"
   ]
  },
  {
   "cell_type": "code",
   "execution_count": 41,
   "metadata": {},
   "outputs": [
    {
     "data": {
      "application/vnd.plotly.v1+json": {
       "config": {
        "plotlyServerURL": "https://plot.ly"
       },
       "data": [
        {
         "hovertemplate": "title_x=%{x}<br>runtime=%{y}<extra></extra>",
         "legendgroup": "",
         "line": {
          "color": "#636efa",
          "dash": "solid"
         },
         "marker": {
          "symbol": "circle"
         },
         "mode": "markers+lines",
         "name": "",
         "orientation": "v",
         "showlegend": false,
         "type": "scatter",
         "x": [
          "Carlos",
          "The Company",
          "Gettysburg",
          "Cleopatra",
          "Hamlet",
          "Emma",
          "Gone with the Wind",
          "Once Upon a Time in America",
          "Woodstock",
          "Heaven's Gate",
          "Lawrence of Arabia",
          "Gods and Generals",
          "Seven Samurai",
          "Malcolm X",
          "The Lord of the Rings: The Return of the King"
         ],
         "xaxis": "x",
         "y": [
          5.633333333333334,
          4.6,
          4.233333333333333,
          4.133333333333334,
          4.033333333333333,
          4,
          3.966666666666667,
          3.816666666666667,
          3.75,
          3.65,
          3.6,
          3.566666666666667,
          3.45,
          3.3666666666666667,
          3.35
         ],
         "yaxis": "y"
        }
       ],
       "layout": {
        "font": {
         "size": 14
        },
        "legend": {
         "tracegroupgap": 0
        },
        "margin": {
         "t": 60
        },
        "template": {
         "data": {
          "bar": [
           {
            "error_x": {
             "color": "#2a3f5f"
            },
            "error_y": {
             "color": "#2a3f5f"
            },
            "marker": {
             "line": {
              "color": "#E5ECF6",
              "width": 0.5
             },
             "pattern": {
              "fillmode": "overlay",
              "size": 10,
              "solidity": 0.2
             }
            },
            "type": "bar"
           }
          ],
          "barpolar": [
           {
            "marker": {
             "line": {
              "color": "#E5ECF6",
              "width": 0.5
             },
             "pattern": {
              "fillmode": "overlay",
              "size": 10,
              "solidity": 0.2
             }
            },
            "type": "barpolar"
           }
          ],
          "carpet": [
           {
            "aaxis": {
             "endlinecolor": "#2a3f5f",
             "gridcolor": "white",
             "linecolor": "white",
             "minorgridcolor": "white",
             "startlinecolor": "#2a3f5f"
            },
            "baxis": {
             "endlinecolor": "#2a3f5f",
             "gridcolor": "white",
             "linecolor": "white",
             "minorgridcolor": "white",
             "startlinecolor": "#2a3f5f"
            },
            "type": "carpet"
           }
          ],
          "choropleth": [
           {
            "colorbar": {
             "outlinewidth": 0,
             "ticks": ""
            },
            "type": "choropleth"
           }
          ],
          "contour": [
           {
            "colorbar": {
             "outlinewidth": 0,
             "ticks": ""
            },
            "colorscale": [
             [
              0,
              "#0d0887"
             ],
             [
              0.1111111111111111,
              "#46039f"
             ],
             [
              0.2222222222222222,
              "#7201a8"
             ],
             [
              0.3333333333333333,
              "#9c179e"
             ],
             [
              0.4444444444444444,
              "#bd3786"
             ],
             [
              0.5555555555555556,
              "#d8576b"
             ],
             [
              0.6666666666666666,
              "#ed7953"
             ],
             [
              0.7777777777777778,
              "#fb9f3a"
             ],
             [
              0.8888888888888888,
              "#fdca26"
             ],
             [
              1,
              "#f0f921"
             ]
            ],
            "type": "contour"
           }
          ],
          "contourcarpet": [
           {
            "colorbar": {
             "outlinewidth": 0,
             "ticks": ""
            },
            "type": "contourcarpet"
           }
          ],
          "heatmap": [
           {
            "colorbar": {
             "outlinewidth": 0,
             "ticks": ""
            },
            "colorscale": [
             [
              0,
              "#0d0887"
             ],
             [
              0.1111111111111111,
              "#46039f"
             ],
             [
              0.2222222222222222,
              "#7201a8"
             ],
             [
              0.3333333333333333,
              "#9c179e"
             ],
             [
              0.4444444444444444,
              "#bd3786"
             ],
             [
              0.5555555555555556,
              "#d8576b"
             ],
             [
              0.6666666666666666,
              "#ed7953"
             ],
             [
              0.7777777777777778,
              "#fb9f3a"
             ],
             [
              0.8888888888888888,
              "#fdca26"
             ],
             [
              1,
              "#f0f921"
             ]
            ],
            "type": "heatmap"
           }
          ],
          "heatmapgl": [
           {
            "colorbar": {
             "outlinewidth": 0,
             "ticks": ""
            },
            "colorscale": [
             [
              0,
              "#0d0887"
             ],
             [
              0.1111111111111111,
              "#46039f"
             ],
             [
              0.2222222222222222,
              "#7201a8"
             ],
             [
              0.3333333333333333,
              "#9c179e"
             ],
             [
              0.4444444444444444,
              "#bd3786"
             ],
             [
              0.5555555555555556,
              "#d8576b"
             ],
             [
              0.6666666666666666,
              "#ed7953"
             ],
             [
              0.7777777777777778,
              "#fb9f3a"
             ],
             [
              0.8888888888888888,
              "#fdca26"
             ],
             [
              1,
              "#f0f921"
             ]
            ],
            "type": "heatmapgl"
           }
          ],
          "histogram": [
           {
            "marker": {
             "pattern": {
              "fillmode": "overlay",
              "size": 10,
              "solidity": 0.2
             }
            },
            "type": "histogram"
           }
          ],
          "histogram2d": [
           {
            "colorbar": {
             "outlinewidth": 0,
             "ticks": ""
            },
            "colorscale": [
             [
              0,
              "#0d0887"
             ],
             [
              0.1111111111111111,
              "#46039f"
             ],
             [
              0.2222222222222222,
              "#7201a8"
             ],
             [
              0.3333333333333333,
              "#9c179e"
             ],
             [
              0.4444444444444444,
              "#bd3786"
             ],
             [
              0.5555555555555556,
              "#d8576b"
             ],
             [
              0.6666666666666666,
              "#ed7953"
             ],
             [
              0.7777777777777778,
              "#fb9f3a"
             ],
             [
              0.8888888888888888,
              "#fdca26"
             ],
             [
              1,
              "#f0f921"
             ]
            ],
            "type": "histogram2d"
           }
          ],
          "histogram2dcontour": [
           {
            "colorbar": {
             "outlinewidth": 0,
             "ticks": ""
            },
            "colorscale": [
             [
              0,
              "#0d0887"
             ],
             [
              0.1111111111111111,
              "#46039f"
             ],
             [
              0.2222222222222222,
              "#7201a8"
             ],
             [
              0.3333333333333333,
              "#9c179e"
             ],
             [
              0.4444444444444444,
              "#bd3786"
             ],
             [
              0.5555555555555556,
              "#d8576b"
             ],
             [
              0.6666666666666666,
              "#ed7953"
             ],
             [
              0.7777777777777778,
              "#fb9f3a"
             ],
             [
              0.8888888888888888,
              "#fdca26"
             ],
             [
              1,
              "#f0f921"
             ]
            ],
            "type": "histogram2dcontour"
           }
          ],
          "mesh3d": [
           {
            "colorbar": {
             "outlinewidth": 0,
             "ticks": ""
            },
            "type": "mesh3d"
           }
          ],
          "parcoords": [
           {
            "line": {
             "colorbar": {
              "outlinewidth": 0,
              "ticks": ""
             }
            },
            "type": "parcoords"
           }
          ],
          "pie": [
           {
            "automargin": true,
            "type": "pie"
           }
          ],
          "scatter": [
           {
            "fillpattern": {
             "fillmode": "overlay",
             "size": 10,
             "solidity": 0.2
            },
            "type": "scatter"
           }
          ],
          "scatter3d": [
           {
            "line": {
             "colorbar": {
              "outlinewidth": 0,
              "ticks": ""
             }
            },
            "marker": {
             "colorbar": {
              "outlinewidth": 0,
              "ticks": ""
             }
            },
            "type": "scatter3d"
           }
          ],
          "scattercarpet": [
           {
            "marker": {
             "colorbar": {
              "outlinewidth": 0,
              "ticks": ""
             }
            },
            "type": "scattercarpet"
           }
          ],
          "scattergeo": [
           {
            "marker": {
             "colorbar": {
              "outlinewidth": 0,
              "ticks": ""
             }
            },
            "type": "scattergeo"
           }
          ],
          "scattergl": [
           {
            "marker": {
             "colorbar": {
              "outlinewidth": 0,
              "ticks": ""
             }
            },
            "type": "scattergl"
           }
          ],
          "scattermapbox": [
           {
            "marker": {
             "colorbar": {
              "outlinewidth": 0,
              "ticks": ""
             }
            },
            "type": "scattermapbox"
           }
          ],
          "scatterpolar": [
           {
            "marker": {
             "colorbar": {
              "outlinewidth": 0,
              "ticks": ""
             }
            },
            "type": "scatterpolar"
           }
          ],
          "scatterpolargl": [
           {
            "marker": {
             "colorbar": {
              "outlinewidth": 0,
              "ticks": ""
             }
            },
            "type": "scatterpolargl"
           }
          ],
          "scatterternary": [
           {
            "marker": {
             "colorbar": {
              "outlinewidth": 0,
              "ticks": ""
             }
            },
            "type": "scatterternary"
           }
          ],
          "surface": [
           {
            "colorbar": {
             "outlinewidth": 0,
             "ticks": ""
            },
            "colorscale": [
             [
              0,
              "#0d0887"
             ],
             [
              0.1111111111111111,
              "#46039f"
             ],
             [
              0.2222222222222222,
              "#7201a8"
             ],
             [
              0.3333333333333333,
              "#9c179e"
             ],
             [
              0.4444444444444444,
              "#bd3786"
             ],
             [
              0.5555555555555556,
              "#d8576b"
             ],
             [
              0.6666666666666666,
              "#ed7953"
             ],
             [
              0.7777777777777778,
              "#fb9f3a"
             ],
             [
              0.8888888888888888,
              "#fdca26"
             ],
             [
              1,
              "#f0f921"
             ]
            ],
            "type": "surface"
           }
          ],
          "table": [
           {
            "cells": {
             "fill": {
              "color": "#EBF0F8"
             },
             "line": {
              "color": "white"
             }
            },
            "header": {
             "fill": {
              "color": "#C8D4E3"
             },
             "line": {
              "color": "white"
             }
            },
            "type": "table"
           }
          ]
         },
         "layout": {
          "annotationdefaults": {
           "arrowcolor": "#2a3f5f",
           "arrowhead": 0,
           "arrowwidth": 1
          },
          "autotypenumbers": "strict",
          "coloraxis": {
           "colorbar": {
            "outlinewidth": 0,
            "ticks": ""
           }
          },
          "colorscale": {
           "diverging": [
            [
             0,
             "#8e0152"
            ],
            [
             0.1,
             "#c51b7d"
            ],
            [
             0.2,
             "#de77ae"
            ],
            [
             0.3,
             "#f1b6da"
            ],
            [
             0.4,
             "#fde0ef"
            ],
            [
             0.5,
             "#f7f7f7"
            ],
            [
             0.6,
             "#e6f5d0"
            ],
            [
             0.7,
             "#b8e186"
            ],
            [
             0.8,
             "#7fbc41"
            ],
            [
             0.9,
             "#4d9221"
            ],
            [
             1,
             "#276419"
            ]
           ],
           "sequential": [
            [
             0,
             "#0d0887"
            ],
            [
             0.1111111111111111,
             "#46039f"
            ],
            [
             0.2222222222222222,
             "#7201a8"
            ],
            [
             0.3333333333333333,
             "#9c179e"
            ],
            [
             0.4444444444444444,
             "#bd3786"
            ],
            [
             0.5555555555555556,
             "#d8576b"
            ],
            [
             0.6666666666666666,
             "#ed7953"
            ],
            [
             0.7777777777777778,
             "#fb9f3a"
            ],
            [
             0.8888888888888888,
             "#fdca26"
            ],
            [
             1,
             "#f0f921"
            ]
           ],
           "sequentialminus": [
            [
             0,
             "#0d0887"
            ],
            [
             0.1111111111111111,
             "#46039f"
            ],
            [
             0.2222222222222222,
             "#7201a8"
            ],
            [
             0.3333333333333333,
             "#9c179e"
            ],
            [
             0.4444444444444444,
             "#bd3786"
            ],
            [
             0.5555555555555556,
             "#d8576b"
            ],
            [
             0.6666666666666666,
             "#ed7953"
            ],
            [
             0.7777777777777778,
             "#fb9f3a"
            ],
            [
             0.8888888888888888,
             "#fdca26"
            ],
            [
             1,
             "#f0f921"
            ]
           ]
          },
          "colorway": [
           "#636efa",
           "#EF553B",
           "#00cc96",
           "#ab63fa",
           "#FFA15A",
           "#19d3f3",
           "#FF6692",
           "#B6E880",
           "#FF97FF",
           "#FECB52"
          ],
          "font": {
           "color": "#2a3f5f"
          },
          "geo": {
           "bgcolor": "white",
           "lakecolor": "white",
           "landcolor": "#E5ECF6",
           "showlakes": true,
           "showland": true,
           "subunitcolor": "white"
          },
          "hoverlabel": {
           "align": "left"
          },
          "hovermode": "closest",
          "mapbox": {
           "style": "light"
          },
          "paper_bgcolor": "white",
          "plot_bgcolor": "#E5ECF6",
          "polar": {
           "angularaxis": {
            "gridcolor": "white",
            "linecolor": "white",
            "ticks": ""
           },
           "bgcolor": "#E5ECF6",
           "radialaxis": {
            "gridcolor": "white",
            "linecolor": "white",
            "ticks": ""
           }
          },
          "scene": {
           "xaxis": {
            "backgroundcolor": "#E5ECF6",
            "gridcolor": "white",
            "gridwidth": 2,
            "linecolor": "white",
            "showbackground": true,
            "ticks": "",
            "zerolinecolor": "white"
           },
           "yaxis": {
            "backgroundcolor": "#E5ECF6",
            "gridcolor": "white",
            "gridwidth": 2,
            "linecolor": "white",
            "showbackground": true,
            "ticks": "",
            "zerolinecolor": "white"
           },
           "zaxis": {
            "backgroundcolor": "#E5ECF6",
            "gridcolor": "white",
            "gridwidth": 2,
            "linecolor": "white",
            "showbackground": true,
            "ticks": "",
            "zerolinecolor": "white"
           }
          },
          "shapedefaults": {
           "line": {
            "color": "#2a3f5f"
           }
          },
          "ternary": {
           "aaxis": {
            "gridcolor": "white",
            "linecolor": "white",
            "ticks": ""
           },
           "baxis": {
            "gridcolor": "white",
            "linecolor": "white",
            "ticks": ""
           },
           "bgcolor": "#E5ECF6",
           "caxis": {
            "gridcolor": "white",
            "linecolor": "white",
            "ticks": ""
           }
          },
          "title": {
           "x": 0.05
          },
          "xaxis": {
           "automargin": true,
           "gridcolor": "white",
           "linecolor": "white",
           "ticks": "",
           "title": {
            "standoff": 15
           },
           "zerolinecolor": "white",
           "zerolinewidth": 2
          },
          "yaxis": {
           "automargin": true,
           "gridcolor": "white",
           "linecolor": "white",
           "ticks": "",
           "title": {
            "standoff": 15
           },
           "zerolinecolor": "white",
           "zerolinewidth": 2
          }
         }
        },
        "title": {
         "text": "Top 5 movies with highest runtime"
        },
        "xaxis": {
         "anchor": "y",
         "domain": [
          0,
          1
         ],
         "title": {
          "text": "Movies"
         }
        },
        "yaxis": {
         "anchor": "x",
         "domain": [
          0,
          1
         ],
         "title": {
          "text": "Time(in hours)"
         }
        }
       }
      }
     },
     "metadata": {},
     "output_type": "display_data"
    }
   ],
   "source": [
    "runtime=movies1[['title_x','runtime']].sort_values(by='runtime',ascending=False).reset_index().head(15)\n",
    "runtime.drop(columns='index',axis=0,inplace=True)\n",
    "runtime['runtime']=runtime['runtime']/60\n",
    "\n",
    "fig=px.line(runtime,y='runtime',x='title_x')\n",
    "fig.update_layout(\n",
    "    title=\"Top 5 movies with highest runtime\",\n",
    "    yaxis_title=\"Time(in hours)\",\n",
    "    xaxis_title=\"Movies\",\n",
    "    font=dict(\n",
    "        size=14\n",
    "    )\n",
    ")\n",
    "fig.update_traces(mode='markers+lines')\n",
    "fig.layout.template = 'plotly'\n",
    "fig.show()"
   ]
  },
  {
   "cell_type": "code",
   "execution_count": 43,
   "metadata": {},
   "outputs": [],
   "source": [
    "\n",
    "movies1.to_csv('cleaneddata.csv', index=False)\n"
   ]
  },
  {
   "cell_type": "code",
   "execution_count": null,
   "metadata": {},
   "outputs": [],
   "source": []
  }
 ],
 "metadata": {
  "kernelspec": {
   "display_name": "Python 3",
   "language": "python",
   "name": "python3"
  },
  "language_info": {
   "codemirror_mode": {
    "name": "ipython",
    "version": 3
   },
   "file_extension": ".py",
   "mimetype": "text/x-python",
   "name": "python",
   "nbconvert_exporter": "python",
   "pygments_lexer": "ipython3",
   "version": "3.12.1"
  }
 },
 "nbformat": 4,
 "nbformat_minor": 2
}
